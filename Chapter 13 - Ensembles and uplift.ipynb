{
  "cells": [
    {
      "cell_type": "markdown",
      "metadata": {
        "id": "view-in-github",
        "colab_type": "text"
      },
      "source": [
        "<a href=\"https://colab.research.google.com/github/liyanonline/BIPython/blob/main/Chapter%2013%20-%20Ensembles%20and%20uplift.ipynb\" target=\"_parent\"><img src=\"https://colab.research.google.com/assets/colab-badge.svg\" alt=\"Open In Colab\"/></a>"
      ]
    },
    {
      "cell_type": "markdown",
      "metadata": {
        "id": "Io1LkVG4vXEC"
      },
      "source": [
        "# Chapter 13: Combining Models: Ensembles and Uplift Modeling\n",
        "\n",
        "> (c) 2019 Galit Shmueli, Peter C. Bruce, Peter Gedeck\n",
        ">\n",
        "> Code included in\n",
        ">\n",
        "> _Data Mining for Business Analytics: Concepts, Techniques, and Applications in Python_ (First Edition)\n",
        "> Galit Shmueli, Peter C. Bruce, Peter Gedeck, and Nitin R. Patel. 2019.\n",
        "\n",
        "## Import required packages"
      ]
    },
    {
      "cell_type": "code",
      "execution_count": 1,
      "metadata": {
        "execution": {
          "iopub.execute_input": "2021-05-27T20:03:22.339386Z",
          "iopub.status.busy": "2021-05-27T20:03:22.338960Z",
          "iopub.status.idle": "2021-05-27T20:03:23.147070Z",
          "shell.execute_reply": "2021-05-27T20:03:23.147484Z"
        },
        "id": "7wdIIPM8vXEE",
        "outputId": "7ab0a5c4-647c-4472-aa20-2b0fc7150585",
        "colab": {
          "base_uri": "https://localhost:8080/"
        }
      },
      "outputs": [
        {
          "output_type": "stream",
          "name": "stdout",
          "text": [
            "Requirement already satisfied: scikit-learn in /usr/local/lib/python3.11/dist-packages (1.6.1)\n",
            "Requirement already satisfied: scipy in /usr/local/lib/python3.11/dist-packages (1.15.2)\n",
            "Requirement already satisfied: matplotlib in /usr/local/lib/python3.11/dist-packages (3.10.0)\n",
            "Collecting matplotlib\n",
            "  Downloading matplotlib-3.10.1-cp311-cp311-manylinux_2_17_x86_64.manylinux2014_x86_64.whl.metadata (11 kB)\n",
            "Requirement already satisfied: pandas in /usr/local/lib/python3.11/dist-packages (2.2.2)\n",
            "Collecting pandas\n",
            "  Downloading pandas-2.2.3-cp311-cp311-manylinux_2_17_x86_64.manylinux2014_x86_64.whl.metadata (89 kB)\n",
            "\u001b[2K     \u001b[90m━━━━━━━━━━━━━━━━━━━━━━━━━━━━━━━━━━━━━━━━\u001b[0m \u001b[32m89.9/89.9 kB\u001b[0m \u001b[31m1.4 MB/s\u001b[0m eta \u001b[36m0:00:00\u001b[0m\n",
            "\u001b[?25hCollecting dmba\n",
            "  Downloading dmba-0.2.4-py3-none-any.whl.metadata (1.9 kB)\n",
            "Requirement already satisfied: numpy>=1.19.5 in /usr/local/lib/python3.11/dist-packages (from scikit-learn) (2.0.2)\n",
            "Requirement already satisfied: joblib>=1.2.0 in /usr/local/lib/python3.11/dist-packages (from scikit-learn) (1.4.2)\n",
            "Requirement already satisfied: threadpoolctl>=3.1.0 in /usr/local/lib/python3.11/dist-packages (from scikit-learn) (3.6.0)\n",
            "Requirement already satisfied: contourpy>=1.0.1 in /usr/local/lib/python3.11/dist-packages (from matplotlib) (1.3.2)\n",
            "Requirement already satisfied: cycler>=0.10 in /usr/local/lib/python3.11/dist-packages (from matplotlib) (0.12.1)\n",
            "Requirement already satisfied: fonttools>=4.22.0 in /usr/local/lib/python3.11/dist-packages (from matplotlib) (4.57.0)\n",
            "Requirement already satisfied: kiwisolver>=1.3.1 in /usr/local/lib/python3.11/dist-packages (from matplotlib) (1.4.8)\n",
            "Requirement already satisfied: packaging>=20.0 in /usr/local/lib/python3.11/dist-packages (from matplotlib) (24.2)\n",
            "Requirement already satisfied: pillow>=8 in /usr/local/lib/python3.11/dist-packages (from matplotlib) (11.2.1)\n",
            "Requirement already satisfied: pyparsing>=2.3.1 in /usr/local/lib/python3.11/dist-packages (from matplotlib) (3.2.3)\n",
            "Requirement already satisfied: python-dateutil>=2.7 in /usr/local/lib/python3.11/dist-packages (from matplotlib) (2.9.0.post0)\n",
            "Requirement already satisfied: pytz>=2020.1 in /usr/local/lib/python3.11/dist-packages (from pandas) (2025.2)\n",
            "Requirement already satisfied: tzdata>=2022.7 in /usr/local/lib/python3.11/dist-packages (from pandas) (2025.2)\n",
            "Requirement already satisfied: graphviz in /usr/local/lib/python3.11/dist-packages (from dmba) (0.20.3)\n",
            "Requirement already satisfied: six>=1.5 in /usr/local/lib/python3.11/dist-packages (from python-dateutil>=2.7->matplotlib) (1.17.0)\n",
            "Downloading matplotlib-3.10.1-cp311-cp311-manylinux_2_17_x86_64.manylinux2014_x86_64.whl (8.6 MB)\n",
            "\u001b[2K   \u001b[90m━━━━━━━━━━━━━━━━━━━━━━━━━━━━━━━━━━━━━━━━\u001b[0m \u001b[32m8.6/8.6 MB\u001b[0m \u001b[31m25.7 MB/s\u001b[0m eta \u001b[36m0:00:00\u001b[0m\n",
            "\u001b[?25hDownloading pandas-2.2.3-cp311-cp311-manylinux_2_17_x86_64.manylinux2014_x86_64.whl (13.1 MB)\n",
            "\u001b[2K   \u001b[90m━━━━━━━━━━━━━━━━━━━━━━━━━━━━━━━━━━━━━━━━\u001b[0m \u001b[32m13.1/13.1 MB\u001b[0m \u001b[31m22.5 MB/s\u001b[0m eta \u001b[36m0:00:00\u001b[0m\n",
            "\u001b[?25hDownloading dmba-0.2.4-py3-none-any.whl (11.8 MB)\n",
            "\u001b[2K   \u001b[90m━━━━━━━━━━━━━━━━━━━━━━━━━━━━━━━━━━━━━━━━\u001b[0m \u001b[32m11.8/11.8 MB\u001b[0m \u001b[31m20.5 MB/s\u001b[0m eta \u001b[36m0:00:00\u001b[0m\n",
            "\u001b[?25hInstalling collected packages: pandas, matplotlib, dmba\n",
            "  Attempting uninstall: pandas\n",
            "    Found existing installation: pandas 2.2.2\n",
            "    Uninstalling pandas-2.2.2:\n",
            "      Successfully uninstalled pandas-2.2.2\n",
            "  Attempting uninstall: matplotlib\n",
            "    Found existing installation: matplotlib 3.10.0\n",
            "    Uninstalling matplotlib-3.10.0:\n",
            "      Successfully uninstalled matplotlib-3.10.0\n",
            "\u001b[31mERROR: pip's dependency resolver does not currently take into account all the packages that are installed. This behaviour is the source of the following dependency conflicts.\n",
            "google-colab 1.0.0 requires pandas==2.2.2, but you have pandas 2.2.3 which is incompatible.\u001b[0m\u001b[31m\n",
            "\u001b[0mSuccessfully installed dmba-0.2.4 matplotlib-3.10.1 pandas-2.2.3\n",
            "Colab environment detected.\n"
          ]
        }
      ],
      "source": [
        "!pip3 install -U scikit-learn scipy matplotlib pandas dmba\n",
        "from pathlib import Path\n",
        "\n",
        "import pandas as pd\n",
        "from sklearn.model_selection import train_test_split\n",
        "from sklearn.tree import DecisionTreeClassifier\n",
        "from sklearn.ensemble import AdaBoostClassifier\n",
        "from sklearn.ensemble import BaggingClassifier\n",
        "from sklearn.ensemble import RandomForestClassifier\n",
        "\n",
        "import dmba\n",
        "from dmba import classificationSummary\n",
        "\n",
        "%matplotlib inline"
      ]
    },
    {
      "cell_type": "markdown",
      "metadata": {
        "id": "slwe888NvXEF"
      },
      "source": [
        "## Table 13.1, 13.2"
      ]
    },
    {
      "cell_type": "code",
      "execution_count": 2,
      "metadata": {
        "execution": {
          "iopub.execute_input": "2021-05-27T20:03:23.151866Z",
          "iopub.status.busy": "2021-05-27T20:03:23.151418Z",
          "iopub.status.idle": "2021-05-27T20:03:23.166312Z",
          "shell.execute_reply": "2021-05-27T20:03:23.165918Z"
        },
        "id": "gF2qj00bvXEF"
      },
      "outputs": [],
      "source": [
        "bank_df = dmba.load_data('UniversalBank.csv')\n",
        "bank_df.drop(columns=['ID', 'ZIP Code'], inplace=True)\n",
        "\n",
        "# split into training and validation\n",
        "X = bank_df.drop(columns=['Personal Loan'])\n",
        "y = bank_df['Personal Loan']\n",
        "X_train, X_valid, y_train, y_valid = train_test_split(X, y, test_size=0.40, random_state=3)"
      ]
    },
    {
      "cell_type": "markdown",
      "metadata": {
        "id": "XPhy20wsvXEF"
      },
      "source": [
        "### single tree"
      ]
    },
    {
      "cell_type": "code",
      "execution_count": 3,
      "metadata": {
        "execution": {
          "iopub.execute_input": "2021-05-27T20:03:23.171986Z",
          "iopub.status.busy": "2021-05-27T20:03:23.171517Z",
          "iopub.status.idle": "2021-05-27T20:03:23.183153Z",
          "shell.execute_reply": "2021-05-27T20:03:23.182799Z"
        },
        "id": "_nh04S6_vXEF",
        "outputId": "2b15d9f1-ae56-4983-dd78-6dbcd8165d02",
        "colab": {
          "base_uri": "https://localhost:8080/"
        }
      },
      "outputs": [
        {
          "output_type": "stream",
          "name": "stdout",
          "text": [
            "Confusion Matrix (Accuracy 0.9825)\n",
            "\n",
            "       Prediction\n",
            "Actual    0    1\n",
            "     0 1778   15\n",
            "     1   20  187\n"
          ]
        }
      ],
      "source": [
        "defaultTree = DecisionTreeClassifier(random_state=1)\n",
        "defaultTree.fit(X_train, y_train)\n",
        "\n",
        "classes = defaultTree.classes_\n",
        "classificationSummary(y_valid, defaultTree.predict(X_valid), class_names=defaultTree.classes_)"
      ]
    },
    {
      "cell_type": "markdown",
      "metadata": {
        "id": "5ryL9v3rvXEF"
      },
      "source": [
        "### bagging"
      ]
    },
    {
      "cell_type": "code",
      "execution_count": 4,
      "metadata": {
        "execution": {
          "iopub.execute_input": "2021-05-27T20:03:23.188945Z",
          "iopub.status.busy": "2021-05-27T20:03:23.188475Z",
          "iopub.status.idle": "2021-05-27T20:03:23.524591Z",
          "shell.execute_reply": "2021-05-27T20:03:23.525170Z"
        },
        "id": "rNFkSRxIvXEG",
        "outputId": "e3d9b203-21ad-410e-c109-a3132ce5af01",
        "colab": {
          "base_uri": "https://localhost:8080/"
        }
      },
      "outputs": [
        {
          "output_type": "stream",
          "name": "stdout",
          "text": [
            "Confusion Matrix (Accuracy 0.9855)\n",
            "\n",
            "       Prediction\n",
            "Actual    0    1\n",
            "     0 1781   12\n",
            "     1   17  190\n"
          ]
        }
      ],
      "source": [
        "bagging = BaggingClassifier(DecisionTreeClassifier(random_state=1),\n",
        "                            n_estimators=100, random_state=1)\n",
        "bagging.fit(X_train, y_train)\n",
        "\n",
        "classificationSummary(y_valid, bagging.predict(X_valid), class_names=classes)"
      ]
    },
    {
      "cell_type": "markdown",
      "metadata": {
        "id": "HRxok3-mvXEG"
      },
      "source": [
        "### boosting"
      ]
    },
    {
      "cell_type": "code",
      "execution_count": 5,
      "metadata": {
        "execution": {
          "iopub.execute_input": "2021-05-27T20:03:23.531570Z",
          "iopub.status.busy": "2021-05-27T20:03:23.530135Z",
          "iopub.status.idle": "2021-05-27T20:03:23.542629Z",
          "shell.execute_reply": "2021-05-27T20:03:23.542272Z"
        },
        "id": "NtWj04IavXEG",
        "outputId": "ec75e239-35f4-4cd4-e810-88450fb3a07f",
        "colab": {
          "base_uri": "https://localhost:8080/"
        }
      },
      "outputs": [
        {
          "output_type": "stream",
          "name": "stdout",
          "text": [
            "Confusion Matrix (Accuracy 0.9835)\n",
            "\n",
            "       Prediction\n",
            "Actual    0    1\n",
            "     0 1776   17\n",
            "     1   16  191\n"
          ]
        }
      ],
      "source": [
        "boost = AdaBoostClassifier(DecisionTreeClassifier(random_state=1), n_estimators=100, random_state=1)\n",
        "boost.fit(X_train, y_train)\n",
        "\n",
        "classificationSummary(y_valid, boost.predict(X_valid), class_names=classes)"
      ]
    },
    {
      "cell_type": "markdown",
      "metadata": {
        "id": "y4twCPjNvXEG"
      },
      "source": [
        "## Table 13.9"
      ]
    },
    {
      "cell_type": "code",
      "execution_count": 6,
      "metadata": {
        "execution": {
          "iopub.execute_input": "2021-05-27T20:03:23.547719Z",
          "iopub.status.busy": "2021-05-27T20:03:23.547237Z",
          "iopub.status.idle": "2021-05-27T20:03:24.378102Z",
          "shell.execute_reply": "2021-05-27T20:03:24.378493Z"
        },
        "id": "bh_EiI73vXEG",
        "outputId": "33072a4a-68f0-40d4-8350-a5196ab5ce43",
        "colab": {
          "base_uri": "https://localhost:8080/"
        }
      },
      "outputs": [
        {
          "output_type": "stream",
          "name": "stdout",
          "text": [
            "Confusion Matrix (Accuracy 0.6415)\n",
            "\n",
            "       Prediction\n",
            "Actual    N    Y\n",
            "     N 2018  450\n",
            "     Y  984  548\n"
          ]
        }
      ],
      "source": [
        "voter_df = dmba.load_data('Voter-Persuasion.csv')\n",
        "\n",
        "# Preprocess data frame\n",
        "predictors = ['AGE', 'NH_WHITE', 'COMM_PT', 'H_F1', 'REG_DAYS',\n",
        "              'PR_PELIG', 'E_PELIG', 'POLITICALC', 'MESSAGE_A']\n",
        "outcome = 'MOVED_AD'\n",
        "\n",
        "classes = list(voter_df.MOVED_AD.unique())\n",
        "\n",
        "# Partition the data\n",
        "X = voter_df[predictors]\n",
        "y = voter_df[outcome]\n",
        "X_train, X_valid, y_train, y_valid = train_test_split(X, y, test_size=0.40, random_state=1)\n",
        "\n",
        "# Train a random forest classifier using the training set\n",
        "rfModel = RandomForestClassifier(n_estimators=100, random_state=1)\n",
        "rfModel.fit(X_train, y_train)\n",
        "\n",
        "classificationSummary(y_valid, rfModel.predict(X_valid), class_names=classes)"
      ]
    },
    {
      "cell_type": "code",
      "execution_count": 7,
      "metadata": {
        "execution": {
          "iopub.execute_input": "2021-05-27T20:03:24.382650Z",
          "iopub.status.busy": "2021-05-27T20:03:24.382163Z",
          "iopub.status.idle": "2021-05-27T20:03:24.531767Z",
          "shell.execute_reply": "2021-05-27T20:03:24.532103Z"
        },
        "id": "lfHCUuEsvXEG",
        "outputId": "4ee0ccb4-8ca2-4193-8842-3555eb0ed8b1",
        "colab": {
          "base_uri": "https://localhost:8080/"
        }
      },
      "outputs": [
        {
          "output_type": "stream",
          "name": "stdout",
          "text": [
            "      probMessage  probNoMessage  uplift\n",
            "9953         0.77           0.62    0.15\n",
            "3850         0.39           0.39    0.00\n",
            "4962         0.20           0.14    0.06\n",
            "3886         0.86           0.62    0.24\n",
            "5437         0.10           0.28   -0.18\n"
          ]
        }
      ],
      "source": [
        "uplift_df = X_valid.copy()  # Need to create a copy to allow modifying data\n",
        "\n",
        "uplift_df.MESSAGE_A = 1\n",
        "predTreatment = rfModel.predict_proba(uplift_df)\n",
        "uplift_df.MESSAGE_A = 0\n",
        "predControl = rfModel.predict_proba(uplift_df)\n",
        "\n",
        "upliftResult_df = pd.DataFrame({\n",
        "    'probMessage': predTreatment[:,1],\n",
        "    'probNoMessage': predControl[:,1],\n",
        "    'uplift': predTreatment[:,1] - predControl[:,1],\n",
        "    }, index=uplift_df.index)\n",
        "print(upliftResult_df.head())"
      ]
    },
    {
      "cell_type": "code",
      "execution_count": 8,
      "metadata": {
        "execution": {
          "iopub.execute_input": "2021-05-27T20:03:24.535752Z",
          "iopub.status.busy": "2021-05-27T20:03:24.535293Z",
          "iopub.status.idle": "2021-05-27T20:03:24.538010Z",
          "shell.execute_reply": "2021-05-27T20:03:24.537576Z"
        },
        "id": "MnTdUjzivXEG",
        "outputId": "3c4d174c-2db7-4316-e147-e6a5afbbc267",
        "colab": {
          "base_uri": "https://localhost:8080/"
        }
      },
      "outputs": [
        {
          "output_type": "stream",
          "name": "stdout",
          "text": [
            "[[0.23 0.77]\n",
            " [0.61 0.39]\n",
            " [0.8  0.2 ]\n",
            " ...\n",
            " [0.56 0.44]\n",
            " [0.23 0.77]\n",
            " [0.3  0.7 ]]\n"
          ]
        }
      ],
      "source": [
        "print(predTreatment)"
      ]
    },
    {
      "cell_type": "code",
      "execution_count": 8,
      "metadata": {
        "id": "u9FnTg_uvXEH"
      },
      "outputs": [],
      "source": []
    }
  ],
  "metadata": {
    "kernelspec": {
      "display_name": "Python 3",
      "language": "python",
      "name": "python3"
    },
    "language_info": {
      "codemirror_mode": {
        "name": "ipython",
        "version": 3
      },
      "file_extension": ".py",
      "mimetype": "text/x-python",
      "name": "python",
      "nbconvert_exporter": "python",
      "pygments_lexer": "ipython3",
      "version": "3.9.2"
    },
    "colab": {
      "provenance": [],
      "include_colab_link": true
    }
  },
  "nbformat": 4,
  "nbformat_minor": 0
}