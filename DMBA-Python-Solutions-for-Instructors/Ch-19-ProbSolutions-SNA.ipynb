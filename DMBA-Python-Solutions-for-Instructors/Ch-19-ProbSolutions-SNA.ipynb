{
 "cells": [
  {
   "cell_type": "markdown",
   "metadata": {},
   "source": [
    "# Chapter 19: Social Network Analytics"
   ]
  },
  {
   "cell_type": "markdown",
   "metadata": {},
   "source": [
    "\n",
    "> (c) 2019-2020 Galit Shmueli, Peter C. Bruce, Peter Gedeck \n",
    ">\n",
    "> _Data Mining for Business Analytics: Concepts, Techniques, and Applications in Python_ (First Edition) \n",
    "> Galit Shmueli, Peter C. Bruce, Peter Gedeck, and Nitin R. Patel. 2019.\n",
    ">\n",
    "> Date: 2020-03-08\n",
    ">\n",
    "> Python Version: 3.8.2\n",
    "> Jupyter Notebook Version: 5.6.1\n",
    ">\n",
    "> Packages:\n",
    ">   - matplotlib: 3.2.0\n",
    ">   - networkx: 2.4\n",
    ">   - pandas: 1.0.1\n",
    ">\n",
    "> The assistance from Mr. Kuber Deokar and Ms. Anuja Kulkarni in preparing these solutions is gratefully acknowledged.\n"
   ]
  },
  {
   "cell_type": "code",
   "execution_count": 1,
   "metadata": {},
   "outputs": [],
   "source": [
    "# import required packages for this chapter\n",
    "from pathlib import Path\n",
    "\n",
    "import pandas as pd\n",
    "import networkx as nx\n",
    "\n",
    "import matplotlib.pyplot as plt\n",
    "\n",
    "%matplotlib inline"
   ]
  },
  {
   "cell_type": "code",
   "execution_count": 2,
   "metadata": {},
   "outputs": [],
   "source": [
    "# Working directory:\n",
    "#\n",
    "# We assume that data are kept in the same directory as the notebook. If you keep your \n",
    "# data in a different folder, replace the argument of the `Path`\n",
    "DATA = Path('.')\n",
    "# and then load data using \n",
    "#\n",
    "# pd.read_csv(DATA / ‘filename.csv’)"
   ]
  },
  {
   "cell_type": "markdown",
   "metadata": {},
   "source": [
    "# Problem 19.1:  Describing a Network\n",
    "Consider an undirected network for individuals A, B, C, D, and E.  A is connected to B and C.  B is connected to A and C.  C is connected to A, B, and D.  D is connected to C and E.  E is connected to D.  \n",
    "\n",
    "## Solution 19.1.a \n",
    "Produce a network plot for this network."
   ]
  },
  {
   "cell_type": "code",
   "execution_count": 3,
   "metadata": {
    "scrolled": false
   },
   "outputs": [
    {
     "data": {
      "image/png": "[encoded data removed]",
      "text/plain": [
       "<Figure size 432x288 with 1 Axes>"
      ]
     },
     "metadata": {},
     "output_type": "display_data"
    }
   ],
   "source": [
    "df = pd.DataFrame([('A', 'B'), ('A', 'C'), ('B', 'C'), ('C', 'D'), ('D', 'E')], columns=['from', 'to'])\n",
    "G = nx.from_pandas_edgelist(df, 'from', 'to')\n",
    "\n",
    "nx.draw(G, with_labels=True, node_color='skyblue')\n",
    "plt.show()"
   ]
  },
  {
   "cell_type": "markdown",
   "metadata": {},
   "source": [
    "## Solution 19.1.b \n",
    "What node(s) would need to be removed from the network for the remaining nodes to constitute a clique?\n",
    "\n",
    "Nodes D and E would need to be removed from the graph for the remaining nodes to constitute a clique.\n",
    "\n",
    "## Solution 19.1.c\n",
    "What is the degree for node A?"
   ]
  },
  {
   "cell_type": "code",
   "execution_count": 4,
   "metadata": {},
   "outputs": [
    {
     "data": {
      "text/plain": [
       "DegreeView({'A': 2, 'B': 2, 'C': 3, 'D': 2, 'E': 1})"
      ]
     },
     "execution_count": 4,
     "metadata": {},
     "output_type": "execute_result"
    }
   ],
   "source": [
    "G.degree()"
   ]
  },
  {
   "cell_type": "markdown",
   "metadata": {},
   "source": [
    "The degree for node A is 2\n",
    "\n",
    "\n",
    "## Solution 19.1.d\n",
    "Which node(s) have the lowest degree?\n",
    "\n",
    "Node E has lowest degree, i.e. 1.\n",
    "\n",
    "## Solution 19.1.e\n",
    "Tabulate the degree distribution for this network."
   ]
  },
  {
   "cell_type": "code",
   "execution_count": 5,
   "metadata": {},
   "outputs": [
    {
     "data": {
      "text/html": [
       "<div>\n",
       "<style scoped>\n",
       "    .dataframe tbody tr th:only-of-type {\n",
       "        vertical-align: middle;\n",
       "    }\n",
       "\n",
       "    .dataframe tbody tr th {\n",
       "        vertical-align: top;\n",
       "    }\n",
       "\n",
       "    .dataframe thead th {\n",
       "        text-align: right;\n",
       "    }\n",
       "</style>\n",
       "<table border=\"1\" class=\"dataframe\">\n",
       "  <thead>\n",
       "    <tr style=\"text-align: right;\">\n",
       "      <th></th>\n",
       "      <th>0</th>\n",
       "      <th>1</th>\n",
       "    </tr>\n",
       "  </thead>\n",
       "  <tbody>\n",
       "    <tr>\n",
       "      <th>0</th>\n",
       "      <td>A</td>\n",
       "      <td>2</td>\n",
       "    </tr>\n",
       "    <tr>\n",
       "      <th>1</th>\n",
       "      <td>B</td>\n",
       "      <td>2</td>\n",
       "    </tr>\n",
       "    <tr>\n",
       "      <th>2</th>\n",
       "      <td>C</td>\n",
       "      <td>3</td>\n",
       "    </tr>\n",
       "    <tr>\n",
       "      <th>3</th>\n",
       "      <td>D</td>\n",
       "      <td>2</td>\n",
       "    </tr>\n",
       "    <tr>\n",
       "      <th>4</th>\n",
       "      <td>E</td>\n",
       "      <td>1</td>\n",
       "    </tr>\n",
       "  </tbody>\n",
       "</table>\n",
       "</div>"
      ],
      "text/plain": [
       "   0  1\n",
       "0  A  2\n",
       "1  B  2\n",
       "2  C  3\n",
       "3  D  2\n",
       "4  E  1"
      ]
     },
     "execution_count": 5,
     "metadata": {},
     "output_type": "execute_result"
    }
   ],
   "source": [
    "pd.DataFrame(G.degree())"
   ]
  },
  {
   "cell_type": "markdown",
   "metadata": {},
   "source": [
    "## Solution 19.1.e\n",
    "Is this network connected?\n",
    "\n",
    "The network is connected as a path can be found between any pair of nodes.\n",
    "\n",
    "## Solution 19.1.e\n",
    "Calculate the betweenness centrality for nodes A and C."
   ]
  },
  {
   "cell_type": "code",
   "execution_count": 6,
   "metadata": {},
   "outputs": [
    {
     "name": "stdout",
     "output_type": "stream",
     "text": [
      "Betweenness {'A': 0.0, 'B': 0.0, 'C': 0.6666666666666666, 'D': 0.5, 'E': 0.0}\n"
     ]
    }
   ],
   "source": [
    "print('Betweenness', nx.betweenness_centrality(G))"
   ]
  },
  {
   "cell_type": "markdown",
   "metadata": {},
   "source": [
    "The betweenness centrality for node A is 0. None of the shortest paths between the other nodes passes through A.\n",
    "\n",
    "For node C, the unnormalized betweenness is 4. The number of all possible shortest paths is 4*3/2 = 6 and therefore the betweenness is 0.66.\n",
    "\n",
    "## Solution 19.1.e\n",
    "Calculate the density of the network."
   ]
  },
  {
   "cell_type": "code",
   "execution_count": 7,
   "metadata": {},
   "outputs": [
    {
     "name": "stdout",
     "output_type": "stream",
     "text": [
      "Density 0.5\n"
     ]
    }
   ],
   "source": [
    "print('Density', nx.density(G))"
   ]
  },
  {
   "cell_type": "markdown",
   "metadata": {},
   "source": [
    "# Problem 19.2: Network Density and Size\n",
    "Imagine that two new nodes are added to the undirected network in the previous exercise.\n",
    "\n",
    "## Solution 19.2.a\n",
    "By what percent has the number of nodes increased? \n",
    "\n",
    "If we add two new nodes the total nodes in the network will be 7. The number of\n",
    "nodes in the original network is 5. To calculate % increase in nodes, first \n",
    "calculate the difference between the two numbers, i.e. 7 - 5 = 2, which  \n",
    "is the \"increase\". Then divide the increase by the original number of nodes\n",
    "and multiply the answer by 100:"
   ]
  },
  {
   "cell_type": "code",
   "execution_count": 8,
   "metadata": {},
   "outputs": [
    {
     "name": "stdout",
     "output_type": "stream",
     "text": [
      "% increase in number of nodes = 2/5 * 100 =  40.0\n"
     ]
    }
   ],
   "source": [
    "print('% increase in number of nodes = 2/5 * 100 = ', 2 / 5 * 100)"
   ]
  },
  {
   "cell_type": "markdown",
   "metadata": {},
   "source": [
    "## Solution 19.2.b\n",
    "By what percent has the number of possible edges increased? \n",
    "\n",
    "For an undirected network, the number of maximum edges is given by\n",
    "\n",
    "n(n-1)/2\n",
    "\n",
    "where n is the number of nodes in the network.\n",
    "\n",
    "Let's calculate maximum number of edges in each of old and new network:\n",
    "\n",
    "Number of maximum edges in the old network with 5 nodes \n",
    "```\n",
    " = 5 (5-1) / 2 \n",
    " = 20 / 2 \n",
    " = 10\n",
    "```\n",
    "\n",
    "Number of maximum edges in the new network with 7 nodes \n",
    "```\n",
    " = 7 (7-1) / 2 \n",
    " = 42 / 2 \n",
    " = 21\n",
    "```\n",
    "\n",
    "Therefore, the percent increase in the number of maximum edges after adding two new nodes is \n",
    "```\n",
    " = ((21 - 10) / 10) * 100\n",
    " = (11/10) * 100\n",
    " = 110\n",
    "```\n",
    "\n",
    "## Solution 19.2.c\n",
    "Suppose the new node has a typical (median) number of connections.  What will happen to network density?\n",
    "\n",
    "If the new node has typical number of connections, the density of the network will be reduced.\n",
    "\n",
    "Consider our old and new networks for the illustration. The typical (median) \n",
    "number of connections for each node in the old network is 2. Suppose our new \n",
    "network is resulted from the addition of two new nodes (each with number of \n",
    "connections 2) in the old network. So new network will have 9 edges and 7 \n",
    "nodes. As calculated above, the density of the old network = 0.5. Let's \n",
    "calculate density of our new network\n",
    "\n",
    "Density of new network with 7 nodes and 9 edges\n",
    "```\n",
    " = 9/(7(7-1)/2) = 9 / 21 = 0.43.\n",
    "```\n",
    "\n",
    "\n",
    "## Solution 19.2.d\n",
    "Comment on comparing densities in networks of different sizes.\n",
    "\n",
    "As you add nodes to a network, in order to maintain the same density of the network\n",
    "the new nodes must have MORE than the typical number of connections of the existing\n",
    "network nodes.  Therefore, in two networks with the same density, one large and one\n",
    "small, the nodes in the larger network will be more connected than those in the \n",
    "smaller.\n",
    "\n",
    "## Solution 19.2.e\n",
    "Tabulate the degree distribution for this network."
   ]
  },
  {
   "cell_type": "code",
   "execution_count": 9,
   "metadata": {},
   "outputs": [
    {
     "data": {
      "image/png": "[encoded data removed]",
      "text/plain": [
       "<Figure size 432x288 with 1 Axes>"
      ]
     },
     "metadata": {},
     "output_type": "display_data"
    }
   ],
   "source": [
    "df = pd.DataFrame([('A', 'B'), ('A', 'C'), ('B', 'C'), ('C', 'D'), ('D', 'E'), \n",
    "                   ('A', 'G'), ('C', 'G'), ('D', 'F')], columns=['from', 'to'])\n",
    "G = nx.from_pandas_edgelist(df, 'from', 'to')\n",
    "\n",
    "nx.draw(G, with_labels=True, node_color='skyblue')\n",
    "plt.show()"
   ]
  },
  {
   "cell_type": "code",
   "execution_count": 10,
   "metadata": {},
   "outputs": [
    {
     "data": {
      "text/html": [
       "<div>\n",
       "<style scoped>\n",
       "    .dataframe tbody tr th:only-of-type {\n",
       "        vertical-align: middle;\n",
       "    }\n",
       "\n",
       "    .dataframe tbody tr th {\n",
       "        vertical-align: top;\n",
       "    }\n",
       "\n",
       "    .dataframe thead th {\n",
       "        text-align: right;\n",
       "    }\n",
       "</style>\n",
       "<table border=\"1\" class=\"dataframe\">\n",
       "  <thead>\n",
       "    <tr style=\"text-align: right;\">\n",
       "      <th></th>\n",
       "      <th>0</th>\n",
       "      <th>1</th>\n",
       "    </tr>\n",
       "  </thead>\n",
       "  <tbody>\n",
       "    <tr>\n",
       "      <th>0</th>\n",
       "      <td>A</td>\n",
       "      <td>3</td>\n",
       "    </tr>\n",
       "    <tr>\n",
       "      <th>1</th>\n",
       "      <td>B</td>\n",
       "      <td>2</td>\n",
       "    </tr>\n",
       "    <tr>\n",
       "      <th>2</th>\n",
       "      <td>C</td>\n",
       "      <td>4</td>\n",
       "    </tr>\n",
       "    <tr>\n",
       "      <th>3</th>\n",
       "      <td>D</td>\n",
       "      <td>3</td>\n",
       "    </tr>\n",
       "    <tr>\n",
       "      <th>4</th>\n",
       "      <td>E</td>\n",
       "      <td>1</td>\n",
       "    </tr>\n",
       "    <tr>\n",
       "      <th>5</th>\n",
       "      <td>G</td>\n",
       "      <td>2</td>\n",
       "    </tr>\n",
       "    <tr>\n",
       "      <th>6</th>\n",
       "      <td>F</td>\n",
       "      <td>1</td>\n",
       "    </tr>\n",
       "  </tbody>\n",
       "</table>\n",
       "</div>"
      ],
      "text/plain": [
       "   0  1\n",
       "0  A  3\n",
       "1  B  2\n",
       "2  C  4\n",
       "3  D  3\n",
       "4  E  1\n",
       "5  G  2\n",
       "6  F  1"
      ]
     },
     "execution_count": 10,
     "metadata": {},
     "output_type": "execute_result"
    }
   ],
   "source": [
    "pd.DataFrame(G.degree())"
   ]
  },
  {
   "cell_type": "markdown",
   "metadata": {},
   "source": [
    "# Problem 19.3: Link Prediction\n",
    "Consider the network shown in Figure 19.10.\n",
    "\n"
   ]
  },
  {
   "cell_type": "code",
   "execution_count": 11,
   "metadata": {},
   "outputs": [
    {
     "data": {
      "image/png": "[encoded data removed]",
      "text/plain": [
       "<Figure size 432x288 with 1 Axes>"
      ]
     },
     "metadata": {},
     "output_type": "display_data"
    }
   ],
   "source": [
    "df = pd.DataFrame([(\"A\", \"C\"), (\"A\", \"D\"), (\"A\", \"B\"), (\"B\", \"F\"), (\"C\", \"E\"), (\"D\", \"E\"), (\"E\", \"G\")], columns=['from', 'to'])\n",
    "G = nx.from_pandas_edgelist(df, 'from', 'to')\n",
    "\n",
    "nx.draw(G, with_labels=True, node_color='skyblue')\n",
    "plt.show()"
   ]
  },
  {
   "cell_type": "markdown",
   "metadata": {},
   "source": [
    "## Solution 19.3.a\n",
    "Using the number of common neighbors score, predict the next link to form (that is, suggest which new link has the best chance of success).\n",
    "\n",
    "The next link to form is either between C and D or A and E since each of them has two common neighbors.\n",
    "\n",
    "## Solution 19.3.b\n",
    "Using the shortest path score, identify the link that is least likely to form.\n",
    "\n",
    "The least likely link to form is between F and G since the shortest path score\n",
    "is 5 which is the largest in the network."
   ]
  },
  {
   "cell_type": "code",
   "execution_count": null,
   "metadata": {},
   "outputs": [],
   "source": []
  }
 ],
 "metadata": {
  "kernelspec": {
   "display_name": "Python 3",
   "language": "python",
   "name": "python3"
  },
  "language_info": {
   "codemirror_mode": {
    "name": "ipython",
    "version": 3
   },
   "file_extension": ".py",
   "mimetype": "text/x-python",
   "name": "python",
   "nbconvert_exporter": "python",
   "pygments_lexer": "ipython3",
   "version": "3.8.2"
  }
 },
 "nbformat": 4,
 "nbformat_minor": 2
}
