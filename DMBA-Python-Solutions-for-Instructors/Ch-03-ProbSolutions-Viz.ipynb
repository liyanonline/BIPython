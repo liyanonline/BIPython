{
 "cells": [
  {
   "cell_type": "markdown",
   "metadata": {},
   "source": [
    "# Chapter 3: Data Visualization"
   ]
  },
  {
   "cell_type": "markdown",
   "metadata": {},
   "source": [
    "\n",
    "> (c) 2019-2020 Galit Shmueli, Peter C. Bruce, Peter Gedeck \n",
    ">\n",
    "> _Data Mining for Business Analytics: Concepts, Techniques, and Applications in Python_ (First Edition) \n",
    "> Galit Shmueli, Peter C. Bruce, Peter Gedeck, and Nitin R. Patel. 2019.\n",
    ">\n",
    "> Date: 2020-03-08\n",
    ">\n",
    "> Python Version: 3.8.2\n",
    "> Jupyter Notebook Version: 5.6.1\n",
    ">\n",
    "> Packages:\n",
    ">   - matplotlib: 3.2.0\n",
    ">   - pandas: 1.0.1\n",
    ">\n",
    "> The assistance from Mr. Kuber Deokar and Ms. Anuja Kulkarni in preparing these solutions is gratefully acknowledged.\n"
   ]
  },
  {
   "cell_type": "code",
   "execution_count": 1,
   "metadata": {},
   "outputs": [],
   "source": [
    "# import required packages for this chapter\n",
    "from pathlib import Path\n",
    "\n",
    "import pandas as pd\n",
    "import matplotlib.pylab as plt\n",
    "\n",
    "%matplotlib inline"
   ]
  },
  {
   "cell_type": "code",
   "execution_count": 2,
   "metadata": {},
   "outputs": [],
   "source": [
    "# Working directory:\n",
    "#\n",
    "# We assume that data are kept in the same directory as the notebook. If you keep your \n",
    "# data in a different folder, replace the argument of the `Path`\n",
    "DATA = Path('.').resolve().parent / 'data'\n",
    "FIGURES = Path('.').resolve().parent / 'figures' / 'chapter_03'\n",
    "FIGURES.mkdir(exist_ok=True, parents=True)\n",
    "# and then load data using \n",
    "#\n",
    "# pd.read_csv(DATA / ‘filename.csv’)"
   ]
  },
  {
   "cell_type": "markdown",
   "metadata": {},
   "source": [
    "# Problem 3.1 Shipments of Household Appliances: Line Graphs.\n",
    "\n",
    "The file _ApplianceShipments.csv_ contains the series of quarterly shipments (in millions of dollars) of US household appliances between 1985 and 1989.\n",
    "\n",
    "__3.1.a.__ Create a well-formatted time plot of the data using Python."
   ]
  },
  {
   "cell_type": "code",
   "execution_count": 3,
   "metadata": {},
   "outputs": [
    {
     "data": {
      "text/plain": [
       "(20, 2)"
      ]
     },
     "execution_count": 3,
     "metadata": {},
     "output_type": "execute_result"
    }
   ],
   "source": [
    "# load the data\n",
    "\n",
    "shipments_df = pd.read_csv(DATA / 'ApplianceShipments.csv', squeeze=True)\n",
    "shipments_df.shape"
   ]
  },
  {
   "cell_type": "code",
   "execution_count": 4,
   "metadata": {
    "scrolled": true
   },
   "outputs": [
    {
     "data": {
      "text/html": [
       "<div>\n",
       "<style scoped>\n",
       "    .dataframe tbody tr th:only-of-type {\n",
       "        vertical-align: middle;\n",
       "    }\n",
       "\n",
       "    .dataframe tbody tr th {\n",
       "        vertical-align: top;\n",
       "    }\n",
       "\n",
       "    .dataframe thead th {\n",
       "        text-align: right;\n",
       "    }\n",
       "</style>\n",
       "<table border=\"1\" class=\"dataframe\">\n",
       "  <thead>\n",
       "    <tr style=\"text-align: right;\">\n",
       "      <th></th>\n",
       "      <th>Quarter</th>\n",
       "      <th>Shipments</th>\n",
       "    </tr>\n",
       "  </thead>\n",
       "  <tbody>\n",
       "    <tr>\n",
       "      <th>0</th>\n",
       "      <td>Q1-1985</td>\n",
       "      <td>4009</td>\n",
       "    </tr>\n",
       "    <tr>\n",
       "      <th>1</th>\n",
       "      <td>Q2-1985</td>\n",
       "      <td>4321</td>\n",
       "    </tr>\n",
       "    <tr>\n",
       "      <th>2</th>\n",
       "      <td>Q3-1985</td>\n",
       "      <td>4224</td>\n",
       "    </tr>\n",
       "    <tr>\n",
       "      <th>3</th>\n",
       "      <td>Q4-1985</td>\n",
       "      <td>3944</td>\n",
       "    </tr>\n",
       "    <tr>\n",
       "      <th>4</th>\n",
       "      <td>Q1-1986</td>\n",
       "      <td>4123</td>\n",
       "    </tr>\n",
       "  </tbody>\n",
       "</table>\n",
       "</div>"
      ],
      "text/plain": [
       "   Quarter  Shipments\n",
       "0  Q1-1985       4009\n",
       "1  Q2-1985       4321\n",
       "2  Q3-1985       4224\n",
       "3  Q4-1985       3944\n",
       "4  Q1-1986       4123"
      ]
     },
     "execution_count": 4,
     "metadata": {},
     "output_type": "execute_result"
    }
   ],
   "source": [
    "shipments_df.head()"
   ]
  },
  {
   "cell_type": "code",
   "execution_count": 5,
   "metadata": {},
   "outputs": [
    {
     "data": {
      "text/plain": [
       "Date\n",
       "1985-03-31    4009\n",
       "1985-06-30    4321\n",
       "1985-09-30    4224\n",
       "1985-12-31    3944\n",
       "1986-03-31    4123\n",
       "1986-06-30    4522\n",
       "1986-09-30    4657\n",
       "1986-12-31    4030\n",
       "1987-03-31    4493\n",
       "1987-06-30    4806\n",
       "1987-09-30    4551\n",
       "1987-12-31    4485\n",
       "1988-03-31    4595\n",
       "1988-06-30    4799\n",
       "1988-09-30    4417\n",
       "1988-12-31    4258\n",
       "1989-03-31    4245\n",
       "1989-06-30    4900\n",
       "1989-09-30    4585\n",
       "1989-12-31    4533\n",
       "dtype: int64"
      ]
     },
     "execution_count": 5,
     "metadata": {},
     "output_type": "execute_result"
    }
   ],
   "source": [
    "# convert the data frame to be suitable for time series analysis\n",
    "# create date range for quarters\n",
    "shipments_df = shipments_df.iloc[0:,1:2]\n",
    "date_range = pd.date_range(start='1/1/1985', end='12/31/1989', freq='Q')\n",
    "shipments_df['Date'] = pd.to_datetime(date_range)\n",
    "shipments_ts = pd.Series(shipments_df.Shipments.values, index=shipments_df.Date)\n",
    "shipments_ts"
   ]
  },
  {
   "cell_type": "code",
   "execution_count": 6,
   "metadata": {},
   "outputs": [
    {
     "data": {
      "text/plain": [
       "Text(0, 0.5, 'Shipments (in millon dollars)')"
      ]
     },
     "execution_count": 6,
     "metadata": {},
     "output_type": "execute_result"
    },
    {
     "data": {
      "image/png": "[encoded data removed]",
      "text/plain": [
       "<Figure size 432x288 with 1 Axes>"
      ]
     },
     "metadata": {
      "needs_background": "light"
     },
     "output_type": "display_data"
    }
   ],
   "source": [
    "# line plot\n",
    "shipments_ts.plot(ylim=(3000, 5500), legend=False)\n",
    "plt.xlabel('Quarter')\n",
    "plt.ylabel('Shipments (in millon dollars)')"
   ]
  },
  {
   "cell_type": "markdown",
   "metadata": {},
   "source": [
    "__3.1.b.__ Does there appear to be a quarterly pattern? For a closer view of the patterns, zoom in to the range of 3500–5000 on the y-axis."
   ]
  },
  {
   "cell_type": "code",
   "execution_count": 7,
   "metadata": {
    "scrolled": true
   },
   "outputs": [
    {
     "data": {
      "text/plain": [
       "Text(0, 0.5, 'Shipments (in millon dollars)')"
      ]
     },
     "execution_count": 7,
     "metadata": {},
     "output_type": "execute_result"
    },
    {
     "data": {
      "image/png": "[encoded data removed]",
      "text/plain": [
       "<Figure size 432x288 with 1 Axes>"
      ]
     },
     "metadata": {
      "needs_background": "light"
     },
     "output_type": "display_data"
    }
   ],
   "source": [
    "shipments_ts.plot(ylim=(3500, 5000), legend=False)\n",
    "plt.xlabel('Quarter')\n",
    "plt.ylabel('Shipments (in millon dollars)')"
   ]
  },
  {
   "cell_type": "markdown",
   "metadata": {},
   "source": [
    "Yes, there appears a quarterly pattern in the above time series. The time plot shows a repeating pattern each year (more shipments in Q2 and Q3 and less shipments in Q1 and Q4). Limiting the y-axis to the range of 3500 - 5000 shows the quarterly pattern in the time series a bit more clearly."
   ]
  },
  {
   "cell_type": "markdown",
   "metadata": {},
   "source": [
    "__3.1.c.__ Using Python, create one chart with four separate lines, one line for each of Q1, Q2, Q3, and Q4. In Python, this can be achieved by adding columns for quarter and year. Then group the data frame by quarter and then plot shipment versus year for each quarter as a separate series on a line graph. Zoom in to the range of 3500–5000 on the y-axis. Does there appear to be a difference between quarters?"
   ]
  },
  {
   "cell_type": "code",
   "execution_count": 8,
   "metadata": {},
   "outputs": [],
   "source": [
    "# generate separate time series for each quarter\n",
    "Q1 = shipments_df.iloc[[0, 4, 8, 12, 16], :]\n",
    "Q1_ts = pd.Series(Q1.Shipments.values, index=Q1.Date)\n",
    "Q2 = shipments_df.iloc[[1, 5, 9, 13, 17], :]\n",
    "Q2_ts = pd.Series(Q2.Shipments.values, index=Q2.Date)\n",
    "Q3 = shipments_df.iloc[[2, 6, 10, 14, 18], :]\n",
    "Q3_ts = pd.Series(Q3.Shipments.values, index=Q3.Date)\n",
    "Q4 = shipments_df.iloc[[3, 7, 11, 15, 19], :]\n",
    "Q4_ts = pd.Series(Q4.Shipments.values, index=Q4.Date)"
   ]
  },
  {
   "cell_type": "code",
   "execution_count": 9,
   "metadata": {
    "scrolled": true
   },
   "outputs": [
    {
     "data": {
      "text/plain": [
       "Text(0, 0.5, 'Shipments (in millon dollars)')"
      ]
     },
     "execution_count": 9,
     "metadata": {},
     "output_type": "execute_result"
    },
    {
     "data": {
      "image/png": "[encoded data removed]",
      "text/plain": [
       "<Figure size 432x288 with 1 Axes>"
      ]
     },
     "metadata": {
      "needs_background": "light"
     },
     "output_type": "display_data"
    }
   ],
   "source": [
    "# line plots\n",
    "plt.plot(Q1_ts, data=Q1_ts, label='Q1')\n",
    "plt.legend()\n",
    "plt.plot(Q2_ts, data=Q2_ts, label='Q2')\n",
    "plt.legend()\n",
    "plt.plot(Q3_ts, data=Q3_ts, label='Q3')\n",
    "plt.legend()\n",
    "plt.plot(Q4_ts, data=Q4_ts, label='Q3')\n",
    "plt.legend()\n",
    "plt.xlabel('Quarter')\n",
    "plt.ylabel('Shipments (in millon dollars)')"
   ]
  },
  {
   "cell_type": "markdown",
   "metadata": {},
   "source": [
    "Yes, we can see differences between the quarters. From the above plot we can see that the shipments in quarters Q2 and Q3 are larger than in quarters Q1 and Q4."
   ]
  },
  {
   "cell_type": "markdown",
   "metadata": {},
   "source": [
    "__3.1.d.__ Using Python, create a line graph of the series at a yearly aggregated level (i.e., the total shipments in each year)."
   ]
  },
  {
   "cell_type": "code",
   "execution_count": 10,
   "metadata": {},
   "outputs": [
    {
     "data": {
      "text/plain": [
       "Text(0, 0.5, 'Shipments (in millon dollars)')"
      ]
     },
     "execution_count": 10,
     "metadata": {},
     "output_type": "execute_result"
    },
    {
     "data": {
      "image/png": "[encoded data removed]",
      "text/plain": [
       "<Figure size 432x288 with 1 Axes>"
      ]
     },
     "metadata": {
      "needs_background": "light"
     },
     "output_type": "display_data"
    }
   ],
   "source": [
    "# yearly aggregated series\n",
    "byYear = shipments_ts.groupby(pd.Grouper(freq='A')).mean()\n",
    "byYear.plot(ylim=(3500, 5000), legend=False)\n",
    "plt.xlabel('Quarter')\n",
    "plt.ylabel('Shipments (in millon dollars)')\n"
   ]
  },
  {
   "cell_type": "markdown",
   "metadata": {},
   "source": [
    "Shipments show increasing trend from 1985-1987. After that it is mostly flat."
   ]
  },
  {
   "cell_type": "markdown",
   "metadata": {},
   "source": [
    "# 3.2. Sales of Riding Mowers: Scatter Plots. \n",
    "\n",
    "A company that manufactures riding mowers wants to identify the best sales prospects for an intensive sales campaign. In\n",
    "particular, the manufacturer is interested in classifying households as prospective owners or nonowners on the basis of Income (in $ 1000s) and Lot Size (in 1000 ft2). The marketing expert looked at a random sample of 24 households, given in the file _RidingMowers.csv_."
   ]
  },
  {
   "cell_type": "markdown",
   "metadata": {},
   "source": [
    "__3.2.a.__ Using Python, create a scatter plot of Lot Size vs. Income, color-coded by the outcome variable owner/nonowner. Make sure to obtain a well-formatted plot (create legible labels and a legend, etc.)."
   ]
  },
  {
   "cell_type": "code",
   "execution_count": 11,
   "metadata": {},
   "outputs": [
    {
     "data": {
      "text/plain": [
       "(24, 3)"
      ]
     },
     "execution_count": 11,
     "metadata": {},
     "output_type": "execute_result"
    }
   ],
   "source": [
    "# load the data\n",
    "mowers_df = pd.read_csv(DATA / 'RidingMowers.csv', squeeze=True)\n",
    "mowers_df.shape"
   ]
  },
  {
   "cell_type": "code",
   "execution_count": 12,
   "metadata": {},
   "outputs": [
    {
     "data": {
      "text/html": [
       "<div>\n",
       "<style scoped>\n",
       "    .dataframe tbody tr th:only-of-type {\n",
       "        vertical-align: middle;\n",
       "    }\n",
       "\n",
       "    .dataframe tbody tr th {\n",
       "        vertical-align: top;\n",
       "    }\n",
       "\n",
       "    .dataframe thead th {\n",
       "        text-align: right;\n",
       "    }\n",
       "</style>\n",
       "<table border=\"1\" class=\"dataframe\">\n",
       "  <thead>\n",
       "    <tr style=\"text-align: right;\">\n",
       "      <th></th>\n",
       "      <th>Income</th>\n",
       "      <th>Lot_Size</th>\n",
       "      <th>Ownership</th>\n",
       "    </tr>\n",
       "  </thead>\n",
       "  <tbody>\n",
       "    <tr>\n",
       "      <th>0</th>\n",
       "      <td>60.0</td>\n",
       "      <td>18.4</td>\n",
       "      <td>Owner</td>\n",
       "    </tr>\n",
       "    <tr>\n",
       "      <th>1</th>\n",
       "      <td>85.5</td>\n",
       "      <td>16.8</td>\n",
       "      <td>Owner</td>\n",
       "    </tr>\n",
       "    <tr>\n",
       "      <th>2</th>\n",
       "      <td>64.8</td>\n",
       "      <td>21.6</td>\n",
       "      <td>Owner</td>\n",
       "    </tr>\n",
       "    <tr>\n",
       "      <th>3</th>\n",
       "      <td>61.5</td>\n",
       "      <td>20.8</td>\n",
       "      <td>Owner</td>\n",
       "    </tr>\n",
       "    <tr>\n",
       "      <th>4</th>\n",
       "      <td>87.0</td>\n",
       "      <td>23.6</td>\n",
       "      <td>Owner</td>\n",
       "    </tr>\n",
       "  </tbody>\n",
       "</table>\n",
       "</div>"
      ],
      "text/plain": [
       "   Income  Lot_Size Ownership\n",
       "0    60.0      18.4     Owner\n",
       "1    85.5      16.8     Owner\n",
       "2    64.8      21.6     Owner\n",
       "3    61.5      20.8     Owner\n",
       "4    87.0      23.6     Owner"
      ]
     },
     "execution_count": 12,
     "metadata": {},
     "output_type": "execute_result"
    }
   ],
   "source": [
    "mowers_df.head()"
   ]
  },
  {
   "cell_type": "code",
   "execution_count": 13,
   "metadata": {
    "scrolled": true
   },
   "outputs": [
    {
     "data": {
      "text/plain": [
       "<matplotlib.axes._subplots.AxesSubplot at 0x11ea17640>"
      ]
     },
     "execution_count": 13,
     "metadata": {},
     "output_type": "execute_result"
    },
    {
     "data": {
      "image/png": "[encoded data removed]",
      "text/plain": [
       "<Figure size 432x288 with 1 Axes>"
      ]
     },
     "metadata": {
      "needs_background": "light"
     },
     "output_type": "display_data"
    }
   ],
   "source": [
    "# scatter plot of Lot Size vs. Income\n",
    "mowers_df.plot.scatter(x='Income', y='Lot_Size',\n",
    "c=['C0' if c == 'Owner' else 'C1' for c in mowers_df.Ownership])"
   ]
  },
  {
   "cell_type": "markdown",
   "metadata": {},
   "source": [
    "Owners appears to have higher income and larger lot sizes as compared to non-owners."
   ]
  },
  {
   "cell_type": "markdown",
   "metadata": {},
   "source": [
    "# 3.3. Laptop Sales at a London Computer Chain: Bar Charts and Boxplots. \n",
    "\n",
    "The file _LaptopSalesJanuary2008.csv_ contains data for all sales of laptops at a computer chain in London in January 2008. This is a subset of the full dataset that includes data for the entire year."
   ]
  },
  {
   "cell_type": "code",
   "execution_count": 14,
   "metadata": {
    "scrolled": true
   },
   "outputs": [
    {
     "name": "stdout",
     "output_type": "stream",
     "text": [
      "(24, 3)\n",
      "            Date  Configuration Customer Postcode Store Postcode  \\\n",
      "0  1/1/2008 0:01            163          EC4V 5BH        SE1 2BN   \n",
      "1  1/1/2008 0:02            320           SW4 0JL       SW12 9HD   \n",
      "2  1/1/2008 0:04             23          EC3V 1LR         E2 0RY   \n",
      "3  1/1/2008 0:04            169          SW1P 3AU        SE1 2BN   \n",
      "4  1/1/2008 0:06            365          EC4V 4EG       SW1V 4QQ   \n",
      "\n",
      "   Retail Price  Screen Size (Inches)  Battery Life (Hours)  RAM (GB)  \\\n",
      "0           455                    15                     5         1   \n",
      "1           545                    15                     6         1   \n",
      "2           515                    15                     4         1   \n",
      "3           395                    15                     5         1   \n",
      "4           585                    15                     6         2   \n",
      "\n",
      "   Processor Speeds (GHz) Integrated Wireless?  HD Size (GB)  \\\n",
      "0                     2.0                  Yes            80   \n",
      "1                     2.0                   No           300   \n",
      "2                     2.0                  Yes           300   \n",
      "3                     2.0                   No            40   \n",
      "4                     2.0                   No           120   \n",
      "\n",
      "  Bundled Applications?  OS X Customer  OS Y Customer  OS X Store  OS Y Store  \\\n",
      "0                   Yes         532041         180995    534057.0    179682.0   \n",
      "1                    No         529240         175537    528739.0    173080.0   \n",
      "2                   Yes         533095         181047    535652.0    182961.0   \n",
      "3                   Yes         529902         179641    534057.0    179682.0   \n",
      "4                   Yes         531684         180948    528924.0    178440.0   \n",
      "\n",
      "   CustomerStoreDistance  \n",
      "0            2405.873022  \n",
      "1            2507.558574  \n",
      "2            3194.001409  \n",
      "3            4155.202281  \n",
      "4            3729.298057  \n"
     ]
    }
   ],
   "source": [
    "# load the data\n",
    "laptop_df = pd.read_csv(DATA / 'LaptopSalesJanuary2008.csv', squeeze=True)\n",
    "# Check if data is loaded correctly\n",
    "print(mowers_df.shape)\n",
    "print(laptop_df.head())"
   ]
  },
  {
   "cell_type": "code",
   "execution_count": 15,
   "metadata": {},
   "outputs": [
    {
     "data": {
      "text/plain": [
       "Index(['Date', 'Configuration', 'Customer Postcode', 'Store Postcode',\n",
       "       'Retail Price', 'Screen Size (Inches)', 'Battery Life (Hours)',\n",
       "       'RAM (GB)', 'Processor Speeds (GHz)', 'Integrated Wireless?',\n",
       "       'HD Size (GB)', 'Bundled Applications?', 'OS X Customer',\n",
       "       'OS Y Customer', 'OS X Store', 'OS Y Store', 'CustomerStoreDistance'],\n",
       "      dtype='object')"
      ]
     },
     "execution_count": 15,
     "metadata": {},
     "output_type": "execute_result"
    }
   ],
   "source": [
    "# Print the list of variables to the screen\n",
    "laptop_df.columns"
   ]
  },
  {
   "cell_type": "code",
   "execution_count": 16,
   "metadata": {},
   "outputs": [],
   "source": [
    "# Change the variable names to be more suitable for analysis\n",
    "laptop_df.columns = (\"Date\", \"Configuration\", \"Customer_Postcode\", \"Store_Postcode\",\n",
    "                     \"Retail_Price\", \"Screen_Size_Inches\", \"Battery_Life_Hours\",\n",
    "                     \"RAM_GB\", \"Processor_Speeds_GHz\", \"Integrated_Wireless\", \n",
    "                     \"HD_Size_GB\", \"Bundled_Applications\", \"customer_X\", \n",
    "                     \"customer_Y\", \"store_X\", \"store_Y\", \"CustomerStoreDistance\")\n",
    "\n",
    "#laptop_df.columns"
   ]
  },
  {
   "cell_type": "markdown",
   "metadata": {},
   "source": [
    "__3.3.a.__  Create a bar chart, showing the average retail price by store. Which store has the highest average? Which has the lowest?"
   ]
  },
  {
   "cell_type": "code",
   "execution_count": 17,
   "metadata": {
    "scrolled": true
   },
   "outputs": [
    {
     "data": {
      "text/plain": [
       "Text(0, 0.5, 'Avg. Retail price')"
      ]
     },
     "execution_count": 17,
     "metadata": {},
     "output_type": "execute_result"
    },
    {
     "data": {
      "image/png": "[encoded data removed]",
      "text/plain": [
       "<Figure size 432x288 with 1 Axes>"
      ]
     },
     "metadata": {
      "needs_background": "light"
     },
     "output_type": "display_data"
    }
   ],
   "source": [
    "# barchart of store vs. mean retail price\n",
    "# compute mean retail price per store\n",
    "ax = laptop_df.groupby('Store_Postcode').mean().Retail_Price.plot(kind='bar')\n",
    "ax.set_ylabel('Avg. Retail price')"
   ]
  },
  {
   "cell_type": "markdown",
   "metadata": {},
   "source": [
    "From the above bar chart we can see that store postcode \"N17 6QA\" has highest average (494) and store postcode \"W4 3PH\" has lowest average 481 for the retail price."
   ]
  },
  {
   "cell_type": "markdown",
   "metadata": {},
   "source": [
    "__3.3.b.__ To better compare retail prices across stores, create side-by-side boxplots of retail price by store. Now compare the prices in the two stores from (a). Does there seem to be a difference between their price distributions?"
   ]
  },
  {
   "cell_type": "code",
   "execution_count": 18,
   "metadata": {},
   "outputs": [
    {
     "data": {
      "image/png": "[encoded data removed]",
      "text/plain": [
       "<Figure size 432x288 with 1 Axes>"
      ]
     },
     "metadata": {
      "needs_background": "light"
     },
     "output_type": "display_data"
    }
   ],
   "source": [
    "# The argument vert creates horizontal boxplots\n",
    "ax = laptop_df.boxplot(column='Retail_Price', by='Store_Postcode', vert=False)\n",
    "# Suppress the titles\n",
    "plt.suptitle('')  \n",
    "plt.title('')\n",
    "plt.show()"
   ]
  },
  {
   "cell_type": "markdown",
   "metadata": {},
   "source": [
    "We can see that the middle range of the prices is roughly similar across stores (just under 500 dollars, plus or minus 50).  The distributions for \"N17 6QA\" and \"W4 3PH\" are similar, except N17 6QA is shifted to the right (more expensive) by about 20 dollars compared to W4 3PH. "
   ]
  },
  {
   "cell_type": "code",
   "execution_count": null,
   "metadata": {},
   "outputs": [],
   "source": []
  },
  {
   "cell_type": "markdown",
   "metadata": {},
   "source": [
    "### Problem 3.4 (below) - To be done with an interactive tool such as Tableau or Spotfire.\n",
    "\n",
    "The file `Ch-03.4-ProbSolution-Spotfire.pdf` demonstrates a solution using Spotfire. "
   ]
  },
  {
   "cell_type": "markdown",
   "metadata": {},
   "source": [
    "# 3.4 Laptop Sales at a London Computer Chain: Interactive Visualization. \n",
    "\n",
    "The next exercises are designed for using an interactive visualization tool. The file _LaptopSales.csv_ is a comma-separated file with nearly 300,000 rows. ENBIS (the European Network for Business and Industrial Statistics) provided these data as part of a contest organized in the fall of 2009.\n",
    "\n",
    "__Scenario:__ _Imagine that you are a new analyst for a company called Acell (a company selling laptops). You have been provided with data about products and sales. You need to help the company with their business goal of planning a product strategy and pricing policies that will maximize Acell’s projected revenues in 2009._\n",
    "\n",
    "Using an interactive visualization tool, answer the following questions.\n",
    "\n",
    "__a. Price Questions:__\n",
    "\n",
    "i. At what price are the laptops actually selling?\n",
    "\n",
    "ii. Does price change with time? (_Hint:_ Make sure that the date column is recognized as such. The software should then enable different temporal aggregation choices, e.g., plotting the data by weekly or monthly aggregates, or even by day of week.)\n",
    "\n",
    "iii. Are prices consistent across retail outlets?\n",
    "\n",
    "iv. How does price change with configuration?\n",
    "\n",
    "__b. Location Questions:__\n",
    "\n",
    "i. Where are the stores and customers located?\n",
    "\n",
    "ii. Which stores are selling the most?\n",
    "\n",
    "iii. How far would customers travel to buy a laptop?\n",
    "\n",
    "◦ _Hint 1:_ You should be able to aggregate the data, for example, plot the sum or average of the prices.\n",
    "\n",
    "◦ _Hint 2:_ Use the coordinated highlighting between multiple visualizations in the same page, for example, select a store in one view to see the matching customers in another visualization.\n",
    "\n",
    "◦ _Hint 3:_ Explore the use of filters to see differences. Make sure to filter in the zoomed out view. For example, try to use a “store location” slider as an alternative way to dynamically compare store locations. This might be more useful to spot outlier patterns if there were 50 store locations to compare.\n",
    "\n",
    "iv. Try an alternative way of looking at how far customers traveled. Do this by creating a new data column that computes the distance between customer and store.\n",
    "\n",
    "__c. Revenue Questions:__\n",
    "\n",
    "i. How do the sales volume in each store relate to Acell’s revenues?\n",
    "\n",
    "ii. How does this relationship depend on the configuration?\n",
    "\n",
    "__d. Configuration Questions:__ \n",
    "\n",
    "i. What are the details of each configuration? How does this relate to price?\n",
    "\n",
    "ii. Do all stores sell all configurations?"
   ]
  },
  {
   "cell_type": "code",
   "execution_count": null,
   "metadata": {},
   "outputs": [],
   "source": []
  }
 ],
 "metadata": {
  "kernelspec": {
   "display_name": "Python 3",
   "language": "python",
   "name": "python3"
  },
  "language_info": {
   "codemirror_mode": {
    "name": "ipython",
    "version": 3
   },
   "file_extension": ".py",
   "mimetype": "text/x-python",
   "name": "python",
   "nbconvert_exporter": "python",
   "pygments_lexer": "ipython3",
   "version": "3.8.2"
  }
 },
 "nbformat": 4,
 "nbformat_minor": 2
}
