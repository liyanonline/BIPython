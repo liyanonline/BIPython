{
 "cells": [
  {
   "cell_type": "markdown",
   "metadata": {},
   "source": [
    "# Chapter 13: Combining Methods: Ensembles and Uplift Modeling"
   ]
  },
  {
   "cell_type": "markdown",
   "metadata": {},
   "source": [
    "\n",
    "> (c) 2019-2020 Galit Shmueli, Peter C. Bruce, Peter Gedeck \n",
    ">\n",
    "> _Data Mining for Business Analytics: Concepts, Techniques, and Applications in Python_ (First Edition) \n",
    "> Galit Shmueli, Peter C. Bruce, Peter Gedeck, and Nitin R. Patel. 2019.\n",
    ">\n",
    "> Date: 2020-03-08\n",
    ">\n",
    "> Python Version: 3.8.2\n",
    "> Jupyter Notebook Version: 5.6.1\n",
    ">\n",
    "> Packages:\n",
    ">   - dmba: 0.0.12\n",
    ">   - matplotlib: 3.2.0\n",
    ">   - pandas: 1.0.1\n",
    ">   - scikit-learn: 0.22.2\n",
    ">\n",
    "> The assistance from Mr. Kuber Deokar and Ms. Anuja Kulkarni in preparing these solutions is gratefully acknowledged.\n"
   ]
  },
  {
   "cell_type": "code",
   "execution_count": 1,
   "metadata": {},
   "outputs": [],
   "source": [
    "# Import required packages for this chapter\n",
    "from pathlib import Path\n",
    "\n",
    "import pandas as pd\n",
    "from sklearn import preprocessing\n",
    "from sklearn.linear_model import LogisticRegression\n",
    "from sklearn.tree import DecisionTreeClassifier\n",
    "from sklearn.naive_bayes import MultinomialNB\n",
    "from sklearn.metrics import accuracy_score\n",
    "from sklearn.ensemble import AdaBoostClassifier\n",
    "from sklearn.ensemble import BaggingClassifier\n",
    "from sklearn.ensemble import RandomForestClassifier\n",
    "from sklearn.neighbors import KNeighborsClassifier\n",
    "from sklearn.model_selection import train_test_split, GridSearchCV\n",
    "\n",
    "import matplotlib.pylab as plt\n",
    "\n",
    "from dmba import classificationSummary\n",
    "from dmba import liftChart\n",
    "\n",
    "%matplotlib inline"
   ]
  },
  {
   "cell_type": "code",
   "execution_count": 2,
   "metadata": {},
   "outputs": [],
   "source": [
    "# Working directory:\n",
    "#\n",
    "# We assume that data are kept in the same directory as the notebook. If you keep your \n",
    "# data in a different folder, replace the argument of the `Path`\n",
    "DATA = Path('.').resolve().parent / 'data'\n",
    "FIGURES = Path('.').resolve().parent / 'figures' / 'chapter_13'\n",
    "FIGURES.mkdir(exist_ok=True, parents=True)\n",
    "# and then load data using \n",
    "#\n",
    "# pd.read_csv(DATA / ‘filename.csv’)"
   ]
  },
  {
   "cell_type": "markdown",
   "metadata": {},
   "source": [
    "# Problem 13.1: Acceptance of Consumer Loan\n",
    "Universal Bank has begun a program to encourage its existing customers to borrow via a consumer loan program.  The bank has promoted the loan to 5000 customers, of whom 480 accepted the offer. The data are available in file __UniversalBank.csv__. The bank now wants to develop a model to predict which customers have the greatest probability of accepting the loan, to reduce promotion costs and send the offer only to a subset of its customers. \n",
    "\n",
    "We will develop several models, then combine them in an ensemble.  The models we will use are \n",
    "1. logistic regression, \n",
    "2. $k$-nearest neighbors with $k=3$, and \n",
    "3. classification trees\n",
    "\n",
    "## Data preprocessing\n",
    "Preprocess the data as follows:\n",
    "\n",
    "- Bin the following variables so they can be used in Naive Bayes:  Age (5 bins), Experience (10 bins), Income (5 bins), CC Average (6 bins), and Mortgage (10 bins).\n",
    "- Education and Family can be used as is, without binning. \n",
    "- Zip code can be ignored.\n",
    "- Use one-hot-encoding to convert the categorical data into indicator variables\n",
    "- Partition the data: 60% training, 40% validation.\n"
   ]
  },
  {
   "cell_type": "code",
   "execution_count": 3,
   "metadata": {
    "scrolled": true
   },
   "outputs": [
    {
     "data": {
      "text/html": [
       "<div>\n",
       "<style scoped>\n",
       "    .dataframe tbody tr th:only-of-type {\n",
       "        vertical-align: middle;\n",
       "    }\n",
       "\n",
       "    .dataframe tbody tr th {\n",
       "        vertical-align: top;\n",
       "    }\n",
       "\n",
       "    .dataframe thead th {\n",
       "        text-align: right;\n",
       "    }\n",
       "</style>\n",
       "<table border=\"1\" class=\"dataframe\">\n",
       "  <thead>\n",
       "    <tr style=\"text-align: right;\">\n",
       "      <th></th>\n",
       "      <th>ID</th>\n",
       "      <th>Age</th>\n",
       "      <th>Experience</th>\n",
       "      <th>Income</th>\n",
       "      <th>ZIP Code</th>\n",
       "      <th>Family</th>\n",
       "      <th>CCAvg</th>\n",
       "      <th>Education</th>\n",
       "      <th>Mortgage</th>\n",
       "      <th>Personal Loan</th>\n",
       "      <th>Securities Account</th>\n",
       "      <th>CD Account</th>\n",
       "      <th>Online</th>\n",
       "      <th>CreditCard</th>\n",
       "    </tr>\n",
       "  </thead>\n",
       "  <tbody>\n",
       "    <tr>\n",
       "      <th>0</th>\n",
       "      <td>1</td>\n",
       "      <td>25</td>\n",
       "      <td>1</td>\n",
       "      <td>49</td>\n",
       "      <td>91107</td>\n",
       "      <td>4</td>\n",
       "      <td>1.6</td>\n",
       "      <td>1</td>\n",
       "      <td>0</td>\n",
       "      <td>0</td>\n",
       "      <td>1</td>\n",
       "      <td>0</td>\n",
       "      <td>0</td>\n",
       "      <td>0</td>\n",
       "    </tr>\n",
       "    <tr>\n",
       "      <th>1</th>\n",
       "      <td>2</td>\n",
       "      <td>45</td>\n",
       "      <td>19</td>\n",
       "      <td>34</td>\n",
       "      <td>90089</td>\n",
       "      <td>3</td>\n",
       "      <td>1.5</td>\n",
       "      <td>1</td>\n",
       "      <td>0</td>\n",
       "      <td>0</td>\n",
       "      <td>1</td>\n",
       "      <td>0</td>\n",
       "      <td>0</td>\n",
       "      <td>0</td>\n",
       "    </tr>\n",
       "    <tr>\n",
       "      <th>2</th>\n",
       "      <td>3</td>\n",
       "      <td>39</td>\n",
       "      <td>15</td>\n",
       "      <td>11</td>\n",
       "      <td>94720</td>\n",
       "      <td>1</td>\n",
       "      <td>1.0</td>\n",
       "      <td>1</td>\n",
       "      <td>0</td>\n",
       "      <td>0</td>\n",
       "      <td>0</td>\n",
       "      <td>0</td>\n",
       "      <td>0</td>\n",
       "      <td>0</td>\n",
       "    </tr>\n",
       "    <tr>\n",
       "      <th>3</th>\n",
       "      <td>4</td>\n",
       "      <td>35</td>\n",
       "      <td>9</td>\n",
       "      <td>100</td>\n",
       "      <td>94112</td>\n",
       "      <td>1</td>\n",
       "      <td>2.7</td>\n",
       "      <td>2</td>\n",
       "      <td>0</td>\n",
       "      <td>0</td>\n",
       "      <td>0</td>\n",
       "      <td>0</td>\n",
       "      <td>0</td>\n",
       "      <td>0</td>\n",
       "    </tr>\n",
       "    <tr>\n",
       "      <th>4</th>\n",
       "      <td>5</td>\n",
       "      <td>35</td>\n",
       "      <td>8</td>\n",
       "      <td>45</td>\n",
       "      <td>91330</td>\n",
       "      <td>4</td>\n",
       "      <td>1.0</td>\n",
       "      <td>2</td>\n",
       "      <td>0</td>\n",
       "      <td>0</td>\n",
       "      <td>0</td>\n",
       "      <td>0</td>\n",
       "      <td>0</td>\n",
       "      <td>1</td>\n",
       "    </tr>\n",
       "  </tbody>\n",
       "</table>\n",
       "</div>"
      ],
      "text/plain": [
       "   ID  Age  Experience  Income  ZIP Code  Family  CCAvg  Education  Mortgage  \\\n",
       "0   1   25           1      49     91107       4    1.6          1         0   \n",
       "1   2   45          19      34     90089       3    1.5          1         0   \n",
       "2   3   39          15      11     94720       1    1.0          1         0   \n",
       "3   4   35           9     100     94112       1    2.7          2         0   \n",
       "4   5   35           8      45     91330       4    1.0          2         0   \n",
       "\n",
       "   Personal Loan  Securities Account  CD Account  Online  CreditCard  \n",
       "0              0                   1           0       0           0  \n",
       "1              0                   1           0       0           0  \n",
       "2              0                   0           0       0           0  \n",
       "3              0                   0           0       0           0  \n",
       "4              0                   0           0       0           1  "
      ]
     },
     "execution_count": 3,
     "metadata": {},
     "output_type": "execute_result"
    }
   ],
   "source": [
    "bank_df = pd.read_csv(DATA / 'UniversalBank.csv')\n",
    "bank_df.head()"
   ]
  },
  {
   "cell_type": "code",
   "execution_count": 4,
   "metadata": {},
   "outputs": [],
   "source": [
    "# Drop ID and zip code columns\n",
    "bank_df.drop(columns=['ID', 'ZIP Code'], inplace=True)\n",
    "\n",
    "# The remaining columns (Age, Experience, Income, Mortgage and CCAvg) will be binned\n",
    "bank_df['Age'] = pd.cut(bank_df['Age'], 5, labels=range(1, 6)).astype('category')\n",
    "bank_df['Experience'] = pd.cut(bank_df['Experience'], 10, labels=range(1, 11)).astype('category')\n",
    "bank_df['Income'] = pd.cut(bank_df['Income'], 5, labels=range(1, 6)).astype('category')\n",
    "bank_df['CCAvg'] = pd.cut(bank_df['CCAvg'], 6, labels=range(1, 7)).astype('category')\n",
    "bank_df['Mortgage'] = pd.cut(bank_df['Mortgage'], 10, labels=range(1, 11)).astype('category')\n",
    "\n",
    "# Use one-hot-encoding for the \n",
    "X = bank_df.drop(columns=['Personal Loan'])\n",
    "X = pd.get_dummies(X)\n",
    "\n",
    "y = bank_df['Personal Loan']"
   ]
  },
  {
   "cell_type": "code",
   "execution_count": 5,
   "metadata": {},
   "outputs": [
    {
     "name": "stdout",
     "output_type": "stream",
     "text": [
      "Training set: (3000, 42) Validation set: (2000, 42)\n"
     ]
    }
   ],
   "source": [
    "train_X, valid_X, train_y, valid_y = train_test_split(X, y, test_size=0.4, random_state=1)\n",
    "print('Training set:', train_X.shape, 'Validation set:', valid_X.shape)"
   ]
  },
  {
   "cell_type": "markdown",
   "metadata": {},
   "source": [
    "## Solution 13.1.a\n",
    "Fit models to the data for \n",
    "1. logistic regression, \n",
    "2. $k$-nearest neighbors with $k=3$, \n",
    "3. classification trees, and \n",
    "4. Naive Bayes. \n",
    "\n",
    "Use Personal Loan as the outcome variable.  Report the validation confusion matrix for each of the models."
   ]
  },
  {
   "cell_type": "code",
   "execution_count": 6,
   "metadata": {},
   "outputs": [
    {
     "name": "stdout",
     "output_type": "stream",
     "text": [
      "Confusion Matrix (Accuracy 0.9490)\n",
      "\n",
      "       Prediction\n",
      "Actual    0    1\n",
      "     0 1773   34\n",
      "     1   68  125\n",
      "Confusion Matrix (Accuracy 0.9360)\n",
      "\n",
      "       Prediction\n",
      "Actual    0    1\n",
      "     0 1798    9\n",
      "     1  119   74\n"
     ]
    }
   ],
   "source": [
    "# Logistic regression\n",
    "logit_reg = LogisticRegression(penalty=\"l2\", C=1e42, solver='liblinear')\n",
    "logit_reg.fit(train_X, train_y)\n",
    "classificationSummary(valid_y, logit_reg.predict(valid_X))\n",
    "\n",
    "# k-nearest neighbors\n",
    "knn = KNeighborsClassifier(n_neighbors=3)\n",
    "knn.fit(train_X, train_y)\n",
    "classificationSummary(valid_y, knn.predict(valid_X))"
   ]
  },
  {
   "cell_type": "code",
   "execution_count": 7,
   "metadata": {},
   "outputs": [
    {
     "name": "stdout",
     "output_type": "stream",
     "text": [
      "Initial parameters:  {'max_depth': 10, 'min_impurity_decrease': 0.001, 'min_samples_split': 10}\n",
      "Improved parameters:  {'max_depth': 7, 'min_impurity_decrease': 0, 'min_samples_split': 15}\n",
      "Confusion Matrix (Accuracy 0.9670)\n",
      "\n",
      "       Prediction\n",
      "Actual    0    1\n",
      "     0 1789   18\n",
      "     1   48  145\n"
     ]
    }
   ],
   "source": [
    "# classification tree\n",
    "# user grid search to find optimized tree\n",
    "param_grid = {\n",
    "    'max_depth': [5, 10, 15, 20, 25], \n",
    "    'min_impurity_decrease': [0, 0.001, 0.005, 0.01], \n",
    "    'min_samples_split': [10, 20, 30, 40, 50], \n",
    "}\n",
    "gridSearch = GridSearchCV(DecisionTreeClassifier(random_state=1), param_grid, cv=5, n_jobs=-1)\n",
    "gridSearch.fit(train_X, train_y)\n",
    "print('Initial parameters: ', gridSearch.best_params_)\n",
    "\n",
    "param_grid = {\n",
    "    'max_depth': [5, 6, 7, 8, 9, 10, 11, 12], \n",
    "    'min_impurity_decrease': [0, 0.0005, 0.001, 0.0015], \n",
    "    'min_samples_split': [5, 6, 7, 8, 9, 10, 11, 12, 13, 14, 15], \n",
    "}\n",
    "gridSearch = GridSearchCV(DecisionTreeClassifier(random_state=1), param_grid, cv=5, n_jobs=-1)\n",
    "gridSearch.fit(train_X, train_y)\n",
    "print('Improved parameters: ', gridSearch.best_params_)\n",
    "\n",
    "classTree = gridSearch.best_estimator_\n",
    "\n",
    "classificationSummary(valid_y, classTree.predict(valid_X))"
   ]
  },
  {
   "cell_type": "code",
   "execution_count": 8,
   "metadata": {},
   "outputs": [
    {
     "name": "stdout",
     "output_type": "stream",
     "text": [
      "Confusion Matrix (Accuracy 0.8860)\n",
      "\n",
      "       Prediction\n",
      "Actual    0    1\n",
      "     0 1657  150\n",
      "     1   78  115\n"
     ]
    }
   ],
   "source": [
    "# Naive-Bayes\n",
    "nb = MultinomialNB(alpha=0.01)\n",
    "nb.fit(train_X, train_y)\n",
    "classificationSummary(valid_y, nb.predict(valid_X))"
   ]
  },
  {
   "cell_type": "markdown",
   "metadata": {},
   "source": [
    "## Solution 13.1.b\n",
    "Create a data frame with the actual outcome, predicted outcome, and each of the models. \n",
    "Report the first 10 rows of this data frame."
   ]
  },
  {
   "cell_type": "code",
   "execution_count": 9,
   "metadata": {},
   "outputs": [
    {
     "data": {
      "text/html": [
       "<div>\n",
       "<style scoped>\n",
       "    .dataframe tbody tr th:only-of-type {\n",
       "        vertical-align: middle;\n",
       "    }\n",
       "\n",
       "    .dataframe tbody tr th {\n",
       "        vertical-align: top;\n",
       "    }\n",
       "\n",
       "    .dataframe thead th {\n",
       "        text-align: right;\n",
       "    }\n",
       "</style>\n",
       "<table border=\"1\" class=\"dataframe\">\n",
       "  <thead>\n",
       "    <tr style=\"text-align: right;\">\n",
       "      <th></th>\n",
       "      <th>actual</th>\n",
       "      <th>Logistic regression</th>\n",
       "      <th>k-nearest neighbor</th>\n",
       "      <th>classification tree</th>\n",
       "      <th>naive-bayes</th>\n",
       "    </tr>\n",
       "  </thead>\n",
       "  <tbody>\n",
       "    <tr>\n",
       "      <th>2764</th>\n",
       "      <td>0</td>\n",
       "      <td>0</td>\n",
       "      <td>0</td>\n",
       "      <td>0</td>\n",
       "      <td>0</td>\n",
       "    </tr>\n",
       "    <tr>\n",
       "      <th>4767</th>\n",
       "      <td>0</td>\n",
       "      <td>0</td>\n",
       "      <td>0</td>\n",
       "      <td>0</td>\n",
       "      <td>0</td>\n",
       "    </tr>\n",
       "    <tr>\n",
       "      <th>3814</th>\n",
       "      <td>0</td>\n",
       "      <td>0</td>\n",
       "      <td>0</td>\n",
       "      <td>0</td>\n",
       "      <td>0</td>\n",
       "    </tr>\n",
       "    <tr>\n",
       "      <th>3499</th>\n",
       "      <td>0</td>\n",
       "      <td>0</td>\n",
       "      <td>0</td>\n",
       "      <td>0</td>\n",
       "      <td>0</td>\n",
       "    </tr>\n",
       "    <tr>\n",
       "      <th>2735</th>\n",
       "      <td>0</td>\n",
       "      <td>0</td>\n",
       "      <td>0</td>\n",
       "      <td>0</td>\n",
       "      <td>0</td>\n",
       "    </tr>\n",
       "    <tr>\n",
       "      <th>3922</th>\n",
       "      <td>0</td>\n",
       "      <td>0</td>\n",
       "      <td>0</td>\n",
       "      <td>0</td>\n",
       "      <td>0</td>\n",
       "    </tr>\n",
       "    <tr>\n",
       "      <th>2701</th>\n",
       "      <td>0</td>\n",
       "      <td>0</td>\n",
       "      <td>0</td>\n",
       "      <td>0</td>\n",
       "      <td>0</td>\n",
       "    </tr>\n",
       "    <tr>\n",
       "      <th>1179</th>\n",
       "      <td>0</td>\n",
       "      <td>0</td>\n",
       "      <td>0</td>\n",
       "      <td>0</td>\n",
       "      <td>0</td>\n",
       "    </tr>\n",
       "    <tr>\n",
       "      <th>932</th>\n",
       "      <td>0</td>\n",
       "      <td>1</td>\n",
       "      <td>0</td>\n",
       "      <td>1</td>\n",
       "      <td>1</td>\n",
       "    </tr>\n",
       "    <tr>\n",
       "      <th>792</th>\n",
       "      <td>0</td>\n",
       "      <td>1</td>\n",
       "      <td>0</td>\n",
       "      <td>1</td>\n",
       "      <td>1</td>\n",
       "    </tr>\n",
       "  </tbody>\n",
       "</table>\n",
       "</div>"
      ],
      "text/plain": [
       "      actual  Logistic regression  k-nearest neighbor  classification tree  \\\n",
       "2764       0                    0                   0                    0   \n",
       "4767       0                    0                   0                    0   \n",
       "3814       0                    0                   0                    0   \n",
       "3499       0                    0                   0                    0   \n",
       "2735       0                    0                   0                    0   \n",
       "3922       0                    0                   0                    0   \n",
       "2701       0                    0                   0                    0   \n",
       "1179       0                    0                   0                    0   \n",
       "932        0                    1                   0                    1   \n",
       "792        0                    1                   0                    1   \n",
       "\n",
       "      naive-bayes  \n",
       "2764            0  \n",
       "4767            0  \n",
       "3814            0  \n",
       "3499            0  \n",
       "2735            0  \n",
       "3922            0  \n",
       "2701            0  \n",
       "1179            0  \n",
       "932             1  \n",
       "792             1  "
      ]
     },
     "execution_count": 9,
     "metadata": {},
     "output_type": "execute_result"
    }
   ],
   "source": [
    "result = pd.DataFrame({\n",
    "    'actual': valid_y,\n",
    "    'Logistic regression': logit_reg.predict(valid_X),\n",
    "    'k-nearest neighbor': knn.predict(valid_X),\n",
    "    'classification tree': classTree.predict(valid_X),\n",
    "    'naive-bayes': nb.predict(valid_X),\n",
    "})\n",
    "result.head(10)"
   ]
  },
  {
   "cell_type": "markdown",
   "metadata": {},
   "source": [
    "## Solution 13.1.c\n",
    "Add two columns to this data frame for (1) a majority vote of predicted outcomes, and (2) the average of the predicted probabilities. Using the classifications generated by these two methods derive a confusion matrix for each method and report the overall accuracy."
   ]
  },
  {
   "cell_type": "code",
   "execution_count": 10,
   "metadata": {
    "scrolled": false
   },
   "outputs": [
    {
     "data": {
      "text/html": [
       "<div>\n",
       "<style scoped>\n",
       "    .dataframe tbody tr th:only-of-type {\n",
       "        vertical-align: middle;\n",
       "    }\n",
       "\n",
       "    .dataframe tbody tr th {\n",
       "        vertical-align: top;\n",
       "    }\n",
       "\n",
       "    .dataframe thead th {\n",
       "        text-align: right;\n",
       "    }\n",
       "</style>\n",
       "<table border=\"1\" class=\"dataframe\">\n",
       "  <thead>\n",
       "    <tr style=\"text-align: right;\">\n",
       "      <th></th>\n",
       "      <th>actual</th>\n",
       "      <th>Logistic regression</th>\n",
       "      <th>k-nearest neighbor</th>\n",
       "      <th>classification tree</th>\n",
       "      <th>naive-bayes</th>\n",
       "      <th>majority</th>\n",
       "      <th>average</th>\n",
       "      <th>average_pred</th>\n",
       "    </tr>\n",
       "  </thead>\n",
       "  <tbody>\n",
       "    <tr>\n",
       "      <th>2764</th>\n",
       "      <td>0</td>\n",
       "      <td>0</td>\n",
       "      <td>0</td>\n",
       "      <td>0</td>\n",
       "      <td>0</td>\n",
       "      <td>0</td>\n",
       "      <td>1.572781e-03</td>\n",
       "      <td>0</td>\n",
       "    </tr>\n",
       "    <tr>\n",
       "      <th>4767</th>\n",
       "      <td>0</td>\n",
       "      <td>0</td>\n",
       "      <td>0</td>\n",
       "      <td>0</td>\n",
       "      <td>0</td>\n",
       "      <td>0</td>\n",
       "      <td>2.846366e-07</td>\n",
       "      <td>0</td>\n",
       "    </tr>\n",
       "    <tr>\n",
       "      <th>3814</th>\n",
       "      <td>0</td>\n",
       "      <td>0</td>\n",
       "      <td>0</td>\n",
       "      <td>0</td>\n",
       "      <td>0</td>\n",
       "      <td>0</td>\n",
       "      <td>6.143648e-07</td>\n",
       "      <td>0</td>\n",
       "    </tr>\n",
       "    <tr>\n",
       "      <th>3499</th>\n",
       "      <td>0</td>\n",
       "      <td>0</td>\n",
       "      <td>0</td>\n",
       "      <td>0</td>\n",
       "      <td>0</td>\n",
       "      <td>0</td>\n",
       "      <td>3.452705e-02</td>\n",
       "      <td>0</td>\n",
       "    </tr>\n",
       "    <tr>\n",
       "      <th>2735</th>\n",
       "      <td>0</td>\n",
       "      <td>0</td>\n",
       "      <td>0</td>\n",
       "      <td>0</td>\n",
       "      <td>0</td>\n",
       "      <td>0</td>\n",
       "      <td>3.897706e-03</td>\n",
       "      <td>0</td>\n",
       "    </tr>\n",
       "    <tr>\n",
       "      <th>3922</th>\n",
       "      <td>0</td>\n",
       "      <td>0</td>\n",
       "      <td>0</td>\n",
       "      <td>0</td>\n",
       "      <td>0</td>\n",
       "      <td>0</td>\n",
       "      <td>1.440022e-06</td>\n",
       "      <td>0</td>\n",
       "    </tr>\n",
       "    <tr>\n",
       "      <th>2701</th>\n",
       "      <td>0</td>\n",
       "      <td>0</td>\n",
       "      <td>0</td>\n",
       "      <td>0</td>\n",
       "      <td>0</td>\n",
       "      <td>0</td>\n",
       "      <td>8.749563e-04</td>\n",
       "      <td>0</td>\n",
       "    </tr>\n",
       "    <tr>\n",
       "      <th>1179</th>\n",
       "      <td>0</td>\n",
       "      <td>0</td>\n",
       "      <td>0</td>\n",
       "      <td>0</td>\n",
       "      <td>0</td>\n",
       "      <td>0</td>\n",
       "      <td>1.418331e-01</td>\n",
       "      <td>0</td>\n",
       "    </tr>\n",
       "    <tr>\n",
       "      <th>932</th>\n",
       "      <td>0</td>\n",
       "      <td>1</td>\n",
       "      <td>0</td>\n",
       "      <td>1</td>\n",
       "      <td>1</td>\n",
       "      <td>1</td>\n",
       "      <td>5.011567e-01</td>\n",
       "      <td>1</td>\n",
       "    </tr>\n",
       "    <tr>\n",
       "      <th>792</th>\n",
       "      <td>0</td>\n",
       "      <td>1</td>\n",
       "      <td>0</td>\n",
       "      <td>1</td>\n",
       "      <td>1</td>\n",
       "      <td>1</td>\n",
       "      <td>6.453092e-01</td>\n",
       "      <td>1</td>\n",
       "    </tr>\n",
       "  </tbody>\n",
       "</table>\n",
       "</div>"
      ],
      "text/plain": [
       "      actual  Logistic regression  k-nearest neighbor  classification tree  \\\n",
       "2764       0                    0                   0                    0   \n",
       "4767       0                    0                   0                    0   \n",
       "3814       0                    0                   0                    0   \n",
       "3499       0                    0                   0                    0   \n",
       "2735       0                    0                   0                    0   \n",
       "3922       0                    0                   0                    0   \n",
       "2701       0                    0                   0                    0   \n",
       "1179       0                    0                   0                    0   \n",
       "932        0                    1                   0                    1   \n",
       "792        0                    1                   0                    1   \n",
       "\n",
       "      naive-bayes  majority       average  average_pred  \n",
       "2764            0         0  1.572781e-03             0  \n",
       "4767            0         0  2.846366e-07             0  \n",
       "3814            0         0  6.143648e-07             0  \n",
       "3499            0         0  3.452705e-02             0  \n",
       "2735            0         0  3.897706e-03             0  \n",
       "3922            0         0  1.440022e-06             0  \n",
       "2701            0         0  8.749563e-04             0  \n",
       "1179            0         0  1.418331e-01             0  \n",
       "932             1         1  5.011567e-01             1  \n",
       "792             1         1  6.453092e-01             1  "
      ]
     },
     "execution_count": 10,
     "metadata": {},
     "output_type": "execute_result"
    }
   ],
   "source": [
    "# (1) majority vote\n",
    "predColumns = ['Logistic regression', 'k-nearest neighbor', 'classification tree', 'naive-bayes']\n",
    "result['majority'] = [1 if p > 0.5 else 0 for p in result[predColumns].mean(axis=1)]\n",
    "\n",
    "# (2) average probability\n",
    "# first create a data frame with the predicted probabilities for Personal Loan of 1\n",
    "probabilities = pd.DataFrame({\n",
    "    'actual': valid_y,\n",
    "    'Logistic regression': logit_reg.predict_proba(valid_X)[:, 1],\n",
    "    'k-nearest neighbor': knn.predict_proba(valid_X)[:, 1],\n",
    "    'classification tree': classTree.predict_proba(valid_X)[:, 1],\n",
    "    'naive-bayes': nb.predict_proba(valid_X)[:, 1],\n",
    "})\n",
    "result['average'] = probabilities[predColumns].mean(axis=1)\n",
    "result['average_pred'] = [1 if p > 0.5 else 0 for p in result['average']]\n",
    "result.head(10)"
   ]
  },
  {
   "cell_type": "code",
   "execution_count": 11,
   "metadata": {},
   "outputs": [
    {
     "name": "stdout",
     "output_type": "stream",
     "text": [
      "Majority vote\n",
      "Confusion Matrix (Accuracy 0.9495)\n",
      "\n",
      "       Prediction\n",
      "Actual    0    1\n",
      "     0 1797   10\n",
      "     1   91  102\n",
      "Average probability\n",
      "Confusion Matrix (Accuracy 0.9595)\n",
      "\n",
      "       Prediction\n",
      "Actual    0    1\n",
      "     0 1796   11\n",
      "     1   70  123\n"
     ]
    }
   ],
   "source": [
    "print('Majority vote')\n",
    "classificationSummary(result['actual'], result['majority'])\n",
    "\n",
    "print('Average probability')\n",
    "classificationSummary(result['actual'], result['average_pred'])"
   ]
  },
  {
   "cell_type": "markdown",
   "metadata": {},
   "source": [
    "## Solution 13.1.d\n",
    "Compare the error rates for the four individual methods and the two ensemble methods."
   ]
  },
  {
   "cell_type": "code",
   "execution_count": 12,
   "metadata": {},
   "outputs": [
    {
     "data": {
      "text/html": [
       "<div>\n",
       "<style scoped>\n",
       "    .dataframe tbody tr th:only-of-type {\n",
       "        vertical-align: middle;\n",
       "    }\n",
       "\n",
       "    .dataframe tbody tr th {\n",
       "        vertical-align: top;\n",
       "    }\n",
       "\n",
       "    .dataframe thead th {\n",
       "        text-align: right;\n",
       "    }\n",
       "</style>\n",
       "<table border=\"1\" class=\"dataframe\">\n",
       "  <thead>\n",
       "    <tr style=\"text-align: right;\">\n",
       "      <th></th>\n",
       "      <th>model</th>\n",
       "      <th>error rate</th>\n",
       "    </tr>\n",
       "  </thead>\n",
       "  <tbody>\n",
       "    <tr>\n",
       "      <th>0</th>\n",
       "      <td>Logistic regression</td>\n",
       "      <td>0.9490</td>\n",
       "    </tr>\n",
       "    <tr>\n",
       "      <th>1</th>\n",
       "      <td>k-nearest neighbor</td>\n",
       "      <td>0.9360</td>\n",
       "    </tr>\n",
       "    <tr>\n",
       "      <th>2</th>\n",
       "      <td>classification tree</td>\n",
       "      <td>0.9670</td>\n",
       "    </tr>\n",
       "    <tr>\n",
       "      <th>3</th>\n",
       "      <td>naive-bayes</td>\n",
       "      <td>0.8860</td>\n",
       "    </tr>\n",
       "    <tr>\n",
       "      <th>4</th>\n",
       "      <td>majority</td>\n",
       "      <td>0.9495</td>\n",
       "    </tr>\n",
       "    <tr>\n",
       "      <th>5</th>\n",
       "      <td>average_pred</td>\n",
       "      <td>0.9595</td>\n",
       "    </tr>\n",
       "  </tbody>\n",
       "</table>\n",
       "</div>"
      ],
      "text/plain": [
       "                 model  error rate\n",
       "0  Logistic regression      0.9490\n",
       "1   k-nearest neighbor      0.9360\n",
       "2  classification tree      0.9670\n",
       "3          naive-bayes      0.8860\n",
       "4             majority      0.9495\n",
       "5         average_pred      0.9595"
      ]
     },
     "execution_count": 12,
     "metadata": {},
     "output_type": "execute_result"
    }
   ],
   "source": [
    "models = ['Logistic regression', 'k-nearest neighbor', 'classification tree', 'naive-bayes', \n",
    "          'majority', 'average_pred']\n",
    "errorRates = []\n",
    "for model in models:\n",
    "    errorRates.append({'model': model, 'error rate': accuracy_score(result['actual'], result[model])})\n",
    "pd.DataFrame(errorRates)"
   ]
  },
  {
   "cell_type": "markdown",
   "metadata": {},
   "source": [
    "The accuracy values show that the decision tree model outperforms the other three methods. The two ensemble models have slightly lower performance compared to the classification tree."
   ]
  },
  {
   "cell_type": "markdown",
   "metadata": {},
   "source": [
    "# Problem 13.2: eBay Auctions - Boosting and Bagging\n",
    "Using the eBay auction data (file _eBayAuctions.csv_) with variable Competitive as the outcome variable, partition the data into training (60%) and validation (40%)."
   ]
  },
  {
   "cell_type": "code",
   "execution_count": 13,
   "metadata": {
    "scrolled": true
   },
   "outputs": [
    {
     "data": {
      "text/html": [
       "<div>\n",
       "<style scoped>\n",
       "    .dataframe tbody tr th:only-of-type {\n",
       "        vertical-align: middle;\n",
       "    }\n",
       "\n",
       "    .dataframe tbody tr th {\n",
       "        vertical-align: top;\n",
       "    }\n",
       "\n",
       "    .dataframe thead th {\n",
       "        text-align: right;\n",
       "    }\n",
       "</style>\n",
       "<table border=\"1\" class=\"dataframe\">\n",
       "  <thead>\n",
       "    <tr style=\"text-align: right;\">\n",
       "      <th></th>\n",
       "      <th>Category</th>\n",
       "      <th>currency</th>\n",
       "      <th>sellerRating</th>\n",
       "      <th>Duration</th>\n",
       "      <th>endDay</th>\n",
       "      <th>ClosePrice</th>\n",
       "      <th>OpenPrice</th>\n",
       "      <th>Competitive?</th>\n",
       "    </tr>\n",
       "  </thead>\n",
       "  <tbody>\n",
       "    <tr>\n",
       "      <th>0</th>\n",
       "      <td>Music/Movie/Game</td>\n",
       "      <td>US</td>\n",
       "      <td>3249</td>\n",
       "      <td>5</td>\n",
       "      <td>Mon</td>\n",
       "      <td>0.01</td>\n",
       "      <td>0.01</td>\n",
       "      <td>0</td>\n",
       "    </tr>\n",
       "    <tr>\n",
       "      <th>1</th>\n",
       "      <td>Music/Movie/Game</td>\n",
       "      <td>US</td>\n",
       "      <td>3249</td>\n",
       "      <td>5</td>\n",
       "      <td>Mon</td>\n",
       "      <td>0.01</td>\n",
       "      <td>0.01</td>\n",
       "      <td>0</td>\n",
       "    </tr>\n",
       "    <tr>\n",
       "      <th>2</th>\n",
       "      <td>Music/Movie/Game</td>\n",
       "      <td>US</td>\n",
       "      <td>3249</td>\n",
       "      <td>5</td>\n",
       "      <td>Mon</td>\n",
       "      <td>0.01</td>\n",
       "      <td>0.01</td>\n",
       "      <td>0</td>\n",
       "    </tr>\n",
       "    <tr>\n",
       "      <th>3</th>\n",
       "      <td>Music/Movie/Game</td>\n",
       "      <td>US</td>\n",
       "      <td>3249</td>\n",
       "      <td>5</td>\n",
       "      <td>Mon</td>\n",
       "      <td>0.01</td>\n",
       "      <td>0.01</td>\n",
       "      <td>0</td>\n",
       "    </tr>\n",
       "    <tr>\n",
       "      <th>4</th>\n",
       "      <td>Music/Movie/Game</td>\n",
       "      <td>US</td>\n",
       "      <td>3249</td>\n",
       "      <td>5</td>\n",
       "      <td>Mon</td>\n",
       "      <td>0.01</td>\n",
       "      <td>0.01</td>\n",
       "      <td>0</td>\n",
       "    </tr>\n",
       "  </tbody>\n",
       "</table>\n",
       "</div>"
      ],
      "text/plain": [
       "           Category currency  sellerRating  Duration endDay  ClosePrice  \\\n",
       "0  Music/Movie/Game       US          3249         5    Mon        0.01   \n",
       "1  Music/Movie/Game       US          3249         5    Mon        0.01   \n",
       "2  Music/Movie/Game       US          3249         5    Mon        0.01   \n",
       "3  Music/Movie/Game       US          3249         5    Mon        0.01   \n",
       "4  Music/Movie/Game       US          3249         5    Mon        0.01   \n",
       "\n",
       "   OpenPrice  Competitive?  \n",
       "0       0.01             0  \n",
       "1       0.01             0  \n",
       "2       0.01             0  \n",
       "3       0.01             0  \n",
       "4       0.01             0  "
      ]
     },
     "execution_count": 13,
     "metadata": {},
     "output_type": "execute_result"
    }
   ],
   "source": [
    "ebay_df = pd.read_csv(DATA / 'eBayAuctions.csv')\n",
    "ebay_df.head()"
   ]
  },
  {
   "cell_type": "code",
   "execution_count": 14,
   "metadata": {},
   "outputs": [],
   "source": [
    "# convert categorical variables into indicator and drop the first column of each of them\n",
    "ebay_df = pd.get_dummies(ebay_df, prefix_sep='_', drop_first=True)\n",
    "\n",
    "y = ebay_df['Competitive?']\n",
    "X = ebay_df.drop(columns=['Competitive?'])\n",
    "\n",
    "# partition data\n",
    "train_X, valid_X, train_y, valid_y = train_test_split(X, y, test_size=0.4, random_state=1)\n"
   ]
  },
  {
   "cell_type": "markdown",
   "metadata": {},
   "source": [
    "## Solution 13.2.a\n",
    "Run a classification tree, using the default settings of `DecisionTreeClassifier`.\n",
    "Looking at the validation set, what is the overall accuracy? What is the lift on the first decile?"
   ]
  },
  {
   "cell_type": "code",
   "execution_count": 15,
   "metadata": {},
   "outputs": [
    {
     "name": "stdout",
     "output_type": "stream",
     "text": [
      "Confusion Matrix (Accuracy 0.8758)\n",
      "\n",
      "       Prediction\n",
      "Actual   0   1\n",
      "     0 315  38\n",
      "     1  60 376\n"
     ]
    }
   ],
   "source": [
    "classTree = DecisionTreeClassifier(random_state=1)\n",
    "classTree.fit(train_X, train_y)\n",
    "classificationSummary(valid_y, classTree.predict(valid_X))"
   ]
  },
  {
   "cell_type": "code",
   "execution_count": 16,
   "metadata": {},
   "outputs": [
    {
     "data": {
      "image/png": "[encoded data removed]",
      "text/plain": [
       "<Figure size 432x288 with 1 Axes>"
      ]
     },
     "metadata": {
      "needs_background": "light"
     },
     "output_type": "display_data"
    }
   ],
   "source": [
    "# Create the information for the lift chart\n",
    "proba = classTree.predict_proba(valid_X)\n",
    "result = pd.DataFrame({'actual': valid_y, \n",
    "                       'p(0)': [p[0] for p in proba],\n",
    "                       'p(1)': [p[1] for p in proba],\n",
    "                       'predicted': classTree.predict(valid_X) })\n",
    "\n",
    "df = result.sort_values(by=['p(1)'], ascending=False)\n",
    "liftChart(df['p(1)'], title=False)\n",
    "plt.show()"
   ]
  },
  {
   "cell_type": "markdown",
   "metadata": {},
   "source": [
    "## Solution 13.2.b\n",
    "Run a boosted tree with the same predictors (use `AdaBoostClassifier` with `DecisionTreeClassifier` \n",
    "as the base estimator).\n",
    "For the validation set, what is the overall accuracy? What is the lift on the first decile?"
   ]
  },
  {
   "cell_type": "code",
   "execution_count": 17,
   "metadata": {
    "scrolled": true
   },
   "outputs": [
    {
     "name": "stdout",
     "output_type": "stream",
     "text": [
      "Confusion Matrix (Accuracy 0.8619)\n",
      "\n",
      "       Prediction\n",
      "Actual   0   1\n",
      "     0 312  41\n",
      "     1  68 368\n"
     ]
    }
   ],
   "source": [
    "boost = AdaBoostClassifier(n_estimators=100, base_estimator=classTree, random_state=1)\n",
    "boost.fit(train_X, train_y)\n",
    "\n",
    "classificationSummary(valid_y, boost.predict(valid_X))"
   ]
  },
  {
   "cell_type": "code",
   "execution_count": 18,
   "metadata": {},
   "outputs": [
    {
     "data": {
      "image/png": "[encoded data removed]",
      "text/plain": [
       "<Figure size 432x288 with 1 Axes>"
      ]
     },
     "metadata": {
      "needs_background": "light"
     },
     "output_type": "display_data"
    }
   ],
   "source": [
    "# Create the information for the lift chart\n",
    "proba = boost.predict_proba(valid_X)\n",
    "result = pd.DataFrame({'actual': valid_y, \n",
    "                       'p(0)': [p[0] for p in proba],\n",
    "                       'p(1)': [p[1] for p in proba],\n",
    "                       'predicted': boost.predict(valid_X) })\n",
    "\n",
    "df = result.sort_values(by=['p(1)'], ascending=False)\n",
    "liftChart(df['p(1)'], title=False)\n",
    "plt.show()"
   ]
  },
  {
   "cell_type": "markdown",
   "metadata": {},
   "source": [
    "## Solution 13.2.c\n",
    "Run a bagged tree with the same predictors (use `BaggingClassifier`).\n",
    "For the validation set, what is the overall accuracy? What is the lift on the first decile?"
   ]
  },
  {
   "cell_type": "code",
   "execution_count": 19,
   "metadata": {
    "scrolled": true
   },
   "outputs": [
    {
     "name": "stdout",
     "output_type": "stream",
     "text": [
      "Confusion Matrix (Accuracy 0.8074)\n",
      "\n",
      "       Prediction\n",
      "Actual   0   1\n",
      "     0 278  75\n",
      "     1  77 359\n"
     ]
    }
   ],
   "source": [
    "bagging = BaggingClassifier(classTree, max_samples=0.5, max_features=0.5, random_state=1)\n",
    "bagging.fit(train_X, train_y)\n",
    "\n",
    "classificationSummary(valid_y, bagging.predict(valid_X))"
   ]
  },
  {
   "cell_type": "code",
   "execution_count": 20,
   "metadata": {},
   "outputs": [
    {
     "data": {
      "image/png": "[encoded data removed]",
      "text/plain": [
       "<Figure size 432x288 with 1 Axes>"
      ]
     },
     "metadata": {
      "needs_background": "light"
     },
     "output_type": "display_data"
    }
   ],
   "source": [
    "# Create the information for the lift chart\n",
    "proba = bagging.predict_proba(valid_X)\n",
    "result = pd.DataFrame({'actual': valid_y, \n",
    "                       'p(0)': [p[0] for p in proba],\n",
    "                       'p(1)': [p[1] for p in proba],\n",
    "                       'predicted': bagging.predict(valid_X) })\n",
    "\n",
    "df = result.sort_values(by=['p(1)'], ascending=False)\n",
    "liftChart(df['p(1)'], title=False)\n",
    "plt.show()"
   ]
  },
  {
   "cell_type": "markdown",
   "metadata": {},
   "source": [
    "## Solution 13.2.d\n",
    "Run a random forest (use `RandomForestClassifier`). Compare the bagged tree to the random forest in terms of validation accuracy and lift on first decile. How are the two methods conceptually different?"
   ]
  },
  {
   "cell_type": "code",
   "execution_count": 21,
   "metadata": {},
   "outputs": [
    {
     "name": "stdout",
     "output_type": "stream",
     "text": [
      "Confusion Matrix (Accuracy 0.8644)\n",
      "\n",
      "       Prediction\n",
      "Actual   0   1\n",
      "     0 320  33\n",
      "     1  74 362\n"
     ]
    }
   ],
   "source": [
    "rfModel = RandomForestClassifier(random_state=1, n_estimators=100)\n",
    "rfModel.fit(train_X, train_y)\n",
    "\n",
    "classificationSummary(valid_y, rfModel.predict(valid_X))"
   ]
  },
  {
   "cell_type": "code",
   "execution_count": 22,
   "metadata": {},
   "outputs": [
    {
     "data": {
      "image/png": "[encoded data removed]",
      "text/plain": [
       "<Figure size 432x288 with 1 Axes>"
      ]
     },
     "metadata": {
      "needs_background": "light"
     },
     "output_type": "display_data"
    }
   ],
   "source": [
    "# Create the information for the lift chart\n",
    "proba = rfModel.predict_proba(valid_X)\n",
    "result = pd.DataFrame({'actual': valid_y, \n",
    "                       'p(0)': [p[0] for p in proba],\n",
    "                       'p(1)': [p[1] for p in proba],\n",
    "                       'predicted': rfModel.predict(valid_X) })\n",
    "\n",
    "df = result.sort_values(by=['p(1)'], ascending=False)\n",
    "liftChart(df['p(1)'], title=False)\n",
    "plt.show()"
   ]
  },
  {
   "cell_type": "markdown",
   "metadata": {},
   "source": [
    "# Problem 13.3 - Predicting Delayed Flights (Boosting)\n",
    "The file _FlightDelays.csv_ contains information on all commercial flights departing the Washington, DC area and arriving at New York during January 2004. For each flight there is information on the departure and arrival airports, the distance of the route, the scheduled time and date of the flight, and so on. The variable that we are trying to predict is whether or not a flight is delayed. A delay is defined as an arrival that is at least 15 minutes later than scheduled."
   ]
  },
  {
   "cell_type": "markdown",
   "metadata": {},
   "source": [
    "## Data Preprocessing\n",
    "Transform variable day of week info a categorical variable. \n",
    "Bin the scheduled departure time into eight bins (in Python use function `pd.cut()` from the _pandas_ package). Partition the data into training (60\\%) and validation (40\\%).\n",
    "\n",
    "Run a boosted classification tree for delay. With the exception of setting \\texttt{n\\_estimators=500} and \\texttt{random\\_state=1}, use default setting for the DecisionTreeClassifier and the AdaBoostClassifier. \n",
    "\n",
    "\\subprob Compared with the single tree, how does the boosted tree behave in terms of overall accuracy?\n",
    "\\subprob Compared with the single tree, how does the boosted tree behave in terms of accuracy in identifying delayed flights?\n",
    "\\subprob Explain why this model might have the best performance over the other models you fit.\n"
   ]
  },
  {
   "cell_type": "code",
   "execution_count": 23,
   "metadata": {
    "scrolled": false
   },
   "outputs": [
    {
     "data": {
      "text/html": [
       "<div>\n",
       "<style scoped>\n",
       "    .dataframe tbody tr th:only-of-type {\n",
       "        vertical-align: middle;\n",
       "    }\n",
       "\n",
       "    .dataframe tbody tr th {\n",
       "        vertical-align: top;\n",
       "    }\n",
       "\n",
       "    .dataframe thead th {\n",
       "        text-align: right;\n",
       "    }\n",
       "</style>\n",
       "<table border=\"1\" class=\"dataframe\">\n",
       "  <thead>\n",
       "    <tr style=\"text-align: right;\">\n",
       "      <th></th>\n",
       "      <th>DISTANCE</th>\n",
       "      <th>Weather</th>\n",
       "      <th>Flight Status</th>\n",
       "      <th>DAY_WEEK_2</th>\n",
       "      <th>DAY_WEEK_3</th>\n",
       "      <th>DAY_WEEK_4</th>\n",
       "      <th>DAY_WEEK_5</th>\n",
       "      <th>DAY_WEEK_6</th>\n",
       "      <th>DAY_WEEK_7</th>\n",
       "      <th>CRS_DEP_TIME_(791.25, 982.5]</th>\n",
       "      <th>...</th>\n",
       "      <th>DEST_LGA</th>\n",
       "      <th>ORIGIN_DCA</th>\n",
       "      <th>ORIGIN_IAD</th>\n",
       "      <th>CARRIER_DH</th>\n",
       "      <th>CARRIER_DL</th>\n",
       "      <th>CARRIER_MQ</th>\n",
       "      <th>CARRIER_OH</th>\n",
       "      <th>CARRIER_RU</th>\n",
       "      <th>CARRIER_UA</th>\n",
       "      <th>CARRIER_US</th>\n",
       "    </tr>\n",
       "  </thead>\n",
       "  <tbody>\n",
       "    <tr>\n",
       "      <th>0</th>\n",
       "      <td>184</td>\n",
       "      <td>0</td>\n",
       "      <td>ontime</td>\n",
       "      <td>0</td>\n",
       "      <td>0</td>\n",
       "      <td>1</td>\n",
       "      <td>0</td>\n",
       "      <td>0</td>\n",
       "      <td>0</td>\n",
       "      <td>0</td>\n",
       "      <td>...</td>\n",
       "      <td>0</td>\n",
       "      <td>0</td>\n",
       "      <td>0</td>\n",
       "      <td>0</td>\n",
       "      <td>0</td>\n",
       "      <td>0</td>\n",
       "      <td>1</td>\n",
       "      <td>0</td>\n",
       "      <td>0</td>\n",
       "      <td>0</td>\n",
       "    </tr>\n",
       "    <tr>\n",
       "      <th>1</th>\n",
       "      <td>213</td>\n",
       "      <td>0</td>\n",
       "      <td>ontime</td>\n",
       "      <td>0</td>\n",
       "      <td>0</td>\n",
       "      <td>1</td>\n",
       "      <td>0</td>\n",
       "      <td>0</td>\n",
       "      <td>0</td>\n",
       "      <td>0</td>\n",
       "      <td>...</td>\n",
       "      <td>0</td>\n",
       "      <td>1</td>\n",
       "      <td>0</td>\n",
       "      <td>1</td>\n",
       "      <td>0</td>\n",
       "      <td>0</td>\n",
       "      <td>0</td>\n",
       "      <td>0</td>\n",
       "      <td>0</td>\n",
       "      <td>0</td>\n",
       "    </tr>\n",
       "    <tr>\n",
       "      <th>2</th>\n",
       "      <td>229</td>\n",
       "      <td>0</td>\n",
       "      <td>ontime</td>\n",
       "      <td>0</td>\n",
       "      <td>0</td>\n",
       "      <td>1</td>\n",
       "      <td>0</td>\n",
       "      <td>0</td>\n",
       "      <td>0</td>\n",
       "      <td>0</td>\n",
       "      <td>...</td>\n",
       "      <td>1</td>\n",
       "      <td>0</td>\n",
       "      <td>1</td>\n",
       "      <td>1</td>\n",
       "      <td>0</td>\n",
       "      <td>0</td>\n",
       "      <td>0</td>\n",
       "      <td>0</td>\n",
       "      <td>0</td>\n",
       "      <td>0</td>\n",
       "    </tr>\n",
       "    <tr>\n",
       "      <th>3</th>\n",
       "      <td>229</td>\n",
       "      <td>0</td>\n",
       "      <td>ontime</td>\n",
       "      <td>0</td>\n",
       "      <td>0</td>\n",
       "      <td>1</td>\n",
       "      <td>0</td>\n",
       "      <td>0</td>\n",
       "      <td>0</td>\n",
       "      <td>0</td>\n",
       "      <td>...</td>\n",
       "      <td>1</td>\n",
       "      <td>0</td>\n",
       "      <td>1</td>\n",
       "      <td>1</td>\n",
       "      <td>0</td>\n",
       "      <td>0</td>\n",
       "      <td>0</td>\n",
       "      <td>0</td>\n",
       "      <td>0</td>\n",
       "      <td>0</td>\n",
       "    </tr>\n",
       "    <tr>\n",
       "      <th>4</th>\n",
       "      <td>229</td>\n",
       "      <td>0</td>\n",
       "      <td>ontime</td>\n",
       "      <td>0</td>\n",
       "      <td>0</td>\n",
       "      <td>1</td>\n",
       "      <td>0</td>\n",
       "      <td>0</td>\n",
       "      <td>0</td>\n",
       "      <td>0</td>\n",
       "      <td>...</td>\n",
       "      <td>1</td>\n",
       "      <td>0</td>\n",
       "      <td>1</td>\n",
       "      <td>1</td>\n",
       "      <td>0</td>\n",
       "      <td>0</td>\n",
       "      <td>0</td>\n",
       "      <td>0</td>\n",
       "      <td>0</td>\n",
       "      <td>0</td>\n",
       "    </tr>\n",
       "  </tbody>\n",
       "</table>\n",
       "<p>5 rows × 27 columns</p>\n",
       "</div>"
      ],
      "text/plain": [
       "   DISTANCE  Weather Flight Status  DAY_WEEK_2  DAY_WEEK_3  DAY_WEEK_4  \\\n",
       "0       184        0        ontime           0           0           1   \n",
       "1       213        0        ontime           0           0           1   \n",
       "2       229        0        ontime           0           0           1   \n",
       "3       229        0        ontime           0           0           1   \n",
       "4       229        0        ontime           0           0           1   \n",
       "\n",
       "   DAY_WEEK_5  DAY_WEEK_6  DAY_WEEK_7  CRS_DEP_TIME_(791.25, 982.5]  ...  \\\n",
       "0           0           0           0                             0  ...   \n",
       "1           0           0           0                             0  ...   \n",
       "2           0           0           0                             0  ...   \n",
       "3           0           0           0                             0  ...   \n",
       "4           0           0           0                             0  ...   \n",
       "\n",
       "   DEST_LGA  ORIGIN_DCA  ORIGIN_IAD  CARRIER_DH  CARRIER_DL  CARRIER_MQ  \\\n",
       "0         0           0           0           0           0           0   \n",
       "1         0           1           0           1           0           0   \n",
       "2         1           0           1           1           0           0   \n",
       "3         1           0           1           1           0           0   \n",
       "4         1           0           1           1           0           0   \n",
       "\n",
       "   CARRIER_OH  CARRIER_RU  CARRIER_UA  CARRIER_US  \n",
       "0           1           0           0           0  \n",
       "1           0           0           0           0  \n",
       "2           0           0           0           0  \n",
       "3           0           0           0           0  \n",
       "4           0           0           0           0  \n",
       "\n",
       "[5 rows x 27 columns]"
      ]
     },
     "execution_count": 23,
     "metadata": {},
     "output_type": "execute_result"
    }
   ],
   "source": [
    "data = pd.read_csv(DATA / 'FlightDelays.csv')\n",
    "data = data.drop(columns=['FL_DATE', 'FL_NUM', 'TAIL_NUM', 'DEP_TIME', 'DAY_OF_MONTH'])\n",
    "\n",
    "# transform variables and create bins\n",
    "data.DAY_WEEK = data.DAY_WEEK.astype('category')\n",
    "data.CRS_DEP_TIME = pd.cut(data.CRS_DEP_TIME, bins=8)\n",
    "data.DEST = data.DEST.astype('category')\n",
    "data.ORIGIN = data.ORIGIN.astype('category')\n",
    "\n",
    "data = pd.get_dummies(data, drop_first=True, columns=['DAY_WEEK', 'CRS_DEP_TIME', 'DEST', 'ORIGIN', 'CARRIER'])\n",
    "data.head()"
   ]
  },
  {
   "cell_type": "markdown",
   "metadata": {},
   "source": [
    "Partition the data into training (60\\%) and validation (40\\%)."
   ]
  },
  {
   "cell_type": "code",
   "execution_count": 24,
   "metadata": {},
   "outputs": [],
   "source": [
    "y = data['Flight Status']\n",
    "X = data.drop(columns=['Flight Status'])\n",
    "\n",
    "# partition data\n",
    "train_X, valid_X, train_y, valid_y = train_test_split(X, y, test_size=0.4, random_state=1)"
   ]
  },
  {
   "cell_type": "markdown",
   "metadata": {},
   "source": [
    "Run a boosted classification tree for delay. With the exception of setting `n_estimators=500` and `random_state=1`, use default setting for the DecisionTreeClassifier and the AdaBoostClassifier. "
   ]
  },
  {
   "cell_type": "code",
   "execution_count": 25,
   "metadata": {},
   "outputs": [
    {
     "name": "stdout",
     "output_type": "stream",
     "text": [
      "Confusion Matrix (Accuracy 0.7310)\n",
      "\n",
      "        Prediction\n",
      " Actual delayed  ontime\n",
      "delayed      62     105\n",
      " ontime     132     582\n"
     ]
    }
   ],
   "source": [
    "defaultOptions = {'random_state': 1}\n",
    "\n",
    "defaultTree = DecisionTreeClassifier(**defaultOptions)\n",
    "defaultTree.fit(train_X, train_y)\n",
    "classificationSummary(valid_y, defaultTree.predict(valid_X), class_names=['delayed', 'ontime'])"
   ]
  },
  {
   "cell_type": "code",
   "execution_count": 26,
   "metadata": {},
   "outputs": [
    {
     "name": "stdout",
     "output_type": "stream",
     "text": [
      "Confusion Matrix (Accuracy 0.7401)\n",
      "\n",
      "        Prediction\n",
      " Actual delayed  ontime\n",
      "delayed      37     130\n",
      " ontime      99     615\n"
     ]
    }
   ],
   "source": [
    "boost = AdaBoostClassifier(DecisionTreeClassifier(**defaultOptions), random_state=1, n_estimators=500)\n",
    "\n",
    "boost.fit(train_X, train_y)\n",
    "classificationSummary(valid_y, boost.predict(valid_X), class_names=['delayed', 'ontime'])"
   ]
  },
  {
   "cell_type": "markdown",
   "metadata": {},
   "source": [
    "## Solution 13.3.a\n",
    "Compared with the single tree, how does the boosted tree behave in terms of overall accuracy?"
   ]
  },
  {
   "cell_type": "markdown",
   "metadata": {},
   "source": [
    "The accuracy of the single tree is 0.73 and it is slightly higher (0.74) for the boosted tree."
   ]
  },
  {
   "cell_type": "markdown",
   "metadata": {},
   "source": [
    "## Solution 13.3.b\n",
    "Compared with the single tree, how does the boosted tree behave in terms of accuracy in identifying delayed flights?"
   ]
  },
  {
   "cell_type": "code",
   "execution_count": 27,
   "metadata": {},
   "outputs": [
    {
     "name": "stdout",
     "output_type": "stream",
     "text": [
      "single tree:  0.3712574850299401\n",
      "boosted tree:  0.2215568862275449\n"
     ]
    }
   ],
   "source": [
    "print('single tree: ', 62 / (62 + 105))\n",
    "print('boosted tree: ', 37 / (37 + 130))"
   ]
  },
  {
   "cell_type": "markdown",
   "metadata": {},
   "source": [
    "The single tree predicts 37% of the delayed flights correct. The boosted tree only 22%."
   ]
  },
  {
   "cell_type": "markdown",
   "metadata": {},
   "source": [
    "## Solution 13.3.c\n",
    "Explain why this model might have the best performance over the other models you fit."
   ]
  },
  {
   "cell_type": "markdown",
   "metadata": {},
   "source": [
    "Boosting is an iterative procedure that develops successive trees with \n",
    "different weights applied to the records in each iteration.  It often yields\n",
    "superior performance over single trees or bagged trees by concentrating \n",
    "(via the weights) on the records which were misclassified in earlier \n",
    "iterations. \n",
    "\n",
    "In our case, the overall accuracy of the single tree is practically identical to the boosted tree, however the accuracy in identifying delayed flights is higher."
   ]
  },
  {
   "cell_type": "markdown",
   "metadata": {},
   "source": [
    "## Additional material 13.3\n",
    "In the above solution, we didn't control the complexity of the model. We can use the arguments `max_depth` and `min_samples_split` to limit the size of the trees. "
   ]
  },
  {
   "cell_type": "code",
   "execution_count": 28,
   "metadata": {},
   "outputs": [
    {
     "name": "stdout",
     "output_type": "stream",
     "text": [
      "Confusion Matrix (Accuracy 0.8229)\n",
      "\n",
      "        Prediction\n",
      " Actual delayed  ontime\n",
      "delayed      33     134\n",
      " ontime      22     692\n",
      "Confusion Matrix (Accuracy 0.7514)\n",
      "\n",
      "        Prediction\n",
      " Actual delayed  ontime\n",
      "delayed      39     128\n",
      " ontime      91     623\n"
     ]
    }
   ],
   "source": [
    "defaultOptions = {'random_state': 1, 'max_depth': 6, 'min_samples_split': 3, }\n",
    "\n",
    "defaultTree = DecisionTreeClassifier(**defaultOptions)\n",
    "defaultTree.fit(train_X, train_y)\n",
    "classificationSummary(valid_y, defaultTree.predict(valid_X), class_names=['delayed', 'ontime'])\n",
    "\n",
    "boost = AdaBoostClassifier(DecisionTreeClassifier(**defaultOptions), random_state=1, n_estimators=500)\n",
    "boost.fit(train_X, train_y)\n",
    "classificationSummary(valid_y, boost.predict(valid_X), class_names=['delayed', 'ontime'])"
   ]
  },
  {
   "cell_type": "code",
   "execution_count": 29,
   "metadata": {},
   "outputs": [
    {
     "name": "stdout",
     "output_type": "stream",
     "text": [
      "single tree:  0.19760479041916168\n",
      "boosted tree:  0.23353293413173654\n"
     ]
    }
   ],
   "source": [
    "print('single tree: ', 33 / (33 + 134))\n",
    "print('boosted tree: ', 39 / (39 + 128))"
   ]
  },
  {
   "cell_type": "markdown",
   "metadata": {},
   "source": [
    "The overall accuracy of the single tree is now 0.83 while it is practically unchanged for the boosted trees (0.75). The accuracy for predicting delayed flights on the other hand drops significantly for the single tree (20%), while it improves slightly for the boosted tree (23%)."
   ]
  },
  {
   "cell_type": "markdown",
   "metadata": {},
   "source": [
    "# Problem 13.4 - Hair Care Product - Uplift Modeling\n",
    "This problem uses the data set in _Hair-Care-Product.csv_, courtesy of SAS. In this hypothetical case, a promotion for a hair care product was sent to some members of a buyers club.  Purchases were then recorded for both the members who got the promotion and those who did not."
   ]
  },
  {
   "cell_type": "code",
   "execution_count": 30,
   "metadata": {},
   "outputs": [
    {
     "data": {
      "text/html": [
       "<div>\n",
       "<style scoped>\n",
       "    .dataframe tbody tr th:only-of-type {\n",
       "        vertical-align: middle;\n",
       "    }\n",
       "\n",
       "    .dataframe tbody tr th {\n",
       "        vertical-align: top;\n",
       "    }\n",
       "\n",
       "    .dataframe thead th {\n",
       "        text-align: right;\n",
       "    }\n",
       "</style>\n",
       "<table border=\"1\" class=\"dataframe\">\n",
       "  <thead>\n",
       "    <tr style=\"text-align: right;\">\n",
       "      <th></th>\n",
       "      <th>Purchase</th>\n",
       "      <th>Age</th>\n",
       "      <th>Hair_Color</th>\n",
       "      <th>U_S_Region</th>\n",
       "      <th>Validation</th>\n",
       "      <th>Promotion_ord</th>\n",
       "      <th>Gender_ord</th>\n",
       "      <th>Residence_ord</th>\n",
       "    </tr>\n",
       "  </thead>\n",
       "  <tbody>\n",
       "    <tr>\n",
       "      <th>0</th>\n",
       "      <td>0</td>\n",
       "      <td>25</td>\n",
       "      <td>Black</td>\n",
       "      <td>Southwest</td>\n",
       "      <td>1</td>\n",
       "      <td>1</td>\n",
       "      <td>0</td>\n",
       "      <td>1</td>\n",
       "    </tr>\n",
       "    <tr>\n",
       "      <th>1</th>\n",
       "      <td>0</td>\n",
       "      <td>30</td>\n",
       "      <td>Black</td>\n",
       "      <td>Northwest</td>\n",
       "      <td>1</td>\n",
       "      <td>0</td>\n",
       "      <td>0</td>\n",
       "      <td>1</td>\n",
       "    </tr>\n",
       "    <tr>\n",
       "      <th>2</th>\n",
       "      <td>0</td>\n",
       "      <td>45</td>\n",
       "      <td>Red</td>\n",
       "      <td>Northeast</td>\n",
       "      <td>1</td>\n",
       "      <td>0</td>\n",
       "      <td>0</td>\n",
       "      <td>0</td>\n",
       "    </tr>\n",
       "    <tr>\n",
       "      <th>3</th>\n",
       "      <td>0</td>\n",
       "      <td>35</td>\n",
       "      <td>Blond</td>\n",
       "      <td>Southwest</td>\n",
       "      <td>0</td>\n",
       "      <td>0</td>\n",
       "      <td>0</td>\n",
       "      <td>1</td>\n",
       "    </tr>\n",
       "    <tr>\n",
       "      <th>4</th>\n",
       "      <td>0</td>\n",
       "      <td>33</td>\n",
       "      <td>Brown</td>\n",
       "      <td>Southwest</td>\n",
       "      <td>0</td>\n",
       "      <td>1</td>\n",
       "      <td>0</td>\n",
       "      <td>1</td>\n",
       "    </tr>\n",
       "  </tbody>\n",
       "</table>\n",
       "</div>"
      ],
      "text/plain": [
       "   Purchase  Age Hair_Color U_S_Region  Validation  Promotion_ord  Gender_ord  \\\n",
       "0         0   25      Black  Southwest           1              1           0   \n",
       "1         0   30      Black  Northwest           1              0           0   \n",
       "2         0   45        Red  Northeast           1              0           0   \n",
       "3         0   35      Blond  Southwest           0              0           0   \n",
       "4         0   33      Brown  Southwest           0              1           0   \n",
       "\n",
       "   Residence_ord  \n",
       "0              1  \n",
       "1              1  \n",
       "2              0  \n",
       "3              1  \n",
       "4              1  "
      ]
     },
     "execution_count": 30,
     "metadata": {},
     "output_type": "execute_result"
    }
   ],
   "source": [
    "data = pd.read_csv(DATA / 'Hair-Care-Product.csv')\n",
    "data.columns = [d.replace('.', '_').replace(' ', '_').replace('__', '_') for d in data.columns]\n",
    "data.head()"
   ]
  },
  {
   "cell_type": "markdown",
   "metadata": {},
   "source": [
    "## Solution 13.4.a \n",
    "What is the purchase propensity \n",
    "### 13.4.a.i\n",
    "among those who received the promotion? \n",
    "> The purchase propensity among those who received the promotion\n",
    "= (Number of purchases made) / (Total Number of Records)\n",
    "\n",
    "The `Promotion_ord` column has a 1 for members that received a promotion. The `Purchase` column has a 1 for members that purchased a product after the promotion. By multiplying the two columns we therefore get a 1 for all members that received a promotion and made a purchase and a 0 otherwise. "
   ]
  },
  {
   "cell_type": "code",
   "execution_count": 31,
   "metadata": {},
   "outputs": [
    {
     "name": "stdout",
     "output_type": "stream",
     "text": [
      "Number of purchases made 80\n",
      "Total Number of Records 4976\n",
      "80 / 4976 =  0.01607717041800643\n"
     ]
    }
   ],
   "source": [
    "# Number of purchases made for members that got a promotion\n",
    "print(\"Number of purchases made\", sum(data['Purchase'] * data['Promotion_ord']))\n",
    "\n",
    "# Number of members that got a promotion\n",
    "print(\"Total Number of Records\", sum(data['Promotion_ord']))\n",
    "\n",
    "# Purchase propensity\n",
    "print(\"80 / 4976 = \", sum(data['Purchase'] * data['Promotion_ord']) / sum(data['Promotion_ord']))"
   ]
  },
  {
   "cell_type": "markdown",
   "metadata": {},
   "source": [
    "### 13.4.a.ii\n",
    "among those who did not receive the promotion?"
   ]
  },
  {
   "cell_type": "code",
   "execution_count": 32,
   "metadata": {},
   "outputs": [
    {
     "name": "stdout",
     "output_type": "stream",
     "text": [
      "Number of purchases made 32\n",
      "Total Number of Records 5024\n",
      "32 / 5024 =  0.006369426751592357\n"
     ]
    }
   ],
   "source": [
    "# Number of purchases made for members that got a promotion\n",
    "print(\"Number of purchases made\", sum(data['Purchase'] * (1 - data['Promotion_ord'])))\n",
    "\n",
    "# Number of members that got a promotion\n",
    "print(\"Total Number of Records\", sum(1 - data['Promotion_ord']))\n",
    "\n",
    "# Purchase propensity\n",
    "print(\"32 / 5024 = \", sum(data['Purchase'] * (1 - data['Promotion_ord'])) / sum(1 - data['Promotion_ord']))"
   ]
  },
  {
   "cell_type": "markdown",
   "metadata": {},
   "source": [
    "## Solution 13.4.b\n",
    "Partition the data into training (60\\%) and validation (40\\%)"
   ]
  },
  {
   "cell_type": "code",
   "execution_count": 33,
   "metadata": {},
   "outputs": [
    {
     "data": {
      "text/html": [
       "<div>\n",
       "<style scoped>\n",
       "    .dataframe tbody tr th:only-of-type {\n",
       "        vertical-align: middle;\n",
       "    }\n",
       "\n",
       "    .dataframe tbody tr th {\n",
       "        vertical-align: top;\n",
       "    }\n",
       "\n",
       "    .dataframe thead th {\n",
       "        text-align: right;\n",
       "    }\n",
       "</style>\n",
       "<table border=\"1\" class=\"dataframe\">\n",
       "  <thead>\n",
       "    <tr style=\"text-align: right;\">\n",
       "      <th></th>\n",
       "      <th>Purchase</th>\n",
       "      <th>Age</th>\n",
       "      <th>Validation</th>\n",
       "      <th>Promotion_ord</th>\n",
       "      <th>Gender_ord</th>\n",
       "      <th>Residence_ord</th>\n",
       "      <th>Hair_Color_Blond</th>\n",
       "      <th>Hair_Color_Brown</th>\n",
       "      <th>Hair_Color_Red</th>\n",
       "      <th>U_S_Region_Northwest</th>\n",
       "      <th>U_S_Region_Southeast</th>\n",
       "      <th>U_S_Region_Southwest</th>\n",
       "    </tr>\n",
       "  </thead>\n",
       "  <tbody>\n",
       "    <tr>\n",
       "      <th>0</th>\n",
       "      <td>0</td>\n",
       "      <td>25</td>\n",
       "      <td>1</td>\n",
       "      <td>1</td>\n",
       "      <td>0</td>\n",
       "      <td>1</td>\n",
       "      <td>0</td>\n",
       "      <td>0</td>\n",
       "      <td>0</td>\n",
       "      <td>0</td>\n",
       "      <td>0</td>\n",
       "      <td>1</td>\n",
       "    </tr>\n",
       "    <tr>\n",
       "      <th>1</th>\n",
       "      <td>0</td>\n",
       "      <td>30</td>\n",
       "      <td>1</td>\n",
       "      <td>0</td>\n",
       "      <td>0</td>\n",
       "      <td>1</td>\n",
       "      <td>0</td>\n",
       "      <td>0</td>\n",
       "      <td>0</td>\n",
       "      <td>1</td>\n",
       "      <td>0</td>\n",
       "      <td>0</td>\n",
       "    </tr>\n",
       "    <tr>\n",
       "      <th>2</th>\n",
       "      <td>0</td>\n",
       "      <td>45</td>\n",
       "      <td>1</td>\n",
       "      <td>0</td>\n",
       "      <td>0</td>\n",
       "      <td>0</td>\n",
       "      <td>0</td>\n",
       "      <td>0</td>\n",
       "      <td>1</td>\n",
       "      <td>0</td>\n",
       "      <td>0</td>\n",
       "      <td>0</td>\n",
       "    </tr>\n",
       "    <tr>\n",
       "      <th>3</th>\n",
       "      <td>0</td>\n",
       "      <td>35</td>\n",
       "      <td>0</td>\n",
       "      <td>0</td>\n",
       "      <td>0</td>\n",
       "      <td>1</td>\n",
       "      <td>1</td>\n",
       "      <td>0</td>\n",
       "      <td>0</td>\n",
       "      <td>0</td>\n",
       "      <td>0</td>\n",
       "      <td>1</td>\n",
       "    </tr>\n",
       "    <tr>\n",
       "      <th>4</th>\n",
       "      <td>0</td>\n",
       "      <td>33</td>\n",
       "      <td>0</td>\n",
       "      <td>1</td>\n",
       "      <td>0</td>\n",
       "      <td>1</td>\n",
       "      <td>0</td>\n",
       "      <td>1</td>\n",
       "      <td>0</td>\n",
       "      <td>0</td>\n",
       "      <td>0</td>\n",
       "      <td>1</td>\n",
       "    </tr>\n",
       "  </tbody>\n",
       "</table>\n",
       "</div>"
      ],
      "text/plain": [
       "   Purchase  Age  Validation  Promotion_ord  Gender_ord  Residence_ord  \\\n",
       "0         0   25           1              1           0              1   \n",
       "1         0   30           1              0           0              1   \n",
       "2         0   45           1              0           0              0   \n",
       "3         0   35           0              0           0              1   \n",
       "4         0   33           0              1           0              1   \n",
       "\n",
       "   Hair_Color_Blond  Hair_Color_Brown  Hair_Color_Red  U_S_Region_Northwest  \\\n",
       "0                 0                 0               0                     0   \n",
       "1                 0                 0               0                     1   \n",
       "2                 0                 0               1                     0   \n",
       "3                 1                 0               0                     0   \n",
       "4                 0                 1               0                     0   \n",
       "\n",
       "   U_S_Region_Southeast  U_S_Region_Southwest  \n",
       "0                     0                     1  \n",
       "1                     0                     0  \n",
       "2                     0                     0  \n",
       "3                     0                     1  \n",
       "4                     0                     1  "
      ]
     },
     "execution_count": 33,
     "metadata": {},
     "output_type": "execute_result"
    }
   ],
   "source": [
    "data.Hair_Color = data.Hair_Color.astype('category')\n",
    "data.U_S_Region = data.U_S_Region.astype('category')\n",
    "data = pd.get_dummies(data, drop_first=True)\n",
    "data.head()\n",
    "# KNeighborsClassifier(n_neighbors=row.k).fit(trainNorm[['zIncome', 'zLot_Size']], trainNorm['Ownership'])"
   ]
  },
  {
   "cell_type": "code",
   "execution_count": 34,
   "metadata": {
    "scrolled": true
   },
   "outputs": [],
   "source": [
    "y = data['Purchase']\n",
    "X = data.drop(columns=['Purchase'])\n",
    "\n",
    "# Standardize the dataset\n",
    "scaler = preprocessing.StandardScaler()\n",
    "X_norm = scaler.fit_transform(X * 1.0)\n",
    "\n",
    "data_norm = pd.concat([pd.DataFrame(X_norm, columns=data.columns[1:]),\n",
    "                       data['Purchase']], axis=1)\n",
    "train, valid = train_test_split(data_norm, test_size=0.4, random_state=1)"
   ]
  },
  {
   "cell_type": "markdown",
   "metadata": {},
   "source": [
    "### Solution 13.4.b.i\n",
    "Uplift using a Random Forest."
   ]
  },
  {
   "cell_type": "code",
   "execution_count": 35,
   "metadata": {},
   "outputs": [
    {
     "name": "stdout",
     "output_type": "stream",
     "text": [
      "Confusion Matrix (Accuracy 0.9840)\n",
      "\n",
      "       Prediction\n",
      "Actual    0    1\n",
      "     0 3936   12\n",
      "     1   52    0\n"
     ]
    }
   ],
   "source": [
    "rfModel = RandomForestClassifier(n_estimators=100)\n",
    "rfModel.fit(train.drop(columns=['Purchase']), train.Purchase)\n",
    "\n",
    "pred = rfModel.predict(valid.drop(columns=['Purchase']))\n",
    "classificationSummary(valid.Purchase, pred)"
   ]
  },
  {
   "cell_type": "code",
   "execution_count": 36,
   "metadata": {
    "scrolled": true
   },
   "outputs": [
    {
     "data": {
      "image/png": "[encoded data removed]",
      "text/plain": [
       "<Figure size 432x288 with 1 Axes>"
      ]
     },
     "metadata": {
      "needs_background": "light"
     },
     "output_type": "display_data"
    }
   ],
   "source": [
    "uplift_df = valid.drop(columns=['Purchase']).copy()  # Need to create a copy to allow modifying data\n",
    "\n",
    "uplift_df.Promotion_ord = 1\n",
    "predTreatment = rfModel.predict_proba(uplift_df)\n",
    "uplift_df.Promotion_ord = 0\n",
    "predControl = rfModel.predict_proba(uplift_df)\n",
    "\n",
    "upliftResult_rf = pd.DataFrame({\n",
    "    'probMessage': predTreatment[:,1],\n",
    "    'probNoMessage': predControl[:,1],\n",
    "    'uplift': predTreatment[:,1] - predControl[:,1],\n",
    "    }, index=uplift_df.index)\n",
    "upliftResult_rf = upliftResult_rf.sort_values(by=['uplift'], ascending=False)\n",
    "upliftResult_rf.reset_index().plot(x=None, y='uplift')\n",
    "plt.show()"
   ]
  },
  {
   "cell_type": "markdown",
   "metadata": {},
   "source": [
    "### Solution 13.4.b.ii\n",
    "Uplift using $k$-NN."
   ]
  },
  {
   "cell_type": "code",
   "execution_count": 37,
   "metadata": {},
   "outputs": [
    {
     "name": "stdout",
     "output_type": "stream",
     "text": [
      "Confusion Matrix (Accuracy 0.9870)\n",
      "\n",
      "       Prediction\n",
      "Actual    0    1\n",
      "     0 3948    0\n",
      "     1   52    0\n"
     ]
    }
   ],
   "source": [
    "knnModel = KNeighborsClassifier(n_neighbors=11)\n",
    "knnModel.fit(train.drop(columns=['Purchase']), train.Purchase)\n",
    "\n",
    "pred = knnModel.predict(valid.drop(columns=['Purchase']))\n",
    "classificationSummary(valid.Purchase, pred)"
   ]
  },
  {
   "cell_type": "code",
   "execution_count": 38,
   "metadata": {
    "scrolled": true
   },
   "outputs": [
    {
     "data": {
      "image/png": "[encoded data removed]",
      "text/plain": [
       "<Figure size 432x288 with 1 Axes>"
      ]
     },
     "metadata": {
      "needs_background": "light"
     },
     "output_type": "display_data"
    }
   ],
   "source": [
    "uplift_df = valid.drop(columns=['Purchase']).copy()  # Need to create a copy to allow modifying data\n",
    "\n",
    "uplift_df.Promotion_ord = 1\n",
    "predTreatment = knnModel.predict_proba(uplift_df)\n",
    "uplift_df.Promotion_ord = 0\n",
    "predControl = knnModel.predict_proba(uplift_df)\n",
    "\n",
    "upliftResult_knn = pd.DataFrame({\n",
    "    'probMessage': predTreatment[:,1],\n",
    "    'probNoMessage': predControl[:,1],\n",
    "    'uplift': predTreatment[:,1] - predControl[:,1],\n",
    "    }, index=uplift_df.index)\n",
    "upliftResult_knn = upliftResult_knn.sort_values(by=['uplift'], ascending=False)\n",
    "upliftResult_knn.reset_index().plot(x=None, y='uplift')\n",
    "plt.show()"
   ]
  },
  {
   "cell_type": "markdown",
   "metadata": {},
   "source": [
    "## Solution 13.4.c\n",
    "Report the two models' recommendations for the first three members."
   ]
  },
  {
   "cell_type": "code",
   "execution_count": 39,
   "metadata": {},
   "outputs": [
    {
     "data": {
      "text/html": [
       "<div>\n",
       "<style scoped>\n",
       "    .dataframe tbody tr th:only-of-type {\n",
       "        vertical-align: middle;\n",
       "    }\n",
       "\n",
       "    .dataframe tbody tr th {\n",
       "        vertical-align: top;\n",
       "    }\n",
       "\n",
       "    .dataframe thead th {\n",
       "        text-align: right;\n",
       "    }\n",
       "</style>\n",
       "<table border=\"1\" class=\"dataframe\">\n",
       "  <thead>\n",
       "    <tr style=\"text-align: right;\">\n",
       "      <th></th>\n",
       "      <th>probMessage</th>\n",
       "      <th>probNoMessage</th>\n",
       "      <th>uplift</th>\n",
       "    </tr>\n",
       "  </thead>\n",
       "  <tbody>\n",
       "    <tr>\n",
       "      <th>6751</th>\n",
       "      <td>0.723333</td>\n",
       "      <td>0.01</td>\n",
       "      <td>0.713333</td>\n",
       "    </tr>\n",
       "    <tr>\n",
       "      <th>201</th>\n",
       "      <td>0.723333</td>\n",
       "      <td>0.01</td>\n",
       "      <td>0.713333</td>\n",
       "    </tr>\n",
       "    <tr>\n",
       "      <th>3380</th>\n",
       "      <td>0.730000</td>\n",
       "      <td>0.04</td>\n",
       "      <td>0.690000</td>\n",
       "    </tr>\n",
       "  </tbody>\n",
       "</table>\n",
       "</div>"
      ],
      "text/plain": [
       "      probMessage  probNoMessage    uplift\n",
       "6751     0.723333           0.01  0.713333\n",
       "201      0.723333           0.01  0.713333\n",
       "3380     0.730000           0.04  0.690000"
      ]
     },
     "execution_count": 39,
     "metadata": {},
     "output_type": "execute_result"
    }
   ],
   "source": [
    "upliftResult_rf.head(3)"
   ]
  },
  {
   "cell_type": "code",
   "execution_count": 40,
   "metadata": {},
   "outputs": [
    {
     "data": {
      "text/html": [
       "<div>\n",
       "<style scoped>\n",
       "    .dataframe tbody tr th:only-of-type {\n",
       "        vertical-align: middle;\n",
       "    }\n",
       "\n",
       "    .dataframe tbody tr th {\n",
       "        vertical-align: top;\n",
       "    }\n",
       "\n",
       "    .dataframe thead th {\n",
       "        text-align: right;\n",
       "    }\n",
       "</style>\n",
       "<table border=\"1\" class=\"dataframe\">\n",
       "  <thead>\n",
       "    <tr style=\"text-align: right;\">\n",
       "      <th></th>\n",
       "      <th>probMessage</th>\n",
       "      <th>probNoMessage</th>\n",
       "      <th>uplift</th>\n",
       "    </tr>\n",
       "  </thead>\n",
       "  <tbody>\n",
       "    <tr>\n",
       "      <th>7317</th>\n",
       "      <td>0.181818</td>\n",
       "      <td>0.0</td>\n",
       "      <td>0.181818</td>\n",
       "    </tr>\n",
       "    <tr>\n",
       "      <th>7451</th>\n",
       "      <td>0.181818</td>\n",
       "      <td>0.0</td>\n",
       "      <td>0.181818</td>\n",
       "    </tr>\n",
       "    <tr>\n",
       "      <th>9520</th>\n",
       "      <td>0.181818</td>\n",
       "      <td>0.0</td>\n",
       "      <td>0.181818</td>\n",
       "    </tr>\n",
       "  </tbody>\n",
       "</table>\n",
       "</div>"
      ],
      "text/plain": [
       "      probMessage  probNoMessage    uplift\n",
       "7317     0.181818            0.0  0.181818\n",
       "7451     0.181818            0.0  0.181818\n",
       "9520     0.181818            0.0  0.181818"
      ]
     },
     "execution_count": 40,
     "metadata": {},
     "output_type": "execute_result"
    }
   ],
   "source": [
    "upliftResult_knn.head(3)"
   ]
  },
  {
   "cell_type": "code",
   "execution_count": null,
   "metadata": {},
   "outputs": [],
   "source": []
  }
 ],
 "metadata": {
  "kernelspec": {
   "display_name": "Python 3",
   "language": "python",
   "name": "python3"
  },
  "language_info": {
   "codemirror_mode": {
    "name": "ipython",
    "version": 3
   },
   "file_extension": ".py",
   "mimetype": "text/x-python",
   "name": "python",
   "nbconvert_exporter": "python",
   "pygments_lexer": "ipython3",
   "version": "3.8.2"
  }
 },
 "nbformat": 4,
 "nbformat_minor": 2
}
