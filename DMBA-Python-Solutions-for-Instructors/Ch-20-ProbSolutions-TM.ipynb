{
 "cells": [
  {
   "cell_type": "markdown",
   "metadata": {},
   "source": [
    "# Chapter 20: Text Mining"
   ]
  },
  {
   "cell_type": "markdown",
   "metadata": {},
   "source": [
    "\n",
    "> (c) 2019-2020 Galit Shmueli, Peter C. Bruce, Peter Gedeck \n",
    ">\n",
    "> _Data Mining for Business Analytics: Concepts, Techniques, and Applications in Python_ (First Edition) \n",
    "> Galit Shmueli, Peter C. Bruce, Peter Gedeck, and Nitin R. Patel. 2019.\n",
    ">\n",
    "> Date: 2020-03-08\n",
    ">\n",
    "> Python Version: 3.8.2\n",
    "> Jupyter Notebook Version: 5.6.1\n",
    ">\n",
    "> Packages:\n",
    ">   - dmba: 0.0.12\n",
    ">   - matplotlib: 3.2.0\n",
    ">   - nltk: 3.4.4\n",
    ">   - numpy: 1.18.1\n",
    ">   - pandas: 1.0.1\n",
    ">   - scipy: 1.4.1\n",
    ">   - scikit-learn: 0.22.2\n",
    ">\n",
    "> The assistance from Mr. Kuber Deokar and Ms. Anuja Kulkarni in preparing these solutions is gratefully acknowledged.\n"
   ]
  },
  {
   "cell_type": "code",
   "execution_count": 1,
   "metadata": {},
   "outputs": [
    {
     "name": "stderr",
     "output_type": "stream",
     "text": [
      "/Users/gedeck/opt/anaconda3/envs/dmba-notebooks/lib/python3.8/site-packages/sklearn/utils/deprecation.py:144: FutureWarning: The sklearn.feature_extraction.stop_words module is  deprecated in version 0.22 and will be removed in version 0.24. The corresponding classes / functions should instead be imported from sklearn.feature_extraction.text. Anything that cannot be imported from sklearn.feature_extraction.text is now part of the private API.\n",
      "  warnings.warn(message, FutureWarning)\n"
     ]
    }
   ],
   "source": [
    "# import required packages for this chapter\n",
    "from pathlib import Path\n",
    "from zipfile import ZipFile\n",
    "import math\n",
    "\n",
    "import pandas as pd\n",
    "import numpy as np\n",
    "from sklearn.feature_extraction.text import CountVectorizer\n",
    "from sklearn.feature_extraction.text import TfidfTransformer\n",
    "from sklearn.feature_extraction.stop_words import ENGLISH_STOP_WORDS\n",
    "from sklearn.tree import DecisionTreeClassifier\n",
    "from sklearn.ensemble import RandomForestClassifier\n",
    "from sklearn.decomposition import TruncatedSVD\n",
    "from sklearn.preprocessing import Normalizer\n",
    "from sklearn.metrics import pairwise\n",
    "from sklearn.pipeline import make_pipeline\n",
    "from sklearn import linear_model\n",
    "from scipy.cluster.hierarchy import linkage, dendrogram, fcluster\n",
    "from sklearn.cluster import KMeans\n",
    "import nltk\n",
    "from nltk import word_tokenize\n",
    "from nltk.stem.snowball import EnglishStemmer \n",
    "\n",
    "import matplotlib.pylab as plt\n",
    "\n",
    "from dmba import classificationSummary\n",
    "\n",
    "%matplotlib inline\n",
    "# warning expected"
   ]
  },
  {
   "cell_type": "code",
   "execution_count": 2,
   "metadata": {},
   "outputs": [],
   "source": [
    "# Working directory:\n",
    "#\n",
    "# We assume that data are kept in the same directory as the notebook. If you keep your \n",
    "# data in a different folder, replace the argument of the `Path`\n",
    "DATA = Path('.')\n",
    "# and then load data using \n",
    "#\n",
    "# pd.read_csv(DATA / ‘filename.csv’)"
   ]
  },
  {
   "cell_type": "code",
   "execution_count": 3,
   "metadata": {},
   "outputs": [
    {
     "name": "stderr",
     "output_type": "stream",
     "text": [
      "[nltk_data] Downloading package punkt to /Users/gedeck/nltk_data...\n",
      "[nltk_data]   Package punkt is already up-to-date!\n"
     ]
    },
    {
     "data": {
      "text/plain": [
       "True"
      ]
     },
     "execution_count": 3,
     "metadata": {},
     "output_type": "execute_result"
    }
   ],
   "source": [
    "# warning expected\n",
    "# Download required files for nltk\n",
    "nltk.download('punkt')"
   ]
  },
  {
   "cell_type": "markdown",
   "metadata": {},
   "source": [
    "# Problem 20.1: Tokenization\n",
    "Consider the following text version of a post to an online learning forum in a statistics course: \n",
    "\n",
    "```\n",
    "Thanks John!<br /><br /><font size=\"3\">\n",
    "&quot;Illustrations and demos will be \n",
    "provided for students to work through on \n",
    "their own&quot;</font>. \n",
    "Do we need that to finish project? If yes, \n",
    "where to find the illustration and demos? \n",
    "Thanks for your help.\\<img title=\"smile\" \n",
    "alt=\"smile\" src=\"\\url{http://lms.statistics.\n",
    "com/pix/smartpix.php/statistics_com_1/s/smil\n",
    "ey.gif}\" \\><br /> <br />\n",
    "```\n",
    "\n",
    "## Solution 20.1.a\n",
    "Identify 10 non-word tokens in the passage.\n",
    "\n",
    "Punctuation, such as:  !, ;, comma.  Also components of the html code like <, >, \\, img, \n",
    "alt, title, src, font.  Also the url and the &quot.\n",
    "\n",
    "\n",
    "## Solution 20.1.b\n",
    "Suppose this passage constitutes a document to be classified, but you are not certain of the business goal of the classification task.  Identify material (at least 20\\% of the terms) that, in your judgment, could be discarded fairly safely without knowing that goal.\n",
    "\n",
    "Everything in the top row and the bottom three rows could be discarded.\n",
    "\n",
    "## Solution 20.1.c\n",
    "Suppose the classification task is to predict whether this post requires the attention of the instructor, or whether a teaching assistant might suffice.  Identify the 20\\% of the terms that you think might be most helpful in that task.\n",
    "\n",
    "The phrases \"do we need to finish project\" and \"where to find illustrations and demos\".\n",
    "\n",
    "## Solution 20.1.d\n",
    "What aspect of the passage is most problematic from the standpoint of simply using a bag-of-words approach, as opposed to an approach in which meaning is extracted?\n",
    "\n",
    "It is probably the fact that, in this post, there are two voices - that of the\n",
    "inquirer and that of the responder.  A bag of words jumbles this all together, \n",
    "and any meaning associated with there being two voices is lost."
   ]
  },
  {
   "cell_type": "markdown",
   "metadata": {},
   "source": [
    "# Problem 20.2: Classifying Internet Discussion Posts\n",
    "In this problem, you will use the data and scenario described in this chapter's example, in which the task is to develop a model to classify documents as either auto-related or electronics-related. \n",
    "\n",
    "## Solution 20.2.a\n",
    "Load the zipped file into Python and create a label vector. "
   ]
  },
  {
   "cell_type": "code",
   "execution_count": 4,
   "metadata": {},
   "outputs": [],
   "source": [
    "# Step 1: import and label records\n",
    "corpus = []\n",
    "label = []\n",
    "with ZipFile(DATA / 'AutoAndElectronics.zip') as rawData:\n",
    "    for info in rawData.infolist():\n",
    "        if info.is_dir(): \n",
    "            continue\n",
    "        label.append(1 if 'rec.autos' in info.filename else 0)\n",
    "        corpus.append(rawData.read(info))"
   ]
  },
  {
   "cell_type": "markdown",
   "metadata": {},
   "source": [
    "There are two distinct classes, electronics (labeled as 0) and autos\n",
    "(labeled as 1). Reviewing some random files from these groups can \n",
    "give some idea of which category they pertain to.\n",
    "\n",
    "## Solution 20.2.b\n",
    "Following the example in this chapter, preprocess the documents.\n",
    "\n",
    "Explain what would be different if you did not perform the 'stemming' step."
   ]
  },
  {
   "cell_type": "code",
   "execution_count": 5,
   "metadata": {
    "scrolled": true
   },
   "outputs": [],
   "source": [
    "# Step 2: preprocessing (tokenization, stemming, and stopwords)\n",
    "class LemmaTokenizer(object):\n",
    "    def __init__(self):\n",
    "        self.stemmer = EnglishStemmer()\n",
    "        self.stopWords = set(ENGLISH_STOP_WORDS)\n",
    "\n",
    "    def __call__(self, doc):\n",
    "        return [self.stemmer.stem(t) for t in word_tokenize(doc) \n",
    "                if t.isalpha() and t not in self.stopWords]\n",
    "\n",
    "\n",
    "preprocessor = CountVectorizer(tokenizer=LemmaTokenizer(), stop_words='english', encoding='latin1')\n",
    "preprocessedText = preprocessor.fit_transform(corpus)\n",
    "\n",
    "\n",
    "# Step 3: TF-IDF and latent semantic analysis\n",
    "tfidfTransformer = TfidfTransformer()\n",
    "tfidf = tfidfTransformer.fit_transform(preprocessedText)"
   ]
  },
  {
   "cell_type": "markdown",
   "metadata": {},
   "source": [
    "If we don't perform stemming there will be more columns in the resulting matrix. \n",
    "Stemming strips words down to their \"stems\" or \"roots\", hence reducing the \n",
    "dimension of the resulting dataset.\n",
    "\n",
    "\n",
    "## Solution 20.2.c\n",
    "Use the LSA to create 10 concepts. Explain what is different about the concept matrix, as opposed to the TF-IDF matrix."
   ]
  },
  {
   "cell_type": "code",
   "execution_count": 6,
   "metadata": {},
   "outputs": [],
   "source": [
    "# Extract 20 concepts using LSA ()\n",
    "svd = TruncatedSVD(10)\n",
    "normalizer = Normalizer(copy=False)\n",
    "lsa = make_pipeline(svd, normalizer)\n",
    "\n",
    "lsa_tfidf = lsa.fit_transform(tfidf)"
   ]
  },
  {
   "cell_type": "markdown",
   "metadata": {},
   "source": [
    "The Term Frequency matrix gives the number (the count) of times the term \n",
    "appears in the document and enter this value into the corresponding row/column\n",
    "in the output matrix. \n",
    "\n",
    "TF-IDF compensates for the overall frequency of the term throughout the corpus\n",
    "terms that appear frequently throughout the corpus are given a low value; \n",
    "high values of TF-IDF occur when a relatively rare term occurs frequently in \n",
    "one document.\n",
    "\n",
    "The concept matrix is smaller - grouping similar terms together."
   ]
  },
  {
   "cell_type": "markdown",
   "metadata": {},
   "source": [
    "## Solution 20.2.d \n",
    "Using this matrix, fit a predictive model (different from the model presented in the chapter illustration) to classify documents as autos or electronics.  Compare its performance to that of the model presented in the chapter illustration.\n",
    "\n",
    "We use a decision tree and a random forest classifier here."
   ]
  },
  {
   "cell_type": "code",
   "execution_count": 7,
   "metadata": {},
   "outputs": [
    {
     "name": "stdout",
     "output_type": "stream",
     "text": [
      "Confusion Matrix (Accuracy 0.9313)\n",
      "\n",
      "       Prediction\n",
      "Actual   0   1\n",
      "     0 375  22\n",
      "     1  33 370\n"
     ]
    },
    {
     "name": "stdout",
     "output_type": "stream",
     "text": [
      "Confusion Matrix (Accuracy 0.9613)\n",
      "\n",
      "       Prediction\n",
      "Actual   0   1\n",
      "     0 388   9\n",
      "     1  22 381\n"
     ]
    }
   ],
   "source": [
    "# split dataset into 60% training and 40% test set\n",
    "from sklearn.model_selection import train_test_split\n",
    "Xtrain, Xtest, ytrain, ytest = train_test_split(lsa_tfidf, label, test_size=0.4, random_state=42)\n",
    "\n",
    "# run decision tree model on training\n",
    "dt = DecisionTreeClassifier(random_state=1)\n",
    "dt.fit(Xtrain, ytrain)\n",
    "\n",
    "# print confusion matrix and accuracty\n",
    "classificationSummary(ytest, dt.predict(Xtest))\n",
    "\n",
    "# run random forest classifier model on training\n",
    "rf = RandomForestClassifier(n_estimators=500, random_state=1)\n",
    "rf.fit(Xtrain, ytrain)\n",
    "\n",
    "# print confusion matrix and accuracty\n",
    "classificationSummary(ytest, rf.predict(Xtest))"
   ]
  },
  {
   "cell_type": "markdown",
   "metadata": {},
   "source": [
    "The accuracies of the different models are:\n",
    "\n",
    "- Logistic regression: 0.9563\n",
    "- Decision tree: 0.9413\n",
    "- Random forest: 0.9600\n",
    "\n",
    "The random forest classifier performs better than the logistic regression model. The decision tree classifier performs worse."
   ]
  },
  {
   "cell_type": "markdown",
   "metadata": {},
   "source": [
    "# Problem 20.3: Classifying Classified Ads Submitted Online\n",
    "Consider the case of a website that caters to the needs of a specific farming community, and carries classified ads intended for that community.  Anyone, including robots, can post an ad via a web interface, and the site owners have problems with ads that are fraudulent, spam, or simply not relevant to the community.  They have provided a file with 4143 ads, each ad in a row, and each ad labeled as either -1 (not relevant) or 1 (relevant).\n",
    "The goal is to develop a predictive model that can classify ads automatically.\n",
    "\n",
    "- Open the file `farm-ads.csv`, and briefly review some of the relevant and non-relevant ads to get a flavor for their contents. \n",
    "- Following the example in the chapter, preprocess the data in Python, and create a term-document matrix, and a concept matrix. Limit the number of concepts to 20."
   ]
  },
  {
   "cell_type": "code",
   "execution_count": 8,
   "metadata": {},
   "outputs": [
    {
     "name": "stdout",
     "output_type": "stream",
     "text": [
      "2210 relevant ads\n",
      "      relevance                                               text\n",
      "1933          1   ad-abdominal ad-aortic ad-aneurysm ad-million...\n",
      "1934          1   ad-ac ad-montana ad-ranch ad-horse ad-cattle ...\n",
      "1935          1   ad-acai ad-pure ad-product ad-amazon title-ac...\n",
      "1936          1   ad-acclaim ad-website ad-builder ad-design ad...\n",
      "1937          1   ad-acclaim ad-website ad-builder ad-design ad...\n",
      "1933 non-relevant ads\n",
      "   relevance                                               text\n",
      "0         -1   ad-abdominal ad-aortic ad-aneurysm ad-doctorf...\n",
      "1         -1   ad-abdominal ad-aortic ad-aneurysm ad-million...\n",
      "2         -1   ad-absorbent ad-oil ad-snar ad-factory ad-dir...\n",
      "3         -1   ad-acid ad-reflux ad-relief ad-top ad-treatme...\n",
      "4         -1   ad-acid ad-reflux ad-symptom ad-acid ad-reflu...\n"
     ]
    }
   ],
   "source": [
    "farm_ads = pd.read_csv(DATA / 'farm-ads.csv', names=['relevance', 'text'])\n",
    "\n",
    "print('{} relevant ads'.format(len(farm_ads[farm_ads.relevance == 1])))\n",
    "print(farm_ads[farm_ads.relevance == 1].head())\n",
    "\n",
    "print('{} non-relevant ads'.format(len(farm_ads[farm_ads.relevance == -1])))\n",
    "print(farm_ads[farm_ads.relevance == -1].head())"
   ]
  },
  {
   "cell_type": "code",
   "execution_count": 9,
   "metadata": {},
   "outputs": [],
   "source": [
    "count_vect = CountVectorizer(token_pattern='[a-zA-Z-]+')\n",
    "tfidfTransformer = TfidfTransformer(smooth_idf=False, norm=None)\n",
    "\n",
    "counts = count_vect.fit_transform(farm_ads['text'])\n",
    "tfidf = tfidfTransformer.fit_transform(counts)"
   ]
  },
  {
   "cell_type": "code",
   "execution_count": 10,
   "metadata": {},
   "outputs": [],
   "source": [
    "# Extract 20 concepts using LSA ()\n",
    "svd = TruncatedSVD(20)\n",
    "normalizer = Normalizer(copy=False)\n",
    "lsa = make_pipeline(svd, normalizer)\n",
    "\n",
    "lsa_tfidf = lsa.fit_transform(tfidf)"
   ]
  },
  {
   "cell_type": "markdown",
   "metadata": {},
   "source": [
    "## Solution 20.3.a\n",
    "Examine the term-document matrix.\n",
    "\n",
    "### Solution 20.3.a.i\n",
    "Is it sparse or dense?"
   ]
  },
  {
   "cell_type": "code",
   "execution_count": 11,
   "metadata": {},
   "outputs": [
    {
     "name": "stdout",
     "output_type": "stream",
     "text": [
      "Term-document matrix: 58047 terms, 4143 documents\n",
      "  number of non-zero terms: 640792\n",
      "  sparsity: 0%\n",
      "\n"
     ]
    }
   ],
   "source": [
    "shape = counts.shape\n",
    "print('Term-document matrix: {0[1]} terms, {0[0]} documents'.format(shape))\n",
    "print('  number of non-zero terms: {}'.format(counts.count_nonzero()))\n",
    "print('  sparsity: {:.0f}%\\n'.format(100 * counts.count_nonzero() / (shape[0] * shape[1])))"
   ]
  },
  {
   "cell_type": "markdown",
   "metadata": {},
   "source": [
    "The matrix is sparse\n",
    "\n",
    "### Solution 20.3.a.ii\n",
    "Find two non-zero entries and briefly interpret their meaning, in words (you do not need to derive their calculation)\n"
   ]
  },
  {
   "cell_type": "code",
   "execution_count": 12,
   "metadata": {
    "scrolled": true
   },
   "outputs": [
    {
     "data": {
      "text/html": [
       "<div>\n",
       "<style scoped>\n",
       "    .dataframe tbody tr th:only-of-type {\n",
       "        vertical-align: middle;\n",
       "    }\n",
       "\n",
       "    .dataframe tbody tr th {\n",
       "        vertical-align: top;\n",
       "    }\n",
       "\n",
       "    .dataframe thead th {\n",
       "        text-align: right;\n",
       "    }\n",
       "</style>\n",
       "<table border=\"1\" class=\"dataframe\">\n",
       "  <thead>\n",
       "    <tr style=\"text-align: right;\">\n",
       "      <th></th>\n",
       "      <th>0</th>\n",
       "      <th>1</th>\n",
       "      <th>2</th>\n",
       "      <th>3</th>\n",
       "      <th>4</th>\n",
       "      <th>5</th>\n",
       "      <th>6</th>\n",
       "      <th>7</th>\n",
       "      <th>8</th>\n",
       "      <th>9</th>\n",
       "      <th>10</th>\n",
       "      <th>11</th>\n",
       "      <th>12</th>\n",
       "      <th>13</th>\n",
       "      <th>14</th>\n",
       "      <th>15</th>\n",
       "      <th>16</th>\n",
       "      <th>17</th>\n",
       "      <th>18</th>\n",
       "      <th>19</th>\n",
       "    </tr>\n",
       "  </thead>\n",
       "  <tbody>\n",
       "    <tr>\n",
       "      <th>adconfirm</th>\n",
       "      <td>0</td>\n",
       "      <td>0</td>\n",
       "      <td>0</td>\n",
       "      <td>0</td>\n",
       "      <td>0</td>\n",
       "      <td>0</td>\n",
       "      <td>0</td>\n",
       "      <td>0</td>\n",
       "      <td>0</td>\n",
       "      <td>0</td>\n",
       "      <td>0</td>\n",
       "      <td>0</td>\n",
       "      <td>0</td>\n",
       "      <td>0</td>\n",
       "      <td>0</td>\n",
       "      <td>0</td>\n",
       "      <td>0</td>\n",
       "      <td>0</td>\n",
       "      <td>0</td>\n",
       "      <td>0</td>\n",
       "    </tr>\n",
       "    <tr>\n",
       "      <th>adconfirmemail</th>\n",
       "      <td>0</td>\n",
       "      <td>0</td>\n",
       "      <td>0</td>\n",
       "      <td>0</td>\n",
       "      <td>0</td>\n",
       "      <td>0</td>\n",
       "      <td>0</td>\n",
       "      <td>0</td>\n",
       "      <td>0</td>\n",
       "      <td>0</td>\n",
       "      <td>0</td>\n",
       "      <td>0</td>\n",
       "      <td>0</td>\n",
       "      <td>0</td>\n",
       "      <td>0</td>\n",
       "      <td>0</td>\n",
       "      <td>0</td>\n",
       "      <td>0</td>\n",
       "      <td>0</td>\n",
       "      <td>0</td>\n",
       "    </tr>\n",
       "    <tr>\n",
       "      <th>adconfirmemailaddress</th>\n",
       "      <td>0</td>\n",
       "      <td>0</td>\n",
       "      <td>0</td>\n",
       "      <td>0</td>\n",
       "      <td>0</td>\n",
       "      <td>0</td>\n",
       "      <td>0</td>\n",
       "      <td>0</td>\n",
       "      <td>0</td>\n",
       "      <td>0</td>\n",
       "      <td>0</td>\n",
       "      <td>0</td>\n",
       "      <td>0</td>\n",
       "      <td>0</td>\n",
       "      <td>0</td>\n",
       "      <td>0</td>\n",
       "      <td>0</td>\n",
       "      <td>0</td>\n",
       "      <td>0</td>\n",
       "      <td>0</td>\n",
       "    </tr>\n",
       "    <tr>\n",
       "      <th>adconfirmemailaddressreceive</th>\n",
       "      <td>0</td>\n",
       "      <td>0</td>\n",
       "      <td>0</td>\n",
       "      <td>0</td>\n",
       "      <td>0</td>\n",
       "      <td>0</td>\n",
       "      <td>0</td>\n",
       "      <td>0</td>\n",
       "      <td>0</td>\n",
       "      <td>0</td>\n",
       "      <td>0</td>\n",
       "      <td>0</td>\n",
       "      <td>0</td>\n",
       "      <td>0</td>\n",
       "      <td>0</td>\n",
       "      <td>0</td>\n",
       "      <td>0</td>\n",
       "      <td>0</td>\n",
       "      <td>0</td>\n",
       "      <td>0</td>\n",
       "    </tr>\n",
       "    <tr>\n",
       "      <th>add</th>\n",
       "      <td>0</td>\n",
       "      <td>0</td>\n",
       "      <td>0</td>\n",
       "      <td>0</td>\n",
       "      <td>0</td>\n",
       "      <td>0</td>\n",
       "      <td>0</td>\n",
       "      <td>3</td>\n",
       "      <td>0</td>\n",
       "      <td>0</td>\n",
       "      <td>0</td>\n",
       "      <td>0</td>\n",
       "      <td>0</td>\n",
       "      <td>0</td>\n",
       "      <td>0</td>\n",
       "      <td>0</td>\n",
       "      <td>0</td>\n",
       "      <td>0</td>\n",
       "      <td>0</td>\n",
       "      <td>0</td>\n",
       "    </tr>\n",
       "    <tr>\n",
       "      <th>addadhdadrenalfatigueagelongevityallergyfood</th>\n",
       "      <td>0</td>\n",
       "      <td>0</td>\n",
       "      <td>0</td>\n",
       "      <td>0</td>\n",
       "      <td>0</td>\n",
       "      <td>0</td>\n",
       "      <td>0</td>\n",
       "      <td>0</td>\n",
       "      <td>0</td>\n",
       "      <td>0</td>\n",
       "      <td>0</td>\n",
       "      <td>0</td>\n",
       "      <td>0</td>\n",
       "      <td>0</td>\n",
       "      <td>0</td>\n",
       "      <td>0</td>\n",
       "      <td>0</td>\n",
       "      <td>0</td>\n",
       "      <td>0</td>\n",
       "      <td>0</td>\n",
       "    </tr>\n",
       "    <tr>\n",
       "      <th>addax</th>\n",
       "      <td>0</td>\n",
       "      <td>0</td>\n",
       "      <td>0</td>\n",
       "      <td>0</td>\n",
       "      <td>0</td>\n",
       "      <td>0</td>\n",
       "      <td>0</td>\n",
       "      <td>0</td>\n",
       "      <td>0</td>\n",
       "      <td>0</td>\n",
       "      <td>0</td>\n",
       "      <td>0</td>\n",
       "      <td>0</td>\n",
       "      <td>0</td>\n",
       "      <td>0</td>\n",
       "      <td>0</td>\n",
       "      <td>0</td>\n",
       "      <td>0</td>\n",
       "      <td>0</td>\n",
       "      <td>0</td>\n",
       "    </tr>\n",
       "    <tr>\n",
       "      <th>addchoice</th>\n",
       "      <td>0</td>\n",
       "      <td>0</td>\n",
       "      <td>0</td>\n",
       "      <td>0</td>\n",
       "      <td>0</td>\n",
       "      <td>0</td>\n",
       "      <td>0</td>\n",
       "      <td>0</td>\n",
       "      <td>0</td>\n",
       "      <td>0</td>\n",
       "      <td>0</td>\n",
       "      <td>0</td>\n",
       "      <td>0</td>\n",
       "      <td>0</td>\n",
       "      <td>0</td>\n",
       "      <td>0</td>\n",
       "      <td>0</td>\n",
       "      <td>0</td>\n",
       "      <td>0</td>\n",
       "      <td>0</td>\n",
       "    </tr>\n",
       "    <tr>\n",
       "      <th>addcommentadminpage</th>\n",
       "      <td>0</td>\n",
       "      <td>0</td>\n",
       "      <td>0</td>\n",
       "      <td>0</td>\n",
       "      <td>0</td>\n",
       "      <td>0</td>\n",
       "      <td>0</td>\n",
       "      <td>0</td>\n",
       "      <td>0</td>\n",
       "      <td>0</td>\n",
       "      <td>0</td>\n",
       "      <td>0</td>\n",
       "      <td>0</td>\n",
       "      <td>0</td>\n",
       "      <td>0</td>\n",
       "      <td>0</td>\n",
       "      <td>0</td>\n",
       "      <td>0</td>\n",
       "      <td>0</td>\n",
       "      <td>0</td>\n",
       "    </tr>\n",
       "    <tr>\n",
       "      <th>addcompare</th>\n",
       "      <td>0</td>\n",
       "      <td>0</td>\n",
       "      <td>0</td>\n",
       "      <td>0</td>\n",
       "      <td>0</td>\n",
       "      <td>0</td>\n",
       "      <td>0</td>\n",
       "      <td>0</td>\n",
       "      <td>0</td>\n",
       "      <td>0</td>\n",
       "      <td>0</td>\n",
       "      <td>0</td>\n",
       "      <td>0</td>\n",
       "      <td>0</td>\n",
       "      <td>0</td>\n",
       "      <td>0</td>\n",
       "      <td>0</td>\n",
       "      <td>0</td>\n",
       "      <td>0</td>\n",
       "      <td>0</td>\n",
       "    </tr>\n",
       "  </tbody>\n",
       "</table>\n",
       "</div>"
      ],
      "text/plain": [
       "                                              0  1  2  3  4  5  6  7  8  9  \\\n",
       "adconfirm                                     0  0  0  0  0  0  0  0  0  0   \n",
       "adconfirmemail                                0  0  0  0  0  0  0  0  0  0   \n",
       "adconfirmemailaddress                         0  0  0  0  0  0  0  0  0  0   \n",
       "adconfirmemailaddressreceive                  0  0  0  0  0  0  0  0  0  0   \n",
       "add                                           0  0  0  0  0  0  0  3  0  0   \n",
       "addadhdadrenalfatigueagelongevityallergyfood  0  0  0  0  0  0  0  0  0  0   \n",
       "addax                                         0  0  0  0  0  0  0  0  0  0   \n",
       "addchoice                                     0  0  0  0  0  0  0  0  0  0   \n",
       "addcommentadminpage                           0  0  0  0  0  0  0  0  0  0   \n",
       "addcompare                                    0  0  0  0  0  0  0  0  0  0   \n",
       "\n",
       "                                              10  11  12  13  14  15  16  17  \\\n",
       "adconfirm                                      0   0   0   0   0   0   0   0   \n",
       "adconfirmemail                                 0   0   0   0   0   0   0   0   \n",
       "adconfirmemailaddress                          0   0   0   0   0   0   0   0   \n",
       "adconfirmemailaddressreceive                   0   0   0   0   0   0   0   0   \n",
       "add                                            0   0   0   0   0   0   0   0   \n",
       "addadhdadrenalfatigueagelongevityallergyfood   0   0   0   0   0   0   0   0   \n",
       "addax                                          0   0   0   0   0   0   0   0   \n",
       "addchoice                                      0   0   0   0   0   0   0   0   \n",
       "addcommentadminpage                            0   0   0   0   0   0   0   0   \n",
       "addcompare                                     0   0   0   0   0   0   0   0   \n",
       "\n",
       "                                              18  19  \n",
       "adconfirm                                      0   0  \n",
       "adconfirmemail                                 0   0  \n",
       "adconfirmemailaddress                          0   0  \n",
       "adconfirmemailaddressreceive                   0   0  \n",
       "add                                            0   0  \n",
       "addadhdadrenalfatigueagelongevityallergyfood   0   0  \n",
       "addax                                          0   0  \n",
       "addchoice                                      0   0  \n",
       "addcommentadminpage                            0   0  \n",
       "addcompare                                     0   0  "
      ]
     },
     "execution_count": 12,
     "metadata": {},
     "output_type": "execute_result"
    }
   ],
   "source": [
    "# we know that 'add' occurs frequently in one of the document, but you could pick any term that has 1 or more counts \n",
    "fromTerm = 5340\n",
    "toTerm = 5350\n",
    "# print(counts[11,1])\n",
    "index = count_vect.get_feature_names()[fromTerm:toTerm]\n",
    "pd.DataFrame(data=counts[0:20,fromTerm:toTerm].toarray().transpose(), index=index)"
   ]
  },
  {
   "cell_type": "code",
   "execution_count": 13,
   "metadata": {},
   "outputs": [
    {
     "name": "stdout",
     "output_type": "stream",
     "text": [
      "Document 7 - term 5344:  3\n",
      "Document 8 - term 5344:  0\n",
      "Average occurrence of term 5344 in all documents: 0.5614289162442674\n"
     ]
    },
    {
     "data": {
      "text/plain": [
       "<matplotlib.axes._subplots.AxesSubplot at 0x1267b8f10>"
      ]
     },
     "execution_count": 13,
     "metadata": {},
     "output_type": "execute_result"
    },
    {
     "data": {
      "image/png": "[encoded data removed]",
      "text/plain": [
       "<Figure size 432x288 with 1 Axes>"
      ]
     },
     "metadata": {
      "needs_background": "light"
     },
     "output_type": "display_data"
    }
   ],
   "source": [
    "print('Document 7 - term 5344: ', counts[7, 5344])\n",
    "print('Document 8 - term 5344: ', counts[8, 5344])\n",
    "print('Average occurrence of term 5344 in all documents:', np.sum(counts[:, 5344]) / counts.shape[0])\n",
    "pd.Series([c.toarray()[0, 0] for c in counts[:, 5344]]).hist(bins=60)"
   ]
  },
  {
   "cell_type": "markdown",
   "metadata": {},
   "source": [
    "The term-document matrix has a 3 in the cell at row 7 and column 5344. This means the term `add` occurs 3 times in document 7. This is relatively frequent as we can see from the histogram that it rarely occurs in the other documents. \n",
    "\n",
    "At row 8 and column 5344, the value is 0. This meanst the term did not occur in document 8. "
   ]
  },
  {
   "cell_type": "markdown",
   "metadata": {},
   "source": [
    "## Solution 20.3.b\n",
    "Briefly explain the difference between the term-document matrix and the concept-document matrix.  Relate the latter to what you learned in the principal components chapter (Chapter 4 Dimension Reduction).\n",
    "\n",
    "\n",
    "The Term-Document Matrix is a matrix that indicates whether, or how often, a\n",
    "term (column) appears in a document (row).  In the Concept - Document Matrix,\n",
    "we must first join together similar terms into a limited number of concepts, \n",
    "which are the columns.  The documents will be listed down the left side of the\n",
    "matrix. Principle Component Analysis produces linear combinations of correlated\n",
    "predictor variables, and produces new predictor variables, of which a limited \n",
    "set can effectively replace the numerous original variables. \n",
    "The concept-document matrix works on the same logic using latent semantic \n",
    "indexing which results in combining related terms to produce concepts. This \n",
    "reduces the dimension of the data.\n",
    "\n",
    "## Solution 20.3.c\n",
    "Using logistic regression, partition the data (60\\% training, 40\\% validation), and develop a model to classify the documents as `relevant' or `non-relevant.' Comment on its efficacy."
   ]
  },
  {
   "cell_type": "code",
   "execution_count": 14,
   "metadata": {},
   "outputs": [
    {
     "name": "stdout",
     "output_type": "stream",
     "text": [
      "Confusion Matrix (Accuracy 0.7823)\n",
      "\n",
      "       Prediction\n",
      "Actual  -1   1\n",
      "    -1 554 239\n",
      "     1 122 743\n"
     ]
    }
   ],
   "source": [
    "# split dataset into 60% training and 40% validation set\n",
    "train_X, valid_X, train_y, valid_y = train_test_split(lsa_tfidf, farm_ads.relevance, test_size=0.4, random_state=42)\n",
    "\n",
    "# run logistic regression model on training\n",
    "logit_reg = linear_model.LogisticRegression(solver='lbfgs')\n",
    "logit_reg.fit(train_X, train_y)\n",
    "\n",
    "# print confusion matrix and accuracty\n",
    "classificationSummary(valid_y, logit_reg.predict(valid_X), class_names=logit_reg.classes_)"
   ]
  },
  {
   "cell_type": "markdown",
   "metadata": {},
   "source": [
    "The Logistic Regression model classifies the documents (as 1's or 0's) with an\n",
    "error rate of 22%, according to the validation data confusion matrix. The goal\n",
    "of the model is not to select out a subset of ads most likely to be relevant,\n",
    "but rather to classify all ads.\n",
    "\n",
    "\n",
    "## Solution 20.3.d\n",
    "Why use the concept-document matrix, and not the term-document matrix, to provide the predictor variables?\n",
    "\n",
    "We use the concept-document matrix, rather than the term document matrix, to\n",
    "provide predictor variables, because the former reduces the dimension of the \n",
    "data (i.e. reduces the number of predictor variables) without sacrificing much\n",
    "predictive power, allowing for easier and more effective modeling."
   ]
  },
  {
   "cell_type": "code",
   "execution_count": null,
   "metadata": {},
   "outputs": [],
   "source": []
  },
  {
   "cell_type": "markdown",
   "metadata": {},
   "source": [
    "# Problem 20.4: Clustering auto posts\n",
    "In this problem, you will use the data and scenario described in this chapter's example.  The task is to cluster the auto posts. \n",
    "\n",
    "## Solution 20.4.a\n",
    "Following the example in this chapter, preprocess the documents, except do not create a label vector. "
   ]
  },
  {
   "cell_type": "code",
   "execution_count": 15,
   "metadata": {},
   "outputs": [],
   "source": [
    "# Step 1: import and label records\n",
    "corpus = []\n",
    "with ZipFile(DATA / 'AutoAndElectronics.zip') as rawData:\n",
    "    for info in rawData.infolist():\n",
    "        if info.is_dir(): \n",
    "            continue\n",
    "        corpus.append(rawData.read(info))\n",
    "\n",
    "# Step 2: preprocessing (tokenization, stemming, and stopwords)\n",
    "class LemmaTokenizer(object):\n",
    "    def __init__(self):\n",
    "        self.stemmer = EnglishStemmer()\n",
    "        self.stopWords = set(ENGLISH_STOP_WORDS)\n",
    "\n",
    "    def __call__(self, doc):\n",
    "        return [self.stemmer.stem(t) for t in word_tokenize(doc) \n",
    "                if t.isalpha() and t not in self.stopWords]\n",
    "\n",
    "preprocessor = CountVectorizer(tokenizer=LemmaTokenizer(), stop_words='english', encoding='latin1')\n",
    "preprocessedText = preprocessor.fit_transform(corpus)\n",
    "\n",
    "# Step 3: TF-IDF and latent semantic analysis\n",
    "tfidfTransformer = TfidfTransformer()\n",
    "tfidf = tfidfTransformer.fit_transform(preprocessedText)"
   ]
  },
  {
   "cell_type": "markdown",
   "metadata": {},
   "source": [
    "## Solution 20.4.b\n",
    "Use the LSA to create 10 concepts. "
   ]
  },
  {
   "cell_type": "code",
   "execution_count": 16,
   "metadata": {},
   "outputs": [],
   "source": [
    "# Extract 20 concepts using LSA ()\n",
    "svd = TruncatedSVD(10)\n",
    "normalizer = Normalizer(copy=False)\n",
    "lsa = make_pipeline(svd, normalizer)\n",
    "\n",
    "lsa_tfidf = lsa.fit_transform(tfidf)"
   ]
  },
  {
   "cell_type": "markdown",
   "metadata": {},
   "source": [
    "## Solution 20.4.c\n",
    "Before doing the clustering, state how many natural clusters you expect to find.\n",
    "\n",
    "We can expect to find two natural clusters\n",
    "\n",
    "## Solution 20.4.d\n",
    "Perform hierarchical clustering and inspect the dendrogram. "
   ]
  },
  {
   "cell_type": "code",
   "execution_count": 17,
   "metadata": {},
   "outputs": [],
   "source": [
    "Z = linkage(lsa_tfidf, method='average')"
   ]
  },
  {
   "cell_type": "code",
   "execution_count": 18,
   "metadata": {
    "scrolled": false
   },
   "outputs": [
    {
     "data": {
      "image/png": "[encoded data removed]",
      "text/plain": [
       "<Figure size 720x432 with 1 Axes>"
      ]
     },
     "metadata": {
      "needs_background": "light"
     },
     "output_type": "display_data"
    }
   ],
   "source": [
    "fig = plt.figure(figsize=(10, 6))\n",
    "fig.subplots_adjust(bottom=0.23)\n",
    "plt.title('Hierarchical Clustering Dendrogram (Complete linkage)')\n",
    "plt.xlabel('Documents')\n",
    "dendrogram(Z, color_threshold=0.9)\n",
    "plt.axhline(y=8, color='black', linewidth=0.5, linestyle='dashed')\n",
    "plt.show()"
   ]
  },
  {
   "cell_type": "markdown",
   "metadata": {},
   "source": [
    "### Solution 20.4.d.i\n",
    "From the dendrogram, how many natural clusters appear?\n",
    "\n",
    "It appears there are two major clusters. The remaining documents form a number of smaller clusters. "
   ]
  },
  {
   "cell_type": "markdown",
   "metadata": {},
   "source": [
    "### Solution 20.4.d.ii\n",
    "Examining the dendrogram as it branches beyond the number of main clusters, select a sub-cluster and assess its characteristics."
   ]
  },
  {
   "cell_type": "code",
   "execution_count": 19,
   "metadata": {},
   "outputs": [
    {
     "name": "stdout",
     "output_type": "stream",
     "text": [
      "  2 of  33 : 0.06 \n",
      "  7 of   7 : 1.00 rec.autos\n",
      " 22 of  56 : 0.39 \n",
      " 48 of  49 : 0.98 rec.autos\n",
      " 38 of  38 : 1.00 rec.autos\n",
      "  8 of  69 : 0.12 \n",
      "  0 of  41 : 0.00 \n",
      "  3 of  41 : 0.07 \n",
      " 17 of  17 : 1.00 rec.autos\n",
      " 83 of  84 : 0.99 rec.autos\n",
      "  0 of   8 : 0.00 \n",
      " 21 of  21 : 1.00 rec.autos\n",
      " 16 of  18 : 0.89 \n",
      "448 of 487 : 0.92 rec.autos\n",
      "171 of 171 : 1.00 rec.autos\n",
      " 81 of 351 : 0.23 \n",
      "  0 of   7 : 0.00 \n",
      "  3 of  45 : 0.07 \n",
      "  1 of  25 : 0.04 \n",
      "  9 of 432 : 0.02 \n"
     ]
    }
   ],
   "source": [
    "nclusters = 20\n",
    "membership = fcluster(Z, nclusters, criterion='maxclust')\n",
    "for clNumber in range(1, nclusters + 1):\n",
    "    nmembers = sum(membership == clNumber)\n",
    "    recAutos = ['Newsgroups: rec.autos' in str(doc) for doc, cl in zip(corpus, membership) if cl == clNumber]\n",
    "    ratioAutos = sum(recAutos) /nmembers\n",
    "    print(f'{sum(recAutos):3d} of {nmembers:3d} : {ratioAutos:.2f} {\"rec.autos\" if ratioAutos > 0.9 else \"\"}')"
   ]
  },
  {
   "cell_type": "markdown",
   "metadata": {},
   "source": [
    "From this analysis, we can see that the clustering groups documents from the same newsgroup most of the times well together.\n",
    "\n",
    "## Solution 20.4.e\n",
    "Perform $k$-means clustering for two clusters and report how distant and separated they are (using between-cluster distance and within cluster dispersion)."
   ]
  },
  {
   "cell_type": "code",
   "execution_count": 20,
   "metadata": {},
   "outputs": [
    {
     "name": "stdout",
     "output_type": "stream",
     "text": [
      "Between-cluster distance:  0.8845828812990629\n"
     ]
    }
   ],
   "source": [
    "kmeans = KMeans(n_clusters=2, random_state=0).fit(lsa_tfidf)\n",
    "\n",
    "centroids = pd.DataFrame(kmeans.cluster_centers_)\n",
    "print('Between-cluster distance: ', math.sqrt(sum(centroids.iloc[0, :] - centroids.iloc[1, :])**2))"
   ]
  },
  {
   "cell_type": "code",
   "execution_count": 21,
   "metadata": {},
   "outputs": [
    {
     "name": "stdout",
     "output_type": "stream",
     "text": [
      "Cluster 0 (1087 members):  0.60 within cluster\n",
      "Cluster 1 (913 members):  0.63 within cluster\n"
     ]
    }
   ],
   "source": [
    "withinClusterSS = [0] * 2\n",
    "clusterCount = [0] * 2\n",
    "for cluster, distance in zip(kmeans.labels_, kmeans.transform(lsa_tfidf)):\n",
    "    withinClusterSS[cluster] += distance[cluster]**2\n",
    "    clusterCount[cluster] += 1\n",
    "for cluster, withClustSS in enumerate(withinClusterSS):\n",
    "    count = clusterCount[cluster]\n",
    "    withinClusterDispersion = math.sqrt(withClustSS / (count - 1))\n",
    "    print(f'Cluster {cluster} ({count} members): {withinClusterDispersion:5.2f} within cluster')"
   ]
  },
  {
   "cell_type": "code",
   "execution_count": null,
   "metadata": {},
   "outputs": [],
   "source": []
  }
 ],
 "metadata": {
  "kernelspec": {
   "display_name": "Python 3",
   "language": "python",
   "name": "python3"
  },
  "language_info": {
   "codemirror_mode": {
    "name": "ipython",
    "version": 3
   },
   "file_extension": ".py",
   "mimetype": "text/x-python",
   "name": "python",
   "nbconvert_exporter": "python",
   "pygments_lexer": "ipython3",
   "version": "3.8.2"
  }
 },
 "nbformat": 4,
 "nbformat_minor": 2
}
