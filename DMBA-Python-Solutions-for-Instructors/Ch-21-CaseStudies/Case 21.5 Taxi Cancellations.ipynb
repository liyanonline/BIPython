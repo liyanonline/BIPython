{
 "cells": [
  {
   "cell_type": "markdown",
   "metadata": {},
   "source": [
    "# Case 21.5 Taxi Cancellations\n",
    "\n",
    "> (c) 2019 Galit Shmueli, Peter C. Bruce, Peter Gedeck \n",
    ">\n",
    "> Case study included in\n",
    ">\n",
    "> _Data Mining for Business Analytics: Concepts, Techniques, and Applications in Python_ (First Edition) \n",
    "> Galit Shmueli, Peter C. Bruce, Peter Gedeck, and Nitin R. Patel. 2019."
   ]
  },
  {
   "cell_type": "code",
   "execution_count": 1,
   "metadata": {},
   "outputs": [],
   "source": [
    "%matplotlib inline\n",
    "\n",
    "from pathlib import Path\n",
    "import numpy as np\n",
    "import pandas as pd\n",
    "import matplotlib.pylab as plt\n",
    "\n",
    "from sklearn.linear_model import LogisticRegressionCV\n",
    "from sklearn.tree import DecisionTreeClassifier\n",
    "from sklearn.ensemble import RandomForestClassifier\n",
    "from sklearn.model_selection import train_test_split\n",
    "from sklearn.metrics import accuracy_score\n",
    "from sklearn.preprocessing import MinMaxScaler\n",
    "from sklearn.neural_network import MLPClassifier\n",
    "from sklearn.model_selection import train_test_split, GridSearchCV\n",
    "\n",
    "from dmba import classificationSummary, gainsChart\n",
    "\n",
    "DATA = Path('.').resolve().parent / 'data'"
   ]
  },
  {
   "cell_type": "markdown",
   "metadata": {},
   "source": [
    "# Load the data"
   ]
  },
  {
   "cell_type": "code",
   "execution_count": 2,
   "metadata": {},
   "outputs": [
    {
     "data": {
      "text/html": [
       "<div>\n",
       "<style scoped>\n",
       "    .dataframe tbody tr th:only-of-type {\n",
       "        vertical-align: middle;\n",
       "    }\n",
       "\n",
       "    .dataframe tbody tr th {\n",
       "        vertical-align: top;\n",
       "    }\n",
       "\n",
       "    .dataframe thead th {\n",
       "        text-align: right;\n",
       "    }\n",
       "</style>\n",
       "<table border=\"1\" class=\"dataframe\">\n",
       "  <thead>\n",
       "    <tr style=\"text-align: right;\">\n",
       "      <th></th>\n",
       "      <th>row#</th>\n",
       "      <th>user_id</th>\n",
       "      <th>vehicle_model_id</th>\n",
       "      <th>package_id</th>\n",
       "      <th>travel_type_id</th>\n",
       "      <th>from_area_id</th>\n",
       "      <th>to_area_id</th>\n",
       "      <th>from_city_id</th>\n",
       "      <th>to_city_id</th>\n",
       "      <th>from_date</th>\n",
       "      <th>to_date</th>\n",
       "      <th>online_booking</th>\n",
       "      <th>mobile_site_booking</th>\n",
       "      <th>booking_created</th>\n",
       "      <th>from_lat</th>\n",
       "      <th>from_long</th>\n",
       "      <th>to_lat</th>\n",
       "      <th>to_long</th>\n",
       "      <th>Car_Cancellation</th>\n",
       "    </tr>\n",
       "  </thead>\n",
       "  <tbody>\n",
       "    <tr>\n",
       "      <th>0</th>\n",
       "      <td>1</td>\n",
       "      <td>17712</td>\n",
       "      <td>12</td>\n",
       "      <td>NaN</td>\n",
       "      <td>2</td>\n",
       "      <td>1021.0</td>\n",
       "      <td>1323.0</td>\n",
       "      <td>NaN</td>\n",
       "      <td>NaN</td>\n",
       "      <td>1/1/13 22:33</td>\n",
       "      <td>NaN</td>\n",
       "      <td>0</td>\n",
       "      <td>0</td>\n",
       "      <td>1/1/13 8:01</td>\n",
       "      <td>13.028530</td>\n",
       "      <td>77.54625</td>\n",
       "      <td>12.869805</td>\n",
       "      <td>77.653211</td>\n",
       "      <td>0</td>\n",
       "    </tr>\n",
       "    <tr>\n",
       "      <th>1</th>\n",
       "      <td>2</td>\n",
       "      <td>17037</td>\n",
       "      <td>12</td>\n",
       "      <td>NaN</td>\n",
       "      <td>2</td>\n",
       "      <td>455.0</td>\n",
       "      <td>1330.0</td>\n",
       "      <td>NaN</td>\n",
       "      <td>NaN</td>\n",
       "      <td>1/1/13 12:43</td>\n",
       "      <td>NaN</td>\n",
       "      <td>0</td>\n",
       "      <td>0</td>\n",
       "      <td>1/1/13 9:59</td>\n",
       "      <td>12.999874</td>\n",
       "      <td>77.67812</td>\n",
       "      <td>12.953434</td>\n",
       "      <td>77.706510</td>\n",
       "      <td>0</td>\n",
       "    </tr>\n",
       "    <tr>\n",
       "      <th>2</th>\n",
       "      <td>3</td>\n",
       "      <td>761</td>\n",
       "      <td>12</td>\n",
       "      <td>NaN</td>\n",
       "      <td>2</td>\n",
       "      <td>814.0</td>\n",
       "      <td>393.0</td>\n",
       "      <td>NaN</td>\n",
       "      <td>NaN</td>\n",
       "      <td>1/2/13 0:28</td>\n",
       "      <td>1/3/13 0:00</td>\n",
       "      <td>1</td>\n",
       "      <td>0</td>\n",
       "      <td>1/1/13 12:14</td>\n",
       "      <td>12.908993</td>\n",
       "      <td>77.68890</td>\n",
       "      <td>13.199560</td>\n",
       "      <td>77.706880</td>\n",
       "      <td>0</td>\n",
       "    </tr>\n",
       "    <tr>\n",
       "      <th>3</th>\n",
       "      <td>4</td>\n",
       "      <td>868</td>\n",
       "      <td>12</td>\n",
       "      <td>NaN</td>\n",
       "      <td>2</td>\n",
       "      <td>297.0</td>\n",
       "      <td>212.0</td>\n",
       "      <td>NaN</td>\n",
       "      <td>NaN</td>\n",
       "      <td>1/1/13 13:12</td>\n",
       "      <td>NaN</td>\n",
       "      <td>0</td>\n",
       "      <td>0</td>\n",
       "      <td>1/1/13 12:42</td>\n",
       "      <td>12.997890</td>\n",
       "      <td>77.61488</td>\n",
       "      <td>12.994740</td>\n",
       "      <td>77.607970</td>\n",
       "      <td>0</td>\n",
       "    </tr>\n",
       "    <tr>\n",
       "      <th>4</th>\n",
       "      <td>5</td>\n",
       "      <td>21716</td>\n",
       "      <td>28</td>\n",
       "      <td>NaN</td>\n",
       "      <td>2</td>\n",
       "      <td>1237.0</td>\n",
       "      <td>330.0</td>\n",
       "      <td>NaN</td>\n",
       "      <td>NaN</td>\n",
       "      <td>1/1/13 16:33</td>\n",
       "      <td>NaN</td>\n",
       "      <td>0</td>\n",
       "      <td>0</td>\n",
       "      <td>1/1/13 15:07</td>\n",
       "      <td>12.926450</td>\n",
       "      <td>77.61206</td>\n",
       "      <td>12.858833</td>\n",
       "      <td>77.589127</td>\n",
       "      <td>0</td>\n",
       "    </tr>\n",
       "  </tbody>\n",
       "</table>\n",
       "</div>"
      ],
      "text/plain": [
       "   row#  user_id  vehicle_model_id  package_id  travel_type_id  from_area_id  \\\n",
       "0     1    17712                12         NaN               2        1021.0   \n",
       "1     2    17037                12         NaN               2         455.0   \n",
       "2     3      761                12         NaN               2         814.0   \n",
       "3     4      868                12         NaN               2         297.0   \n",
       "4     5    21716                28         NaN               2        1237.0   \n",
       "\n",
       "   to_area_id  from_city_id  to_city_id     from_date      to_date  \\\n",
       "0      1323.0           NaN         NaN  1/1/13 22:33          NaN   \n",
       "1      1330.0           NaN         NaN  1/1/13 12:43          NaN   \n",
       "2       393.0           NaN         NaN   1/2/13 0:28  1/3/13 0:00   \n",
       "3       212.0           NaN         NaN  1/1/13 13:12          NaN   \n",
       "4       330.0           NaN         NaN  1/1/13 16:33          NaN   \n",
       "\n",
       "   online_booking  mobile_site_booking booking_created   from_lat  from_long  \\\n",
       "0               0                    0     1/1/13 8:01  13.028530   77.54625   \n",
       "1               0                    0     1/1/13 9:59  12.999874   77.67812   \n",
       "2               1                    0    1/1/13 12:14  12.908993   77.68890   \n",
       "3               0                    0    1/1/13 12:42  12.997890   77.61488   \n",
       "4               0                    0    1/1/13 15:07  12.926450   77.61206   \n",
       "\n",
       "      to_lat    to_long  Car_Cancellation  \n",
       "0  12.869805  77.653211                 0  \n",
       "1  12.953434  77.706510                 0  \n",
       "2  13.199560  77.706880                 0  \n",
       "3  12.994740  77.607970                 0  \n",
       "4  12.858833  77.589127                 0  "
      ]
     },
     "execution_count": 2,
     "metadata": {},
     "output_type": "execute_result"
    }
   ],
   "source": [
    "taxi_df = pd.read_csv(DATA / 'Taxi-cancellation-case.csv')\n",
    "taxi_df.head()"
   ]
  },
  {
   "cell_type": "markdown",
   "metadata": {},
   "source": [
    "# Step 1:\n",
    "How can a predictive model based on these data be used by Yourcabs.com? \n",
    "\n",
    "Yourcabs.com could identify at risk calls and generate re-confirmations with drivers. \n",
    "\n",
    "# Step 2:\n",
    "How can a profiling model (identifying predictors that distinguish canceled/uncanceled trips) be used by Yourcabs.com? \n",
    "\n",
    "An automated system to predict and flag potential cancellations could be used to generate re-confirmations with drivers, while an understanding of the role of predictor variables could be used in adjusting operations (e.g. if certain geographic areas are prone to cancellation, drivers could be interviewed to determine why).\n",
    "\n",
    "\n",
    "# Step 3:\n",
    "Explore, prepare, and transform the data to facilitate predictive modeling.  Here are some hints:  \n",
    "\n",
    "- In exploratory modeling, it is useful to move fairly soon to at least an initial model without solving _all_ data preparation issues.  One example is the GPS information - other geographic information is available so you could defer the challenge of how to interpret/use the GPS information.\n",
    "- How will you deal with missing data, such as cases where NaN is indicated? \n",
    "- Think about what useful information might be held within the date and time fields (the booking timestamp and the trip timestamp). The data file contains a worksheet with some hints on how to extract features from the date/time field.\n",
    "- Think also about the categorical variables, and how to deal with them. Should we turn them all into dummies?  Use only some? \n",
    "\n"
   ]
  },
  {
   "cell_type": "markdown",
   "metadata": {},
   "source": [
    "Here, we set all missing data to 0. We will see later that this is not the best strategy for the GPS information, but we will handle this separately."
   ]
  },
  {
   "cell_type": "code",
   "execution_count": 3,
   "metadata": {},
   "outputs": [
    {
     "data": {
      "text/html": [
       "<div>\n",
       "<style scoped>\n",
       "    .dataframe tbody tr th:only-of-type {\n",
       "        vertical-align: middle;\n",
       "    }\n",
       "\n",
       "    .dataframe tbody tr th {\n",
       "        vertical-align: top;\n",
       "    }\n",
       "\n",
       "    .dataframe thead th {\n",
       "        text-align: right;\n",
       "    }\n",
       "</style>\n",
       "<table border=\"1\" class=\"dataframe\">\n",
       "  <thead>\n",
       "    <tr style=\"text-align: right;\">\n",
       "      <th></th>\n",
       "      <th>row#</th>\n",
       "      <th>user_id</th>\n",
       "      <th>vehicle_model_id</th>\n",
       "      <th>package_id</th>\n",
       "      <th>travel_type_id</th>\n",
       "      <th>from_area_id</th>\n",
       "      <th>to_area_id</th>\n",
       "      <th>from_city_id</th>\n",
       "      <th>to_city_id</th>\n",
       "      <th>from_date</th>\n",
       "      <th>...</th>\n",
       "      <th>from_long</th>\n",
       "      <th>to_lat</th>\n",
       "      <th>to_long</th>\n",
       "      <th>Car_Cancellation</th>\n",
       "      <th>from_date_Hour</th>\n",
       "      <th>to_date_Hour</th>\n",
       "      <th>booking_created_Hour</th>\n",
       "      <th>from_date_DOW</th>\n",
       "      <th>to_date_DOW</th>\n",
       "      <th>booking_created_DOW</th>\n",
       "    </tr>\n",
       "  </thead>\n",
       "  <tbody>\n",
       "    <tr>\n",
       "      <th>0</th>\n",
       "      <td>1</td>\n",
       "      <td>17712</td>\n",
       "      <td>12</td>\n",
       "      <td>0.0</td>\n",
       "      <td>2</td>\n",
       "      <td>1021.0</td>\n",
       "      <td>1323.0</td>\n",
       "      <td>0.0</td>\n",
       "      <td>0.0</td>\n",
       "      <td>2013-01-01 22:33:00</td>\n",
       "      <td>...</td>\n",
       "      <td>77.54625</td>\n",
       "      <td>12.869805</td>\n",
       "      <td>77.653211</td>\n",
       "      <td>0</td>\n",
       "      <td>22</td>\n",
       "      <td>0</td>\n",
       "      <td>8</td>\n",
       "      <td>1</td>\n",
       "      <td>3</td>\n",
       "      <td>1</td>\n",
       "    </tr>\n",
       "    <tr>\n",
       "      <th>1</th>\n",
       "      <td>2</td>\n",
       "      <td>17037</td>\n",
       "      <td>12</td>\n",
       "      <td>0.0</td>\n",
       "      <td>2</td>\n",
       "      <td>455.0</td>\n",
       "      <td>1330.0</td>\n",
       "      <td>0.0</td>\n",
       "      <td>0.0</td>\n",
       "      <td>2013-01-01 12:43:00</td>\n",
       "      <td>...</td>\n",
       "      <td>77.67812</td>\n",
       "      <td>12.953434</td>\n",
       "      <td>77.706510</td>\n",
       "      <td>0</td>\n",
       "      <td>12</td>\n",
       "      <td>0</td>\n",
       "      <td>9</td>\n",
       "      <td>1</td>\n",
       "      <td>3</td>\n",
       "      <td>1</td>\n",
       "    </tr>\n",
       "    <tr>\n",
       "      <th>2</th>\n",
       "      <td>3</td>\n",
       "      <td>761</td>\n",
       "      <td>12</td>\n",
       "      <td>0.0</td>\n",
       "      <td>2</td>\n",
       "      <td>814.0</td>\n",
       "      <td>393.0</td>\n",
       "      <td>0.0</td>\n",
       "      <td>0.0</td>\n",
       "      <td>2013-01-02 00:28:00</td>\n",
       "      <td>...</td>\n",
       "      <td>77.68890</td>\n",
       "      <td>13.199560</td>\n",
       "      <td>77.706880</td>\n",
       "      <td>0</td>\n",
       "      <td>0</td>\n",
       "      <td>0</td>\n",
       "      <td>12</td>\n",
       "      <td>2</td>\n",
       "      <td>3</td>\n",
       "      <td>1</td>\n",
       "    </tr>\n",
       "    <tr>\n",
       "      <th>3</th>\n",
       "      <td>4</td>\n",
       "      <td>868</td>\n",
       "      <td>12</td>\n",
       "      <td>0.0</td>\n",
       "      <td>2</td>\n",
       "      <td>297.0</td>\n",
       "      <td>212.0</td>\n",
       "      <td>0.0</td>\n",
       "      <td>0.0</td>\n",
       "      <td>2013-01-01 13:12:00</td>\n",
       "      <td>...</td>\n",
       "      <td>77.61488</td>\n",
       "      <td>12.994740</td>\n",
       "      <td>77.607970</td>\n",
       "      <td>0</td>\n",
       "      <td>13</td>\n",
       "      <td>0</td>\n",
       "      <td>12</td>\n",
       "      <td>1</td>\n",
       "      <td>3</td>\n",
       "      <td>1</td>\n",
       "    </tr>\n",
       "    <tr>\n",
       "      <th>4</th>\n",
       "      <td>5</td>\n",
       "      <td>21716</td>\n",
       "      <td>28</td>\n",
       "      <td>0.0</td>\n",
       "      <td>2</td>\n",
       "      <td>1237.0</td>\n",
       "      <td>330.0</td>\n",
       "      <td>0.0</td>\n",
       "      <td>0.0</td>\n",
       "      <td>2013-01-01 16:33:00</td>\n",
       "      <td>...</td>\n",
       "      <td>77.61206</td>\n",
       "      <td>12.858833</td>\n",
       "      <td>77.589127</td>\n",
       "      <td>0</td>\n",
       "      <td>16</td>\n",
       "      <td>0</td>\n",
       "      <td>15</td>\n",
       "      <td>1</td>\n",
       "      <td>3</td>\n",
       "      <td>1</td>\n",
       "    </tr>\n",
       "  </tbody>\n",
       "</table>\n",
       "<p>5 rows × 25 columns</p>\n",
       "</div>"
      ],
      "text/plain": [
       "   row#  user_id vehicle_model_id package_id travel_type_id  from_area_id  \\\n",
       "0     1    17712               12        0.0              2        1021.0   \n",
       "1     2    17037               12        0.0              2         455.0   \n",
       "2     3      761               12        0.0              2         814.0   \n",
       "3     4      868               12        0.0              2         297.0   \n",
       "4     5    21716               28        0.0              2        1237.0   \n",
       "\n",
       "   to_area_id  from_city_id  to_city_id           from_date  ... from_long  \\\n",
       "0      1323.0           0.0         0.0 2013-01-01 22:33:00  ...  77.54625   \n",
       "1      1330.0           0.0         0.0 2013-01-01 12:43:00  ...  77.67812   \n",
       "2       393.0           0.0         0.0 2013-01-02 00:28:00  ...  77.68890   \n",
       "3       212.0           0.0         0.0 2013-01-01 13:12:00  ...  77.61488   \n",
       "4       330.0           0.0         0.0 2013-01-01 16:33:00  ...  77.61206   \n",
       "\n",
       "      to_lat    to_long Car_Cancellation  from_date_Hour  to_date_Hour  \\\n",
       "0  12.869805  77.653211                0              22             0   \n",
       "1  12.953434  77.706510                0              12             0   \n",
       "2  13.199560  77.706880                0               0             0   \n",
       "3  12.994740  77.607970                0              13             0   \n",
       "4  12.858833  77.589127                0              16             0   \n",
       "\n",
       "   booking_created_Hour  from_date_DOW  to_date_DOW  booking_created_DOW  \n",
       "0                     8              1            3                    1  \n",
       "1                     9              1            3                    1  \n",
       "2                    12              2            3                    1  \n",
       "3                    12              1            3                    1  \n",
       "4                    15              1            3                    1  \n",
       "\n",
       "[5 rows x 25 columns]"
      ]
     },
     "execution_count": 3,
     "metadata": {},
     "output_type": "execute_result"
    }
   ],
   "source": [
    "# Set all NaN to zero\n",
    "taxi_df = taxi_df.fillna(0)\n",
    "\n",
    "# convert a number of columns to categories\n",
    "taxi_df.vehicle_model_id = taxi_df.vehicle_model_id.astype('category')\n",
    "taxi_df.package_id = taxi_df.package_id.astype('category')\n",
    "taxi_df.travel_type_id = taxi_df.travel_type_id.astype('category')\n",
    "\n",
    "# convert date to day of week and time\n",
    "taxi_df.from_date = pd.to_datetime(taxi_df.from_date, infer_datetime_format=True)\n",
    "taxi_df.to_date = pd.to_datetime(taxi_df.to_date, infer_datetime_format=True)\n",
    "taxi_df.booking_created = pd.to_datetime(taxi_df.booking_created, infer_datetime_format=True)\n",
    "taxi_df['from_date_Hour'] = taxi_df.from_date.dt.hour\n",
    "taxi_df['to_date_Hour'] = taxi_df.to_date.dt.hour\n",
    "taxi_df['booking_created_Hour'] = taxi_df.booking_created.dt.hour\n",
    "taxi_df['from_date_DOW'] = taxi_df.from_date.dt.dayofweek\n",
    "taxi_df['to_date_DOW'] = taxi_df.to_date.dt.dayofweek\n",
    "taxi_df['booking_created_DOW'] = taxi_df.booking_created.dt.dayofweek\n",
    "\n",
    "taxi_df.head()"
   ]
  },
  {
   "cell_type": "code",
   "execution_count": 4,
   "metadata": {},
   "outputs": [
    {
     "data": {
      "text/plain": [
       "0      21.121893\n",
       "1       6.012612\n",
       "2      32.378385\n",
       "3       0.826818\n",
       "4       7.921406\n",
       "5      26.321281\n",
       "6       9.077398\n",
       "7      19.955680\n",
       "8    8672.376802\n",
       "9       7.262777\n",
       "Name: trip_length, dtype: float64"
      ]
     },
     "execution_count": 4,
     "metadata": {},
     "output_type": "execute_result"
    }
   ],
   "source": [
    "import math\n",
    "\n",
    "# compute trip length from GPS data\n",
    "def distance(s_lat, s_lng, e_lat, e_lng):\n",
    "    # approximate radius of earth in km\n",
    "    R = 6373.0\n",
    "    s_lat = s_lat * np.pi/180.0                      \n",
    "    s_lng = np.deg2rad(s_lng)     \n",
    "    e_lat = np.deg2rad(e_lat)                       \n",
    "    e_lng = np.deg2rad(e_lng)  \n",
    "    d = np.sin((e_lat - s_lat) / 2)**2 + np.cos(s_lat) * np.cos(e_lat) * np.sin((e_lng - s_lng) / 2)**2\n",
    "    return 2 * R * np.arcsin(np.sqrt(d))\n",
    "\n",
    "taxi_df['trip_length'] = distance(taxi_df.from_lat, taxi_df.from_long, taxi_df.to_lat, taxi_df.to_long)\n",
    "taxi_df['trip_length'].head(10)"
   ]
  },
  {
   "cell_type": "markdown",
   "metadata": {},
   "source": [
    "It is useful to look at the calculated trip_length critically. As you can see, most trip lengths are less than 100 km. However, there are a few cases, where the trip length is more than 8000 km. This is unrealistic and caused by the missing values for either start or end GPS co-ordinates. In this case, it is reasonable to either drop the trip length from the analysis or replace the unrealistic values with, for example the average trip length. We will use the second approach here."
   ]
  },
  {
   "cell_type": "code",
   "execution_count": 5,
   "metadata": {
    "scrolled": true
   },
   "outputs": [
    {
     "data": {
      "text/plain": [
       "0    21.121893\n",
       "1     6.012612\n",
       "2    32.378385\n",
       "3     0.826818\n",
       "4     7.921406\n",
       "5    26.321281\n",
       "6     9.077398\n",
       "7    19.955680\n",
       "8    17.228460\n",
       "9     7.262777\n",
       "Name: trip_length, dtype: float64"
      ]
     },
     "execution_count": 5,
     "metadata": {},
     "output_type": "execute_result"
    }
   ],
   "source": [
    "average_trip_length = taxi_df.trip_length[taxi_df.trip_length < 8000].mean()\n",
    "taxi_df.loc[taxi_df.trip_length > 8000, 'trip_length'] = average_trip_length\n",
    "\n",
    "taxi_df['trip_length'].head(10)"
   ]
  },
  {
   "cell_type": "code",
   "execution_count": 6,
   "metadata": {},
   "outputs": [
    {
     "name": "stdout",
     "output_type": "stream",
     "text": [
      "row# 10000\n",
      "user_id 7044\n",
      "vehicle_model_id 20\n",
      "package_id 8\n",
      "travel_type_id 3\n",
      "from_area_id 523\n",
      "to_area_id 480\n",
      "from_city_id 3\n",
      "to_city_id 68\n",
      "from_date 7976\n",
      "to_date 5333\n",
      "online_booking 2\n",
      "mobile_site_booking 2\n",
      "booking_created 9611\n",
      "from_lat 423\n",
      "from_long 420\n",
      "to_lat 391\n",
      "to_long 388\n",
      "Car_Cancellation 2\n",
      "from_date_Hour 24\n",
      "to_date_Hour 24\n",
      "booking_created_Hour 24\n",
      "from_date_DOW 7\n",
      "to_date_DOW 7\n",
      "booking_created_DOW 7\n",
      "trip_length 3457\n"
     ]
    }
   ],
   "source": [
    "# Number of unique values\n",
    "for column in taxi_df.columns:\n",
    "    print(column, taxi_df[column].nunique())"
   ]
  },
  {
   "cell_type": "markdown",
   "metadata": {},
   "source": [
    "The columns `user_id`, `from_area_id`, `to_area_id` have a large number of unique values and are therefore less useful. `from_area_id` and `to_area_id` would also require a good understanding of the local geography. For a preliminary analysis, we can ignore these. We already converted the date columns `from_date`, `to_date`, and `booking_created` to more informative hour and day of week, and therefore also ignore these.\n",
    "\n",
    "For a first analysis, we can also ignore the specific GPS information `from_lat`, `from_long`, `to_lat`, `to_long` and reduce this to the calculated `trip_length`.\n",
    "\n",
    "For a first analysis, we also exclude `vehicle_model_id` and `package_id` as their value distributions is dominated by a single value each. "
   ]
  },
  {
   "cell_type": "code",
   "execution_count": 7,
   "metadata": {
    "scrolled": true
   },
   "outputs": [
    {
     "name": "stdout",
     "output_type": "stream",
     "text": [
      "0.0     6294\n",
      "15.0    3679\n",
      "1.0       27\n",
      "Name: from_city_id, dtype: int64 \n",
      " 0.0      9661\n",
      "32.0      106\n",
      "55.0       35\n",
      "29.0       26\n",
      "146.0      17\n",
      "         ... \n",
      "88.0        1\n",
      "148.0       1\n",
      "36.0        1\n",
      "132.0       1\n",
      "61.0        1\n",
      "Name: to_city_id, Length: 68, dtype: int64\n"
     ]
    }
   ],
   "source": [
    "print(taxi_df['from_city_id'].value_counts(), '\\n', taxi_df['to_city_id'].value_counts())"
   ]
  },
  {
   "cell_type": "markdown",
   "metadata": {},
   "source": [
    "Instead of using `from_city_id` and `to_city_id`, we derive a variable `within_city` that states if a trip was within a city or between cities. We can do the same for `from_area_id` and `to_area_id` giving a variable `within_area`"
   ]
  },
  {
   "cell_type": "code",
   "execution_count": 8,
   "metadata": {},
   "outputs": [
    {
     "name": "stdout",
     "output_type": "stream",
     "text": [
      "1.0    6241\n",
      "0.0    3759\n",
      "Name: within_city, dtype: int64\n",
      "0.0    9985\n",
      "1.0      15\n",
      "Name: within_area, dtype: int64\n"
     ]
    }
   ],
   "source": [
    "taxi_df['within_city'] = 1.0 * (taxi_df['from_city_id'] == taxi_df['to_city_id'])\n",
    "print(taxi_df['within_city'].value_counts())\n",
    "\n",
    "taxi_df['within_area'] = 1.0 * (taxi_df['from_area_id'] == taxi_df['to_area_id'])\n",
    "print(taxi_df['within_area'].value_counts())"
   ]
  },
  {
   "cell_type": "markdown",
   "metadata": {},
   "source": [
    "The `within_area` information is less useful and we will therefore ignore it. \n",
    "\n",
    "We also exclude the information derived from `to_date` as it is essentially captured by the `from_date` information. "
   ]
  },
  {
   "cell_type": "markdown",
   "metadata": {},
   "source": [
    "# Step 4:\n",
    "Fit several predictive models of your choice.  Do they provide information on how the predictor variables relate to cancellations?"
   ]
  },
  {
   "cell_type": "code",
   "execution_count": 9,
   "metadata": {},
   "outputs": [
    {
     "data": {
      "text/plain": [
       "((6000, 9), (4000, 9))"
      ]
     },
     "execution_count": 9,
     "metadata": {},
     "output_type": "execute_result"
    }
   ],
   "source": [
    "outcome = 'Car_Cancellation'\n",
    "predictors = ['travel_type_id', 'within_city', 'online_booking', 'mobile_site_booking',\n",
    "       'from_date_Hour', 'booking_created_Hour', 'from_date_DOW', 'booking_created_DOW', 'trip_length']\n",
    "\n",
    "X = taxi_df[predictors]\n",
    "y = taxi_df[outcome]\n",
    "train_X, valid_X, train_y, valid_y = train_test_split(X, y, test_size=0.4, random_state=1)\n",
    "\n",
    "train_X.shape, valid_X.shape"
   ]
  },
  {
   "cell_type": "code",
   "execution_count": 10,
   "metadata": {},
   "outputs": [],
   "source": [
    "# Helper functions\n",
    "def confusionMatrices(model, title):\n",
    "    print(title + ' - training results')\n",
    "    classificationSummary(train_y, model.predict(train_X))\n",
    "    print(title + ' - validation results')\n",
    "    valid_pred = model.predict(valid_X)\n",
    "    classificationSummary(valid_y, valid_pred)"
   ]
  },
  {
   "cell_type": "markdown",
   "metadata": {},
   "source": [
    "## Step 4.1: Logistic regression model"
   ]
  },
  {
   "cell_type": "code",
   "execution_count": 11,
   "metadata": {
    "scrolled": true
   },
   "outputs": [
    {
     "name": "stdout",
     "output_type": "stream",
     "text": [
      "Logistic regression - training results\n",
      "Confusion Matrix (Accuracy 0.9253)\n",
      "\n",
      "       Prediction\n",
      "Actual    0    1\n",
      "     0 5552    0\n",
      "     1  448    0\n",
      "Logistic regression - validation results\n",
      "Confusion Matrix (Accuracy 0.9263)\n",
      "\n",
      "       Prediction\n",
      "Actual    0    1\n",
      "     0 3705    0\n",
      "     1  295    0\n"
     ]
    }
   ],
   "source": [
    "logit_reg = LogisticRegressionCV(penalty=\"l2\", solver='saga', cv=5, max_iter=5000)\n",
    "logit_reg.fit(train_X, train_y)\n",
    "logit_reg_confusion = confusionMatrices(logit_reg, 'Logistic regression')"
   ]
  },
  {
   "cell_type": "markdown",
   "metadata": {},
   "source": [
    "## Step 4.2: Decision tree classifier"
   ]
  },
  {
   "cell_type": "code",
   "execution_count": 12,
   "metadata": {},
   "outputs": [
    {
     "name": "stdout",
     "output_type": "stream",
     "text": [
      "Decision tree - training results\n",
      "Confusion Matrix (Accuracy 0.9968)\n",
      "\n",
      "       Prediction\n",
      "Actual    0    1\n",
      "     0 5551    1\n",
      "     1   18  430\n",
      "Decision tree - validation results\n",
      "Confusion Matrix (Accuracy 0.8745)\n",
      "\n",
      "       Prediction\n",
      "Actual    0    1\n",
      "     0 3435  270\n",
      "     1  232   63\n"
     ]
    }
   ],
   "source": [
    "dtree = DecisionTreeClassifier()\n",
    "dtree.fit(train_X, train_y)\n",
    "dtree_confusion = confusionMatrices(dtree, 'Decision tree')"
   ]
  },
  {
   "cell_type": "code",
   "execution_count": 13,
   "metadata": {},
   "outputs": [
    {
     "name": "stdout",
     "output_type": "stream",
     "text": [
      "Random forest - training results\n",
      "Confusion Matrix (Accuracy 0.9968)\n",
      "\n",
      "       Prediction\n",
      "Actual    0    1\n",
      "     0 5547    5\n",
      "     1   14  434\n",
      "Random forest - validation results\n",
      "Confusion Matrix (Accuracy 0.9197)\n",
      "\n",
      "       Prediction\n",
      "Actual    0    1\n",
      "     0 3640   65\n",
      "     1  256   39\n"
     ]
    }
   ],
   "source": [
    "rf = RandomForestClassifier(n_estimators=100)\n",
    "rf.fit(train_X, train_y)\n",
    "rf_confusion = confusionMatrices(rf, 'Random forest')"
   ]
  },
  {
   "cell_type": "code",
   "execution_count": 14,
   "metadata": {},
   "outputs": [
    {
     "name": "stdout",
     "output_type": "stream",
     "text": [
      "Improved score:  0.9253333333333332\n",
      "Improved parameters:  {'hidden_layer_sizes': 2}\n",
      "Neural network - training results\n",
      "Confusion Matrix (Accuracy 0.9257)\n",
      "\n",
      "       Prediction\n",
      "Actual    0    1\n",
      "     0 5549    3\n",
      "     1  443    5\n",
      "Neural network - validation results\n",
      "Confusion Matrix (Accuracy 0.9257)\n",
      "\n",
      "       Prediction\n",
      "Actual    0    1\n",
      "     0 3702    3\n",
      "     1  294    1\n"
     ]
    }
   ],
   "source": [
    "param_grid = {\n",
    "    'hidden_layer_sizes': list(range(2, 10)),\n",
    "}\n",
    "neuralNet = MLPClassifier(activation='logistic', solver='lbfgs', random_state=1, max_iter=5000)\n",
    "\n",
    "gridSearch = GridSearchCV(neuralNet, param_grid, cv=5, n_jobs=-1)\n",
    "gridSearch.fit(train_X, train_y)\n",
    "print('Improved score: ', gridSearch.best_score_)\n",
    "print('Improved parameters: ', gridSearch.best_params_)\n",
    "\n",
    "neuralNet = gridSearch.best_estimator_\n",
    "neuralNet_confusion = confusionMatrices(neuralNet, 'Neural network')"
   ]
  },
  {
   "cell_type": "markdown",
   "metadata": {},
   "source": [
    "# Step 5:\n",
    "Report the predictive performance of your model in terms of error rates (the confusion matrix). How well does the model perform? Can the model be used in practice?"
   ]
  },
  {
   "cell_type": "markdown",
   "metadata": {},
   "source": [
    "The logistic regression model predicts all rides as not canceled and has an error rate of 0.074 on the valiation set. The error rates for the other models are:\n",
    "\n",
    "- Decision tree: 1 - 0.8748 = 0.125\n",
    "- Random forest: 1 - 0.9180 = 0.082\n",
    "- Neural network: 1 - 0.9257 = 0.074\n",
    "\n",
    "Based on these parameters, the overall performance of the model is not good."
   ]
  },
  {
   "cell_type": "markdown",
   "metadata": {},
   "source": [
    "# Step 6:\n",
    "Examine the predictive performance of your model in terms of ranking (lift). How well does the model perform? Can the model be used in practice?"
   ]
  },
  {
   "cell_type": "code",
   "execution_count": 15,
   "metadata": {},
   "outputs": [
    {
     "data": {
      "text/plain": [
       "Text(0.5, 1.0, 'All models')"
      ]
     },
     "execution_count": 15,
     "metadata": {},
     "output_type": "execute_result"
    },
    {
     "data": {
      "image/png": "[encoded data removed]",
      "text/plain": [
       "<Figure size 1080x288 with 4 Axes>"
      ]
     },
     "metadata": {
      "needs_background": "light"
     },
     "output_type": "display_data"
    },
    {
     "data": {
      "image/png": "[encoded data removed]",
      "text/plain": [
       "<Figure size 432x288 with 1 Axes>"
      ]
     },
     "metadata": {
      "needs_background": "light"
     },
     "output_type": "display_data"
    }
   ],
   "source": [
    "fig, axes = plt.subplots(nrows=1, ncols=4, figsize=(15, 4))\n",
    "\n",
    "def modelGainsChart(model, title, ax=None):\n",
    "    result = pd.DataFrame({\n",
    "        'actual': valid_y,\n",
    "        'prob': model.predict_proba(valid_X)[:, 1]\n",
    "    })\n",
    "\n",
    "    result = result.sort_values(by=['prob'], ascending=False).reset_index(drop=True)\n",
    "    ax = gainsChart(result.actual, ax=ax)\n",
    "    ax.set_title(title)\n",
    "    return ax\n",
    "\n",
    "modelGainsChart(logit_reg, 'Logistic regression', axes[0])\n",
    "modelGainsChart(dtree, 'Decision tree', axes[1])\n",
    "modelGainsChart(rf, 'Random forest', axes[2])\n",
    "modelGainsChart(neuralNet, 'Neural network', axes[3])\n",
    "\n",
    "ax = modelGainsChart(logit_reg, 'Logistic regression')\n",
    "modelGainsChart(dtree, 'Decision tree', ax)\n",
    "modelGainsChart(rf, 'Random forest', ax)\n",
    "modelGainsChart(neuralNet, 'Neural network', ax)\n",
    "ax.set_title('All models')"
   ]
  },
  {
   "cell_type": "markdown",
   "metadata": {},
   "source": [
    "Based on the gains charts, we would pick either random forest or neural network. Both show a higher gain for highly ranked records. "
   ]
  },
  {
   "cell_type": "code",
   "execution_count": null,
   "metadata": {},
   "outputs": [],
   "source": []
  }
 ],
 "metadata": {
  "kernelspec": {
   "display_name": "Python 3",
   "language": "python",
   "name": "python3"
  },
  "language_info": {
   "codemirror_mode": {
    "name": "ipython",
    "version": 3
   },
   "file_extension": ".py",
   "mimetype": "text/x-python",
   "name": "python",
   "nbconvert_exporter": "python",
   "pygments_lexer": "ipython3",
   "version": "3.8.2"
  }
 },
 "nbformat": 4,
 "nbformat_minor": 2
}
