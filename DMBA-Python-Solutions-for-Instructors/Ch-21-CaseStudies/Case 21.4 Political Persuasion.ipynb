{
 "cells": [
  {
   "cell_type": "markdown",
   "metadata": {},
   "source": [
    "# Case 21.4 Political Persuasion\n",
    "\n",
    "> (c) 2019 Galit Shmueli, Peter C. Bruce, Peter Gedeck \n",
    ">\n",
    "> Case study included in\n",
    ">\n",
    "> _Data Mining for Business Analytics: Concepts, Techniques, and Applications in Python_ (First Edition) \n",
    "> Galit Shmueli, Peter C. Bruce, Peter Gedeck, and Nitin R. Patel. 2019."
   ]
  },
  {
   "cell_type": "code",
   "execution_count": 1,
   "metadata": {},
   "outputs": [],
   "source": [
    "%matplotlib inline\n",
    "import warnings\n",
    "from pathlib import Path\n",
    "import numpy as np\n",
    "import pandas as pd\n",
    "import matplotlib.pylab as plt\n",
    "\n",
    "from sklearn.linear_model import LogisticRegressionCV\n",
    "from sklearn.tree import DecisionTreeClassifier\n",
    "from sklearn.ensemble import RandomForestClassifier\n",
    "from sklearn.model_selection import train_test_split\n",
    "from sklearn.metrics import accuracy_score\n",
    "from sklearn.preprocessing import MinMaxScaler\n",
    "from sklearn.neural_network import MLPClassifier\n",
    "from sklearn.model_selection import train_test_split, GridSearchCV\n",
    "\n",
    "from dmba import classificationSummary, gainsChart\n",
    "\n",
    "DATA = Path('.').resolve().parent / 'data'"
   ]
  },
  {
   "cell_type": "markdown",
   "metadata": {},
   "source": [
    "# Assignment\n",
    "The task in this case is to develop an uplift model that predicts the uplift for each voter.  Uplift is defined as the increase in propensity to move one's opinion in a Democratic direction.  First, review the variables in `Voter-Persuasion.csv` and understand which data source they are probably coming from."
   ]
  },
  {
   "cell_type": "code",
   "execution_count": 2,
   "metadata": {
    "scrolled": false
   },
   "outputs": [
    {
     "data": {
      "text/html": [
       "<div>\n",
       "<style scoped>\n",
       "    .dataframe tbody tr th:only-of-type {\n",
       "        vertical-align: middle;\n",
       "    }\n",
       "\n",
       "    .dataframe tbody tr th {\n",
       "        vertical-align: top;\n",
       "    }\n",
       "\n",
       "    .dataframe thead th {\n",
       "        text-align: right;\n",
       "    }\n",
       "</style>\n",
       "<table border=\"1\" class=\"dataframe\">\n",
       "  <thead>\n",
       "    <tr style=\"text-align: right;\">\n",
       "      <th></th>\n",
       "      <th>VOTER_ID</th>\n",
       "      <th>SET_NO</th>\n",
       "      <th>OPP_SEX</th>\n",
       "      <th>AGE</th>\n",
       "      <th>HH_ND</th>\n",
       "      <th>HH_NR</th>\n",
       "      <th>HH_NI</th>\n",
       "      <th>MED_AGE</th>\n",
       "      <th>NH_WHITE</th>\n",
       "      <th>NH_AA</th>\n",
       "      <th>...</th>\n",
       "      <th>CAND2S</th>\n",
       "      <th>MESSAGE_A</th>\n",
       "      <th>MESSAGE_A_REV</th>\n",
       "      <th>I3</th>\n",
       "      <th>CAND1_UND</th>\n",
       "      <th>CAND2_UND</th>\n",
       "      <th>MOVED_AD</th>\n",
       "      <th>MOVED_A</th>\n",
       "      <th>opposite</th>\n",
       "      <th>Partition</th>\n",
       "    </tr>\n",
       "  </thead>\n",
       "  <tbody>\n",
       "    <tr>\n",
       "      <th>0</th>\n",
       "      <td>193801</td>\n",
       "      <td>2</td>\n",
       "      <td>0</td>\n",
       "      <td>28</td>\n",
       "      <td>1</td>\n",
       "      <td>1</td>\n",
       "      <td>1</td>\n",
       "      <td>37</td>\n",
       "      <td>61</td>\n",
       "      <td>34</td>\n",
       "      <td>...</td>\n",
       "      <td>S</td>\n",
       "      <td>1</td>\n",
       "      <td>0</td>\n",
       "      <td>N</td>\n",
       "      <td>N</td>\n",
       "      <td>N</td>\n",
       "      <td>N</td>\n",
       "      <td>0</td>\n",
       "      <td>1</td>\n",
       "      <td>V</td>\n",
       "    </tr>\n",
       "    <tr>\n",
       "      <th>1</th>\n",
       "      <td>627701</td>\n",
       "      <td>1</td>\n",
       "      <td>0</td>\n",
       "      <td>53</td>\n",
       "      <td>2</td>\n",
       "      <td>0</td>\n",
       "      <td>0</td>\n",
       "      <td>46</td>\n",
       "      <td>87</td>\n",
       "      <td>8</td>\n",
       "      <td>...</td>\n",
       "      <td>S</td>\n",
       "      <td>1</td>\n",
       "      <td>0</td>\n",
       "      <td>N</td>\n",
       "      <td>N</td>\n",
       "      <td>N</td>\n",
       "      <td>N</td>\n",
       "      <td>0</td>\n",
       "      <td>1</td>\n",
       "      <td>T</td>\n",
       "    </tr>\n",
       "    <tr>\n",
       "      <th>2</th>\n",
       "      <td>306924</td>\n",
       "      <td>2</td>\n",
       "      <td>0</td>\n",
       "      <td>68</td>\n",
       "      <td>2</td>\n",
       "      <td>1</td>\n",
       "      <td>0</td>\n",
       "      <td>41</td>\n",
       "      <td>23</td>\n",
       "      <td>64</td>\n",
       "      <td>...</td>\n",
       "      <td>L</td>\n",
       "      <td>1</td>\n",
       "      <td>0</td>\n",
       "      <td>N</td>\n",
       "      <td>N</td>\n",
       "      <td>N</td>\n",
       "      <td>Y</td>\n",
       "      <td>1</td>\n",
       "      <td>0</td>\n",
       "      <td>T</td>\n",
       "    </tr>\n",
       "    <tr>\n",
       "      <th>3</th>\n",
       "      <td>547609</td>\n",
       "      <td>1</td>\n",
       "      <td>0</td>\n",
       "      <td>66</td>\n",
       "      <td>0</td>\n",
       "      <td>2</td>\n",
       "      <td>0</td>\n",
       "      <td>35</td>\n",
       "      <td>53</td>\n",
       "      <td>29</td>\n",
       "      <td>...</td>\n",
       "      <td>S</td>\n",
       "      <td>1</td>\n",
       "      <td>0</td>\n",
       "      <td>N</td>\n",
       "      <td>N</td>\n",
       "      <td>N</td>\n",
       "      <td>N</td>\n",
       "      <td>0</td>\n",
       "      <td>1</td>\n",
       "      <td>T</td>\n",
       "    </tr>\n",
       "    <tr>\n",
       "      <th>4</th>\n",
       "      <td>141105</td>\n",
       "      <td>3</td>\n",
       "      <td>0</td>\n",
       "      <td>23</td>\n",
       "      <td>0</td>\n",
       "      <td>3</td>\n",
       "      <td>1</td>\n",
       "      <td>42</td>\n",
       "      <td>74</td>\n",
       "      <td>18</td>\n",
       "      <td>...</td>\n",
       "      <td>S</td>\n",
       "      <td>1</td>\n",
       "      <td>0</td>\n",
       "      <td>N</td>\n",
       "      <td>N</td>\n",
       "      <td>N</td>\n",
       "      <td>N</td>\n",
       "      <td>0</td>\n",
       "      <td>1</td>\n",
       "      <td>T</td>\n",
       "    </tr>\n",
       "  </tbody>\n",
       "</table>\n",
       "<p>5 rows × 79 columns</p>\n",
       "</div>"
      ],
      "text/plain": [
       "   VOTER_ID  SET_NO  OPP_SEX  AGE  HH_ND  HH_NR  HH_NI  MED_AGE  NH_WHITE  \\\n",
       "0    193801       2        0   28      1      1      1       37        61   \n",
       "1    627701       1        0   53      2      0      0       46        87   \n",
       "2    306924       2        0   68      2      1      0       41        23   \n",
       "3    547609       1        0   66      0      2      0       35        53   \n",
       "4    141105       3        0   23      0      3      1       42        74   \n",
       "\n",
       "   NH_AA  ...  CAND2S  MESSAGE_A  MESSAGE_A_REV  I3  CAND1_UND  CAND2_UND  \\\n",
       "0     34  ...       S          1              0   N          N          N   \n",
       "1      8  ...       S          1              0   N          N          N   \n",
       "2     64  ...       L          1              0   N          N          N   \n",
       "3     29  ...       S          1              0   N          N          N   \n",
       "4     18  ...       S          1              0   N          N          N   \n",
       "\n",
       "   MOVED_AD  MOVED_A  opposite  Partition  \n",
       "0         N        0         1          V  \n",
       "1         N        0         1          T  \n",
       "2         Y        1         0          T  \n",
       "3         N        0         1          T  \n",
       "4         N        0         1          T  \n",
       "\n",
       "[5 rows x 79 columns]"
      ]
     },
     "execution_count": 2,
     "metadata": {},
     "output_type": "execute_result"
    }
   ],
   "source": [
    "voter_df = pd.read_csv(DATA / 'Voter-Persuasion.csv')\n",
    "voter_df.head()"
   ]
  },
  {
   "cell_type": "code",
   "execution_count": 3,
   "metadata": {},
   "outputs": [
    {
     "data": {
      "text/plain": [
       "Index(['VOTER_ID', 'SET_NO', 'OPP_SEX', 'AGE', 'HH_ND', 'HH_NR', 'HH_NI',\n",
       "       'MED_AGE', 'NH_WHITE', 'NH_AA', 'NH_ASIAN', 'NH_MULT', 'HISP',\n",
       "       'COMM_LT10', 'COMM_609P', 'MED_HH_INC', 'COMM_CAR', 'COMM_CP',\n",
       "       'COMM_PT', 'COMM_WALK', 'KIDS', 'M_MAR', 'F_MAR', 'ED_4COL', 'GENDER_F',\n",
       "       'GENDER_M', 'H_AFDLN3P', 'H_F1', 'H_M1', 'H_MFDLN3P', 'PARTY_D',\n",
       "       'PARTY_I', 'PARTY_R', 'VPP_08', 'VPP_12', 'VPR_08', 'VPR_10', 'VPR_12',\n",
       "       'VG_04', 'VG_06', 'VG_08', 'VG_10', 'VG_12', 'PP_PELIG', 'PR_PELIG',\n",
       "       'AP_PELIG', 'G_PELIG', 'E_PELIG', 'NL5G', 'NL3PR', 'NL5AP', 'NL2PP',\n",
       "       'REG_DAYS', 'UPSCALEBUY', 'UPSCALEMAL', 'UPSCALEFEM', 'BOOKBUYERI',\n",
       "       'FAMILYMAGA', 'FEMALEORIE', 'RELIGIOUSM', 'GARDENINGM', 'CULINARYIN',\n",
       "       'HEALTHFITN', 'DOITYOURSE', 'FINANCIALM', 'RELIGIOUSC', 'POLITICALC',\n",
       "       'MEDIANEDUC', 'CAND1S', 'CAND2S', 'MESSAGE_A', 'MESSAGE_A_REV', 'I3',\n",
       "       'CAND1_UND', 'CAND2_UND', 'MOVED_AD', 'MOVED_A', 'opposite',\n",
       "       'Partition'],\n",
       "      dtype='object')"
      ]
     },
     "execution_count": 3,
     "metadata": {},
     "output_type": "execute_result"
    }
   ],
   "source": [
    "voter_df.columns"
   ]
  },
  {
   "cell_type": "markdown",
   "metadata": {},
   "source": [
    "There are some unneeded variables that need to be removed before conducting the analysis. These are all the dependent variables (DVs) in the data: We will remove all except the DV that we are predicting from the dataset used for this example:\n",
    "\n",
    "'CAND1S','CAND2S','I3','CAND1_UND','CAND2_UND','MOVED_AD'.\n",
    "\n",
    "The D, R and I variables are derived from party_ and the Household Party or HHP variables are also derived from party. So these field can be dropped. Remove other unneeded variables as appropriate."
   ]
  },
  {
   "cell_type": "code",
   "execution_count": 4,
   "metadata": {},
   "outputs": [
    {
     "data": {
      "text/plain": [
       "(10000, 59)"
      ]
     },
     "execution_count": 4,
     "metadata": {},
     "output_type": "execute_result"
    }
   ],
   "source": [
    "columns_to_drop = ['VOTER_ID', 'SET_NO', 'CAND1S','CAND2S','I3','CAND1_UND','CAND2_UND', \n",
    "                  'PARTY_D','PARTY_I','PARTY_R', 'HH_ND', 'HH_NR', 'HH_NI','VPP_12',\n",
    "                  'VPP_08','PP_PELIG','NL2PP','NL5AP', 'VPR_10','NL3PR']\n",
    "voter_df = voter_df.drop(columns=columns_to_drop)\n",
    "voter_df.shape"
   ]
  },
  {
   "cell_type": "markdown",
   "metadata": {},
   "source": [
    "`MOVED_AD` is encoded as 'Y' and 'N'. Convert to 1 and 0"
   ]
  },
  {
   "cell_type": "code",
   "execution_count": 5,
   "metadata": {},
   "outputs": [],
   "source": [
    "voter_df['MOVED_AD'] = [1 if moved == 'Y' else 0 for moved in voter_df['MOVED_AD']]"
   ]
  },
  {
   "cell_type": "markdown",
   "metadata": {},
   "source": [
    "# Step 1\n",
    "Overall, how well did the flyer do in moving voters in a Democratic direction?  (Look at the target variable among those who got the flyer, compared to those who did not.)    \n",
    "\n",
    "The `flyer` variable is `MESSAGE_A`"
   ]
  },
  {
   "cell_type": "code",
   "execution_count": 6,
   "metadata": {},
   "outputs": [
    {
     "data": {
      "text/html": [
       "<div>\n",
       "<style scoped>\n",
       "    .dataframe tbody tr th:only-of-type {\n",
       "        vertical-align: middle;\n",
       "    }\n",
       "\n",
       "    .dataframe tbody tr th {\n",
       "        vertical-align: top;\n",
       "    }\n",
       "\n",
       "    .dataframe thead th {\n",
       "        text-align: right;\n",
       "    }\n",
       "</style>\n",
       "<table border=\"1\" class=\"dataframe\">\n",
       "  <thead>\n",
       "    <tr style=\"text-align: right;\">\n",
       "      <th>MOVED_AD</th>\n",
       "      <th>0</th>\n",
       "      <th>1</th>\n",
       "    </tr>\n",
       "    <tr>\n",
       "      <th>MESSAGE_A</th>\n",
       "      <th></th>\n",
       "      <th></th>\n",
       "    </tr>\n",
       "  </thead>\n",
       "  <tbody>\n",
       "    <tr>\n",
       "      <th>0</th>\n",
       "      <td>3278</td>\n",
       "      <td>1722</td>\n",
       "    </tr>\n",
       "    <tr>\n",
       "      <th>1</th>\n",
       "      <td>2988</td>\n",
       "      <td>2012</td>\n",
       "    </tr>\n",
       "  </tbody>\n",
       "</table>\n",
       "</div>"
      ],
      "text/plain": [
       "MOVED_AD      0     1\n",
       "MESSAGE_A            \n",
       "0          3278  1722\n",
       "1          2988  2012"
      ]
     },
     "execution_count": 6,
     "metadata": {},
     "output_type": "execute_result"
    }
   ],
   "source": [
    "# crosstable \n",
    "crosstab = pd.crosstab(voter_df['MESSAGE_A'], columns=voter_df['MOVED_AD'])\n",
    "crosstab"
   ]
  },
  {
   "cell_type": "code",
   "execution_count": 7,
   "metadata": {},
   "outputs": [
    {
     "data": {
      "text/html": [
       "<div>\n",
       "<style scoped>\n",
       "    .dataframe tbody tr th:only-of-type {\n",
       "        vertical-align: middle;\n",
       "    }\n",
       "\n",
       "    .dataframe tbody tr th {\n",
       "        vertical-align: top;\n",
       "    }\n",
       "\n",
       "    .dataframe thead th {\n",
       "        text-align: right;\n",
       "    }\n",
       "</style>\n",
       "<table border=\"1\" class=\"dataframe\">\n",
       "  <thead>\n",
       "    <tr style=\"text-align: right;\">\n",
       "      <th>MOVED_AD</th>\n",
       "      <th>0</th>\n",
       "      <th>1</th>\n",
       "    </tr>\n",
       "    <tr>\n",
       "      <th>MESSAGE_A</th>\n",
       "      <th></th>\n",
       "      <th></th>\n",
       "    </tr>\n",
       "  </thead>\n",
       "  <tbody>\n",
       "    <tr>\n",
       "      <th>0</th>\n",
       "      <td>65.56</td>\n",
       "      <td>34.44</td>\n",
       "    </tr>\n",
       "    <tr>\n",
       "      <th>1</th>\n",
       "      <td>59.76</td>\n",
       "      <td>40.24</td>\n",
       "    </tr>\n",
       "  </tbody>\n",
       "</table>\n",
       "</div>"
      ],
      "text/plain": [
       "MOVED_AD       0      1\n",
       "MESSAGE_A              \n",
       "0          65.56  34.44\n",
       "1          59.76  40.24"
      ]
     },
     "execution_count": 7,
     "metadata": {},
     "output_type": "execute_result"
    }
   ],
   "source": [
    "# convert cross table to percentages by row\n",
    "crosstab / crosstab.sum(axis=1) * 100"
   ]
  },
  {
   "cell_type": "markdown",
   "metadata": {},
   "source": [
    "Overall, the flyer is successful in moving voters in a Democratic direction.  \n",
    "Of those who got the message, 40.24% moved in a favorable direction.  \n",
    "Of those who did not, only 34.44% moved. "
   ]
  },
  {
   "cell_type": "markdown",
   "metadata": {},
   "source": [
    "# Step 2\n",
    "Explore the data to learn more about the relationships between the predictor variables and `MOVED_AD` (visualization can be helpful). Which of the predictors seem to have good predictive potential? Show supporting charts and/or tables."
   ]
  },
  {
   "cell_type": "code",
   "execution_count": 8,
   "metadata": {},
   "outputs": [
    {
     "data": {
      "text/plain": [
       "Index(['OPP_SEX', 'AGE', 'MED_AGE', 'NH_WHITE', 'NH_AA', 'NH_ASIAN', 'NH_MULT',\n",
       "       'HISP', 'COMM_LT10', 'COMM_609P', 'MED_HH_INC', 'COMM_CAR', 'COMM_CP',\n",
       "       'COMM_PT', 'COMM_WALK', 'KIDS', 'M_MAR', 'F_MAR', 'ED_4COL', 'GENDER_F',\n",
       "       'GENDER_M', 'H_AFDLN3P', 'H_F1', 'H_M1', 'H_MFDLN3P', 'VPR_08',\n",
       "       'VPR_12', 'VG_04', 'VG_06', 'VG_08', 'VG_10', 'VG_12', 'PR_PELIG',\n",
       "       'AP_PELIG', 'G_PELIG', 'E_PELIG', 'NL5G', 'REG_DAYS', 'UPSCALEBUY',\n",
       "       'UPSCALEMAL', 'UPSCALEFEM', 'BOOKBUYERI', 'FAMILYMAGA', 'FEMALEORIE',\n",
       "       'RELIGIOUSM', 'GARDENINGM', 'CULINARYIN', 'HEALTHFITN', 'DOITYOURSE',\n",
       "       'FINANCIALM', 'RELIGIOUSC', 'POLITICALC', 'MEDIANEDUC', 'MESSAGE_A',\n",
       "       'MESSAGE_A_REV', 'MOVED_AD', 'MOVED_A', 'opposite', 'Partition'],\n",
       "      dtype='object')"
      ]
     },
     "execution_count": 8,
     "metadata": {},
     "output_type": "execute_result"
    }
   ],
   "source": [
    "predictors = voter_df.columns\n",
    "predictors"
   ]
  },
  {
   "cell_type": "code",
   "execution_count": 9,
   "metadata": {},
   "outputs": [
    {
     "data": {
      "image/png": "[encoded data removed]",
      "text/plain": [
       "<Figure size 1008x180 with 5 Axes>"
      ]
     },
     "metadata": {
      "needs_background": "light"
     },
     "output_type": "display_data"
    }
   ],
   "source": [
    "def boxplots(columns, ncols=5):\n",
    "    nrows = 1 + (len(columns) - 1) // ncols\n",
    "    fig, axes = plt.subplots(nrows=nrows, ncols=ncols, figsize=(14, nrows * 2.5))\n",
    "    for i, column in enumerate(columns):\n",
    "        ax = axes[i // ncols, i % ncols] if nrows > 1 else axes[i]\n",
    "        voter_df.boxplot(column=column, by='MOVED_AD', ax=ax)\n",
    "    for i in range(len(columns), nrows * ncols):\n",
    "        ax = axes[i // ncols, i % ncols] if nrows > 1 else axes[i]\n",
    "        fig.delaxes(ax)\n",
    "    fig.suptitle('')\n",
    "    plt.tight_layout()\n",
    "\n",
    "ethnicity_variables = ['NH_WHITE', 'NH_AA', 'NH_ASIAN', 'NH_MULT', 'HISP']\n",
    "boxplots(ethnicity_variables, ncols=5)"
   ]
  },
  {
   "cell_type": "markdown",
   "metadata": {},
   "source": [
    "Boxplot reveals some association between \n",
    "\n",
    "- % Non-Hispanic Caucasian (NH_WHITE) and Movement in Democratic Direction.\n",
    "- % Non-Hispanic Asian (NH_ASIAN) and Movement in Democratic Direction (MOVED_AD).\n",
    "- % Non-Hispanic multi-race (NH_MULT) and Movement in Democratic Direction (MOVED_AD)."
   ]
  },
  {
   "cell_type": "code",
   "execution_count": 10,
   "metadata": {},
   "outputs": [
    {
     "data": {
      "image/png": "[encoded data removed]",
      "text/plain": [
       "<Figure size 1008x180 with 6 Axes>"
      ]
     },
     "metadata": {
      "needs_background": "light"
     },
     "output_type": "display_data"
    }
   ],
   "source": [
    "commuting_variables = ['COMM_LT10', 'COMM_609P', 'COMM_CAR', 'COMM_CP', 'COMM_PT', 'COMM_WALK']\n",
    "boxplots(commuting_variables, ncols=6)"
   ]
  },
  {
   "cell_type": "markdown",
   "metadata": {},
   "source": [
    "Boxplot reveals some association between\n",
    "- % of workers who commute 60+ minutes each way(COMM_609P) and Movement in Democratic Direction (MOVED_AD)\n",
    "- % of workers who commute by car (COMM_CAR) and Movement in Democratic Direction (MOVED_AD)\n",
    "- % of workers who commute by public transport (COMM_PT) and Movement in Democratic Direction (MOVED_AD)"
   ]
  },
  {
   "cell_type": "code",
   "execution_count": 11,
   "metadata": {},
   "outputs": [
    {
     "data": {
      "image/png": "[encoded data removed]",
      "text/plain": [
       "<Figure size 1008x360 with 8 Axes>"
      ]
     },
     "metadata": {
      "needs_background": "light"
     },
     "output_type": "display_data"
    }
   ],
   "source": [
    "household_variables = ['KIDS', 'OPP_SEX', 'AGE', 'MED_AGE', 'MED_HH_INC', 'M_MAR', 'F_MAR', 'ED_4COL']\n",
    "boxplots(household_variables, ncols=4)"
   ]
  },
  {
   "cell_type": "markdown",
   "metadata": {},
   "source": [
    "Boxplot reveals little association \n",
    "- % of adult men who are married and living with spouse (F_MAR) and Movement in Democratic Direction (MOVED_AD)"
   ]
  },
  {
   "cell_type": "code",
   "execution_count": 12,
   "metadata": {},
   "outputs": [
    {
     "data": {
      "image/png": "[encoded data removed]",
      "text/plain": [
       "<Figure size 1008x360 with 6 Axes>"
      ]
     },
     "metadata": {
      "needs_background": "light"
     },
     "output_type": "display_data"
    }
   ],
   "source": [
    "def barcharts(columns, ncols=5):\n",
    "    nrows = 1 + (len(columns) - 1) // ncols\n",
    "    fig, axes = plt.subplots(nrows=nrows, ncols=ncols, figsize=(14, nrows * 2.5))\n",
    "    for i, column in enumerate(columns):\n",
    "        uniqueValues = sorted(voter_df[column].unique())\n",
    "        freq = pd.DataFrame({\n",
    "            column: uniqueValues,\n",
    "            '% of MOVED_AD': [voter_df[voter_df[column] == value]['MOVED_AD'].mean() for value in uniqueValues],\n",
    "        })\n",
    "        ax = axes[i // ncols, i % ncols] if nrows > 1 else axes[i]\n",
    "        with warnings.catch_warnings():\n",
    "            warnings.simplefilter(\"ignore\")\n",
    "            freq['% of MOVED_AD'].plot(kind='bar', ax=ax, legend=False)\n",
    "        ax.set_xlabel(column)\n",
    "    for i in range(len(columns), nrows * 5):\n",
    "        ax = axes[i // 5, i % 5] if nrows > 1 else axes[i]\n",
    "        fig.delaxes(ax)\n",
    "    plt.tight_layout()\n",
    "\n",
    "genderInformation = ['GENDER_F', 'GENDER_M', 'H_F1', 'H_M1', 'H_AFDLN3P', 'H_MFDLN3P']\n",
    "barcharts(genderInformation, ncols=5)"
   ]
  },
  {
   "cell_type": "code",
   "execution_count": 13,
   "metadata": {},
   "outputs": [
    {
     "data": {
      "image/png": "[encoded data removed]",
      "text/plain": [
       "<Figure size 1008x540 with 15 Axes>"
      ]
     },
     "metadata": {
      "needs_background": "light"
     },
     "output_type": "display_data"
    }
   ],
   "source": [
    "interestVariables = ['UPSCALEBUY', 'UPSCALEMAL', 'UPSCALEFEM', \n",
    "                     'POLITICALC', 'RELIGIOUSC',\n",
    "                     'BOOKBUYERI', 'FAMILYMAGA', 'FEMALEORIE', 'GARDENINGM', 'CULINARYIN', 'HEALTHFITN', \n",
    "                     'DOITYOURSE', 'FINANCIALM', 'RELIGIOUSM', 'MEDIANEDUC']\n",
    "barcharts(interestVariables, ncols=5)"
   ]
  },
  {
   "cell_type": "code",
   "execution_count": 14,
   "metadata": {},
   "outputs": [
    {
     "data": {
      "image/png": "[encoded data removed]",
      "text/plain": [
       "<Figure size 1008x180 with 2 Axes>"
      ]
     },
     "metadata": {
      "needs_background": "light"
     },
     "output_type": "display_data"
    },
    {
     "data": {
      "image/png": "[encoded data removed]",
      "text/plain": [
       "<Figure size 1008x540 with 11 Axes>"
      ]
     },
     "metadata": {
      "needs_background": "light"
     },
     "output_type": "display_data"
    }
   ],
   "source": [
    "voting_history1 = ['REG_DAYS', 'E_PELIG']\n",
    "boxplots(voting_history1, ncols=4)\n",
    "voting_history2 = ['AP_PELIG', 'PR_PELIG', 'G_PELIG', 'NL5G', 'VPR_08', 'VPR_12', 'VG_04', 'VG_06', 'VG_08', 'VG_10', 'VG_12']\n",
    "barcharts(voting_history2, ncols=5)"
   ]
  },
  {
   "cell_type": "code",
   "execution_count": 15,
   "metadata": {},
   "outputs": [
    {
     "data": {
      "image/png": "[encoded data removed]",
      "text/plain": [
       "<Figure size 1008x180 with 1 Axes>"
      ]
     },
     "metadata": {
      "needs_background": "light"
     },
     "output_type": "display_data"
    }
   ],
   "source": [
    "campaign_variables = ['MESSAGE_A']\n",
    "barcharts(campaign_variables, ncols=5)"
   ]
  },
  {
   "cell_type": "code",
   "execution_count": 16,
   "metadata": {},
   "outputs": [
    {
     "name": "stdout",
     "output_type": "stream",
     "text": [
      "Remaining columns {'opposite', 'Partition', 'MOVED_AD', 'MOVED_A', 'MESSAGE_A_REV'}\n"
     ]
    }
   ],
   "source": [
    "columns = set(voter_df.columns)\n",
    "columns.difference_update(ethnicity_variables)\n",
    "columns.difference_update(commuting_variables)\n",
    "columns.difference_update(household_variables)\n",
    "columns.difference_update(genderInformation)\n",
    "columns.difference_update(interestVariables)\n",
    "columns.difference_update(voting_history1)\n",
    "columns.difference_update(voting_history2)\n",
    "columns.difference_update(campaign_variables)\n",
    "\n",
    "print('Remaining columns', columns)"
   ]
  },
  {
   "cell_type": "markdown",
   "metadata": {},
   "source": [
    "# Step 3\n",
    "Partition the data using the partition variable that is in the dataset, make decisions about predictor inclusion, and fit three predictive models accordingly. For each model, give sufficient detail about the method used, its parameters, and the predictors used, so that your results can be replicated."
   ]
  },
  {
   "cell_type": "code",
   "execution_count": 17,
   "metadata": {},
   "outputs": [
    {
     "data": {
      "text/plain": [
       "((5948, 59), (4052, 59))"
      ]
     },
     "execution_count": 17,
     "metadata": {},
     "output_type": "execute_result"
    }
   ],
   "source": [
    "train_df = voter_df[voter_df['Partition'] == 'T']\n",
    "valid_df = voter_df[voter_df['Partition'] == 'V']\n",
    "train_df.shape, valid_df.shape"
   ]
  },
  {
   "cell_type": "code",
   "execution_count": 18,
   "metadata": {},
   "outputs": [],
   "source": [
    "outcome = 'MOVED_AD'\n",
    "predictors = (ethnicity_variables + commuting_variables + household_variables + \n",
    "              genderInformation + interestVariables + voting_history1 + voting_history1 +\n",
    "              campaign_variables)\n",
    "\n",
    "train_X = train_df[predictors]\n",
    "train_y = train_df[outcome]\n",
    "\n",
    "valid_X = valid_df[predictors]\n",
    "valid_y = valid_df[outcome]"
   ]
  },
  {
   "cell_type": "code",
   "execution_count": 19,
   "metadata": {},
   "outputs": [],
   "source": [
    "# Helper functions\n",
    "def confusionMatrices(model, title):\n",
    "    print(title + ' - training results')\n",
    "    classificationSummary(train_y, model.predict(train_X))\n",
    "    print(title + ' - validation results')\n",
    "    valid_pred = model.predict(valid_X)\n",
    "    classificationSummary(valid_y, valid_pred)"
   ]
  },
  {
   "cell_type": "markdown",
   "metadata": {},
   "source": [
    "## Logistic regression"
   ]
  },
  {
   "cell_type": "code",
   "execution_count": 20,
   "metadata": {
    "scrolled": true
   },
   "outputs": [
    {
     "name": "stdout",
     "output_type": "stream",
     "text": [
      "Logistic regression - training results\n",
      "Confusion Matrix (Accuracy 0.6221)\n",
      "\n",
      "       Prediction\n",
      "Actual    0    1\n",
      "     0 3694    1\n",
      "     1 2247    6\n",
      "Logistic regression - validation results\n",
      "Confusion Matrix (Accuracy 0.6347)\n",
      "\n",
      "       Prediction\n",
      "Actual    0    1\n",
      "     0 2570    1\n",
      "     1 1479    2\n"
     ]
    }
   ],
   "source": [
    "logit_reg = LogisticRegressionCV(penalty=\"l2\", solver='saga', cv=5, max_iter=8000)\n",
    "logit_reg.fit(train_X, train_y)\n",
    "logit_reg_confusion = confusionMatrices(logit_reg, 'Logistic regression')"
   ]
  },
  {
   "cell_type": "markdown",
   "metadata": {},
   "source": [
    "## Decision tree classifier"
   ]
  },
  {
   "cell_type": "code",
   "execution_count": 21,
   "metadata": {},
   "outputs": [
    {
     "name": "stdout",
     "output_type": "stream",
     "text": [
      "Decision tree - training results\n",
      "Confusion Matrix (Accuracy 0.9993)\n",
      "\n",
      "       Prediction\n",
      "Actual    0    1\n",
      "     0 3695    0\n",
      "     1    4 2249\n",
      "Decision tree - validation results\n",
      "Confusion Matrix (Accuracy 0.6024)\n",
      "\n",
      "       Prediction\n",
      "Actual    0    1\n",
      "     0 1699  872\n",
      "     1  739  742\n"
     ]
    }
   ],
   "source": [
    "dtree = DecisionTreeClassifier()\n",
    "dtree.fit(train_X, train_y)\n",
    "dtree_confusion = confusionMatrices(dtree, 'Decision tree')"
   ]
  },
  {
   "cell_type": "markdown",
   "metadata": {},
   "source": [
    "## Random forest classifier"
   ]
  },
  {
   "cell_type": "code",
   "execution_count": 22,
   "metadata": {
    "scrolled": true
   },
   "outputs": [
    {
     "name": "stdout",
     "output_type": "stream",
     "text": [
      "Random forest - training results\n",
      "Confusion Matrix (Accuracy 0.9993)\n",
      "\n",
      "       Prediction\n",
      "Actual    0    1\n",
      "     0 3693    2\n",
      "     1    2 2251\n",
      "Random forest - validation results\n",
      "Confusion Matrix (Accuracy 0.6540)\n",
      "\n",
      "       Prediction\n",
      "Actual    0    1\n",
      "     0 2035  536\n",
      "     1  866  615\n"
     ]
    }
   ],
   "source": [
    "rfModel = RandomForestClassifier(n_estimators=100)\n",
    "rfModel.fit(train_X, train_y)\n",
    "confusionMatrices(rfModel, 'Random forest')"
   ]
  },
  {
   "cell_type": "markdown",
   "metadata": {},
   "source": [
    "# Step 4\n",
    "Among your three models, choose the best one in terms of predictive power. Which one is it? Why did you choose it?\n",
    "\n",
    "The random forest classifier has the highest accuracy on the validation set."
   ]
  },
  {
   "cell_type": "markdown",
   "metadata": {},
   "source": [
    "# Step 5\n",
    "Using your chosen model, report the propensities for the first three records in the validation set."
   ]
  },
  {
   "cell_type": "code",
   "execution_count": 23,
   "metadata": {},
   "outputs": [
    {
     "name": "stdout",
     "output_type": "stream",
     "text": [
      "[0 0 0]\n",
      "[[0.55 0.45]\n",
      " [0.66 0.34]\n",
      " [0.65 0.35]]\n",
      "0    0\n",
      "8    1\n",
      "9    0\n",
      "Name: MOVED_AD, dtype: int64\n",
      "propensities of first three records: [0.45 0.34 0.35]\n"
     ]
    }
   ],
   "source": [
    "print(rfModel.predict(valid_X.iloc[:3,]))\n",
    "print(rfModel.predict_proba(valid_X.iloc[:3,]))\n",
    "print(valid_y[:3])\n",
    "\n",
    "print('propensities of first three records:', rfModel.predict_proba(valid_X.iloc[:3,])[:,1])"
   ]
  },
  {
   "cell_type": "markdown",
   "metadata": {},
   "source": [
    "# Step 6\n",
    "Create a derived variable that is the opposite of _Flyer_. Call it _Flyer-reversed_. Using your chosen model, re-score the validation data using the  _Flyer-reversed_ variable as a predictor, instead of _Flyer_. \n",
    "Report the propensities for the first three records in the validation set."
   ]
  },
  {
   "cell_type": "code",
   "execution_count": 24,
   "metadata": {
    "scrolled": true
   },
   "outputs": [
    {
     "name": "stdout",
     "output_type": "stream",
     "text": [
      "[0 0 0]\n",
      "[[0.5  0.5 ]\n",
      " [0.68 0.32]\n",
      " [0.68 0.32]]\n",
      "0    0\n",
      "8    1\n",
      "9    0\n",
      "Name: MOVED_AD, dtype: int64\n",
      "Propensities of first three records: [0.5  0.32 0.32]\n"
     ]
    }
   ],
   "source": [
    "# make a copy of valid_X and reverse MESSAGE_A\n",
    "valid_X\n",
    "valid_X_reversed = valid_X.copy()\n",
    "valid_X_reversed['MESSAGE_A'] = 1 - valid_X_reversed['MESSAGE_A']\n",
    "\n",
    "print(rfModel.predict(valid_X_reversed.iloc[:3,]))\n",
    "print(rfModel.predict_proba(valid_X_reversed.iloc[:3,]))\n",
    "print(valid_y[:3])\n",
    "\n",
    "print('Propensities of first three records:', rfModel.predict_proba(valid_X_reversed.iloc[:3,])[:,1])"
   ]
  },
  {
   "cell_type": "markdown",
   "metadata": {},
   "source": [
    "# Step 7\n",
    "For each record, uplift is computed based on the following difference: \n",
    "\n",
    "$$\n",
    "P(success | Flyer = 1) - P(success | Flyer = 0)\n",
    "$$ \n",
    "\n",
    "Compute the uplift for each of the voters in the validation set, and report the uplift for the first three records. "
   ]
  },
  {
   "cell_type": "code",
   "execution_count": 25,
   "metadata": {},
   "outputs": [
    {
     "data": {
      "text/html": [
       "<div>\n",
       "<style scoped>\n",
       "    .dataframe tbody tr th:only-of-type {\n",
       "        vertical-align: middle;\n",
       "    }\n",
       "\n",
       "    .dataframe tbody tr th {\n",
       "        vertical-align: top;\n",
       "    }\n",
       "\n",
       "    .dataframe thead th {\n",
       "        text-align: right;\n",
       "    }\n",
       "</style>\n",
       "<table border=\"1\" class=\"dataframe\">\n",
       "  <thead>\n",
       "    <tr style=\"text-align: right;\">\n",
       "      <th></th>\n",
       "      <th>probMessage</th>\n",
       "      <th>probNoMessage</th>\n",
       "      <th>uplift</th>\n",
       "    </tr>\n",
       "  </thead>\n",
       "  <tbody>\n",
       "    <tr>\n",
       "      <th>0</th>\n",
       "      <td>0.45</td>\n",
       "      <td>0.50</td>\n",
       "      <td>-0.05</td>\n",
       "    </tr>\n",
       "    <tr>\n",
       "      <th>8</th>\n",
       "      <td>0.34</td>\n",
       "      <td>0.32</td>\n",
       "      <td>0.02</td>\n",
       "    </tr>\n",
       "    <tr>\n",
       "      <th>9</th>\n",
       "      <td>0.35</td>\n",
       "      <td>0.32</td>\n",
       "      <td>0.03</td>\n",
       "    </tr>\n",
       "    <tr>\n",
       "      <th>10</th>\n",
       "      <td>0.68</td>\n",
       "      <td>0.77</td>\n",
       "      <td>-0.09</td>\n",
       "    </tr>\n",
       "    <tr>\n",
       "      <th>12</th>\n",
       "      <td>0.32</td>\n",
       "      <td>0.29</td>\n",
       "      <td>0.03</td>\n",
       "    </tr>\n",
       "  </tbody>\n",
       "</table>\n",
       "</div>"
      ],
      "text/plain": [
       "    probMessage  probNoMessage  uplift\n",
       "0          0.45           0.50   -0.05\n",
       "8          0.34           0.32    0.02\n",
       "9          0.35           0.32    0.03\n",
       "10         0.68           0.77   -0.09\n",
       "12         0.32           0.29    0.03"
      ]
     },
     "execution_count": 25,
     "metadata": {},
     "output_type": "execute_result"
    }
   ],
   "source": [
    "uplift_df = valid_X.copy()\n",
    "uplift_df['MESSAGE_A'] = 1\n",
    "predTreatment = rfModel.predict_proba(uplift_df)\n",
    "\n",
    "uplift_df['MESSAGE_A'] = 0\n",
    "predControl = rfModel.predict_proba(uplift_df)\n",
    "\n",
    "upliftResult_df = pd.DataFrame({\n",
    "    'probMessage': predTreatment[:,1],\n",
    "    'probNoMessage': predControl[:,1],\n",
    "    'uplift': predTreatment[:,1] - predControl[:,1],\n",
    "    }, index=uplift_df.index)\n",
    "upliftResult_df.head()"
   ]
  },
  {
   "cell_type": "markdown",
   "metadata": {},
   "source": [
    "# Step 8\n",
    "If a campaign has the resources to mail the flyer only to 10\\% of the voters, what uplift cutoff should be used?\n",
    "\n"
   ]
  },
  {
   "cell_type": "code",
   "execution_count": 26,
   "metadata": {},
   "outputs": [
    {
     "name": "stdout",
     "output_type": "stream",
     "text": [
      "Number of records  4052\n"
     ]
    },
    {
     "data": {
      "text/html": [
       "<div>\n",
       "<style scoped>\n",
       "    .dataframe tbody tr th:only-of-type {\n",
       "        vertical-align: middle;\n",
       "    }\n",
       "\n",
       "    .dataframe tbody tr th {\n",
       "        vertical-align: top;\n",
       "    }\n",
       "\n",
       "    .dataframe thead th {\n",
       "        text-align: right;\n",
       "    }\n",
       "</style>\n",
       "<table border=\"1\" class=\"dataframe\">\n",
       "  <thead>\n",
       "    <tr style=\"text-align: right;\">\n",
       "      <th></th>\n",
       "      <th>probMessage</th>\n",
       "      <th>probNoMessage</th>\n",
       "      <th>uplift</th>\n",
       "      <th>ranking</th>\n",
       "    </tr>\n",
       "  </thead>\n",
       "  <tbody>\n",
       "    <tr>\n",
       "      <th>8967</th>\n",
       "      <td>0.65</td>\n",
       "      <td>0.12</td>\n",
       "      <td>0.53</td>\n",
       "      <td>1</td>\n",
       "    </tr>\n",
       "    <tr>\n",
       "      <th>1371</th>\n",
       "      <td>0.73</td>\n",
       "      <td>0.25</td>\n",
       "      <td>0.48</td>\n",
       "      <td>2</td>\n",
       "    </tr>\n",
       "    <tr>\n",
       "      <th>4454</th>\n",
       "      <td>0.73</td>\n",
       "      <td>0.26</td>\n",
       "      <td>0.47</td>\n",
       "      <td>3</td>\n",
       "    </tr>\n",
       "    <tr>\n",
       "      <th>4757</th>\n",
       "      <td>0.67</td>\n",
       "      <td>0.21</td>\n",
       "      <td>0.46</td>\n",
       "      <td>4</td>\n",
       "    </tr>\n",
       "    <tr>\n",
       "      <th>1175</th>\n",
       "      <td>0.51</td>\n",
       "      <td>0.05</td>\n",
       "      <td>0.46</td>\n",
       "      <td>5</td>\n",
       "    </tr>\n",
       "  </tbody>\n",
       "</table>\n",
       "</div>"
      ],
      "text/plain": [
       "      probMessage  probNoMessage  uplift  ranking\n",
       "8967         0.65           0.12    0.53        1\n",
       "1371         0.73           0.25    0.48        2\n",
       "4454         0.73           0.26    0.47        3\n",
       "4757         0.67           0.21    0.46        4\n",
       "1175         0.51           0.05    0.46        5"
      ]
     },
     "execution_count": 26,
     "metadata": {},
     "output_type": "execute_result"
    }
   ],
   "source": [
    "nrecords = len(upliftResult_df)\n",
    "print('Number of records ', nrecords)\n",
    "upliftResult_df = upliftResult_df.sort_values(by=['uplift'], ascending=False)\n",
    "upliftResult_df['ranking'] = range(1, nrecords + 1)\n",
    "upliftResult_df.head()"
   ]
  },
  {
   "cell_type": "code",
   "execution_count": 27,
   "metadata": {},
   "outputs": [
    {
     "name": "stdout",
     "output_type": "stream",
     "text": [
      "Cutoff to target 10%: 0.19\n"
     ]
    },
    {
     "data": {
      "image/png": "[encoded data removed]",
      "text/plain": [
       "<Figure size 432x288 with 1 Axes>"
      ]
     },
     "metadata": {
      "needs_background": "light"
     },
     "output_type": "display_data"
    }
   ],
   "source": [
    "cutoff = upliftResult_df.iloc[int(0.1*nrecords), 2]\n",
    "print(f'Cutoff to target 10%: {cutoff:.2f}')\n",
    "ax = upliftResult_df.plot(x='ranking', y='uplift')\n",
    "ax.axvline(x=0.1 * len(upliftResult_df) + 1, color='grey')\n",
    "ax.axhline(y=cutoff, color='grey')\n",
    "plt.show()"
   ]
  },
  {
   "cell_type": "code",
   "execution_count": null,
   "metadata": {},
   "outputs": [],
   "source": []
  }
 ],
 "metadata": {
  "kernelspec": {
   "display_name": "Python 3",
   "language": "python",
   "name": "python3"
  },
  "language_info": {
   "codemirror_mode": {
    "name": "ipython",
    "version": 3
   },
   "file_extension": ".py",
   "mimetype": "text/x-python",
   "name": "python",
   "nbconvert_exporter": "python",
   "pygments_lexer": "ipython3",
   "version": "3.8.2"
  }
 },
 "nbformat": 4,
 "nbformat_minor": 2
}
