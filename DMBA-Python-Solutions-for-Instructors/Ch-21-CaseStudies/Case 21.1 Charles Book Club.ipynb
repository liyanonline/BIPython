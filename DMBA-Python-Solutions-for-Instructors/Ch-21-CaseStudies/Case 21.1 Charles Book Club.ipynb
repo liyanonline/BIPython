{
 "cells": [
  {
   "cell_type": "markdown",
   "metadata": {},
   "source": [
    "# Case 21.1 Charles Book Club\n",
    "\n",
    "> (c) 2019 Galit Shmueli, Peter C. Bruce, Peter Gedeck \n",
    ">\n",
    "> Case study included in\n",
    ">\n",
    "> _Data Mining for Business Analytics: Concepts, Techniques, and Applications in Python_ (First Edition) \n",
    "> Galit Shmueli, Peter C. Bruce, Peter Gedeck, and Nitin R. Patel. 2019."
   ]
  },
  {
   "cell_type": "code",
   "execution_count": 1,
   "metadata": {},
   "outputs": [],
   "source": [
    "%matplotlib inline\n",
    "from pathlib import Path\n",
    "from itertools import product\n",
    "import pandas as pd\n",
    "import numpy as np\n",
    "from sklearn.model_selection import train_test_split\n",
    "from sklearn import preprocessing\n",
    "from sklearn.neighbors import KNeighborsClassifier\n",
    "from sklearn.linear_model import LogisticRegression\n",
    "from sklearn.metrics import accuracy_score\n",
    "# from sklearn.tree import DecisionTreeClassifier\n",
    "# from sklearn.ensemble import AdaBoostClassifier\n",
    "# from sklearn.ensemble import BaggingClassifier\n",
    "# from sklearn.ensemble import RandomForestClassifier\n",
    "# from sklearn.discriminant_analysis import LinearDiscriminantAnalysis\n",
    "# from sklearn.preprocessing import MinMaxScaler\n",
    "# from sklearn.neural_network import MLPClassifier\n",
    "import matplotlib.pylab as plt\n",
    "\n",
    "from dmba import gainsChart\n",
    "\n",
    "DATA = Path('.').resolve().parent / 'data'"
   ]
  },
  {
   "cell_type": "markdown",
   "metadata": {},
   "source": [
    "## Data preparation"
   ]
  },
  {
   "cell_type": "code",
   "execution_count": 2,
   "metadata": {},
   "outputs": [],
   "source": [
    "# Load the data\n",
    "df = pd.read_csv(DATA / 'CharlesBookClub.csv')"
   ]
  },
  {
   "cell_type": "code",
   "execution_count": 3,
   "metadata": {
    "scrolled": true
   },
   "outputs": [
    {
     "data": {
      "text/html": [
       "<div>\n",
       "<style scoped>\n",
       "    .dataframe tbody tr th:only-of-type {\n",
       "        vertical-align: middle;\n",
       "    }\n",
       "\n",
       "    .dataframe tbody tr th {\n",
       "        vertical-align: top;\n",
       "    }\n",
       "\n",
       "    .dataframe thead th {\n",
       "        text-align: right;\n",
       "    }\n",
       "</style>\n",
       "<table border=\"1\" class=\"dataframe\">\n",
       "  <thead>\n",
       "    <tr style=\"text-align: right;\">\n",
       "      <th></th>\n",
       "      <th>Seq#</th>\n",
       "      <th>ID#</th>\n",
       "      <th>Gender</th>\n",
       "      <th>M</th>\n",
       "      <th>R</th>\n",
       "      <th>F</th>\n",
       "      <th>FirstPurch</th>\n",
       "      <th>ChildBks</th>\n",
       "      <th>YouthBks</th>\n",
       "      <th>CookBks</th>\n",
       "      <th>...</th>\n",
       "      <th>ItalCook</th>\n",
       "      <th>ItalAtlas</th>\n",
       "      <th>ItalArt</th>\n",
       "      <th>Florence</th>\n",
       "      <th>Related Purchase</th>\n",
       "      <th>Mcode</th>\n",
       "      <th>Rcode</th>\n",
       "      <th>Fcode</th>\n",
       "      <th>Yes_Florence</th>\n",
       "      <th>No_Florence</th>\n",
       "    </tr>\n",
       "  </thead>\n",
       "  <tbody>\n",
       "    <tr>\n",
       "      <th>0</th>\n",
       "      <td>1</td>\n",
       "      <td>25</td>\n",
       "      <td>1</td>\n",
       "      <td>297</td>\n",
       "      <td>14</td>\n",
       "      <td>2</td>\n",
       "      <td>22</td>\n",
       "      <td>0</td>\n",
       "      <td>1</td>\n",
       "      <td>1</td>\n",
       "      <td>...</td>\n",
       "      <td>0</td>\n",
       "      <td>0</td>\n",
       "      <td>0</td>\n",
       "      <td>0</td>\n",
       "      <td>0</td>\n",
       "      <td>5</td>\n",
       "      <td>4</td>\n",
       "      <td>2</td>\n",
       "      <td>0</td>\n",
       "      <td>1</td>\n",
       "    </tr>\n",
       "    <tr>\n",
       "      <th>1</th>\n",
       "      <td>2</td>\n",
       "      <td>29</td>\n",
       "      <td>0</td>\n",
       "      <td>128</td>\n",
       "      <td>8</td>\n",
       "      <td>2</td>\n",
       "      <td>10</td>\n",
       "      <td>0</td>\n",
       "      <td>0</td>\n",
       "      <td>0</td>\n",
       "      <td>...</td>\n",
       "      <td>0</td>\n",
       "      <td>0</td>\n",
       "      <td>0</td>\n",
       "      <td>0</td>\n",
       "      <td>0</td>\n",
       "      <td>4</td>\n",
       "      <td>3</td>\n",
       "      <td>2</td>\n",
       "      <td>0</td>\n",
       "      <td>1</td>\n",
       "    </tr>\n",
       "    <tr>\n",
       "      <th>2</th>\n",
       "      <td>3</td>\n",
       "      <td>46</td>\n",
       "      <td>1</td>\n",
       "      <td>138</td>\n",
       "      <td>22</td>\n",
       "      <td>7</td>\n",
       "      <td>56</td>\n",
       "      <td>2</td>\n",
       "      <td>1</td>\n",
       "      <td>2</td>\n",
       "      <td>...</td>\n",
       "      <td>1</td>\n",
       "      <td>0</td>\n",
       "      <td>0</td>\n",
       "      <td>0</td>\n",
       "      <td>2</td>\n",
       "      <td>4</td>\n",
       "      <td>4</td>\n",
       "      <td>3</td>\n",
       "      <td>0</td>\n",
       "      <td>1</td>\n",
       "    </tr>\n",
       "    <tr>\n",
       "      <th>3</th>\n",
       "      <td>4</td>\n",
       "      <td>47</td>\n",
       "      <td>1</td>\n",
       "      <td>228</td>\n",
       "      <td>2</td>\n",
       "      <td>1</td>\n",
       "      <td>2</td>\n",
       "      <td>0</td>\n",
       "      <td>0</td>\n",
       "      <td>0</td>\n",
       "      <td>...</td>\n",
       "      <td>0</td>\n",
       "      <td>0</td>\n",
       "      <td>0</td>\n",
       "      <td>0</td>\n",
       "      <td>0</td>\n",
       "      <td>5</td>\n",
       "      <td>1</td>\n",
       "      <td>1</td>\n",
       "      <td>0</td>\n",
       "      <td>1</td>\n",
       "    </tr>\n",
       "    <tr>\n",
       "      <th>4</th>\n",
       "      <td>5</td>\n",
       "      <td>51</td>\n",
       "      <td>1</td>\n",
       "      <td>257</td>\n",
       "      <td>10</td>\n",
       "      <td>1</td>\n",
       "      <td>10</td>\n",
       "      <td>0</td>\n",
       "      <td>0</td>\n",
       "      <td>0</td>\n",
       "      <td>...</td>\n",
       "      <td>0</td>\n",
       "      <td>0</td>\n",
       "      <td>0</td>\n",
       "      <td>0</td>\n",
       "      <td>0</td>\n",
       "      <td>5</td>\n",
       "      <td>3</td>\n",
       "      <td>1</td>\n",
       "      <td>0</td>\n",
       "      <td>1</td>\n",
       "    </tr>\n",
       "  </tbody>\n",
       "</table>\n",
       "<p>5 rows × 24 columns</p>\n",
       "</div>"
      ],
      "text/plain": [
       "   Seq#  ID#  Gender    M   R  F  FirstPurch  ChildBks  YouthBks  CookBks  \\\n",
       "0     1   25       1  297  14  2          22         0         1        1   \n",
       "1     2   29       0  128   8  2          10         0         0        0   \n",
       "2     3   46       1  138  22  7          56         2         1        2   \n",
       "3     4   47       1  228   2  1           2         0         0        0   \n",
       "4     5   51       1  257  10  1          10         0         0        0   \n",
       "\n",
       "   ...  ItalCook  ItalAtlas  ItalArt  Florence  Related Purchase  Mcode  \\\n",
       "0  ...         0          0        0         0                 0      5   \n",
       "1  ...         0          0        0         0                 0      4   \n",
       "2  ...         1          0        0         0                 2      4   \n",
       "3  ...         0          0        0         0                 0      5   \n",
       "4  ...         0          0        0         0                 0      5   \n",
       "\n",
       "   Rcode  Fcode  Yes_Florence  No_Florence  \n",
       "0      4      2             0            1  \n",
       "1      3      2             0            1  \n",
       "2      4      3             0            1  \n",
       "3      1      1             0            1  \n",
       "4      3      1             0            1  \n",
       "\n",
       "[5 rows x 24 columns]"
      ]
     },
     "execution_count": 3,
     "metadata": {},
     "output_type": "execute_result"
    }
   ],
   "source": [
    "# Prepare data for model building\n",
    "df.head()"
   ]
  },
  {
   "cell_type": "markdown",
   "metadata": {},
   "source": [
    "Partition the data into training (60\\%) and validation (40\\%). Use seed = 1."
   ]
  },
  {
   "cell_type": "code",
   "execution_count": 4,
   "metadata": {},
   "outputs": [
    {
     "data": {
      "text/plain": [
       "((2400, 24), (1600, 24))"
      ]
     },
     "execution_count": 4,
     "metadata": {},
     "output_type": "execute_result"
    }
   ],
   "source": [
    "# in this case, we split the full dataframe including all columns\n",
    "outcome = 'Yes_Florence'\n",
    "train_df, valid_df, train_y, valid_y = train_test_split(df, df[outcome], test_size=0.4, random_state=1)\n",
    "\n",
    "train_df.shape, valid_df.shape"
   ]
  },
  {
   "cell_type": "markdown",
   "metadata": {},
   "source": [
    "## Step 1: \n",
    "What is the response rate for the training data customers\n",
    "taken as a whole? What is the response rate for each of the $4\n",
    "\\times 5 \\times 3 = 60$ combinations of RFM categories? Which\n",
    "combinations have response rates in the training data that are above\n",
    "the overall response in the training data?\n",
    "\n",
    "Response rate for training data customers taken as a whole"
   ]
  },
  {
   "cell_type": "code",
   "execution_count": 5,
   "metadata": {},
   "outputs": [
    {
     "name": "stdout",
     "output_type": "stream",
     "text": [
      "average response rate for training data 0.08833333333333333\n",
      "average response rate for validation data 0.07875\n"
     ]
    }
   ],
   "source": [
    "average_response_rate = train_df[outcome].mean()\n",
    "print('average response rate for training data', average_response_rate)\n",
    "print('average response rate for validation data', valid_df[outcome].mean())"
   ]
  },
  {
   "cell_type": "markdown",
   "metadata": {},
   "source": [
    "What is the response rate for each of the $4 \\times 5 \\times 3 = 60$ combinations of RFM categories?"
   ]
  },
  {
   "cell_type": "code",
   "execution_count": null,
   "metadata": {},
   "outputs": [],
   "source": []
  },
  {
   "cell_type": "code",
   "execution_count": 6,
   "metadata": {
    "scrolled": true
   },
   "outputs": [
    {
     "data": {
      "text/plain": [
       "Rcode  Fcode  Mcode\n",
       "1      1      1        0.000000\n",
       "              2        0.000000\n",
       "              3        0.000000\n",
       "              4        0.200000\n",
       "              5        0.173913\n",
       "       2      2        0.666667\n",
       "              3        0.000000\n",
       "              4        0.050000\n",
       "              5        0.080000\n",
       "       3      3        0.333333\n",
       "              4        0.062500\n",
       "              5        0.153846\n",
       "2      1      1        0.400000\n",
       "              2        0.333333\n",
       "              3        0.150000\n",
       "              4        0.000000\n",
       "              5        0.172414\n",
       "       2      2        0.142857\n",
       "              3        0.166667\n",
       "              4        0.161290\n",
       "              5        0.043478\n",
       "       3      3        0.333333\n",
       "              4        0.200000\n",
       "              5        0.177778\n",
       "3      1      1        0.100000\n",
       "              2        0.090909\n",
       "              3        0.027778\n",
       "              4        0.074074\n",
       "              5        0.035088\n",
       "       2      2        0.043478\n",
       "              3        0.062500\n",
       "              4        0.042254\n",
       "              5        0.037736\n",
       "       3      3        0.000000\n",
       "              4        0.065789\n",
       "              5        0.136585\n",
       "4      1      1        0.000000\n",
       "              2        0.076923\n",
       "              3        0.140845\n",
       "              4        0.111111\n",
       "              5        0.053097\n",
       "       2      2        0.052632\n",
       "              3        0.033333\n",
       "              4        0.052174\n",
       "              5        0.082707\n",
       "       3      3        0.105263\n",
       "              4        0.088496\n",
       "              5        0.069307\n",
       "Name: Yes_Florence, dtype: float64"
      ]
     },
     "execution_count": 6,
     "metadata": {},
     "output_type": "execute_result"
    }
   ],
   "source": [
    "RFMcategories = ['Rcode', 'Fcode', 'Mcode']\n",
    "average_by_combination = train_df.groupby(RFMcategories)['Yes_Florence'].mean()\n",
    "average_by_combination"
   ]
  },
  {
   "cell_type": "markdown",
   "metadata": {},
   "source": [
    "Which combinations have response rates in the training data that are above the overall response in the training data?"
   ]
  },
  {
   "cell_type": "code",
   "execution_count": 7,
   "metadata": {
    "scrolled": false
   },
   "outputs": [
    {
     "data": {
      "text/plain": [
       "Rcode  Fcode  Mcode\n",
       "1      1      4        0.200000\n",
       "              5        0.173913\n",
       "       2      2        0.666667\n",
       "       3      3        0.333333\n",
       "              5        0.153846\n",
       "2      1      1        0.400000\n",
       "              2        0.333333\n",
       "              3        0.150000\n",
       "              5        0.172414\n",
       "       2      2        0.142857\n",
       "              3        0.166667\n",
       "              4        0.161290\n",
       "       3      3        0.333333\n",
       "              4        0.200000\n",
       "              5        0.177778\n",
       "3      1      1        0.100000\n",
       "              2        0.090909\n",
       "       3      5        0.136585\n",
       "4      1      3        0.140845\n",
       "              4        0.111111\n",
       "       3      3        0.105263\n",
       "              4        0.088496\n",
       "Name: Yes_Florence, dtype: float64"
      ]
     },
     "execution_count": 7,
     "metadata": {},
     "output_type": "execute_result"
    }
   ],
   "source": [
    "combinations_above_average = average_by_combination[average_by_combination > average_response_rate]\n",
    "combinations_above_average"
   ]
  },
  {
   "cell_type": "markdown",
   "metadata": {},
   "source": [
    "The index of the data series is a multi-index."
   ]
  },
  {
   "cell_type": "code",
   "execution_count": 8,
   "metadata": {
    "scrolled": false
   },
   "outputs": [
    {
     "data": {
      "text/plain": [
       "MultiIndex([(1, 1, 4),\n",
       "            (1, 1, 5),\n",
       "            (1, 2, 2),\n",
       "            (1, 3, 3),\n",
       "            (1, 3, 5),\n",
       "            (2, 1, 1),\n",
       "            (2, 1, 2),\n",
       "            (2, 1, 3),\n",
       "            (2, 1, 5),\n",
       "            (2, 2, 2),\n",
       "            (2, 2, 3),\n",
       "            (2, 2, 4),\n",
       "            (2, 3, 3),\n",
       "            (2, 3, 4),\n",
       "            (2, 3, 5),\n",
       "            (3, 1, 1),\n",
       "            (3, 1, 2),\n",
       "            (3, 3, 5),\n",
       "            (4, 1, 3),\n",
       "            (4, 1, 4),\n",
       "            (4, 3, 3),\n",
       "            (4, 3, 4)],\n",
       "           names=['Rcode', 'Fcode', 'Mcode'])"
      ]
     },
     "execution_count": 8,
     "metadata": {},
     "output_type": "execute_result"
    }
   ],
   "source": [
    "combinations_above_average.index"
   ]
  },
  {
   "cell_type": "code",
   "execution_count": 9,
   "metadata": {},
   "outputs": [
    {
     "data": {
      "text/plain": [
       "0.14523281596452328"
      ]
     },
     "execution_count": 9,
     "metadata": {},
     "output_type": "execute_result"
    }
   ],
   "source": [
    "sum(train_df.groupby(RFMcategories)['Yes_Florence'].sum()[combinations_above_average.index]) / \\\n",
    "sum(train_df.groupby(RFMcategories)['Yes_Florence'].count()[combinations_above_average.index])"
   ]
  },
  {
   "cell_type": "markdown",
   "metadata": {},
   "source": [
    "## Step 2:\n",
    "Suppose that we decide to send promotional mail only to\n",
    "the \"above-average\" RFM combinations identified in part 1.\n",
    "Compute the response rate in the validation data using these\n",
    "combinations."
   ]
  },
  {
   "cell_type": "code",
   "execution_count": 10,
   "metadata": {},
   "outputs": [],
   "source": [
    "# group validation data by RFM combinations\n",
    "grouped = valid_df.groupby(RFMcategories)\n",
    "\n",
    "# count the number of responses for each group\n",
    "rfm_counts = grouped['Yes_Florence'].count()\n",
    "rfm_responses = grouped['Yes_Florence'].sum()\n",
    "\n",
    "# and subset to combinations that were above average for the training set\n",
    "above_average_rfm_counts = rfm_counts[combinations_above_average.index]\n",
    "above_average_rfm_responses = rfm_responses[combinations_above_average.index]"
   ]
  },
  {
   "cell_type": "code",
   "execution_count": 11,
   "metadata": {},
   "outputs": [
    {
     "name": "stdout",
     "output_type": "stream",
     "text": [
      "Number of customers in above average combinations (validation) 606.0\n",
      "Responses from customers in above average combinations (validation) 53.0\n",
      "response rate 0.08745874587458746\n"
     ]
    }
   ],
   "source": [
    "# Total number of responses in validation set when sending to above average combinations\n",
    "print('Number of customers in above average combinations (validation)', above_average_rfm_counts.sum())\n",
    "print('Responses from customers in above average combinations (validation)', above_average_rfm_responses.sum())\n",
    "\n",
    "print('response rate', above_average_rfm_responses.sum() / above_average_rfm_counts.sum())"
   ]
  },
  {
   "cell_type": "markdown",
   "metadata": {},
   "source": [
    "## Step 3:\n",
    "Rework parts 1 and 2 with three segments:\n",
    "\n",
    "- Segment 1: RFM combinations that have response rates that exceed twice the overall response rate\n",
    "- Segment 2: RFM combinations that exceed the overall response rate but do not exceed twice that rate\n",
    "- Segment 3: the remaining RFM combinations\n",
    "\n",
    "Draw the lift curve (consisting of three points for these three\n",
    "segments) showing the number of customers in the validation dataset on the\n",
    "$x$-axis and cumulative number of buyers in the validation dataset on the $y$-axis.   \n",
    "\\end{enumerate}"
   ]
  },
  {
   "cell_type": "code",
   "execution_count": 12,
   "metadata": {},
   "outputs": [
    {
     "name": "stdout",
     "output_type": "stream",
     "text": [
      "Segment 1: 106 customers, 10 responses, 0.094 response rate\n",
      "Segment 2: 500 customers, 43 responses, 0.086 response rate\n",
      "Segment 3: 990 customers, 72 responses, 0.073 response rate\n"
     ]
    }
   ],
   "source": [
    "grouped = valid_df.groupby(RFMcategories)['Yes_Florence']\n",
    "customers_by_rfm = grouped.count()\n",
    "response_by_rfm = grouped.sum()\n",
    "\n",
    "# Create the segments \n",
    "segment_1 = average_by_combination[2 * average_response_rate < average_by_combination]\n",
    "segment_2 = average_by_combination[(average_response_rate < average_by_combination) & (average_by_combination <= 2 * average_response_rate)]\n",
    "segment_3 = average_by_combination[average_by_combination <= average_response_rate]\n",
    "\n",
    "# Calculate number of customers, responses, and rate for each segment\n",
    "customers_1 = customers_by_rfm[segment_1.index].sum()\n",
    "response_1 = response_by_rfm[segment_1.index].sum()\n",
    "rate_1 = response_1 / customers_1\n",
    "print(f'Segment 1: {customers_1:.0f} customers, {response_1:.0f} responses, {rate_1:.3f} response rate')\n",
    "\n",
    "customers_2 = customers_by_rfm[segment_2.index].sum()\n",
    "response_2 = response_by_rfm[segment_2.index].sum()\n",
    "rate_2 = response_2 / customers_2\n",
    "print(f'Segment 2: {customers_2:.0f} customers, {response_2:.0f} responses, {rate_2:.3f} response rate')\n",
    "\n",
    "customers_3 = customers_by_rfm[segment_3.index].sum()\n",
    "response_3 = response_by_rfm[segment_3.index].sum()\n",
    "rate_3 = response_3 / customers_3\n",
    "print(f'Segment 3: {customers_3:.0f} customers, {response_3:.0f} responses, {rate_3:.3f} response rate')"
   ]
  },
  {
   "cell_type": "code",
   "execution_count": 13,
   "metadata": {},
   "outputs": [
    {
     "data": {
      "image/png": "[encoded data removed]",
      "text/plain": [
       "<Figure size 720x288 with 2 Axes>"
      ]
     },
     "metadata": {
      "needs_background": "light"
     },
     "output_type": "display_data"
    }
   ],
   "source": [
    "data = {\n",
    "    'Number of customers': [customers_1, customers_2, customers_3], \n",
    "    'Number of responses': [response_1, response_2, response_3],\n",
    "    'Response rate': [rate_1, rate_2, rate_3],\n",
    "}\n",
    "\n",
    "number_of_customers_valid = valid_df[outcome].count()\n",
    "number_of_responses_valid = valid_df[outcome].sum()\n",
    "\n",
    "fig, axes = plt.subplots(nrows=1, ncols=2, figsize=(10, 4))\n",
    "\n",
    "xlim = (0, 1.1 * number_of_customers_valid)\n",
    "ylim = (0, 1.1 * max(data['Response rate']))\n",
    "pd.DataFrame(data).plot.scatter(x='Number of customers', y='Response rate', xlim=xlim, ylim=ylim, ax=axes[0])\n",
    "axes[0].axhline(valid_df[outcome].mean(), color='grey', linestyle='--')\n",
    "axes[0].set_title('Lift chart')\n",
    "\n",
    "ylim = (0, 1.1 * number_of_responses_valid)\n",
    "pd.DataFrame(data).plot.scatter(x='Number of customers', y='Number of responses', xlim=xlim, ylim=ylim, ax=axes[1])\n",
    "axes[1].plot((0, valid_df[outcome].count()), (0, valid_df[outcome].sum()), color='grey', linestyle='--')\n",
    "axes[1].set_title('Gains chart')\n",
    "\n",
    "plt.show()"
   ]
  },
  {
   "cell_type": "markdown",
   "metadata": {},
   "source": [
    "We can see that for segments 1 and 2, we get an above average response rate (grey line).\n",
    "\n",
    "Note: the outcome of this analysis greatly depends on the split of the dataset into training and validation sets. Vary the `random_state` and observe the effect it has on the response rates for the various segments"
   ]
  },
  {
   "cell_type": "markdown",
   "metadata": {},
   "source": [
    "# _k_-Nearest Neighbors\n",
    "The $k$-NN technique can be used to create segments\n",
    "based on product proximity to similar products of the products offered\n",
    "as well as the propensity to purchase (as measured by the RFM\n",
    "variables). \n",
    "For \"The Art History of Florence\", a possible\n",
    "segmentation by product proximity could be created using the\n",
    "following variables:\n",
    "\n",
    "- R: recency - months since last purchase\n",
    "- F: frequency - total number of past purchases\n",
    "- M: monetary - total money (in dollars) spent on books\n",
    "- FirstPurch: months since first purchase\n",
    "- RelatedPurch: total number of past purchases of related books (i.e., sum of purchases from the art and geography categories and of titles _Secrets of Italian Cooking_, _Historical Atlas of Italy_,  and _Italian Art_)"
   ]
  },
  {
   "cell_type": "markdown",
   "metadata": {},
   "source": [
    "## Step 4:\n",
    "Use the $k$-NN approach to classify cases with $k=1, 2, ..., 11$, using Florence as the outcome variable. Based on the validation set, find the best $k$. Remember to normalize all five variables. With the validation data, create a gains chart for the best $k$ model, and report the expected gains for the same number of customers that we mailed to in part 2\n",
    "\n",
    "### uniform weights"
   ]
  },
  {
   "cell_type": "code",
   "execution_count": 14,
   "metadata": {},
   "outputs": [
    {
     "data": {
      "text/html": [
       "<div>\n",
       "<style scoped>\n",
       "    .dataframe tbody tr th:only-of-type {\n",
       "        vertical-align: middle;\n",
       "    }\n",
       "\n",
       "    .dataframe tbody tr th {\n",
       "        vertical-align: top;\n",
       "    }\n",
       "\n",
       "    .dataframe thead th {\n",
       "        text-align: right;\n",
       "    }\n",
       "</style>\n",
       "<table border=\"1\" class=\"dataframe\">\n",
       "  <thead>\n",
       "    <tr style=\"text-align: right;\">\n",
       "      <th></th>\n",
       "      <th>k</th>\n",
       "      <th>accuracy</th>\n",
       "    </tr>\n",
       "  </thead>\n",
       "  <tbody>\n",
       "    <tr>\n",
       "      <th>0</th>\n",
       "      <td>1</td>\n",
       "      <td>0.846250</td>\n",
       "    </tr>\n",
       "    <tr>\n",
       "      <th>1</th>\n",
       "      <td>2</td>\n",
       "      <td>0.912500</td>\n",
       "    </tr>\n",
       "    <tr>\n",
       "      <th>2</th>\n",
       "      <td>3</td>\n",
       "      <td>0.895625</td>\n",
       "    </tr>\n",
       "    <tr>\n",
       "      <th>3</th>\n",
       "      <td>4</td>\n",
       "      <td>0.917500</td>\n",
       "    </tr>\n",
       "    <tr>\n",
       "      <th>4</th>\n",
       "      <td>5</td>\n",
       "      <td>0.913750</td>\n",
       "    </tr>\n",
       "    <tr>\n",
       "      <th>5</th>\n",
       "      <td>6</td>\n",
       "      <td>0.919375</td>\n",
       "    </tr>\n",
       "    <tr>\n",
       "      <th>6</th>\n",
       "      <td>7</td>\n",
       "      <td>0.916875</td>\n",
       "    </tr>\n",
       "    <tr>\n",
       "      <th>7</th>\n",
       "      <td>8</td>\n",
       "      <td>0.918750</td>\n",
       "    </tr>\n",
       "    <tr>\n",
       "      <th>8</th>\n",
       "      <td>9</td>\n",
       "      <td>0.916875</td>\n",
       "    </tr>\n",
       "    <tr>\n",
       "      <th>9</th>\n",
       "      <td>10</td>\n",
       "      <td>0.920000</td>\n",
       "    </tr>\n",
       "    <tr>\n",
       "      <th>10</th>\n",
       "      <td>11</td>\n",
       "      <td>0.918750</td>\n",
       "    </tr>\n",
       "  </tbody>\n",
       "</table>\n",
       "</div>"
      ],
      "text/plain": [
       "     k  accuracy\n",
       "0    1  0.846250\n",
       "1    2  0.912500\n",
       "2    3  0.895625\n",
       "3    4  0.917500\n",
       "4    5  0.913750\n",
       "5    6  0.919375\n",
       "6    7  0.916875\n",
       "7    8  0.918750\n",
       "8    9  0.916875\n",
       "9   10  0.920000\n",
       "10  11  0.918750"
      ]
     },
     "execution_count": 14,
     "metadata": {},
     "output_type": "execute_result"
    },
    {
     "data": {
      "image/png": "[encoded data removed]",
      "text/plain": [
       "<Figure size 432x288 with 1 Axes>"
      ]
     },
     "metadata": {
      "needs_background": "light"
     },
     "output_type": "display_data"
    }
   ],
   "source": [
    "outcome = 'Yes_Florence'\n",
    "predictors = ['M', 'R', 'F', 'FirstPurch', 'Related Purchase']\n",
    "\n",
    "# train standard scaler using the training set\n",
    "scaler = preprocessing.StandardScaler()\n",
    "scaler.fit(train_df[predictors])\n",
    "\n",
    "train_norm = scaler.transform(train_df[predictors])\n",
    "valid_norm = scaler.transform(valid_df[predictors])\n",
    "\n",
    "results = []\n",
    "for k in range(1, 12):\n",
    "    knn = KNeighborsClassifier(n_neighbors=k).fit(train_norm, train_y)\n",
    "    results.append({\n",
    "        'k': k,\n",
    "        'accuracy': accuracy_score(valid_y, knn.predict(valid_norm))\n",
    "    })\n",
    "results = pd.DataFrame(results)\n",
    "results.plot.scatter(x='k', y='accuracy')\n",
    "results"
   ]
  },
  {
   "cell_type": "markdown",
   "metadata": {},
   "source": [
    "Based on this result, we select a $k$ value of 6."
   ]
  },
  {
   "cell_type": "code",
   "execution_count": 15,
   "metadata": {},
   "outputs": [
    {
     "data": {
      "image/png": "[encoded data removed]",
      "text/plain": [
       "<Figure size 432x288 with 1 Axes>"
      ]
     },
     "metadata": {
      "needs_background": "light"
     },
     "output_type": "display_data"
    }
   ],
   "source": [
    "knn = KNeighborsClassifier(n_neighbors=6).fit(train_norm, train_y)\n",
    "\n",
    "gains_df = pd.DataFrame({\n",
    "    'actual': valid_y,\n",
    "    'prob': knn.predict_proba(valid_norm)[:, 1]\n",
    "})\n",
    "\n",
    "gains_df = gains_df.sort_values(by=['prob'], ascending=False).reset_index(drop=True)\n",
    "\n",
    "gainsChart(gains_df.actual)\n",
    "plt.show()"
   ]
  },
  {
   "cell_type": "code",
   "execution_count": 16,
   "metadata": {},
   "outputs": [
    {
     "name": "stdout",
     "output_type": "stream",
     "text": [
      "Expected response rates for sending to same number of customers as in step 2\n",
      "  106 customers: expect 10 responses (0.094 response rate)\n",
      "  500 customers: expect 34 responses (0.068 response rate)\n",
      "  990 customers: expect 81 responses (0.082 response rate)\n"
     ]
    }
   ],
   "source": [
    "print('Expected response rates for sending to same number of customers as in step 2')\n",
    "for customers in (customers_1, customers_2, customers_3):\n",
    "    expected = gains_df.loc[0:customers,][\"actual\"].sum()\n",
    "    ratio = expected / customers\n",
    "    print(f'  {customers:.0f} customers: expect {expected} responses ({ratio:.3f} response rate)')"
   ]
  },
  {
   "cell_type": "markdown",
   "metadata": {},
   "source": [
    "With the unweighted $k$-NN classifier, the probabilities can take only up to $k+1$ unique values. The gains chart therefore depends greatly on the order of the actual values for the same probability."
   ]
  },
  {
   "cell_type": "code",
   "execution_count": 17,
   "metadata": {},
   "outputs": [
    {
     "data": {
      "text/plain": [
       "0.000000    988\n",
       "0.166667    417\n",
       "0.333333    150\n",
       "0.500000     40\n",
       "0.666667      3\n",
       "0.833333      2\n",
       "Name: prob, dtype: int64"
      ]
     },
     "execution_count": 17,
     "metadata": {},
     "output_type": "execute_result"
    }
   ],
   "source": [
    "# unique probability values and their number of occurrence\n",
    "gains_df['prob'].value_counts()"
   ]
  },
  {
   "cell_type": "markdown",
   "metadata": {},
   "source": [
    "It is in this case therefore better to calculate the gains for these discrete probability values and assume linear behavior of the gains chart between these points (random sampling)"
   ]
  },
  {
   "cell_type": "code",
   "execution_count": 18,
   "metadata": {},
   "outputs": [
    {
     "data": {
      "image/png": "[encoded data removed]",
      "text/plain": [
       "<Figure size 432x288 with 1 Axes>"
      ]
     },
     "metadata": {
      "needs_background": "light"
     },
     "output_type": "display_data"
    }
   ],
   "source": [
    "probability_cutoff = [1] + sorted(gains_df['prob'].unique(), reverse=True)\n",
    "\n",
    "cumulative_count = []\n",
    "cumulative_gains = []\n",
    "for cutoff in probability_cutoff:\n",
    "    subset = gains_df['actual'][gains_df['prob'] >= cutoff]\n",
    "    cumulative_count.append(subset.count())\n",
    "    cumulative_gains.append(subset.sum())\n",
    "discrete_gains = pd.DataFrame({\n",
    "    'prob': probability_cutoff,\n",
    "    'count': cumulative_count,\n",
    "    'gains': cumulative_gains,\n",
    "})\n",
    "ax = discrete_gains.plot(x='count', y='gains', color='grey')\n",
    "discrete_gains.plot.scatter(x='count', y='gains', ax=ax)\n",
    "ax.plot((0, valid_df[outcome].count()), (0, valid_df[outcome].sum()), color='grey', linestyle='--')\n",
    "ax.set_title('Gains chart')\n",
    "ax.set_xlabel('# records')\n",
    "ax.set_ylabel('# cumulative gains')\n",
    "plt.show()"
   ]
  },
  {
   "cell_type": "markdown",
   "metadata": {},
   "source": [
    "This gains chart gives a much more realistic picture of the model behavior."
   ]
  },
  {
   "cell_type": "markdown",
   "metadata": {},
   "source": [
    "## Step 5:\n",
    "The $k$-NN prediction algorithm gives a numerical value, which is a weighted average of the values of the Florence variable for the $k$-NN with weights that are inversely proportional to distance. \n",
    "Using the best $k$ that you calculated above with $k$-NN classification, now run a model with $k$-NN prediction and compute a gains chart for the validation data. Use all 5 predictors and normalized data. What is the range within which a prediction will fall?  How does this result compare to the output you get with the $k$-NN classification?"
   ]
  },
  {
   "cell_type": "code",
   "execution_count": 19,
   "metadata": {},
   "outputs": [
    {
     "data": {
      "image/png": "[encoded data removed]",
      "text/plain": [
       "<Figure size 432x288 with 1 Axes>"
      ]
     },
     "metadata": {
      "needs_background": "light"
     },
     "output_type": "display_data"
    }
   ],
   "source": [
    "results = []\n",
    "for k in range(1, 12):\n",
    "    knn = KNeighborsClassifier(n_neighbors=k, weights='distance').fit(train_norm, train_y)\n",
    "    results.append({\n",
    "        'k': k,\n",
    "        'accuracy': accuracy_score(valid_y, knn.predict(valid_norm))\n",
    "    })\n",
    "results = pd.DataFrame(results)\n",
    "results.plot.scatter(x='k', y='accuracy')\n",
    "plt.show()"
   ]
  },
  {
   "cell_type": "code",
   "execution_count": 20,
   "metadata": {},
   "outputs": [
    {
     "data": {
      "image/png": "[encoded data removed]",
      "text/plain": [
       "<Figure size 432x288 with 1 Axes>"
      ]
     },
     "metadata": {
      "needs_background": "light"
     },
     "output_type": "display_data"
    }
   ],
   "source": [
    "# select k=10\n",
    "knn = KNeighborsClassifier(n_neighbors=10, weights='distance').fit(train_norm, train_y)\n",
    "\n",
    "gains_df = pd.DataFrame({\n",
    "    'actual': valid_y,\n",
    "    'prob': knn.predict_proba(valid_norm)[:, 1]\n",
    "})\n",
    "\n",
    "gains_df = gains_df.sort_values(by=['prob'], ascending=False).reset_index(drop=True)\n",
    "\n",
    "gainsChart(gains_df.actual)\n",
    "plt.show()"
   ]
  },
  {
   "cell_type": "code",
   "execution_count": 21,
   "metadata": {},
   "outputs": [
    {
     "name": "stdout",
     "output_type": "stream",
     "text": [
      "Expected response rates for sending to same number of customers as in step 2\n",
      "  106 customers: expect 13 responses (0.123 response rate)\n",
      "  500 customers: expect 39 responses (0.078 response rate)\n",
      "  990 customers: expect 80 responses (0.081 response rate)\n"
     ]
    }
   ],
   "source": [
    "print('Expected response rates for sending to same number of customers as in step 2')\n",
    "for customers in (customers_1, customers_2, customers_3):\n",
    "    expected = gains_df.loc[0:customers,][\"actual\"].sum()\n",
    "    ratio = expected / customers\n",
    "    print(f'  {customers:.0f} customers: expect {expected} responses ({ratio:.3f} response rate)')"
   ]
  },
  {
   "cell_type": "markdown",
   "metadata": {},
   "source": [
    "With the distance weighting, we get more variation in the predicted probabilities. However, it should be noted that for a large majority of customers, we predict a probability of 0. This means that in theory we should construct the gains chart similarly to what we have done for the unweighted $k$-NN model. This would however only replace the fluctuating gains line above about `# records` 850 with a straight line."
   ]
  },
  {
   "cell_type": "code",
   "execution_count": 22,
   "metadata": {},
   "outputs": [
    {
     "name": "stdout",
     "output_type": "stream",
     "text": [
      "835\n"
     ]
    },
    {
     "data": {
      "text/plain": [
       "0.000000    746\n",
       "1.000000      5\n",
       "0.102809      3\n",
       "0.046389      2\n",
       "0.110845      2\n",
       "           ... \n",
       "0.412269      1\n",
       "0.281657      1\n",
       "0.147823      1\n",
       "0.054422      1\n",
       "0.077897      1\n",
       "Name: prob, Length: 835, dtype: int64"
      ]
     },
     "execution_count": 22,
     "metadata": {},
     "output_type": "execute_result"
    }
   ],
   "source": [
    "# Number of unique probability values \n",
    "print(gains_df['prob'].nunique())\n",
    "\n",
    "# Distribution of discrete values\n",
    "gains_df['prob'].value_counts()"
   ]
  },
  {
   "cell_type": "markdown",
   "metadata": {},
   "source": [
    "The density plot shows the distribution of the probabilities more clearly."
   ]
  },
  {
   "cell_type": "code",
   "execution_count": 23,
   "metadata": {},
   "outputs": [
    {
     "data": {
      "image/png": "[encoded data removed]",
      "text/plain": [
       "<Figure size 432x288 with 1 Axes>"
      ]
     },
     "metadata": {
      "needs_background": "light"
     },
     "output_type": "display_data"
    }
   ],
   "source": [
    "gains_df['prob'].plot.density(bw_method=0.05)\n",
    "plt.show()"
   ]
  },
  {
   "cell_type": "markdown",
   "metadata": {},
   "source": [
    "# Logistic Regression\n",
    "The logistic regression model offers a powerful method for modeling response because it \n",
    "yields well-defined purchase probabilities. The model is especially attractive in consumer-choice settings because it can be derived from the random utility theory of consumer behavior.\n",
    "\n",
    "Use the training set data of 1800 records to construct three logistic regression models with Florence as the outcome variable and each of the following sets of predictors:\n",
    "\n",
    "- The full set of 16 predictors in the dataset\n",
    "- A subset of predictors that you judge to be the best\n",
    "- Only the $R$, $F$, and $M$ variables"
   ]
  },
  {
   "cell_type": "code",
   "execution_count": 24,
   "metadata": {},
   "outputs": [
    {
     "data": {
      "text/plain": [
       "LogisticRegression(C=1e+42, class_weight=None, dual=False, fit_intercept=True,\n",
       "                   intercept_scaling=1, l1_ratio=None, max_iter=100,\n",
       "                   multi_class='auto', n_jobs=None, penalty='l2',\n",
       "                   random_state=None, solver='liblinear', tol=0.0001, verbose=0,\n",
       "                   warm_start=False)"
      ]
     },
     "execution_count": 24,
     "metadata": {},
     "output_type": "execute_result"
    }
   ],
   "source": [
    "predictors1 = ['Gender', 'M', 'R', 'F', 'FirstPurch', \n",
    "               'ChildBks', 'YouthBks', 'CookBks', 'DoItYBks', 'RefBks', 'ArtBks', 'GeogBks',\n",
    "               'ItalCook', 'ItalAtlas', 'ItalArt', 'Related Purchase']\n",
    "predictors2 = ['M', 'R', 'F', 'FirstPurch', \n",
    "               'CookBks', 'ArtBks', 'GeogBks', 'ItalCook', 'ItalAtlas', 'ItalArt', \n",
    "               'Related Purchase']\n",
    "predictors3 = ['M', 'R', 'F']\n",
    "\n",
    "logit_reg_1 = LogisticRegression(penalty=\"l2\", C=1e42, solver='liblinear')\n",
    "logit_reg_1.fit(train_df[predictors1], train_y)\n",
    "\n",
    "logit_reg_2 = LogisticRegression(penalty=\"l2\", C=1e42, solver='liblinear')\n",
    "logit_reg_2.fit(train_df[predictors2], train_y)\n",
    "\n",
    "logit_reg_3 = LogisticRegression(penalty=\"l2\", C=1e42, solver='liblinear')\n",
    "logit_reg_3.fit(train_df[predictors3], train_y)"
   ]
  },
  {
   "cell_type": "markdown",
   "metadata": {},
   "source": [
    "## Step 6:\n",
    "Create a cumulative gains chart summarizing the results from the three logistic regression models created above, along with the expected cumulative gains for a random selection of an equal number of customers from the validation dataset."
   ]
  },
  {
   "cell_type": "code",
   "execution_count": 28,
   "metadata": {},
   "outputs": [
    {
     "data": {
      "image/png": "[encoded data removed]",
      "text/plain": [
       "<Figure size 1080x288 with 3 Axes>"
      ]
     },
     "metadata": {
      "needs_background": "light"
     },
     "output_type": "display_data"
    }
   ],
   "source": [
    "fig, axes = plt.subplots(nrows=1, ncols=3, figsize=(15, 4))\n",
    "\n",
    "result_1 = pd.DataFrame({\n",
    "    'actual': valid_y,\n",
    "    'prob': logit_reg_1.predict_proba(valid_df[predictors1])[:, 1]\n",
    "})\n",
    "\n",
    "result_1 = result_1.sort_values(by=['prob'], ascending=False).reset_index(drop=True)\n",
    "gainsChart(result_1.actual, ax=axes[0])\n",
    "axes[0].set_title('Model 1')\n",
    "\n",
    "result_2 = pd.DataFrame({\n",
    "    'actual': valid_y,\n",
    "    'prob': logit_reg_2.predict_proba(valid_df[predictors2])[:, 1]\n",
    "})\n",
    "\n",
    "result_2 = result_2.sort_values(by=['prob'], ascending=False).reset_index(drop=True)\n",
    "gainsChart(result_2.actual, ax=axes[1])\n",
    "axes[1].set_title('Model 2')\n",
    "\n",
    "result_3 = pd.DataFrame({\n",
    "    'actual': valid_y,\n",
    "    'prob': logit_reg_3.predict_proba(valid_df[predictors3])[:, 1]\n",
    "})\n",
    "\n",
    "result_3 = result_3.sort_values(by=['prob'], ascending=False).reset_index(drop=True)\n",
    "gainsChart(result_3.actual, ax=axes[2])\n",
    "axes[2].set_title('Model 3')\n",
    "plt.show()"
   ]
  },
  {
   "cell_type": "code",
   "execution_count": 26,
   "metadata": {},
   "outputs": [
    {
     "name": "stdout",
     "output_type": "stream",
     "text": [
      "Expected response rates for sending to same number of customers as in step 2\n",
      "  Model 1\n",
      "    106 customers: expect 19 responses (0.179 response rate)\n",
      "    500 customers: expect 59 responses (0.118 response rate)\n",
      "    990 customers: expect 95 responses (0.096 response rate)\n",
      "  Model 2\n",
      "    106 customers: expect 21 responses (0.198 response rate)\n",
      "    500 customers: expect 49 responses (0.098 response rate)\n",
      "    990 customers: expect 93 responses (0.094 response rate)\n",
      "  Model 3\n",
      "    106 customers: expect 11 responses (0.104 response rate)\n",
      "    500 customers: expect 52 responses (0.104 response rate)\n",
      "    990 customers: expect 93 responses (0.094 response rate)\n"
     ]
    }
   ],
   "source": [
    "print('Expected response rates for sending to same number of customers as in step 2')\n",
    "for model, model_gains in enumerate([result_1, result_2, result_3], 1):\n",
    "    print(f'  Model {model}')\n",
    "    for customers in (customers_1, customers_2, customers_3):\n",
    "        expected = model_gains.loc[0:customers,][\"actual\"].sum()\n",
    "        ratio = expected / customers\n",
    "        print(f'    {customers:.0f} customers: expect {expected} responses ({ratio:.3f} response rate)')"
   ]
  },
  {
   "cell_type": "markdown",
   "metadata": {},
   "source": [
    "## Step 7:\n",
    "If the cutoff criterion for a campaign is a 30\\% likelihood of a purchase, find the customers in the validation data that would be targeted and count the number of buyers in this set."
   ]
  },
  {
   "cell_type": "code",
   "execution_count": 27,
   "metadata": {},
   "outputs": [
    {
     "name": "stdout",
     "output_type": "stream",
     "text": [
      "Model 1\n",
      "  35 customers: expect 10 responses (0.286 response rate)\n",
      "Model 2\n",
      "  32 customers: expect 9 responses (0.281 response rate)\n",
      "Model 3\n",
      "  0 customers: expect 0 responses\n"
     ]
    }
   ],
   "source": [
    "target_1 = result_1[result_1.prob >= 0.3]\n",
    "target_2 = result_2[result_2.prob >= 0.3]\n",
    "target_3 = result_3[result_3.prob >= 0.3]\n",
    "\n",
    "for model, target in enumerate([target_1, target_2, target_3], 1):\n",
    "    count = target[\"actual\"].count()\n",
    "    expected = target[\"actual\"].sum()\n",
    "    print(f'Model {model}')\n",
    "    if count > 0:\n",
    "        ratio = expected / count\n",
    "        print(f'  {count} customers: expect {expected} responses ({ratio:.3f} response rate)')\n",
    "    else:\n",
    "        print(f'  {count} customers: expect {expected} responses')\n"
   ]
  },
  {
   "cell_type": "code",
   "execution_count": null,
   "metadata": {},
   "outputs": [],
   "source": []
  }
 ],
 "metadata": {
  "kernelspec": {
   "display_name": "Python 3",
   "language": "python",
   "name": "python3"
  },
  "language_info": {
   "codemirror_mode": {
    "name": "ipython",
    "version": 3
   },
   "file_extension": ".py",
   "mimetype": "text/x-python",
   "name": "python",
   "nbconvert_exporter": "python",
   "pygments_lexer": "ipython3",
   "version": "3.8.2"
  }
 },
 "nbformat": 4,
 "nbformat_minor": 2
}
