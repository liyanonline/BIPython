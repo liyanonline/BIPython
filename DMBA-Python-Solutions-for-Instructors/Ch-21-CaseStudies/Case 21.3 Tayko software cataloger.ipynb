{
 "cells": [
  {
   "cell_type": "markdown",
   "metadata": {},
   "source": [
    "# Case 21.3 Tayko software cataloger\n",
    "\n",
    "> (c) 2019 Galit Shmueli, Peter C. Bruce, Peter Gedeck \n",
    ">\n",
    "> Case study included in\n",
    ">\n",
    "> _Data Mining for Business Analytics: Concepts, Techniques, and Applications in Python_ (First Edition) \n",
    "> Galit Shmueli, Peter C. Bruce, Peter Gedeck, and Nitin R. Patel. 2019."
   ]
  },
  {
   "cell_type": "code",
   "execution_count": 1,
   "metadata": {},
   "outputs": [],
   "source": [
    "%matplotlib inline\n",
    "\n",
    "from pathlib import Path\n",
    "import numpy as np\n",
    "import pandas as pd\n",
    "from sklearn.linear_model import LogisticRegressionCV\n",
    "from sklearn.linear_model import LinearRegression\n",
    "from sklearn.tree import DecisionTreeRegressor\n",
    "from sklearn.model_selection import train_test_split\n",
    "from sklearn.metrics import accuracy_score, mean_squared_error\n",
    "from sklearn.preprocessing import MinMaxScaler\n",
    "from dmba import stepwise_selection, regressionSummary, gainsChart, AIC_score\n",
    "\n",
    "DATA = Path('.').resolve().parent / 'data'"
   ]
  },
  {
   "cell_type": "markdown",
   "metadata": {},
   "source": [
    "## Load the data"
   ]
  },
  {
   "cell_type": "code",
   "execution_count": 2,
   "metadata": {},
   "outputs": [
    {
     "name": "stdout",
     "output_type": "stream",
     "text": [
      "(2000, 25)\n"
     ]
    },
    {
     "data": {
      "text/html": [
       "<div>\n",
       "<style scoped>\n",
       "    .dataframe tbody tr th:only-of-type {\n",
       "        vertical-align: middle;\n",
       "    }\n",
       "\n",
       "    .dataframe tbody tr th {\n",
       "        vertical-align: top;\n",
       "    }\n",
       "\n",
       "    .dataframe thead th {\n",
       "        text-align: right;\n",
       "    }\n",
       "</style>\n",
       "<table border=\"1\" class=\"dataframe\">\n",
       "  <thead>\n",
       "    <tr style=\"text-align: right;\">\n",
       "      <th></th>\n",
       "      <th>sequence_number</th>\n",
       "      <th>US</th>\n",
       "      <th>source_a</th>\n",
       "      <th>source_c</th>\n",
       "      <th>source_b</th>\n",
       "      <th>source_d</th>\n",
       "      <th>source_e</th>\n",
       "      <th>source_m</th>\n",
       "      <th>source_o</th>\n",
       "      <th>source_h</th>\n",
       "      <th>...</th>\n",
       "      <th>source_x</th>\n",
       "      <th>source_w</th>\n",
       "      <th>Freq</th>\n",
       "      <th>last_update_days_ago</th>\n",
       "      <th>1st_update_days_ago</th>\n",
       "      <th>Web order</th>\n",
       "      <th>Gender=male</th>\n",
       "      <th>Address_is_res</th>\n",
       "      <th>Purchase</th>\n",
       "      <th>Spending</th>\n",
       "    </tr>\n",
       "  </thead>\n",
       "  <tbody>\n",
       "    <tr>\n",
       "      <th>0</th>\n",
       "      <td>1</td>\n",
       "      <td>1</td>\n",
       "      <td>0</td>\n",
       "      <td>0</td>\n",
       "      <td>1</td>\n",
       "      <td>0</td>\n",
       "      <td>0</td>\n",
       "      <td>0</td>\n",
       "      <td>0</td>\n",
       "      <td>0</td>\n",
       "      <td>...</td>\n",
       "      <td>0</td>\n",
       "      <td>0</td>\n",
       "      <td>2</td>\n",
       "      <td>3662</td>\n",
       "      <td>3662</td>\n",
       "      <td>1</td>\n",
       "      <td>0</td>\n",
       "      <td>1</td>\n",
       "      <td>1</td>\n",
       "      <td>128</td>\n",
       "    </tr>\n",
       "    <tr>\n",
       "      <th>1</th>\n",
       "      <td>2</td>\n",
       "      <td>1</td>\n",
       "      <td>0</td>\n",
       "      <td>0</td>\n",
       "      <td>0</td>\n",
       "      <td>0</td>\n",
       "      <td>1</td>\n",
       "      <td>0</td>\n",
       "      <td>0</td>\n",
       "      <td>0</td>\n",
       "      <td>...</td>\n",
       "      <td>0</td>\n",
       "      <td>0</td>\n",
       "      <td>0</td>\n",
       "      <td>2900</td>\n",
       "      <td>2900</td>\n",
       "      <td>1</td>\n",
       "      <td>1</td>\n",
       "      <td>0</td>\n",
       "      <td>0</td>\n",
       "      <td>0</td>\n",
       "    </tr>\n",
       "    <tr>\n",
       "      <th>2</th>\n",
       "      <td>3</td>\n",
       "      <td>1</td>\n",
       "      <td>0</td>\n",
       "      <td>0</td>\n",
       "      <td>0</td>\n",
       "      <td>0</td>\n",
       "      <td>0</td>\n",
       "      <td>0</td>\n",
       "      <td>0</td>\n",
       "      <td>0</td>\n",
       "      <td>...</td>\n",
       "      <td>0</td>\n",
       "      <td>0</td>\n",
       "      <td>2</td>\n",
       "      <td>3883</td>\n",
       "      <td>3914</td>\n",
       "      <td>0</td>\n",
       "      <td>0</td>\n",
       "      <td>0</td>\n",
       "      <td>1</td>\n",
       "      <td>127</td>\n",
       "    </tr>\n",
       "    <tr>\n",
       "      <th>3</th>\n",
       "      <td>4</td>\n",
       "      <td>1</td>\n",
       "      <td>0</td>\n",
       "      <td>1</td>\n",
       "      <td>0</td>\n",
       "      <td>0</td>\n",
       "      <td>0</td>\n",
       "      <td>0</td>\n",
       "      <td>0</td>\n",
       "      <td>0</td>\n",
       "      <td>...</td>\n",
       "      <td>0</td>\n",
       "      <td>0</td>\n",
       "      <td>1</td>\n",
       "      <td>829</td>\n",
       "      <td>829</td>\n",
       "      <td>0</td>\n",
       "      <td>1</td>\n",
       "      <td>0</td>\n",
       "      <td>0</td>\n",
       "      <td>0</td>\n",
       "    </tr>\n",
       "    <tr>\n",
       "      <th>4</th>\n",
       "      <td>5</td>\n",
       "      <td>1</td>\n",
       "      <td>0</td>\n",
       "      <td>1</td>\n",
       "      <td>0</td>\n",
       "      <td>0</td>\n",
       "      <td>0</td>\n",
       "      <td>0</td>\n",
       "      <td>0</td>\n",
       "      <td>0</td>\n",
       "      <td>...</td>\n",
       "      <td>0</td>\n",
       "      <td>0</td>\n",
       "      <td>1</td>\n",
       "      <td>869</td>\n",
       "      <td>869</td>\n",
       "      <td>0</td>\n",
       "      <td>0</td>\n",
       "      <td>0</td>\n",
       "      <td>0</td>\n",
       "      <td>0</td>\n",
       "    </tr>\n",
       "  </tbody>\n",
       "</table>\n",
       "<p>5 rows × 25 columns</p>\n",
       "</div>"
      ],
      "text/plain": [
       "   sequence_number  US  source_a  source_c  source_b  source_d  source_e  \\\n",
       "0                1   1         0         0         1         0         0   \n",
       "1                2   1         0         0         0         0         1   \n",
       "2                3   1         0         0         0         0         0   \n",
       "3                4   1         0         1         0         0         0   \n",
       "4                5   1         0         1         0         0         0   \n",
       "\n",
       "   source_m  source_o  source_h  ...  source_x  source_w  Freq  \\\n",
       "0         0         0         0  ...         0         0     2   \n",
       "1         0         0         0  ...         0         0     0   \n",
       "2         0         0         0  ...         0         0     2   \n",
       "3         0         0         0  ...         0         0     1   \n",
       "4         0         0         0  ...         0         0     1   \n",
       "\n",
       "   last_update_days_ago  1st_update_days_ago  Web order  Gender=male  \\\n",
       "0                  3662                 3662          1            0   \n",
       "1                  2900                 2900          1            1   \n",
       "2                  3883                 3914          0            0   \n",
       "3                   829                  829          0            1   \n",
       "4                   869                  869          0            0   \n",
       "\n",
       "   Address_is_res  Purchase  Spending  \n",
       "0               1         1       128  \n",
       "1               0         0         0  \n",
       "2               0         1       127  \n",
       "3               0         0         0  \n",
       "4               0         0         0  \n",
       "\n",
       "[5 rows x 25 columns]"
      ]
     },
     "execution_count": 2,
     "metadata": {},
     "output_type": "execute_result"
    }
   ],
   "source": [
    "tayko_df = pd.read_csv(DATA / 'Tayko.csv')\n",
    "print(tayko_df.shape)\n",
    "tayko_df.head()"
   ]
  },
  {
   "cell_type": "code",
   "execution_count": 3,
   "metadata": {},
   "outputs": [
    {
     "data": {
      "text/plain": [
       "Index(['sequence_number', 'US', 'source_a', 'source_c', 'source_b', 'source_d',\n",
       "       'source_e', 'source_m', 'source_o', 'source_h', 'source_r', 'source_s',\n",
       "       'source_t', 'source_u', 'source_p', 'source_x', 'source_w', 'Freq',\n",
       "       'last_update_days_ago', '1st_update_days_ago', 'Web order',\n",
       "       'Gender=male', 'Address_is_res', 'Purchase', 'Spending'],\n",
       "      dtype='object')"
      ]
     },
     "execution_count": 3,
     "metadata": {},
     "output_type": "execute_result"
    }
   ],
   "source": [
    "tayko_df.columns"
   ]
  },
  {
   "cell_type": "markdown",
   "metadata": {},
   "source": [
    "# Assignment\n",
    "## Step 1\n",
    "Each catalog costs approximately $2 to mail (including printing, postage, and mailing costs). Estimate the gross profit that the firm could expect from the remaining 180,000 names if it selects them randomly from the pool."
   ]
  },
  {
   "cell_type": "code",
   "execution_count": 4,
   "metadata": {},
   "outputs": [
    {
     "name": "stdout",
     "output_type": "stream",
     "text": [
      "Average Spending 205.249\n",
      "Expected average spending 10.878197\n",
      "Expected average profit 8.878197\n",
      "Expected profit 1598075.46\n"
     ]
    }
   ],
   "source": [
    "# Calculate average spending from the 1,000 purchasers in the stratified sample\n",
    "customersWithPurchase = tayko_df[tayko_df['Purchase'] == 1]\n",
    "averageSpending = customersWithPurchase['Spending'].mean()\n",
    "print('Average Spending', averageSpending)\n",
    "\n",
    "# Expected average spending per customer\n",
    "print('Expected average spending', 0.053 * averageSpending)\n",
    "\n",
    "# Expected average profit per customer (remove cost of mailing)\n",
    "print('Expected average profit', 0.053 * averageSpending - 2)\n",
    "\n",
    "# Expected profit from remaining 180,000 names for random selection\n",
    "print('Expected profit', 180000 * (0.053 * averageSpending - 2))"
   ]
  },
  {
   "cell_type": "markdown",
   "metadata": {},
   "source": [
    "For a random selection, the company expects a profit of about 1.6 million USD"
   ]
  },
  {
   "cell_type": "markdown",
   "metadata": {},
   "source": [
    "## Step 2\n",
    "Develop a model for classifying a customer as a purchaser or nonpurchaser.\n",
    "\n",
    "a. Partition the data randomly into a training set (800 records), validation set (700 records), and test set (500 records)."
   ]
  },
  {
   "cell_type": "code",
   "execution_count": 5,
   "metadata": {},
   "outputs": [
    {
     "name": "stdout",
     "output_type": "stream",
     "text": [
      "Training   :  (800, 25)\n",
      "Validation :  (700, 25)\n",
      "Test :  (500, 25)\n"
     ]
    }
   ],
   "source": [
    "# alternative way using scikit-learn\n",
    "train, temp = train_test_split(tayko_df, train_size=800, random_state=1)\n",
    "valid, test = train_test_split(temp, train_size=700, random_state=1)\n",
    "\n",
    "print('Training   : ', train.shape)\n",
    "print('Validation : ', valid.shape)\n",
    "print('Test : ', test.shape)"
   ]
  },
  {
   "cell_type": "markdown",
   "metadata": {},
   "source": [
    "b. Run logistic regression with L2 penalty, using method LogisticRegressionCV, to select the best subset of variables, then use this model to classify the data into purchasers and nonpurchasers. Use only the training set for running the model. (Logistic regression is used because it yields an estimated “probability of purchase,” which is required later in the analysis.)"
   ]
  },
  {
   "cell_type": "code",
   "execution_count": 6,
   "metadata": {
    "scrolled": false
   },
   "outputs": [
    {
     "name": "stdout",
     "output_type": "stream",
     "text": [
      "['US', 'source_a', 'source_c', 'source_b', 'source_d', 'source_e', 'source_m', 'source_o', 'source_h', 'source_r', 'source_s', 'source_t', 'source_u', 'source_p', 'source_x', 'source_w', 'Freq', 'last_update_days_ago', '1st_update_days_ago', 'Web order', 'Gender=male', 'Address_is_res']\n",
      "regularization [166.81005372]\n",
      "intercept  -2.448368340536965\n",
      "                         coeff  abs_coeff\n",
      "source_h             -2.609225   2.609225\n",
      "Freq                  1.924103   1.924103\n",
      "source_a              1.205172   1.205172\n",
      "source_u              1.194266   1.194266\n",
      "source_c             -0.852761   0.852761\n",
      "Web order             0.838118   0.838118\n",
      "source_x              0.703198   0.703198\n",
      "source_r              0.686858   0.686858\n",
      "Address_is_res       -0.654618   0.654618\n",
      "source_p              0.417491   0.417491\n",
      "source_o             -0.406499   0.406499\n",
      "Gender=male          -0.359065   0.359065\n",
      "source_b             -0.337667   0.337667\n",
      "source_s             -0.331861   0.331861\n",
      "source_w              0.276314   0.276314\n",
      "source_t              0.269813   0.269813\n",
      "source_m             -0.258662   0.258662\n",
      "source_d              0.102165   0.102165\n",
      "US                   -0.089009   0.089009\n",
      "source_e              0.020144   0.020144\n",
      "1st_update_days_ago  -0.000045   0.000045\n",
      "last_update_days_ago -0.000008   0.000008\n"
     ]
    }
   ],
   "source": [
    "predictors = list(tayko_df.columns)\n",
    "outcome = 'Purchase'\n",
    "predictors.remove(outcome)\n",
    "predictors.remove('Spending')\n",
    "predictors.remove('sequence_number')\n",
    "print(predictors)\n",
    "\n",
    "train_X = train[predictors]\n",
    "train_y = train[outcome]\n",
    "valid_X = valid[predictors]\n",
    "valid_y = valid[outcome]\n",
    "\n",
    "# scale = MinMaxScaler()\n",
    "# train_X = scale.fit_transform(train_X)\n",
    "model = LogisticRegressionCV(penalty=\"l2\", solver='lbfgs', cv=5, max_iter=500)\n",
    "model.fit(train_X, train_y)\n",
    "\n",
    "print('regularization', model.C_)\n",
    "print('intercept ', model.intercept_[0])\n",
    "df = pd.DataFrame({\n",
    "    'coeff': model.coef_[0], \n",
    "    'abs_coeff': np.abs(model.coef_[0])\n",
    "}, index=predictors)\n",
    "print(df.sort_values(by=['abs_coeff'], ascending=False))"
   ]
  },
  {
   "cell_type": "code",
   "execution_count": 7,
   "metadata": {
    "scrolled": false
   },
   "outputs": [
    {
     "name": "stdout",
     "output_type": "stream",
     "text": [
      "Variables: US, source_a, source_c, source_b, source_d, source_e, source_m, source_o, source_h, source_r, source_s, source_t, source_u, source_p, source_x, source_w, Freq, last_update_days_ago, 1st_update_days_ago, Web order, Gender=male, Address_is_res\n",
      "Start: score=0.00, constant\n",
      "Step: score=-0.71, add Freq\n",
      "Step: score=-0.77, add Web order\n",
      "Step: score=-0.81, add source_h\n",
      "Step: score=-0.82, add source_u\n",
      "Step: score=-0.83, add source_c\n",
      "Step: score=-0.84, add source_b\n",
      "Step: score=-0.84, unchanged None\n",
      "['Freq', 'Web order', 'source_h', 'source_u', 'source_c', 'source_b']\n"
     ]
    }
   ],
   "source": [
    "def train_model(variables):\n",
    "    if len(variables) == 0:\n",
    "        return None\n",
    "    model = LogisticRegressionCV(penalty=\"l2\", solver='saga', cv=5, max_iter=5000)\n",
    "    return model.fit(train_X[variables], train_y)\n",
    "\n",
    "def score_model(model, variables):\n",
    "    if len(variables) == 0:\n",
    "        return 0\n",
    "    logit_reg_valid = model.predict(valid_X[variables])\n",
    "    return -accuracy_score(valid_y, [1 if p > 0.5 else 0 for p in logit_reg_valid])\n",
    "\n",
    "logreg_model, best_variables = stepwise_selection(predictors, train_model, score_model, \n",
    "                                           direction='forward', verbose=True)\n",
    "print(best_variables)\n",
    "logreg_model_predictors = best_variables"
   ]
  },
  {
   "cell_type": "markdown",
   "metadata": {},
   "source": [
    "## Step 3\n",
    "Develop a model for predicting spending among the purchasers.\n",
    "\n",
    "a. Create subsets of the training and validation sets for only purchasers’ records by filtering for Purchase = 1."
   ]
  },
  {
   "cell_type": "code",
   "execution_count": 8,
   "metadata": {},
   "outputs": [
    {
     "data": {
      "text/plain": [
       "1000"
      ]
     },
     "execution_count": 8,
     "metadata": {},
     "output_type": "execute_result"
    }
   ],
   "source": [
    "purchaseIDs = list(tayko_df.loc[tayko_df.Purchase == 1].sequence_number)\n",
    "len(purchaseIDs)"
   ]
  },
  {
   "cell_type": "markdown",
   "metadata": {},
   "source": [
    "b. Develop models for predicting spending with the filtered datasets, using:\n",
    "\n",
    "    i. Multiple linear regression (use stepwise regression)\n",
    "    ii. Regression trees\n",
    "\n",
    "Choose one model on the basis of its performance on the validation data."
   ]
  },
  {
   "cell_type": "code",
   "execution_count": 9,
   "metadata": {},
   "outputs": [
    {
     "name": "stdout",
     "output_type": "stream",
     "text": [
      "Training   :  (389, 25)\n",
      "Validation :  (361, 25)\n",
      "Test :  (250, 25)\n"
     ]
    }
   ],
   "source": [
    "trainP = train.loc[train.Purchase == 1]\n",
    "validP = valid.loc[valid.Purchase == 1]\n",
    "testP = test.loc[test.Purchase == 1]\n",
    "\n",
    "print('Training   : ', trainP.shape)\n",
    "print('Validation : ', validP.shape)\n",
    "print('Test : ', testP.shape)"
   ]
  },
  {
   "cell_type": "code",
   "execution_count": 10,
   "metadata": {},
   "outputs": [
    {
     "name": "stdout",
     "output_type": "stream",
     "text": [
      "Variables: US, source_a, source_c, source_b, source_d, source_e, source_m, source_o, source_h, source_r, source_s, source_t, source_u, source_p, source_x, source_w, Freq, last_update_days_ago, 1st_update_days_ago, Web order, Gender=male, Address_is_res\n",
      "Start: score=54593.78, constant\n",
      "Step: score=31171.49, add Freq\n",
      "Step: score=29827.64, add Address_is_res\n",
      "Step: score=28830.95, add last_update_days_ago\n",
      "Step: score=28584.23, add source_e\n",
      "Step: score=28477.11, add source_d\n",
      "Step: score=28372.67, add source_p\n",
      "Step: score=28286.78, add source_w\n",
      "Step: score=28203.33, add source_t\n",
      "Step: score=28136.43, add source_b\n",
      "Step: score=28071.55, add Gender=male\n",
      "Step: score=28010.85, add source_x\n",
      "Step: score=27952.64, add source_h\n",
      "Step: score=27902.76, add source_m\n",
      "Step: score=27864.70, add source_r\n",
      "Step: score=27834.74, add 1st_update_days_ago\n",
      "Step: score=27815.09, add US\n",
      "Step: score=27806.71, add source_o\n",
      "Step: score=27800.61, add source_u\n",
      "Step: score=27797.02, add source_c\n",
      "Step: score=27794.33, add source_s\n",
      "Step: score=27777.20, add source_a\n",
      "Step: score=27777.15, add Web order\n",
      "Step: score=27777.15, unchanged None\n",
      "['Freq', 'Address_is_res', 'last_update_days_ago', 'source_e', 'source_d', 'source_p', 'source_w', 'source_t', 'source_b', 'Gender=male', 'source_x', 'source_h', 'source_m', 'source_r', '1st_update_days_ago', 'US', 'source_o', 'source_u', 'source_c', 'source_s', 'source_a', 'Web order']\n"
     ]
    }
   ],
   "source": [
    "outcome = 'Spending'\n",
    "\n",
    "train_X = trainP[predictors]\n",
    "train_y = trainP[outcome]\n",
    "valid_X = validP[predictors]\n",
    "valid_y = validP[outcome]\n",
    "test_X = testP[predictors]\n",
    "test_y = testP[outcome]\n",
    "\n",
    "# Linear regression model\n",
    "def train_model(variables):\n",
    "    if len(variables) == 0:\n",
    "        return None\n",
    "    model = LinearRegression()\n",
    "    return model.fit(train_X[variables], train_y)\n",
    "\n",
    "def score_model(model, variables):\n",
    "    if len(variables) == 0:\n",
    "        return mean_squared_error(train_y, [train_y.mean()] * len(train_y), model)\n",
    "    return mean_squared_error(train_y, model.predict(train_X[variables]))\n",
    "\n",
    "\n",
    "linear_model, best_variables = stepwise_selection(predictors, train_model, score_model, \n",
    "                                                  direction='stepwise', verbose=True)\n",
    "print(best_variables)\n",
    "linear_predictors = best_variables"
   ]
  },
  {
   "cell_type": "code",
   "execution_count": 11,
   "metadata": {},
   "outputs": [
    {
     "name": "stdout",
     "output_type": "stream",
     "text": [
      "Validation performance\n",
      "\n",
      "Regression statistics\n",
      "\n",
      "                      Mean Error (ME) : -3.9070\n",
      "       Root Mean Squared Error (RMSE) : 165.2843\n",
      "            Mean Absolute Error (MAE) : 106.7053\n",
      "          Mean Percentage Error (MPE) : -108.4046\n",
      "Mean Absolute Percentage Error (MAPE) : 139.4048\n",
      "Test performance\n",
      "\n",
      "Regression statistics\n",
      "\n",
      "                      Mean Error (ME) : -4.1470\n",
      "       Root Mean Squared Error (RMSE) : 158.1129\n",
      "            Mean Absolute Error (MAE) : 102.9828\n",
      "          Mean Percentage Error (MPE) : -75.3418\n",
      "Mean Absolute Percentage Error (MAPE) : 112.2414\n"
     ]
    },
    {
     "data": {
      "image/png": "[encoded data removed]",
      "text/plain": [
       "<Figure size 432x288 with 1 Axes>"
      ]
     },
     "metadata": {
      "needs_background": "light"
     },
     "output_type": "display_data"
    }
   ],
   "source": [
    "pd.DataFrame({'x': valid_y, 'y': linear_model.predict(valid_X[best_variables])}).plot.scatter(x='x', y='y')\n",
    "print('Validation performance')\n",
    "regressionSummary(valid_y, linear_model.predict(valid_X[best_variables]))\n",
    "print('Test performance')\n",
    "regressionSummary(test_y, linear_model.predict(test_X[best_variables]))"
   ]
  },
  {
   "cell_type": "code",
   "execution_count": 12,
   "metadata": {},
   "outputs": [
    {
     "name": "stdout",
     "output_type": "stream",
     "text": [
      "Variables: US, source_a, source_c, source_b, source_d, source_e, source_m, source_o, source_h, source_r, source_s, source_t, source_u, source_p, source_x, source_w, Freq, last_update_days_ago, 1st_update_days_ago, Web order, Gender=male, Address_is_res\n",
      "Start: score=54593.78, constant\n",
      "Step: score=4390.71, add last_update_days_ago\n",
      "Step: score=350.15, add 1st_update_days_ago\n",
      "Step: score=29.11, add Web order\n",
      "Step: score=7.53, add source_a\n",
      "Step: score=0.00, add source_u\n",
      "Step: score=0.00, unchanged None\n",
      "['last_update_days_ago', '1st_update_days_ago', 'Web order', 'source_a', 'source_u']\n"
     ]
    }
   ],
   "source": [
    "# regression tree\n",
    "def train_model(variables):\n",
    "    if len(variables) == 0:\n",
    "        return None\n",
    "    model = DecisionTreeRegressor()\n",
    "    return model.fit(train_X[variables], train_y)\n",
    "\n",
    "def score_model(model, variables):\n",
    "    if len(variables) == 0:\n",
    "        return mean_squared_error(train_y, [train_y.mean()] * len(train_y), model)\n",
    "    return mean_squared_error(train_y, model.predict(train_X[variables]))\n",
    "\n",
    "tree_model, best_variables = stepwise_selection(predictors, train_model, score_model, direction='forward', verbose=True)\n",
    "print(best_variables)"
   ]
  },
  {
   "cell_type": "code",
   "execution_count": 13,
   "metadata": {},
   "outputs": [
    {
     "name": "stdout",
     "output_type": "stream",
     "text": [
      "Validation performance\n",
      "\n",
      "Regression statistics\n",
      "\n",
      "                      Mean Error (ME) : 4.5152\n",
      "       Root Mean Squared Error (RMSE) : 249.2594\n",
      "            Mean Absolute Error (MAE) : 148.6371\n",
      "          Mean Percentage Error (MPE) : -98.8897\n",
      "Mean Absolute Percentage Error (MAPE) : 150.5093\n",
      "Test performance\n",
      "\n",
      "Regression statistics\n",
      "\n",
      "                      Mean Error (ME) : 4.8760\n",
      "       Root Mean Squared Error (RMSE) : 252.7220\n",
      "            Mean Absolute Error (MAE) : 146.3480\n",
      "          Mean Percentage Error (MPE) : -101.7217\n",
      "Mean Absolute Percentage Error (MAPE) : 152.5564\n"
     ]
    },
    {
     "data": {
      "image/png": "[encoded data removed]",
      "text/plain": [
       "<Figure size 432x288 with 1 Axes>"
      ]
     },
     "metadata": {
      "needs_background": "light"
     },
     "output_type": "display_data"
    }
   ],
   "source": [
    "pd.DataFrame({'x': valid_y, 'y': tree_model.predict(valid_X[best_variables])}).plot.scatter(x='x', y='y')\n",
    "print('Validation performance')\n",
    "regressionSummary(valid_y, tree_model.predict(valid_X[best_variables]))\n",
    "print('Test performance')\n",
    "regressionSummary(test_y, tree_model.predict(test_X[best_variables]))"
   ]
  },
  {
   "cell_type": "markdown",
   "metadata": {},
   "source": [
    "Based on the validation set performance (mean absolute errors), we select the linear regression model."
   ]
  },
  {
   "cell_type": "markdown",
   "metadata": {},
   "source": [
    "## Step 4\n",
    "Return to the original test data partition. Note that this test data partition includes both purchasers and nonpurchasers. Create a new data frame called _Score Analysis_ that contains the test data portion of this dataset.\n",
    "\n",
    "a. Add a column to the data frame with the predicted scores from the logistic regression.\n",
    "\n",
    "b. Add another column with the predicted spending amount from the prediction model chosen.\n",
    "\n",
    "c. Add a column for “adjusted probability of purchase” by multiplying “predicted probability of purchase” by 0.107. _This is to adjust for oversampling the purchasers_ (see earlier description).\n",
    "\n",
    "d. Add a column for expected spending: adjusted probability of purchase × predicted spending.\n",
    "\n",
    "e. Plot the cumulative gains chart of the expected spending (cumulative expected spending as a function of number of records targeted).\n",
    "\n",
    "f. Using this cumulative gains curve, estimate the gross profit that would result from mailing to the 180,000 names on the basis of your data mining models."
   ]
  },
  {
   "cell_type": "code",
   "execution_count": 14,
   "metadata": {},
   "outputs": [
    {
     "data": {
      "text/html": [
       "<div>\n",
       "<style scoped>\n",
       "    .dataframe tbody tr th:only-of-type {\n",
       "        vertical-align: middle;\n",
       "    }\n",
       "\n",
       "    .dataframe tbody tr th {\n",
       "        vertical-align: top;\n",
       "    }\n",
       "\n",
       "    .dataframe thead th {\n",
       "        text-align: right;\n",
       "    }\n",
       "</style>\n",
       "<table border=\"1\" class=\"dataframe\">\n",
       "  <thead>\n",
       "    <tr style=\"text-align: right;\">\n",
       "      <th></th>\n",
       "      <th>sequence_number</th>\n",
       "      <th>US</th>\n",
       "      <th>source_a</th>\n",
       "      <th>source_c</th>\n",
       "      <th>source_b</th>\n",
       "      <th>source_d</th>\n",
       "      <th>source_e</th>\n",
       "      <th>source_m</th>\n",
       "      <th>source_o</th>\n",
       "      <th>source_h</th>\n",
       "      <th>...</th>\n",
       "      <th>1st_update_days_ago</th>\n",
       "      <th>Web order</th>\n",
       "      <th>Gender=male</th>\n",
       "      <th>Address_is_res</th>\n",
       "      <th>Purchase</th>\n",
       "      <th>Spending</th>\n",
       "      <th>purchaseProbability</th>\n",
       "      <th>spendingPrediction</th>\n",
       "      <th>adjustedSpendingPrediction</th>\n",
       "      <th>expectedSpending</th>\n",
       "    </tr>\n",
       "  </thead>\n",
       "  <tbody>\n",
       "    <tr>\n",
       "      <th>159</th>\n",
       "      <td>160</td>\n",
       "      <td>1</td>\n",
       "      <td>1</td>\n",
       "      <td>0</td>\n",
       "      <td>0</td>\n",
       "      <td>0</td>\n",
       "      <td>0</td>\n",
       "      <td>0</td>\n",
       "      <td>0</td>\n",
       "      <td>0</td>\n",
       "      <td>...</td>\n",
       "      <td>2369</td>\n",
       "      <td>0</td>\n",
       "      <td>1</td>\n",
       "      <td>0</td>\n",
       "      <td>1</td>\n",
       "      <td>547</td>\n",
       "      <td>0.964127</td>\n",
       "      <td>298.592482</td>\n",
       "      <td>31.949396</td>\n",
       "      <td>30.803279</td>\n",
       "    </tr>\n",
       "    <tr>\n",
       "      <th>703</th>\n",
       "      <td>704</td>\n",
       "      <td>1</td>\n",
       "      <td>0</td>\n",
       "      <td>0</td>\n",
       "      <td>0</td>\n",
       "      <td>0</td>\n",
       "      <td>0</td>\n",
       "      <td>0</td>\n",
       "      <td>0</td>\n",
       "      <td>0</td>\n",
       "      <td>...</td>\n",
       "      <td>609</td>\n",
       "      <td>0</td>\n",
       "      <td>1</td>\n",
       "      <td>0</td>\n",
       "      <td>1</td>\n",
       "      <td>162</td>\n",
       "      <td>0.545787</td>\n",
       "      <td>157.398579</td>\n",
       "      <td>16.841648</td>\n",
       "      <td>9.191953</td>\n",
       "    </tr>\n",
       "    <tr>\n",
       "      <th>320</th>\n",
       "      <td>321</td>\n",
       "      <td>0</td>\n",
       "      <td>1</td>\n",
       "      <td>0</td>\n",
       "      <td>0</td>\n",
       "      <td>0</td>\n",
       "      <td>0</td>\n",
       "      <td>0</td>\n",
       "      <td>0</td>\n",
       "      <td>0</td>\n",
       "      <td>...</td>\n",
       "      <td>3975</td>\n",
       "      <td>0</td>\n",
       "      <td>0</td>\n",
       "      <td>1</td>\n",
       "      <td>1</td>\n",
       "      <td>189</td>\n",
       "      <td>0.780768</td>\n",
       "      <td>133.866369</td>\n",
       "      <td>14.323701</td>\n",
       "      <td>11.183488</td>\n",
       "    </tr>\n",
       "    <tr>\n",
       "      <th>382</th>\n",
       "      <td>383</td>\n",
       "      <td>1</td>\n",
       "      <td>0</td>\n",
       "      <td>0</td>\n",
       "      <td>0</td>\n",
       "      <td>0</td>\n",
       "      <td>0</td>\n",
       "      <td>0</td>\n",
       "      <td>0</td>\n",
       "      <td>0</td>\n",
       "      <td>...</td>\n",
       "      <td>3401</td>\n",
       "      <td>0</td>\n",
       "      <td>0</td>\n",
       "      <td>0</td>\n",
       "      <td>0</td>\n",
       "      <td>0</td>\n",
       "      <td>0.058854</td>\n",
       "      <td>-2.046334</td>\n",
       "      <td>-0.218958</td>\n",
       "      <td>-0.012887</td>\n",
       "    </tr>\n",
       "    <tr>\n",
       "      <th>830</th>\n",
       "      <td>831</td>\n",
       "      <td>1</td>\n",
       "      <td>0</td>\n",
       "      <td>0</td>\n",
       "      <td>0</td>\n",
       "      <td>0</td>\n",
       "      <td>1</td>\n",
       "      <td>0</td>\n",
       "      <td>0</td>\n",
       "      <td>0</td>\n",
       "      <td>...</td>\n",
       "      <td>930</td>\n",
       "      <td>0</td>\n",
       "      <td>1</td>\n",
       "      <td>1</td>\n",
       "      <td>0</td>\n",
       "      <td>0</td>\n",
       "      <td>0.320615</td>\n",
       "      <td>12.708986</td>\n",
       "      <td>1.359862</td>\n",
       "      <td>0.435992</td>\n",
       "    </tr>\n",
       "    <tr>\n",
       "      <th>...</th>\n",
       "      <td>...</td>\n",
       "      <td>...</td>\n",
       "      <td>...</td>\n",
       "      <td>...</td>\n",
       "      <td>...</td>\n",
       "      <td>...</td>\n",
       "      <td>...</td>\n",
       "      <td>...</td>\n",
       "      <td>...</td>\n",
       "      <td>...</td>\n",
       "      <td>...</td>\n",
       "      <td>...</td>\n",
       "      <td>...</td>\n",
       "      <td>...</td>\n",
       "      <td>...</td>\n",
       "      <td>...</td>\n",
       "      <td>...</td>\n",
       "      <td>...</td>\n",
       "      <td>...</td>\n",
       "      <td>...</td>\n",
       "      <td>...</td>\n",
       "    </tr>\n",
       "    <tr>\n",
       "      <th>1768</th>\n",
       "      <td>1769</td>\n",
       "      <td>1</td>\n",
       "      <td>0</td>\n",
       "      <td>1</td>\n",
       "      <td>0</td>\n",
       "      <td>0</td>\n",
       "      <td>0</td>\n",
       "      <td>0</td>\n",
       "      <td>0</td>\n",
       "      <td>0</td>\n",
       "      <td>...</td>\n",
       "      <td>896</td>\n",
       "      <td>0</td>\n",
       "      <td>0</td>\n",
       "      <td>0</td>\n",
       "      <td>0</td>\n",
       "      <td>0</td>\n",
       "      <td>0.018396</td>\n",
       "      <td>84.526167</td>\n",
       "      <td>9.044300</td>\n",
       "      <td>0.166375</td>\n",
       "    </tr>\n",
       "    <tr>\n",
       "      <th>1899</th>\n",
       "      <td>1900</td>\n",
       "      <td>1</td>\n",
       "      <td>0</td>\n",
       "      <td>0</td>\n",
       "      <td>0</td>\n",
       "      <td>1</td>\n",
       "      <td>0</td>\n",
       "      <td>0</td>\n",
       "      <td>0</td>\n",
       "      <td>0</td>\n",
       "      <td>...</td>\n",
       "      <td>3684</td>\n",
       "      <td>0</td>\n",
       "      <td>1</td>\n",
       "      <td>0</td>\n",
       "      <td>1</td>\n",
       "      <td>122</td>\n",
       "      <td>0.964127</td>\n",
       "      <td>226.841087</td>\n",
       "      <td>24.271996</td>\n",
       "      <td>23.401290</td>\n",
       "    </tr>\n",
       "    <tr>\n",
       "      <th>654</th>\n",
       "      <td>655</td>\n",
       "      <td>1</td>\n",
       "      <td>0</td>\n",
       "      <td>0</td>\n",
       "      <td>0</td>\n",
       "      <td>0</td>\n",
       "      <td>0</td>\n",
       "      <td>0</td>\n",
       "      <td>0</td>\n",
       "      <td>0</td>\n",
       "      <td>...</td>\n",
       "      <td>4096</td>\n",
       "      <td>0</td>\n",
       "      <td>1</td>\n",
       "      <td>0</td>\n",
       "      <td>0</td>\n",
       "      <td>0</td>\n",
       "      <td>0.058854</td>\n",
       "      <td>-30.114153</td>\n",
       "      <td>-3.222214</td>\n",
       "      <td>-0.189640</td>\n",
       "    </tr>\n",
       "    <tr>\n",
       "      <th>1676</th>\n",
       "      <td>1677</td>\n",
       "      <td>1</td>\n",
       "      <td>0</td>\n",
       "      <td>0</td>\n",
       "      <td>0</td>\n",
       "      <td>0</td>\n",
       "      <td>0</td>\n",
       "      <td>1</td>\n",
       "      <td>0</td>\n",
       "      <td>0</td>\n",
       "      <td>...</td>\n",
       "      <td>260</td>\n",
       "      <td>0</td>\n",
       "      <td>0</td>\n",
       "      <td>0</td>\n",
       "      <td>1</td>\n",
       "      <td>148</td>\n",
       "      <td>0.320615</td>\n",
       "      <td>122.622604</td>\n",
       "      <td>13.120619</td>\n",
       "      <td>4.206669</td>\n",
       "    </tr>\n",
       "    <tr>\n",
       "      <th>1007</th>\n",
       "      <td>1008</td>\n",
       "      <td>0</td>\n",
       "      <td>0</td>\n",
       "      <td>0</td>\n",
       "      <td>0</td>\n",
       "      <td>0</td>\n",
       "      <td>1</td>\n",
       "      <td>0</td>\n",
       "      <td>0</td>\n",
       "      <td>0</td>\n",
       "      <td>...</td>\n",
       "      <td>2499</td>\n",
       "      <td>0</td>\n",
       "      <td>0</td>\n",
       "      <td>0</td>\n",
       "      <td>1</td>\n",
       "      <td>338</td>\n",
       "      <td>0.780768</td>\n",
       "      <td>248.348061</td>\n",
       "      <td>26.573242</td>\n",
       "      <td>20.747538</td>\n",
       "    </tr>\n",
       "  </tbody>\n",
       "</table>\n",
       "<p>500 rows × 29 columns</p>\n",
       "</div>"
      ],
      "text/plain": [
       "      sequence_number  US  source_a  source_c  source_b  source_d  source_e  \\\n",
       "159               160   1         1         0         0         0         0   \n",
       "703               704   1         0         0         0         0         0   \n",
       "320               321   0         1         0         0         0         0   \n",
       "382               383   1         0         0         0         0         0   \n",
       "830               831   1         0         0         0         0         1   \n",
       "...               ...  ..       ...       ...       ...       ...       ...   \n",
       "1768             1769   1         0         1         0         0         0   \n",
       "1899             1900   1         0         0         0         1         0   \n",
       "654               655   1         0         0         0         0         0   \n",
       "1676             1677   1         0         0         0         0         0   \n",
       "1007             1008   0         0         0         0         0         1   \n",
       "\n",
       "      source_m  source_o  source_h  ...  1st_update_days_ago  Web order  \\\n",
       "159          0         0         0  ...                 2369          0   \n",
       "703          0         0         0  ...                  609          0   \n",
       "320          0         0         0  ...                 3975          0   \n",
       "382          0         0         0  ...                 3401          0   \n",
       "830          0         0         0  ...                  930          0   \n",
       "...        ...       ...       ...  ...                  ...        ...   \n",
       "1768         0         0         0  ...                  896          0   \n",
       "1899         0         0         0  ...                 3684          0   \n",
       "654          0         0         0  ...                 4096          0   \n",
       "1676         1         0         0  ...                  260          0   \n",
       "1007         0         0         0  ...                 2499          0   \n",
       "\n",
       "      Gender=male  Address_is_res  Purchase  Spending  purchaseProbability  \\\n",
       "159             1               0         1       547             0.964127   \n",
       "703             1               0         1       162             0.545787   \n",
       "320             0               1         1       189             0.780768   \n",
       "382             0               0         0         0             0.058854   \n",
       "830             1               1         0         0             0.320615   \n",
       "...           ...             ...       ...       ...                  ...   \n",
       "1768            0               0         0         0             0.018396   \n",
       "1899            1               0         1       122             0.964127   \n",
       "654             1               0         0         0             0.058854   \n",
       "1676            0               0         1       148             0.320615   \n",
       "1007            0               0         1       338             0.780768   \n",
       "\n",
       "      spendingPrediction  adjustedSpendingPrediction  expectedSpending  \n",
       "159           298.592482                   31.949396         30.803279  \n",
       "703           157.398579                   16.841648          9.191953  \n",
       "320           133.866369                   14.323701         11.183488  \n",
       "382            -2.046334                   -0.218958         -0.012887  \n",
       "830            12.708986                    1.359862          0.435992  \n",
       "...                  ...                         ...               ...  \n",
       "1768           84.526167                    9.044300          0.166375  \n",
       "1899          226.841087                   24.271996         23.401290  \n",
       "654           -30.114153                   -3.222214         -0.189640  \n",
       "1676          122.622604                   13.120619          4.206669  \n",
       "1007          248.348061                   26.573242         20.747538  \n",
       "\n",
       "[500 rows x 29 columns]"
      ]
     },
     "execution_count": 14,
     "metadata": {},
     "output_type": "execute_result"
    }
   ],
   "source": [
    "scoreAnalysis = test.copy()\n",
    "scoreAnalysis['purchaseProbability'] = logreg_model.predict_proba(test[logreg_model_predictors])[:,1]\n",
    "scoreAnalysis['spendingPrediction'] = linear_model.predict(test[linear_predictors])\n",
    "scoreAnalysis['adjustedSpendingPrediction'] = 0.107 * scoreAnalysis['spendingPrediction']\n",
    "scoreAnalysis['expectedSpending'] = scoreAnalysis['purchaseProbability'] * scoreAnalysis['adjustedSpendingPrediction']\n",
    "\n",
    "scoreAnalysis"
   ]
  },
  {
   "cell_type": "code",
   "execution_count": 15,
   "metadata": {},
   "outputs": [
    {
     "data": {
      "text/plain": [
       "<matplotlib.axes._subplots.AxesSubplot at 0x115da83d0>"
      ]
     },
     "execution_count": 15,
     "metadata": {},
     "output_type": "execute_result"
    },
    {
     "data": {
      "image/png": "[encoded data removed]",
      "text/plain": [
       "<Figure size 432x288 with 1 Axes>"
      ]
     },
     "metadata": {
      "needs_background": "light"
     },
     "output_type": "display_data"
    }
   ],
   "source": [
    "full_result = scoreAnalysis.sort_values(by=['expectedSpending'], ascending=False)\n",
    "gainsChart(full_result.Spending)\n"
   ]
  },
  {
   "cell_type": "code",
   "execution_count": 16,
   "metadata": {},
   "outputs": [
    {
     "name": "stdout",
     "output_type": "stream",
     "text": [
      "Average expected spending 10.337972408788579\n",
      "Expected profit 1500835.0335819442\n"
     ]
    }
   ],
   "source": [
    "# Calculate average spending based on the model\n",
    "averageSpending = scoreAnalysis['expectedSpending'].mean()\n",
    "print('Average expected spending', averageSpending)\n",
    "\n",
    "# Expected profit from remaining 180,000 names for random selection\n",
    "print('Expected profit', 180000 * (averageSpending - 2))"
   ]
  },
  {
   "cell_type": "code",
   "execution_count": null,
   "metadata": {},
   "outputs": [],
   "source": []
  }
 ],
 "metadata": {
  "kernelspec": {
   "display_name": "Python 3",
   "language": "python",
   "name": "python3"
  },
  "language_info": {
   "codemirror_mode": {
    "name": "ipython",
    "version": 3
   },
   "file_extension": ".py",
   "mimetype": "text/x-python",
   "name": "python",
   "nbconvert_exporter": "python",
   "pygments_lexer": "ipython3",
   "version": "3.8.2"
  }
 },
 "nbformat": 4,
 "nbformat_minor": 2
}
