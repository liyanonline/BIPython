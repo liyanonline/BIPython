{
 "cells": [
  {
   "cell_type": "markdown",
   "metadata": {},
   "source": [
    "# Chapter 12: Discriminant Analysis"
   ]
  },
  {
   "cell_type": "markdown",
   "metadata": {},
   "source": [
    "\n",
    "> (c) 2019-2020 Galit Shmueli, Peter C. Bruce, Peter Gedeck \n",
    ">\n",
    "> _Data Mining for Business Analytics: Concepts, Techniques, and Applications in Python_ (First Edition) \n",
    "> Galit Shmueli, Peter C. Bruce, Peter Gedeck, and Nitin R. Patel. 2019.\n",
    ">\n",
    "> Date: 2020-03-08\n",
    ">\n",
    "> Python Version: 3.8.2\n",
    "> Jupyter Notebook Version: 5.6.1\n",
    ">\n",
    "> Packages:\n",
    ">   - dmba: 0.0.12\n",
    ">   - matplotlib: 3.2.0\n",
    ">   - numpy: 1.18.1\n",
    ">   - pandas: 1.0.1\n",
    ">   - scikit-learn: 0.22.2\n",
    ">\n",
    "> The assistance from Mr. Kuber Deokar and Ms. Anuja Kulkarni in preparing these solutions is gratefully acknowledged.\n"
   ]
  },
  {
   "cell_type": "code",
   "execution_count": 1,
   "metadata": {},
   "outputs": [],
   "source": [
    "# Import required packages for this chapter\n",
    "from pathlib import Path\n",
    "\n",
    "import pandas as pd\n",
    "import numpy as np\n",
    "\n",
    "from sklearn.linear_model import LogisticRegression\n",
    "from sklearn.discriminant_analysis import LinearDiscriminantAnalysis\n",
    "from sklearn.model_selection import train_test_split\n",
    "\n",
    "import matplotlib.pylab as plt\n",
    "\n",
    "from dmba import classificationSummary\n",
    "from dmba import gainsChart, liftChart\n",
    "\n",
    "%matplotlib inline"
   ]
  },
  {
   "cell_type": "code",
   "execution_count": 2,
   "metadata": {},
   "outputs": [],
   "source": [
    "# Working directory:\n",
    "#\n",
    "# We assume that data are kept in the same directory as the notebook. If you keep your \n",
    "# data in a different folder, replace the argument of the `Path`\n",
    "DATA = Path('.')\n",
    "# and then load data using \n",
    "#\n",
    "# pd.read_csv(DATA / ‘filename.csv’)"
   ]
  },
  {
   "cell_type": "markdown",
   "metadata": {},
   "source": [
    "# Problem 12.1: Personal Loan Acceptance\n",
    "Universal Bank is a relatively young bank growing\n",
    "rapidly in terms of overall customer acquisition. The majority of\n",
    "these customers are liability customers with varying sizes of\n",
    "relationship with the bank. The customer base of asset customers is\n",
    "quite small, and the bank is interested in expanding this base\n",
    "rapidly to bring in more loan business. In particular, it wants to\n",
    "explore ways of converting its liability customers to personal loan\n",
    "customers.\n",
    "\n",
    "A campaign the bank ran for liability customers last year showed a\n",
    "healthy conversion rate of over 9\\% successes. This has encouraged the\n",
    "retail marketing department to devise smarter campaigns with better\n",
    "target marketing. The goal of our analysis is to model the previous\n",
    "campaign's customer behavior to analyze what combination of factors\n",
    "make a customer more likely to accept a personal loan. This will serve\n",
    "as the basis for the design of a new campaign.\n",
    "\n",
    "The file _UniversalBank.csv_ contains data on 5000 customers. The data include customer demographic information (e.g., age, income), the customer's relationship with the bank (e.g., mortgage, securities account), and the customer response to the last personal loan campaign (Personal Loan). Among these 5000 customers, only 480 (= 9.6\\%)\n",
    "accepted the personal loan that was offered to them in the previous campaign.\n",
    "\n",
    "Partition the data (60\\% training and 40\\% validation) and then perform a discriminant analysis that models Personal Loan as a function of the remaining predictors (excluding zip code). Remember to turn categorical predictors with more than two categories into dummy variables first. Specify the success class as 1 (personal loan acceptance), and use the default cutoff value of 0.5.\n",
    "\n"
   ]
  },
  {
   "cell_type": "code",
   "execution_count": 3,
   "metadata": {
    "scrolled": true
   },
   "outputs": [
    {
     "data": {
      "text/html": [
       "<div>\n",
       "<style scoped>\n",
       "    .dataframe tbody tr th:only-of-type {\n",
       "        vertical-align: middle;\n",
       "    }\n",
       "\n",
       "    .dataframe tbody tr th {\n",
       "        vertical-align: top;\n",
       "    }\n",
       "\n",
       "    .dataframe thead th {\n",
       "        text-align: right;\n",
       "    }\n",
       "</style>\n",
       "<table border=\"1\" class=\"dataframe\">\n",
       "  <thead>\n",
       "    <tr style=\"text-align: right;\">\n",
       "      <th></th>\n",
       "      <th>ID</th>\n",
       "      <th>Age</th>\n",
       "      <th>Experience</th>\n",
       "      <th>Income</th>\n",
       "      <th>ZIP Code</th>\n",
       "      <th>Family</th>\n",
       "      <th>CCAvg</th>\n",
       "      <th>Education</th>\n",
       "      <th>Mortgage</th>\n",
       "      <th>Personal Loan</th>\n",
       "      <th>Securities Account</th>\n",
       "      <th>CD Account</th>\n",
       "      <th>Online</th>\n",
       "      <th>CreditCard</th>\n",
       "    </tr>\n",
       "  </thead>\n",
       "  <tbody>\n",
       "    <tr>\n",
       "      <th>0</th>\n",
       "      <td>1</td>\n",
       "      <td>25</td>\n",
       "      <td>1</td>\n",
       "      <td>49</td>\n",
       "      <td>91107</td>\n",
       "      <td>4</td>\n",
       "      <td>1.6</td>\n",
       "      <td>1</td>\n",
       "      <td>0</td>\n",
       "      <td>0</td>\n",
       "      <td>1</td>\n",
       "      <td>0</td>\n",
       "      <td>0</td>\n",
       "      <td>0</td>\n",
       "    </tr>\n",
       "    <tr>\n",
       "      <th>1</th>\n",
       "      <td>2</td>\n",
       "      <td>45</td>\n",
       "      <td>19</td>\n",
       "      <td>34</td>\n",
       "      <td>90089</td>\n",
       "      <td>3</td>\n",
       "      <td>1.5</td>\n",
       "      <td>1</td>\n",
       "      <td>0</td>\n",
       "      <td>0</td>\n",
       "      <td>1</td>\n",
       "      <td>0</td>\n",
       "      <td>0</td>\n",
       "      <td>0</td>\n",
       "    </tr>\n",
       "    <tr>\n",
       "      <th>2</th>\n",
       "      <td>3</td>\n",
       "      <td>39</td>\n",
       "      <td>15</td>\n",
       "      <td>11</td>\n",
       "      <td>94720</td>\n",
       "      <td>1</td>\n",
       "      <td>1.0</td>\n",
       "      <td>1</td>\n",
       "      <td>0</td>\n",
       "      <td>0</td>\n",
       "      <td>0</td>\n",
       "      <td>0</td>\n",
       "      <td>0</td>\n",
       "      <td>0</td>\n",
       "    </tr>\n",
       "    <tr>\n",
       "      <th>3</th>\n",
       "      <td>4</td>\n",
       "      <td>35</td>\n",
       "      <td>9</td>\n",
       "      <td>100</td>\n",
       "      <td>94112</td>\n",
       "      <td>1</td>\n",
       "      <td>2.7</td>\n",
       "      <td>2</td>\n",
       "      <td>0</td>\n",
       "      <td>0</td>\n",
       "      <td>0</td>\n",
       "      <td>0</td>\n",
       "      <td>0</td>\n",
       "      <td>0</td>\n",
       "    </tr>\n",
       "    <tr>\n",
       "      <th>4</th>\n",
       "      <td>5</td>\n",
       "      <td>35</td>\n",
       "      <td>8</td>\n",
       "      <td>45</td>\n",
       "      <td>91330</td>\n",
       "      <td>4</td>\n",
       "      <td>1.0</td>\n",
       "      <td>2</td>\n",
       "      <td>0</td>\n",
       "      <td>0</td>\n",
       "      <td>0</td>\n",
       "      <td>0</td>\n",
       "      <td>0</td>\n",
       "      <td>1</td>\n",
       "    </tr>\n",
       "  </tbody>\n",
       "</table>\n",
       "</div>"
      ],
      "text/plain": [
       "   ID  Age  Experience  Income  ZIP Code  Family  CCAvg  Education  Mortgage  \\\n",
       "0   1   25           1      49     91107       4    1.6          1         0   \n",
       "1   2   45          19      34     90089       3    1.5          1         0   \n",
       "2   3   39          15      11     94720       1    1.0          1         0   \n",
       "3   4   35           9     100     94112       1    2.7          2         0   \n",
       "4   5   35           8      45     91330       4    1.0          2         0   \n",
       "\n",
       "   Personal Loan  Securities Account  CD Account  Online  CreditCard  \n",
       "0              0                   1           0       0           0  \n",
       "1              0                   1           0       0           0  \n",
       "2              0                   0           0       0           0  \n",
       "3              0                   0           0       0           0  \n",
       "4              0                   0           0       0           1  "
      ]
     },
     "execution_count": 3,
     "metadata": {},
     "output_type": "execute_result"
    }
   ],
   "source": [
    "bank_df = pd.read_csv(DATA / 'UniversalBank.csv')\n",
    "bank_df.head()"
   ]
  },
  {
   "cell_type": "code",
   "execution_count": 4,
   "metadata": {},
   "outputs": [
    {
     "data": {
      "text/plain": [
       "Index(['Age', 'Experience', 'Income', 'Family', 'CCAvg', 'Mortgage',\n",
       "       'Securities Account', 'CD Account', 'Online', 'CreditCard',\n",
       "       'Education_2', 'Education_3'],\n",
       "      dtype='object')"
      ]
     },
     "execution_count": 4,
     "metadata": {},
     "output_type": "execute_result"
    }
   ],
   "source": [
    "# Drop ID and zip code columns\n",
    "bank_df = bank_df.drop(columns=['ID', 'ZIP Code'])\n",
    "\n",
    "# Use one-hot-encoding for Education\n",
    "X = bank_df.drop(columns=['Personal Loan'])\n",
    "X = pd.get_dummies(X, columns=['Education'], drop_first=True)\n",
    "\n",
    "y = bank_df['Personal Loan']\n",
    "X.columns"
   ]
  },
  {
   "cell_type": "code",
   "execution_count": 5,
   "metadata": {},
   "outputs": [
    {
     "name": "stdout",
     "output_type": "stream",
     "text": [
      "Training set: (3000, 12) Validation set: (2000, 12)\n"
     ]
    }
   ],
   "source": [
    "train_X, valid_X, train_y, valid_y = train_test_split(X, y, test_size=0.4, random_state=1)\n",
    "print('Training set:', train_X.shape, 'Validation set:', valid_X.shape)"
   ]
  },
  {
   "cell_type": "code",
   "execution_count": 6,
   "metadata": {},
   "outputs": [
    {
     "data": {
      "text/plain": [
       "LinearDiscriminantAnalysis(n_components=None, priors=None, shrinkage=None,\n",
       "                           solver='svd', store_covariance=False, tol=0.0001)"
      ]
     },
     "execution_count": 6,
     "metadata": {},
     "output_type": "execute_result"
    }
   ],
   "source": [
    "da_class = LinearDiscriminantAnalysis()\n",
    "da_class.fit(X, y)"
   ]
  },
  {
   "cell_type": "markdown",
   "metadata": {},
   "source": [
    "## Problem 12.1.a\n",
    "Compute summary statistics for the predictors separately for loan acceptors and nonacceptors. For continuous predictors, compute the mean and standard deviation. For categorical predictors, compute the percentages. Are there predictors where the two classes differ substantially?"
   ]
  },
  {
   "cell_type": "code",
   "execution_count": 7,
   "metadata": {},
   "outputs": [
    {
     "data": {
      "text/html": [
       "<div>\n",
       "<style scoped>\n",
       "    .dataframe tbody tr th:only-of-type {\n",
       "        vertical-align: middle;\n",
       "    }\n",
       "\n",
       "    .dataframe tbody tr th {\n",
       "        vertical-align: top;\n",
       "    }\n",
       "\n",
       "    .dataframe thead th {\n",
       "        text-align: right;\n",
       "    }\n",
       "</style>\n",
       "<table border=\"1\" class=\"dataframe\">\n",
       "  <thead>\n",
       "    <tr style=\"text-align: right;\">\n",
       "      <th></th>\n",
       "      <th>Age</th>\n",
       "      <th>Experience</th>\n",
       "      <th>Income</th>\n",
       "      <th>Family</th>\n",
       "      <th>CCAvg</th>\n",
       "      <th>Education</th>\n",
       "      <th>Mortgage</th>\n",
       "      <th>Personal Loan</th>\n",
       "      <th>Securities Account</th>\n",
       "      <th>CD Account</th>\n",
       "      <th>Online</th>\n",
       "      <th>CreditCard</th>\n",
       "    </tr>\n",
       "  </thead>\n",
       "  <tbody>\n",
       "    <tr>\n",
       "      <th>mean</th>\n",
       "      <td>45.066667</td>\n",
       "      <td>19.843750</td>\n",
       "      <td>144.745833</td>\n",
       "      <td>2.612500</td>\n",
       "      <td>3.905354</td>\n",
       "      <td>2.233333</td>\n",
       "      <td>100.845833</td>\n",
       "      <td>1.0</td>\n",
       "      <td>0.125000</td>\n",
       "      <td>0.291667</td>\n",
       "      <td>0.60625</td>\n",
       "      <td>0.297917</td>\n",
       "    </tr>\n",
       "    <tr>\n",
       "      <th>std</th>\n",
       "      <td>11.590964</td>\n",
       "      <td>11.582443</td>\n",
       "      <td>31.584429</td>\n",
       "      <td>1.115393</td>\n",
       "      <td>2.097681</td>\n",
       "      <td>0.753373</td>\n",
       "      <td>160.847862</td>\n",
       "      <td>0.0</td>\n",
       "      <td>0.331064</td>\n",
       "      <td>0.455004</td>\n",
       "      <td>0.48909</td>\n",
       "      <td>0.457820</td>\n",
       "    </tr>\n",
       "  </tbody>\n",
       "</table>\n",
       "</div>"
      ],
      "text/plain": [
       "            Age  Experience      Income    Family     CCAvg  Education  \\\n",
       "mean  45.066667   19.843750  144.745833  2.612500  3.905354   2.233333   \n",
       "std   11.590964   11.582443   31.584429  1.115393  2.097681   0.753373   \n",
       "\n",
       "        Mortgage  Personal Loan  Securities Account  CD Account   Online  \\\n",
       "mean  100.845833            1.0            0.125000    0.291667  0.60625   \n",
       "std   160.847862            0.0            0.331064    0.455004  0.48909   \n",
       "\n",
       "      CreditCard  \n",
       "mean    0.297917  \n",
       "std     0.457820  "
      ]
     },
     "execution_count": 7,
     "metadata": {},
     "output_type": "execute_result"
    }
   ],
   "source": [
    "bank_df[y==1].describe().loc[['mean', 'std'],:]"
   ]
  },
  {
   "cell_type": "code",
   "execution_count": 8,
   "metadata": {},
   "outputs": [
    {
     "data": {
      "text/html": [
       "<div>\n",
       "<style scoped>\n",
       "    .dataframe tbody tr th:only-of-type {\n",
       "        vertical-align: middle;\n",
       "    }\n",
       "\n",
       "    .dataframe tbody tr th {\n",
       "        vertical-align: top;\n",
       "    }\n",
       "\n",
       "    .dataframe thead th {\n",
       "        text-align: right;\n",
       "    }\n",
       "</style>\n",
       "<table border=\"1\" class=\"dataframe\">\n",
       "  <thead>\n",
       "    <tr style=\"text-align: right;\">\n",
       "      <th></th>\n",
       "      <th>Age</th>\n",
       "      <th>Experience</th>\n",
       "      <th>Income</th>\n",
       "      <th>Family</th>\n",
       "      <th>CCAvg</th>\n",
       "      <th>Education</th>\n",
       "      <th>Mortgage</th>\n",
       "      <th>Personal Loan</th>\n",
       "      <th>Securities Account</th>\n",
       "      <th>CD Account</th>\n",
       "      <th>Online</th>\n",
       "      <th>CreditCard</th>\n",
       "    </tr>\n",
       "  </thead>\n",
       "  <tbody>\n",
       "    <tr>\n",
       "      <th>mean</th>\n",
       "      <td>45.367257</td>\n",
       "      <td>20.132301</td>\n",
       "      <td>66.237389</td>\n",
       "      <td>2.373451</td>\n",
       "      <td>1.729009</td>\n",
       "      <td>1.843584</td>\n",
       "      <td>51.789381</td>\n",
       "      <td>0.0</td>\n",
       "      <td>0.102212</td>\n",
       "      <td>0.035841</td>\n",
       "      <td>0.595796</td>\n",
       "      <td>0.293584</td>\n",
       "    </tr>\n",
       "    <tr>\n",
       "      <th>std</th>\n",
       "      <td>11.450427</td>\n",
       "      <td>11.456672</td>\n",
       "      <td>40.578534</td>\n",
       "      <td>1.148771</td>\n",
       "      <td>1.567647</td>\n",
       "      <td>0.839975</td>\n",
       "      <td>92.038931</td>\n",
       "      <td>0.0</td>\n",
       "      <td>0.302961</td>\n",
       "      <td>0.185913</td>\n",
       "      <td>0.490792</td>\n",
       "      <td>0.455454</td>\n",
       "    </tr>\n",
       "  </tbody>\n",
       "</table>\n",
       "</div>"
      ],
      "text/plain": [
       "            Age  Experience     Income    Family     CCAvg  Education  \\\n",
       "mean  45.367257   20.132301  66.237389  2.373451  1.729009   1.843584   \n",
       "std   11.450427   11.456672  40.578534  1.148771  1.567647   0.839975   \n",
       "\n",
       "       Mortgage  Personal Loan  Securities Account  CD Account    Online  \\\n",
       "mean  51.789381            0.0            0.102212    0.035841  0.595796   \n",
       "std   92.038931            0.0            0.302961    0.185913  0.490792   \n",
       "\n",
       "      CreditCard  \n",
       "mean    0.293584  \n",
       "std     0.455454  "
      ]
     },
     "execution_count": 8,
     "metadata": {},
     "output_type": "execute_result"
    }
   ],
   "source": [
    "bank_df[y==0].describe().loc[['mean', 'std'],:]"
   ]
  },
  {
   "cell_type": "markdown",
   "metadata": {},
   "source": [
    "For the predictor \"income\" the mean is much higher for acceptors than for \n",
    "nonacceptors. Similarly for \"CCAverage\" and \"Mortgage,\" the mean is higher \n",
    "for acceptors than for nonacceptors.\n",
    "\n",
    "Categorical predictors:  \"acceptors\" are more likely to have higher level \n",
    "degrees (Education levels 2 and 3, graduate and professional), and more likely\n",
    "to have CD accounts."
   ]
  },
  {
   "cell_type": "markdown",
   "metadata": {},
   "source": [
    "## Problem 12.1.b\n",
    "Examine the model performance on the validation set.\n",
    "## Problem 12.1.b.i\n",
    "What is the accuracy rate?"
   ]
  },
  {
   "cell_type": "code",
   "execution_count": 9,
   "metadata": {},
   "outputs": [
    {
     "name": "stdout",
     "output_type": "stream",
     "text": [
      "Confusion Matrix (Accuracy 0.9480)\n",
      "\n",
      "       Prediction\n",
      "Actual    0    1\n",
      "     0 1777   30\n",
      "     1   74  119\n"
     ]
    }
   ],
   "source": [
    "classificationSummary(valid_y, da_class.predict(valid_X))"
   ]
  },
  {
   "cell_type": "markdown",
   "metadata": {},
   "source": [
    "The accuracy of the discriminant analysis model is 94.8%.\n",
    "\n",
    "## Problem 12.1.b.ii\n",
    "Is one type of misclassification more likely than the other?\n",
    "\n",
    "Yes - the number of cases of actual acceptors classified as nonacceptors is \n",
    "much higher than the number of cases of nonacceptors classified as acceptors.\n",
    "\n",
    "## Problem 12.1.b.iii\n",
    "Select three customers who were misclassified as _acceptors_ and three who were misclassified as _nonacceptors_. The goal is to determine why they are misclassified. First, examine their probability of being classified as acceptors: is it close to the\n",
    "threshold of 0.5? If not, compare their predictor values to the summary statistics of the two classes to determine why they were misclassified."
   ]
  },
  {
   "cell_type": "code",
   "execution_count": 10,
   "metadata": {},
   "outputs": [
    {
     "data": {
      "text/html": [
       "<div>\n",
       "<style scoped>\n",
       "    .dataframe tbody tr th:only-of-type {\n",
       "        vertical-align: middle;\n",
       "    }\n",
       "\n",
       "    .dataframe tbody tr th {\n",
       "        vertical-align: top;\n",
       "    }\n",
       "\n",
       "    .dataframe thead th {\n",
       "        text-align: right;\n",
       "    }\n",
       "</style>\n",
       "<table border=\"1\" class=\"dataframe\">\n",
       "  <thead>\n",
       "    <tr style=\"text-align: right;\">\n",
       "      <th></th>\n",
       "      <th>Age</th>\n",
       "      <th>Experience</th>\n",
       "      <th>Income</th>\n",
       "      <th>Family</th>\n",
       "      <th>CCAvg</th>\n",
       "      <th>Mortgage</th>\n",
       "      <th>Securities Account</th>\n",
       "      <th>CD Account</th>\n",
       "      <th>Online</th>\n",
       "      <th>CreditCard</th>\n",
       "      <th>Education_2</th>\n",
       "      <th>Education_3</th>\n",
       "      <th>actual</th>\n",
       "      <th>prob</th>\n",
       "    </tr>\n",
       "  </thead>\n",
       "  <tbody>\n",
       "    <tr>\n",
       "      <th>1577</th>\n",
       "      <td>34</td>\n",
       "      <td>8</td>\n",
       "      <td>65</td>\n",
       "      <td>1</td>\n",
       "      <td>3.0</td>\n",
       "      <td>227</td>\n",
       "      <td>0</td>\n",
       "      <td>0</td>\n",
       "      <td>1</td>\n",
       "      <td>0</td>\n",
       "      <td>0</td>\n",
       "      <td>0</td>\n",
       "      <td>1</td>\n",
       "      <td>0.000263</td>\n",
       "    </tr>\n",
       "    <tr>\n",
       "      <th>349</th>\n",
       "      <td>26</td>\n",
       "      <td>2</td>\n",
       "      <td>60</td>\n",
       "      <td>2</td>\n",
       "      <td>3.0</td>\n",
       "      <td>132</td>\n",
       "      <td>0</td>\n",
       "      <td>0</td>\n",
       "      <td>0</td>\n",
       "      <td>0</td>\n",
       "      <td>0</td>\n",
       "      <td>0</td>\n",
       "      <td>1</td>\n",
       "      <td>0.000602</td>\n",
       "    </tr>\n",
       "    <tr>\n",
       "      <th>2158</th>\n",
       "      <td>50</td>\n",
       "      <td>25</td>\n",
       "      <td>83</td>\n",
       "      <td>4</td>\n",
       "      <td>3.1</td>\n",
       "      <td>0</td>\n",
       "      <td>0</td>\n",
       "      <td>0</td>\n",
       "      <td>0</td>\n",
       "      <td>1</td>\n",
       "      <td>0</td>\n",
       "      <td>0</td>\n",
       "      <td>1</td>\n",
       "      <td>0.003128</td>\n",
       "    </tr>\n",
       "  </tbody>\n",
       "</table>\n",
       "</div>"
      ],
      "text/plain": [
       "      Age  Experience  Income  Family  CCAvg  Mortgage  Securities Account  \\\n",
       "1577   34           8      65       1    3.0       227                   0   \n",
       "349    26           2      60       2    3.0       132                   0   \n",
       "2158   50          25      83       4    3.1         0                   0   \n",
       "\n",
       "      CD Account  Online  CreditCard  Education_2  Education_3  actual  \\\n",
       "1577           0       1           0            0            0       1   \n",
       "349            0       0           0            0            0       1   \n",
       "2158           0       0           1            0            0       1   \n",
       "\n",
       "          prob  \n",
       "1577  0.000263  \n",
       "349   0.000602  \n",
       "2158  0.003128  "
      ]
     },
     "execution_count": 10,
     "metadata": {},
     "output_type": "execute_result"
    }
   ],
   "source": [
    "# combine valid_X with actual value (valid_y) and predicted probability\n",
    "success_probability = da_class.predict_proba(valid_X)[:,1]\n",
    "mergedData = pd.concat(\n",
    "    [\n",
    "        valid_X, \n",
    "        pd.DataFrame({'actual': valid_y}, index=valid_X.index),\n",
    "        pd.DataFrame({'prob': success_probability}, index=valid_X.index),\n",
    "    ], axis=1, ignore_index=False, sort=False)  \n",
    "mergedData = mergedData.sort_values(by='prob')\n",
    "\n",
    "# loan acceptors misclassified as non-acceptors\n",
    "mis_acceptors = mergedData[mergedData.actual == 1].head(3)\n",
    "mis_acceptors"
   ]
  },
  {
   "cell_type": "markdown",
   "metadata": {},
   "source": [
    "The probabilities are less than 0.5, many not even close to that threshold.\n",
    "Looking at customer ID 1577, we can see that their profile is similar to that of \n",
    "a nonacceptor. They have few existing lines of business with the bank \n",
    "(no securities account, no CD account, no credit card.). This is a case \n",
    "of the customer not behaving in the way that similar customers behave."
   ]
  },
  {
   "cell_type": "code",
   "execution_count": 11,
   "metadata": {},
   "outputs": [
    {
     "data": {
      "text/html": [
       "<div>\n",
       "<style scoped>\n",
       "    .dataframe tbody tr th:only-of-type {\n",
       "        vertical-align: middle;\n",
       "    }\n",
       "\n",
       "    .dataframe tbody tr th {\n",
       "        vertical-align: top;\n",
       "    }\n",
       "\n",
       "    .dataframe thead th {\n",
       "        text-align: right;\n",
       "    }\n",
       "</style>\n",
       "<table border=\"1\" class=\"dataframe\">\n",
       "  <thead>\n",
       "    <tr style=\"text-align: right;\">\n",
       "      <th></th>\n",
       "      <th>Age</th>\n",
       "      <th>Experience</th>\n",
       "      <th>Income</th>\n",
       "      <th>Family</th>\n",
       "      <th>CCAvg</th>\n",
       "      <th>Mortgage</th>\n",
       "      <th>Securities Account</th>\n",
       "      <th>CD Account</th>\n",
       "      <th>Online</th>\n",
       "      <th>CreditCard</th>\n",
       "      <th>Education_2</th>\n",
       "      <th>Education_3</th>\n",
       "      <th>actual</th>\n",
       "      <th>prob</th>\n",
       "    </tr>\n",
       "  </thead>\n",
       "  <tbody>\n",
       "    <tr>\n",
       "      <th>4937</th>\n",
       "      <td>33</td>\n",
       "      <td>8</td>\n",
       "      <td>162</td>\n",
       "      <td>1</td>\n",
       "      <td>8.6</td>\n",
       "      <td>0</td>\n",
       "      <td>0</td>\n",
       "      <td>1</td>\n",
       "      <td>1</td>\n",
       "      <td>1</td>\n",
       "      <td>0</td>\n",
       "      <td>0</td>\n",
       "      <td>0</td>\n",
       "      <td>0.980754</td>\n",
       "    </tr>\n",
       "    <tr>\n",
       "      <th>785</th>\n",
       "      <td>46</td>\n",
       "      <td>22</td>\n",
       "      <td>164</td>\n",
       "      <td>2</td>\n",
       "      <td>7.6</td>\n",
       "      <td>0</td>\n",
       "      <td>0</td>\n",
       "      <td>1</td>\n",
       "      <td>1</td>\n",
       "      <td>1</td>\n",
       "      <td>0</td>\n",
       "      <td>0</td>\n",
       "      <td>0</td>\n",
       "      <td>0.990423</td>\n",
       "    </tr>\n",
       "    <tr>\n",
       "      <th>2305</th>\n",
       "      <td>32</td>\n",
       "      <td>7</td>\n",
       "      <td>185</td>\n",
       "      <td>2</td>\n",
       "      <td>6.7</td>\n",
       "      <td>0</td>\n",
       "      <td>0</td>\n",
       "      <td>1</td>\n",
       "      <td>1</td>\n",
       "      <td>1</td>\n",
       "      <td>0</td>\n",
       "      <td>0</td>\n",
       "      <td>0</td>\n",
       "      <td>0.995511</td>\n",
       "    </tr>\n",
       "  </tbody>\n",
       "</table>\n",
       "</div>"
      ],
      "text/plain": [
       "      Age  Experience  Income  Family  CCAvg  Mortgage  Securities Account  \\\n",
       "4937   33           8     162       1    8.6         0                   0   \n",
       "785    46          22     164       2    7.6         0                   0   \n",
       "2305   32           7     185       2    6.7         0                   0   \n",
       "\n",
       "      CD Account  Online  CreditCard  Education_2  Education_3  actual  \\\n",
       "4937           1       1           1            0            0       0   \n",
       "785            1       1           1            0            0       0   \n",
       "2305           1       1           1            0            0       0   \n",
       "\n",
       "          prob  \n",
       "4937  0.980754  \n",
       "785   0.990423  \n",
       "2305  0.995511  "
      ]
     },
     "execution_count": 11,
     "metadata": {},
     "output_type": "execute_result"
    }
   ],
   "source": [
    "# loan nonacceptors misclassified as acceptors\n",
    "mis_nonacceptors = mergedData[mergedData.actual == 0].tail(3)\n",
    "mis_nonacceptors"
   ]
  },
  {
   "cell_type": "markdown",
   "metadata": {},
   "source": [
    "Probabilities are greater than 0.5, and not close to the threshold. Looking \n",
    "at the customer for ID 2305, we see that he has the demographic profile of an\n",
    "acceptor for most relevant variables (income, ccaverage). He is \n",
    "missing some of the \"doing business with the bank already\" attributes \n",
    "(Securities Acccount), but, overall, the customer \n",
    "profile is that of an acceptor, so it is a case of the customer not behaving\n",
    "in the way that similar customers behave.\n",
    "\n",
    "\n",
    "## Problem 12.1.c\n",
    "As in many marketing campaigns, it is more important to identify customers who will accept the offer rather than customers who will not accept it. Therefore, a good model should be especially accurate at detecting acceptors. Examine the lift chart and decile-wise lift chart for the validation set and interpret them in light of this ranking goal."
   ]
  },
  {
   "cell_type": "code",
   "execution_count": 12,
   "metadata": {},
   "outputs": [
    {
     "data": {
      "image/png": "[encoded data removed]",
      "text/plain": [
       "<Figure size 576x288 with 2 Axes>"
      ]
     },
     "metadata": {
      "needs_background": "light"
     },
     "output_type": "display_data"
    }
   ],
   "source": [
    "proba = da_class.predict_proba(valid_X)\n",
    "result = pd.DataFrame({'actual': valid_y, \n",
    "                       'p(0)': [p[0] for p in proba],\n",
    "                       'p(1)': [p[1] for p in proba],\n",
    "                       'predicted': da_class.predict(valid_X) })\n",
    "result = result.sort_values(by=['p(1)'], ascending=False)\n",
    "\n",
    "fig, axes = plt.subplots(nrows=1, ncols=2, figsize=(8, 4))\n",
    "ax = gainsChart(result.actual, ax=axes[0])\n",
    "ax.set_ylabel('Cumulative Gains')\n",
    "ax.set_xlabel('#cases')\n",
    "ax.set_title('Cumulative Gains Chart')\n",
    "\n",
    "ax = liftChart(result.actual, ax=axes[1], labelBars=True)\n",
    "\n",
    "plt.tight_layout()\n",
    "plt.show()"
   ]
  },
  {
   "cell_type": "markdown",
   "metadata": {},
   "source": [
    "Using the lift chart we can descend through the customers in order of \n",
    "probability of being a loan acceptor, knowing at each point how effective we \n",
    "have been in \"skimming the cream\" (acceptors).\n",
    "The decile chart is similar, differing only in that it proceeds in chunks of \n",
    "10% of the data. From the decile chart we can see that taking the 10% of the \n",
    "records that are ranked by the model as \"most probable acceptors\" yields 7.5\n",
    "times as many \"acceptors\" as would simply selecting 10% of the records at \n",
    "random. \n",
    "\n",
    "## Problem 12.1.d\n",
    "Compare the results from the discriminant analysis with those from a logistic regression (both with cutoff 0.5 and the same predictors). Examine the confusion matrices, the lift charts, and the decile charts. Which method performs better on your validation set in detecting the acceptors?\n",
    "\n",
    "We can take the confusion matrix from the logistic regression model in chapter 10.\n",
    "```\n",
    "Confusion Matrix (Accuracy 0.9595)\n",
    "\n",
    "       Prediction\n",
    "Actual    0    1\n",
    "     0 1791   16\n",
    "     1   65  128\n",
    "```\n",
    "\n",
    "Discriminant analysis correctly classifies 115 of the acceptors, \n",
    "logistic regression 128. Therefore the logistic regression's error rate in \n",
    "detecting acceptors is lower than that of discriminant analysis.\n",
    "\n",
    "Decile chart of logistic regression: taking 10% of the records that are \n",
    "ranked by the model as \"most probable acceptors\" yields 7.8 times as many \n",
    "\"acceptors\" as would simply selecting 10% of the records at random.\n",
    "Decile chart of discriminant analysis: taking 10% of the records that are \n",
    "ranked by the model as \"most probable acceptors\" yields 7.5 times as many \n",
    "\"acceptors\" as would simply selecting 10% of the records at random.\n",
    "Therefore logistic regression performs slightly better than discriminant \n",
    "analysis in detecting acceptors for validation data."
   ]
  },
  {
   "cell_type": "markdown",
   "metadata": {},
   "source": [
    "## Problem 12.1.e\n",
    "The bank is planning to continue its campaign by sending its offer to 1000 additional customers. Suppose that the cost of sending the offer is \\\\$1 and the profit from an accepted offer is \\\\$50. What is the expected profitability of this campaign?\n"
   ]
  },
  {
   "cell_type": "code",
   "execution_count": 13,
   "metadata": {},
   "outputs": [
    {
     "name": "stdout",
     "output_type": "stream",
     "text": [
      "0    2713\n",
      "1     287\n",
      "Name: Personal Loan, dtype: int64\n",
      "probability of accepting the loan 0.09566666666666666\n",
      "expected profitability  3800\n"
     ]
    }
   ],
   "source": [
    "print(train_y.value_counts())\n",
    "\n",
    "print('probability of accepting the loan', 287 / (287 + 2713))\n",
    "print('expected profitability ', 96 * 50 - 1000)"
   ]
  },
  {
   "cell_type": "markdown",
   "metadata": {},
   "source": [
    "The probability of acceptance of a loan = 0.0957 (prior class probability). \n",
    "Out of 1000 customers 9.57% (that is 96) can be expected to accept the loan\n",
    "offer.\n",
    "\n",
    "Profit from each accepted offer = $50.\n",
    "\n",
    "Total expected profitability is:\n",
    "\n",
    "profit from these 101 customers - the cost of sending an offer.\n",
    "\n",
    "Therefore total expected profitability = 96*50 - 1000 = 3800\n",
    "\n",
    "Expected profitability from this campaign is \\\\$3850.\n",
    "\n",
    "## Problem 12.1.f\n",
    "The cost of misclassifying a loan acceptor customer as a nonacceptor is much higher than the opposite misclassification cost. To minimize the expected cost of misclassification, should the cutoff value for classification (which is currently at 0.5) be increased or decreased?\n",
    "\n",
    "If the cutoff were lowered, then we would classify more \"non acceptors\" cases \n",
    "as \"acceptors\" cases (more zeros misclassified as 1).\n",
    "\n",
    "This means that the numerator in the classification error rate for truly \n",
    "completed will be less than or equal to b. Therefore, lowering the cutoff\n",
    "will lead to a reduced (or equal) classification error rate for truly \n",
    "acceptor cases.\n",
    "\n",
    "Therefore, if the cutoff is lowered, then\n",
    "\n",
    "1. It will classify more nonacceptors as acceptors.\n",
    "2. It will minimize the expected cost of misclassification."
   ]
  },
  {
   "cell_type": "markdown",
   "metadata": {},
   "source": [
    "# Problem 12.2: Identifying Good System Administrators\n",
    "A management consultant is studying the roles played by experience and training in a system administrator's ability to complete a set of tasks in a specified amount of time. In particular, she is interested in discriminating between administrators who are able to complete given tasks within a specified time and those who are not. Data are collected on the performance of 75 randomly selected administrators. They are stored in the file  _SystemAdministrators.csv_.\n",
    "\n",
    "Using these data, the consultant performs a discriminant analysis. The variable Experience measures months of full time system administrator experience, while Training measures number of relevant training credits. The dependent variable Completed is either _Yes_ or _No_, according to whether or not the administrator completed the tasks."
   ]
  },
  {
   "cell_type": "code",
   "execution_count": 14,
   "metadata": {
    "scrolled": true
   },
   "outputs": [
    {
     "data": {
      "text/html": [
       "<div>\n",
       "<style scoped>\n",
       "    .dataframe tbody tr th:only-of-type {\n",
       "        vertical-align: middle;\n",
       "    }\n",
       "\n",
       "    .dataframe tbody tr th {\n",
       "        vertical-align: top;\n",
       "    }\n",
       "\n",
       "    .dataframe thead th {\n",
       "        text-align: right;\n",
       "    }\n",
       "</style>\n",
       "<table border=\"1\" class=\"dataframe\">\n",
       "  <thead>\n",
       "    <tr style=\"text-align: right;\">\n",
       "      <th></th>\n",
       "      <th>Experience</th>\n",
       "      <th>Training</th>\n",
       "      <th>Completed task</th>\n",
       "    </tr>\n",
       "  </thead>\n",
       "  <tbody>\n",
       "    <tr>\n",
       "      <th>0</th>\n",
       "      <td>10.9</td>\n",
       "      <td>4</td>\n",
       "      <td>Yes</td>\n",
       "    </tr>\n",
       "    <tr>\n",
       "      <th>1</th>\n",
       "      <td>9.9</td>\n",
       "      <td>4</td>\n",
       "      <td>Yes</td>\n",
       "    </tr>\n",
       "    <tr>\n",
       "      <th>2</th>\n",
       "      <td>10.4</td>\n",
       "      <td>6</td>\n",
       "      <td>Yes</td>\n",
       "    </tr>\n",
       "    <tr>\n",
       "      <th>3</th>\n",
       "      <td>13.7</td>\n",
       "      <td>6</td>\n",
       "      <td>Yes</td>\n",
       "    </tr>\n",
       "    <tr>\n",
       "      <th>4</th>\n",
       "      <td>9.4</td>\n",
       "      <td>8</td>\n",
       "      <td>Yes</td>\n",
       "    </tr>\n",
       "  </tbody>\n",
       "</table>\n",
       "</div>"
      ],
      "text/plain": [
       "   Experience  Training Completed task\n",
       "0        10.9         4            Yes\n",
       "1         9.9         4            Yes\n",
       "2        10.4         6            Yes\n",
       "3        13.7         6            Yes\n",
       "4         9.4         8            Yes"
      ]
     },
     "execution_count": 14,
     "metadata": {},
     "output_type": "execute_result"
    }
   ],
   "source": [
    "data = pd.read_csv(DATA / 'SystemAdministrators.csv')\n",
    "data.head()"
   ]
  },
  {
   "cell_type": "markdown",
   "metadata": {},
   "source": [
    "## Problem 12.2.a\n",
    "Create a scatter plot of Experience vs. Training using color or symbol to differentiate administrators who completed the tasks from those who did not complete them. See if you can identify a line that separates the two classes with minimum misclassification."
   ]
  },
  {
   "cell_type": "code",
   "execution_count": 15,
   "metadata": {},
   "outputs": [
    {
     "data": {
      "image/png": "[encoded data removed]",
      "text/plain": [
       "<Figure size 432x288 with 1 Axes>"
      ]
     },
     "metadata": {
      "needs_background": "light"
     },
     "output_type": "display_data"
    }
   ],
   "source": [
    "ax = data[data['Completed task'] == 'Yes'].plot.scatter(x='Training', y='Experience', c='none',\n",
    "                                                        facecolors='none', edgecolors='C0', s=10)\n",
    "data[data['Completed task'] == 'No'].plot.scatter(x='Training', y='Experience', c='none',\n",
    "                                                  facecolors='none', edgecolors='C1', s=10, ax=ax)\n",
    "plt.show()"
   ]
  },
  {
   "cell_type": "markdown",
   "metadata": {},
   "source": [
    "From the scatterplot we can observe that programmers who completed the task \n",
    "tend to have more experience. Training, however, does not play much a role in \n",
    "task completion. Therefore, the predictor Experience appears more useful for \n",
    "classifying task completion.\n",
    "\n",
    "\n",
    "## Problem 12.2.b\n",
    "Run a discriminant analysis with both predictors using the entire dataset as training data.  Among those who completed the tasks, what is the percentage of administrators who are classified incorrectly as failing to complete the tasks?"
   ]
  },
  {
   "cell_type": "code",
   "execution_count": 16,
   "metadata": {},
   "outputs": [
    {
     "name": "stdout",
     "output_type": "stream",
     "text": [
      "Confusion Matrix (Accuracy 0.9067)\n",
      "\n",
      "       Prediction\n",
      "Actual  0  1\n",
      "     0 58  2\n",
      "     1  5 10\n"
     ]
    }
   ],
   "source": [
    "predictors = ['Training', 'Experience']\n",
    "outcome = 'Completed task'\n",
    "\n",
    "X = data[predictors]\n",
    "y = data[outcome]\n",
    "\n",
    "da = LinearDiscriminantAnalysis()\n",
    "da.fit(X, y)\n",
    "\n",
    "classificationSummary(y, da.predict(X))"
   ]
  },
  {
   "cell_type": "markdown",
   "metadata": {},
   "source": [
    "Among 15 administrators who completed the task, 5 are misclassified as \n",
    "failing to complete the task.\n",
    "\n",
    "Therefore, the percentage of administrators who completed the task but were \n",
    "misclassified as failing to complete the task is 33.33%.\n",
    "\n",
    "## Problem 12.2.c\n",
    "Compute the two classification scores for an administrator with 4 months of experience and six credits of training. Based on these, how would you classify this administrator?"
   ]
  },
  {
   "cell_type": "code",
   "execution_count": 17,
   "metadata": {},
   "outputs": [
    {
     "name": "stdout",
     "output_type": "stream",
     "text": [
      "['No']\n"
     ]
    },
    {
     "data": {
      "text/plain": [
       "array([[9.99052428e-01, 9.47571894e-04]])"
      ]
     },
     "execution_count": 17,
     "metadata": {},
     "output_type": "execute_result"
    }
   ],
   "source": [
    "admin = pd.DataFrame([{'Training': 6.0, 'Experience': 4}])\n",
    "print(da.predict(admin[predictors]))\n",
    "da.predict_proba(admin[predictors])"
   ]
  },
  {
   "cell_type": "markdown",
   "metadata": {},
   "source": [
    "The classification score for class \"No\" is more than that for class \"Yes\".\n",
    "Therefore, we classify the administrator as \"fail to complete the task.\"\n",
    "\n",
    "## Problem 12.2.d\n",
    "How much experience must be accumulated by an administrator with four training credits before his or her estimated probability of completing the tasks exceeds 0.5?"
   ]
  },
  {
   "cell_type": "code",
   "execution_count": 18,
   "metadata": {},
   "outputs": [
    {
     "name": "stdout",
     "output_type": "stream",
     "text": [
      "Experience 3: 0.000\n",
      "Experience 4: 0.001\n",
      "Experience 5: 0.003\n",
      "Experience 6: 0.013\n",
      "Experience 7: 0.051\n",
      "Experience 8: 0.187\n",
      "Experience 9: 0.494\n",
      "Experience 10: 0.805\n",
      "Experience 11: 0.946\n",
      "Experience 12: 0.987\n",
      "Experience 13: 0.997\n"
     ]
    }
   ],
   "source": [
    "for experience in range(3, 14):\n",
    "    admin = pd.DataFrame([{'Training': 4, 'Experience': experience}])\n",
    "    print(f'Experience {experience}: {da.predict_proba(admin[predictors])[0][1]:.3f}')"
   ]
  },
  {
   "cell_type": "markdown",
   "metadata": {},
   "source": [
    "he administrator must accumulate more than 9 years experience with 4 \n",
    "training credits so that his/her estimated probability of completing the task\n",
    "exceeds 0.5.\n",
    "\n",
    "\n",
    "\n",
    "## Problem 12.2.e\n",
    "Compare the classification accuracy of this model to that resulting from a logistic regression with cutoff 0.5."
   ]
  },
  {
   "cell_type": "code",
   "execution_count": 19,
   "metadata": {},
   "outputs": [
    {
     "name": "stdout",
     "output_type": "stream",
     "text": [
      "Confusion Matrix (Accuracy 0.9067)\n",
      "\n",
      "       Prediction\n",
      "Actual  0  1\n",
      "     0 58  2\n",
      "     1  5 10\n"
     ]
    }
   ],
   "source": [
    "logit_reg = LogisticRegression(penalty=\"l2\", C=1e42, solver='liblinear')\n",
    "logit_reg.fit(X, y)\n",
    "classificationSummary(y, logit_reg.predict(X))"
   ]
  },
  {
   "cell_type": "markdown",
   "metadata": {},
   "source": [
    "Among 15 administrators who completed task, 5 are misclassified as failing to \n",
    "complete the task. Therefore percentage of administrators who completed the\n",
    "task but were misclassified as failing to complete the task is 33.33%.\n",
    "\n",
    "Therefore, the results from both discriminant analysis and logistic regression are the same."
   ]
  },
  {
   "cell_type": "markdown",
   "metadata": {},
   "source": [
    "# Problem 12.3: Detecting Spam E-mail (from the UCI Machine Learning Repository)\n",
    "A team at Hewlett-Packard collected data on a large number of e-mail messages from their postmaster and personal e-mail for the purpose of finding a classifier that can separate e-mail messages that are _spam_ vs. _nonspam_ (a.k.a. 'ham'). The spam concept is diverse: It includes advertisements for products or websites, 'make money fast' schemes, chain letters, pornography, and so on. The definition used here is 'unsolicited commercial e-mail.' The file _Spambase.csv_ contains information on 4601 e-mail messages, among which 1813 are tagged 'spam.' The predictors include 57 attributes, most of them are the average number of times a certain word (e.g., mail, George) or symbol (e.g., \\#, !) appears in the e-mail. A few predictors are\n",
    "related to the number and length of capitalized words.\n",
    "\n",
    "## Problem 12.3.a\n",
    "To reduce the number of predictors to a manageable size, examine how each predictor differs between the _spam_ and _nonspam_ e-mails by comparing the spam-class average and nonspam-class average. Which are the 11 predictors that appear to vary the most between _spam_ and _nonspam_ e-mails? From these 11, which words or signs occur more often in spam?"
   ]
  },
  {
   "cell_type": "code",
   "execution_count": 20,
   "metadata": {
    "scrolled": false
   },
   "outputs": [
    {
     "data": {
      "text/plain": [
       "Index(['make', 'address', 'all', 'W_3d', 'our', 'over', 'remove', 'internet',\n",
       "       'order', 'mail', 'receive', 'will ', 'people', 'report', 'addresses',\n",
       "       'free', 'business', 'email', 'you ', 'credit', 'your', 'font', 'W_000',\n",
       "       'money', 'hp', 'hpl', 'george', 'W_650', 'lab', 'labs', 'telnet',\n",
       "       'W_857', 'data', 'W_415', 'W_85', 'technology', 'W_1999', 'parts', 'pm',\n",
       "       'direct', 'cs', 'meeting', 'original', 'project ', 're:', 'edu',\n",
       "       'table ', 'conference', 'C;', 'C(', 'C[', 'C!', 'C$', 'C#', 'CAP_avg',\n",
       "       'CAP_long', 'CAP_tot', 'Spam'],\n",
       "      dtype='object')"
      ]
     },
     "execution_count": 20,
     "metadata": {},
     "output_type": "execute_result"
    }
   ],
   "source": [
    "data = pd.read_csv(DATA / 'Spambase.csv')\n",
    "data.head()\n",
    "data.columns"
   ]
  },
  {
   "cell_type": "code",
   "execution_count": 21,
   "metadata": {},
   "outputs": [
    {
     "name": "stdout",
     "output_type": "stream",
     "text": [
      "CAP_tot     309.148468\n",
      "CAP_long     86.178780\n",
      "CAP_avg       7.141864\n",
      "Spam          1.000000\n",
      "you           0.994199\n",
      "your          0.941668\n",
      "free          0.444775\n",
      "C!            0.403729\n",
      "our           0.332915\n",
      "dtype: float64\n"
     ]
    },
    {
     "data": {
      "text/plain": [
       "CAP_tot     309.148468\n",
       "CAP_long     86.178780\n",
       "CAP_avg       7.141864\n",
       "george        1.263716\n",
       "Spam          1.000000\n",
       "you           0.994199\n",
       "your          0.941668\n",
       "hp            0.877994\n",
       "free          0.444775\n",
       "hpl           0.422822\n",
       "C!            0.403729\n",
       "our           0.332915\n",
       "dtype: float64"
      ]
     },
     "execution_count": 21,
     "metadata": {},
     "output_type": "execute_result"
    }
   ],
   "source": [
    "spamData = data[data.Spam == 1]\n",
    "nonspamData = data[data.Spam == 0]\n",
    "\n",
    "# determine absolute difference between spam-class average and nonspam-class average for each of the variables\n",
    "difference = spamData.mean() - nonspamData.mean()\n",
    "print(difference.sort_values(ascending=False).head(9))\n",
    "absDifference = abs(difference)\n",
    "\n",
    "# Get the 10 values with the largest absolute difference in mean\n",
    "absDifference.sort_values(ascending=False).head(12)"
   ]
  },
  {
   "cell_type": "markdown",
   "metadata": {},
   "source": [
    "The following 11 predictors appear to vary most between spam and non-spam.\n",
    "> our, C!, hpl, free, hp, your, you, george, CAP_avg, CAP_long, CAP_tot\n",
    "\n",
    "Which of these occur more often in spam?\n",
    "> our, C!, free, your, you, CAP_avg, CAP_long, CAP_tot\n",
    "\n",
    "\n",
    "## Problem 12.3.b\n",
    "Partition the data into training and validation sets, then perform a discriminant analysis on the training data using only the 11 predictors."
   ]
  },
  {
   "cell_type": "code",
   "execution_count": 22,
   "metadata": {},
   "outputs": [
    {
     "name": "stdout",
     "output_type": "stream",
     "text": [
      "Training set: (2760, 11) Validation set: (1841, 11)\n"
     ]
    },
    {
     "data": {
      "text/plain": [
       "LinearDiscriminantAnalysis(n_components=None, priors=None, shrinkage=None,\n",
       "                           solver='svd', store_covariance=False, tol=0.0001)"
      ]
     },
     "execution_count": 22,
     "metadata": {},
     "output_type": "execute_result"
    }
   ],
   "source": [
    "predictors = ['our', 'C!', 'hpl', 'free', 'hp', 'your', 'you ', 'george', 'CAP_avg', 'CAP_long', 'CAP_tot']\n",
    "outcome = 'Spam'\n",
    "\n",
    "# create training and validation sets\n",
    "X = data[predictors]\n",
    "y = data[outcome]\n",
    "\n",
    "train_X, valid_X, train_y, valid_y = train_test_split(X, y, test_size=0.4, random_state=1)\n",
    "print('Training set:', train_X.shape, 'Validation set:', valid_X.shape)\n",
    "\n",
    "da_class = LinearDiscriminantAnalysis()\n",
    "da_class.fit(train_X, train_y)"
   ]
  },
  {
   "cell_type": "markdown",
   "metadata": {},
   "source": [
    "## Problem 12.3.c\n",
    "If we are interested mainly in detecting spam messages, is this model useful? Use the confusion matrix, lift chart, and decile chart for the validation set for the evaluation."
   ]
  },
  {
   "cell_type": "code",
   "execution_count": 23,
   "metadata": {},
   "outputs": [
    {
     "name": "stdout",
     "output_type": "stream",
     "text": [
      "Confusion Matrix (Accuracy 0.8332)\n",
      "\n",
      "       Prediction\n",
      "Actual    0    1\n",
      "     0 1030   68\n",
      "     1  239  504\n",
      "743 spam message, error rate 32.17\n"
     ]
    }
   ],
   "source": [
    "classificationSummary(valid_y, da_class.predict(valid_X))\n",
    "print(f'{239 + 504} spam message, error rate {239 / (504 + 239) * 100:.2f}')"
   ]
  },
  {
   "cell_type": "markdown",
   "metadata": {},
   "source": [
    "Among the 743 spam messages, 239 are misclassified as non-spam. Therefore the\n",
    "error rate is 32.17%, which is moderately high."
   ]
  },
  {
   "cell_type": "code",
   "execution_count": 24,
   "metadata": {},
   "outputs": [
    {
     "data": {
      "image/png": "[encoded data removed]",
      "text/plain": [
       "<Figure size 576x288 with 2 Axes>"
      ]
     },
     "metadata": {
      "needs_background": "light"
     },
     "output_type": "display_data"
    }
   ],
   "source": [
    "proba = da_class.predict_proba(valid_X)\n",
    "result = pd.DataFrame({'actual': valid_y, \n",
    "                       'p(0)': [p[0] for p in proba],\n",
    "                       'p(1)': [p[1] for p in proba],\n",
    "                       'predicted': da_class.predict(valid_X) })\n",
    "result = result.sort_values(by=['p(1)'], ascending=False)\n",
    "\n",
    "fig, axes = plt.subplots(nrows=1, ncols=2, figsize=(8, 4))\n",
    "ax = gainsChart(result.actual, ax=axes[0])\n",
    "ax.set_ylabel('Cumulative Gains')\n",
    "ax.set_xlabel('#cases')\n",
    "ax.set_title('Cumulative Gains Chart')\n",
    "\n",
    "ax = liftChart(result.actual, ax=axes[1], labelBars=True)\n",
    "\n",
    "plt.tight_layout()\n",
    "plt.show()"
   ]
  },
  {
   "cell_type": "markdown",
   "metadata": {},
   "source": [
    "From the decile chart: if we take 10% of the records that are ranked by the \n",
    "model as \"most probable spam\", it captures 2.3 times more \"spam\" messages \n",
    "than simply selecting 10% of the records at random."
   ]
  },
  {
   "cell_type": "markdown",
   "metadata": {},
   "source": [
    "## Problem 12.3.d\n",
    "In the sample, almost 40\\% of the e-mail messages were tagged as spam. However, suppose that the actual proportion of spam messages in these e-mail accounts is 10\\%. Compute the constants of the classification functions to account for this information."
   ]
  },
  {
   "cell_type": "markdown",
   "metadata": {},
   "source": [
    "The constant in the classification function of `da_class` is given as:"
   ]
  },
  {
   "cell_type": "code",
   "execution_count": 25,
   "metadata": {},
   "outputs": [
    {
     "name": "stdout",
     "output_type": "stream",
     "text": [
      "The constant of the classification function is: [-2.07053468]\n",
      "The priors of the classification function are: [0.61231884 0.38768116]\n"
     ]
    }
   ],
   "source": [
    "print(f'The constant of the classification function is: {da_class.intercept_}')\n",
    "print(f'The priors of the classification function are: {da_class.priors_}')"
   ]
  },
  {
   "cell_type": "markdown",
   "metadata": {},
   "source": [
    "If we want to calculate the constant for a different prior, we need to determine first the log-differences in the priors and then adjust the constant."
   ]
  },
  {
   "cell_type": "code",
   "execution_count": 26,
   "metadata": {},
   "outputs": [
    {
     "name": "stdout",
     "output_type": "stream",
     "text": [
      "Difference of log-prior of classification function: -0.45706988046116737\n",
      "Difference of log-prior of classification function for new priors: -2.197224577336219\n",
      "Adjusted intercept for new priors: [-3.81068937]\n"
     ]
    }
   ],
   "source": [
    "log_priors = np.log(da_class.priors_)\n",
    "log_priors_10 = np.log([0.9, 0.1])\n",
    "diff_log_priors = log_priors[1] - log_priors[0]\n",
    "diff_log_priors_10 = log_priors_10[1] - log_priors_10[0]\n",
    "print(f'Difference of log-prior of classification function: {diff_log_priors}')\n",
    "print(f'Difference of log-prior of classification function for new priors: {diff_log_priors_10}')\n",
    "\n",
    "adjusted_intercept = da_class.intercept_ - diff_log_priors + diff_log_priors_10\n",
    "print(f'Adjusted intercept for new priors: {adjusted_intercept}')"
   ]
  },
  {
   "cell_type": "markdown",
   "metadata": {},
   "source": [
    "The `LinearDiscriminantAnalysis` implementation in _scikit-learn_ allows specifying the priors directly. We can confirm the correctness of our calculation above using this."
   ]
  },
  {
   "cell_type": "code",
   "execution_count": 27,
   "metadata": {},
   "outputs": [
    {
     "name": "stdout",
     "output_type": "stream",
     "text": [
      "Confusion Matrix (Accuracy 0.6594)\n",
      "\n",
      "       Prediction\n",
      "Actual    0    1\n",
      "     0 1086   12\n",
      "     1  615  128\n",
      "[-3.81068937]\n"
     ]
    }
   ],
   "source": [
    "da_class_10 = LinearDiscriminantAnalysis(priors = [0.9, 0.1])\n",
    "da_class_10.fit(train_X, train_y)\n",
    "classificationSummary(valid_y, da_class_10.predict(valid_X))\n",
    "\n",
    "print(da_class_10.intercept_)"
   ]
  },
  {
   "cell_type": "markdown",
   "metadata": {},
   "source": [
    "## Problem 12.3.e\n",
    "A spam filter that is based on your model is used, so that only messages that are classified as _nonspam_ are delivered, while messages that are classified as _spam_ are quarantined. In this case, misclassifying a nonspam e-mail (as spam) has much heftier results. Suppose that the cost of quarantining a nonspam e-mail is 20 times\n",
    "that of not detecting a spam message. Compute the constants of the classification functions to account for these costs (assume that the proportion of spam is reflected correctly by the sample proportion)."
   ]
  },
  {
   "cell_type": "code",
   "execution_count": 28,
   "metadata": {},
   "outputs": [
    {
     "name": "stdout",
     "output_type": "stream",
     "text": [
      "Difference of log-prior of classification function: -0.45706988046116737\n",
      "Intercept before adjustment [-2.07053468]\n",
      "Adjusted intercept including cost: [-5.06626695]\n"
     ]
    }
   ],
   "source": [
    "log_priors = np.log(da_class.priors_)\n",
    "diff_log_priors = log_priors[1] - log_priors[0]\n",
    "print(f'Difference of log-prior of classification function: {diff_log_priors}')\n",
    "\n",
    "# Adjust intercept using the log of the cost-ratio\n",
    "adjusted_intercept = da_class.intercept_ - np.log(20)\n",
    "print(f'Intercept before adjustment {da_class.intercept_}')\n",
    "print(f'Adjusted intercept including cost: {adjusted_intercept}')"
   ]
  },
  {
   "cell_type": "markdown",
   "metadata": {},
   "source": [
    "For the `LinearDiscriminantAnalysis` implementation in _scikit-learn_ it is better to adjust the priors to take the misclassification costs into account."
   ]
  },
  {
   "cell_type": "code",
   "execution_count": 29,
   "metadata": {},
   "outputs": [
    {
     "name": "stdout",
     "output_type": "stream",
     "text": [
      "Ratio of costs (q1/q2): 20\n",
      "Adjusted prior of nonspam: 0.9693145970748495\n",
      "Adjusted prior of spam: 0.03068540292515056\n"
     ]
    }
   ],
   "source": [
    "K = 20\n",
    "print(f'Ratio of costs (q1/q2): {K}')\n",
    "\n",
    "priorNonspam = da_class.priors_[0]\n",
    "priorSpam = da_class.priors_[1]\n",
    "adjPriorNonspam = priorNonspam * K / (priorNonspam * K + priorSpam)\n",
    "adjPriorSpam = priorSpam / (priorNonspam * K + priorSpam)\n",
    "\n",
    "print(f'Adjusted prior of nonspam: {adjPriorNonspam}')\n",
    "print(f'Adjusted prior of spam: {adjPriorSpam}')"
   ]
  },
  {
   "cell_type": "code",
   "execution_count": 30,
   "metadata": {},
   "outputs": [
    {
     "name": "stdout",
     "output_type": "stream",
     "text": [
      "Confusion Matrix (Accuracy 0.6122)\n",
      "\n",
      "       Prediction\n",
      "Actual    0    1\n",
      "     0 1092    6\n",
      "     1  708   35\n"
     ]
    },
    {
     "data": {
      "text/plain": [
       "array([-5.06626695])"
      ]
     },
     "execution_count": 30,
     "metadata": {},
     "output_type": "execute_result"
    }
   ],
   "source": [
    "da_class_spam = LinearDiscriminantAnalysis(priors = [adjPriorNonspam, adjPriorSpam])\n",
    "da_class_spam.fit(train_X, train_y)\n",
    "classificationSummary(valid_y, da_class_spam.predict(valid_X))\n",
    "da_class_spam.intercept_"
   ]
  },
  {
   "cell_type": "markdown",
   "metadata": {},
   "source": [
    "We can see that adjusting the priors leads to a model which predicts fewer _nonspam_ messages as _spam_."
   ]
  },
  {
   "cell_type": "code",
   "execution_count": null,
   "metadata": {},
   "outputs": [],
   "source": []
  }
 ],
 "metadata": {
  "kernelspec": {
   "display_name": "Python 3",
   "language": "python",
   "name": "python3"
  },
  "language_info": {
   "codemirror_mode": {
    "name": "ipython",
    "version": 3
   },
   "file_extension": ".py",
   "mimetype": "text/x-python",
   "name": "python",
   "nbconvert_exporter": "python",
   "pygments_lexer": "ipython3",
   "version": "3.8.2"
  }
 },
 "nbformat": 4,
 "nbformat_minor": 2
}
