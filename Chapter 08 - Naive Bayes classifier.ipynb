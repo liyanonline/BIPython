{
  "cells": [
    {
      "cell_type": "markdown",
      "metadata": {
        "id": "view-in-github",
        "colab_type": "text"
      },
      "source": [
        "<a href=\"https://colab.research.google.com/github/liyanonline/BIPython/blob/main/Chapter%2008%20-%20Naive%20Bayes%20classifier.ipynb\" target=\"_parent\"><img src=\"https://colab.research.google.com/assets/colab-badge.svg\" alt=\"Open In Colab\"/></a>"
      ]
    },
    {
      "cell_type": "markdown",
      "metadata": {
        "id": "0tRJGM8zDYcy"
      },
      "source": [
        "# Chapter 8: The Naive Bayes Classifier\n",
        "\n",
        "> (c) 2019 Galit Shmueli, Peter C. Bruce, Peter Gedeck\n",
        ">\n",
        "> Code included in\n",
        ">\n",
        "> _Data Mining for Business Analytics: Concepts, Techniques, and Applications in Python_ (First Edition)\n",
        "> Galit Shmueli, Peter C. Bruce, Peter Gedeck, and Nitin R. Patel. 2019.\n",
        "\n",
        "## Import required packages"
      ]
    },
    {
      "cell_type": "code",
      "execution_count": 6,
      "metadata": {
        "execution": {
          "iopub.execute_input": "2021-05-27T20:03:07.684323Z",
          "iopub.status.busy": "2021-05-27T20:03:07.683817Z",
          "iopub.status.idle": "2021-05-27T20:03:08.485055Z",
          "shell.execute_reply": "2021-05-27T20:03:08.484503Z"
        },
        "id": "elqTJWt0DYcz",
        "outputId": "f8671f10-8cdc-4674-ce3a-8f597720aa3e",
        "colab": {
          "base_uri": "https://localhost:8080/"
        }
      },
      "outputs": [
        {
          "output_type": "stream",
          "name": "stdout",
          "text": [
            "Requirement already satisfied: scikit-learn in /usr/local/lib/python3.11/dist-packages (1.6.1)\n",
            "Requirement already satisfied: scipy in /usr/local/lib/python3.11/dist-packages (1.15.2)\n",
            "Requirement already satisfied: matplotlib in /usr/local/lib/python3.11/dist-packages (3.10.1)\n",
            "Requirement already satisfied: pandas in /usr/local/lib/python3.11/dist-packages (2.2.3)\n",
            "Requirement already satisfied: dmba in /usr/local/lib/python3.11/dist-packages (0.2.4)\n",
            "Requirement already satisfied: numpy>=1.19.5 in /usr/local/lib/python3.11/dist-packages (from scikit-learn) (2.0.2)\n",
            "Requirement already satisfied: joblib>=1.2.0 in /usr/local/lib/python3.11/dist-packages (from scikit-learn) (1.4.2)\n",
            "Requirement already satisfied: threadpoolctl>=3.1.0 in /usr/local/lib/python3.11/dist-packages (from scikit-learn) (3.6.0)\n",
            "Requirement already satisfied: contourpy>=1.0.1 in /usr/local/lib/python3.11/dist-packages (from matplotlib) (1.3.1)\n",
            "Requirement already satisfied: cycler>=0.10 in /usr/local/lib/python3.11/dist-packages (from matplotlib) (0.12.1)\n",
            "Requirement already satisfied: fonttools>=4.22.0 in /usr/local/lib/python3.11/dist-packages (from matplotlib) (4.56.0)\n",
            "Requirement already satisfied: kiwisolver>=1.3.1 in /usr/local/lib/python3.11/dist-packages (from matplotlib) (1.4.8)\n",
            "Requirement already satisfied: packaging>=20.0 in /usr/local/lib/python3.11/dist-packages (from matplotlib) (24.2)\n",
            "Requirement already satisfied: pillow>=8 in /usr/local/lib/python3.11/dist-packages (from matplotlib) (11.1.0)\n",
            "Requirement already satisfied: pyparsing>=2.3.1 in /usr/local/lib/python3.11/dist-packages (from matplotlib) (3.2.3)\n",
            "Requirement already satisfied: python-dateutil>=2.7 in /usr/local/lib/python3.11/dist-packages (from matplotlib) (2.8.2)\n",
            "Requirement already satisfied: pytz>=2020.1 in /usr/local/lib/python3.11/dist-packages (from pandas) (2025.2)\n",
            "Requirement already satisfied: tzdata>=2022.7 in /usr/local/lib/python3.11/dist-packages (from pandas) (2025.2)\n",
            "Requirement already satisfied: graphviz in /usr/local/lib/python3.11/dist-packages (from dmba) (0.20.3)\n",
            "Requirement already satisfied: six>=1.5 in /usr/local/lib/python3.11/dist-packages (from python-dateutil>=2.7->matplotlib) (1.17.0)\n"
          ]
        }
      ],
      "source": [
        "!pip3 install -U scikit-learn scipy matplotlib pandas dmba\n",
        "from pathlib import Path\n",
        "\n",
        "import pandas as pd\n",
        "from sklearn.model_selection import train_test_split\n",
        "from sklearn.naive_bayes import MultinomialNB\n",
        "import matplotlib.pylab as plt\n",
        "\n",
        "import dmba\n",
        "from dmba import classificationSummary, gainsChart\n",
        "\n",
        "%matplotlib inline\n"
      ]
    },
    {
      "cell_type": "markdown",
      "metadata": {
        "id": "EUBaCvBGDYc0"
      },
      "source": [
        "## Table 8.4"
      ]
    },
    {
      "cell_type": "code",
      "execution_count": 7,
      "metadata": {
        "execution": {
          "iopub.execute_input": "2021-05-27T20:03:08.488861Z",
          "iopub.status.busy": "2021-05-27T20:03:08.488421Z",
          "iopub.status.idle": "2021-05-27T20:03:08.509636Z",
          "shell.execute_reply": "2021-05-27T20:03:08.509192Z"
        },
        "id": "adD1wpEFDYc0",
        "outputId": "67862466-241e-49c0-eb01-d80bd69f5bb1",
        "colab": {
          "base_uri": "https://localhost:8080/",
          "height": 206
        }
      },
      "outputs": [
        {
          "output_type": "execute_result",
          "data": {
            "text/plain": [
              "   CRS_DEP_TIME CARRIER  DEP_TIME DEST  DISTANCE     FL_DATE  FL_NUM ORIGIN  \\\n",
              "0          1455      OH      1455  JFK       184  01/01/2004    5935    BWI   \n",
              "1          1640      DH      1640  JFK       213  01/01/2004    6155    DCA   \n",
              "2          1245      DH      1245  LGA       229  01/01/2004    7208    IAD   \n",
              "3          1715      DH      1709  LGA       229  01/01/2004    7215    IAD   \n",
              "4          1039      DH      1035  LGA       229  01/01/2004    7792    IAD   \n",
              "\n",
              "   Weather  DAY_WEEK  DAY_OF_MONTH TAIL_NUM Flight Status  \n",
              "0        0         4             1   N940CA        ontime  \n",
              "1        0         4             1   N405FJ        ontime  \n",
              "2        0         4             1   N695BR        ontime  \n",
              "3        0         4             1   N662BR        ontime  \n",
              "4        0         4             1   N698BR        ontime  "
            ],
            "text/html": [
              "\n",
              "  <div id=\"df-85b31a5f-f301-48fc-bbcd-7d694006ab69\" class=\"colab-df-container\">\n",
              "    <div>\n",
              "<style scoped>\n",
              "    .dataframe tbody tr th:only-of-type {\n",
              "        vertical-align: middle;\n",
              "    }\n",
              "\n",
              "    .dataframe tbody tr th {\n",
              "        vertical-align: top;\n",
              "    }\n",
              "\n",
              "    .dataframe thead th {\n",
              "        text-align: right;\n",
              "    }\n",
              "</style>\n",
              "<table border=\"1\" class=\"dataframe\">\n",
              "  <thead>\n",
              "    <tr style=\"text-align: right;\">\n",
              "      <th></th>\n",
              "      <th>CRS_DEP_TIME</th>\n",
              "      <th>CARRIER</th>\n",
              "      <th>DEP_TIME</th>\n",
              "      <th>DEST</th>\n",
              "      <th>DISTANCE</th>\n",
              "      <th>FL_DATE</th>\n",
              "      <th>FL_NUM</th>\n",
              "      <th>ORIGIN</th>\n",
              "      <th>Weather</th>\n",
              "      <th>DAY_WEEK</th>\n",
              "      <th>DAY_OF_MONTH</th>\n",
              "      <th>TAIL_NUM</th>\n",
              "      <th>Flight Status</th>\n",
              "    </tr>\n",
              "  </thead>\n",
              "  <tbody>\n",
              "    <tr>\n",
              "      <th>0</th>\n",
              "      <td>1455</td>\n",
              "      <td>OH</td>\n",
              "      <td>1455</td>\n",
              "      <td>JFK</td>\n",
              "      <td>184</td>\n",
              "      <td>01/01/2004</td>\n",
              "      <td>5935</td>\n",
              "      <td>BWI</td>\n",
              "      <td>0</td>\n",
              "      <td>4</td>\n",
              "      <td>1</td>\n",
              "      <td>N940CA</td>\n",
              "      <td>ontime</td>\n",
              "    </tr>\n",
              "    <tr>\n",
              "      <th>1</th>\n",
              "      <td>1640</td>\n",
              "      <td>DH</td>\n",
              "      <td>1640</td>\n",
              "      <td>JFK</td>\n",
              "      <td>213</td>\n",
              "      <td>01/01/2004</td>\n",
              "      <td>6155</td>\n",
              "      <td>DCA</td>\n",
              "      <td>0</td>\n",
              "      <td>4</td>\n",
              "      <td>1</td>\n",
              "      <td>N405FJ</td>\n",
              "      <td>ontime</td>\n",
              "    </tr>\n",
              "    <tr>\n",
              "      <th>2</th>\n",
              "      <td>1245</td>\n",
              "      <td>DH</td>\n",
              "      <td>1245</td>\n",
              "      <td>LGA</td>\n",
              "      <td>229</td>\n",
              "      <td>01/01/2004</td>\n",
              "      <td>7208</td>\n",
              "      <td>IAD</td>\n",
              "      <td>0</td>\n",
              "      <td>4</td>\n",
              "      <td>1</td>\n",
              "      <td>N695BR</td>\n",
              "      <td>ontime</td>\n",
              "    </tr>\n",
              "    <tr>\n",
              "      <th>3</th>\n",
              "      <td>1715</td>\n",
              "      <td>DH</td>\n",
              "      <td>1709</td>\n",
              "      <td>LGA</td>\n",
              "      <td>229</td>\n",
              "      <td>01/01/2004</td>\n",
              "      <td>7215</td>\n",
              "      <td>IAD</td>\n",
              "      <td>0</td>\n",
              "      <td>4</td>\n",
              "      <td>1</td>\n",
              "      <td>N662BR</td>\n",
              "      <td>ontime</td>\n",
              "    </tr>\n",
              "    <tr>\n",
              "      <th>4</th>\n",
              "      <td>1039</td>\n",
              "      <td>DH</td>\n",
              "      <td>1035</td>\n",
              "      <td>LGA</td>\n",
              "      <td>229</td>\n",
              "      <td>01/01/2004</td>\n",
              "      <td>7792</td>\n",
              "      <td>IAD</td>\n",
              "      <td>0</td>\n",
              "      <td>4</td>\n",
              "      <td>1</td>\n",
              "      <td>N698BR</td>\n",
              "      <td>ontime</td>\n",
              "    </tr>\n",
              "  </tbody>\n",
              "</table>\n",
              "</div>\n",
              "    <div class=\"colab-df-buttons\">\n",
              "\n",
              "  <div class=\"colab-df-container\">\n",
              "    <button class=\"colab-df-convert\" onclick=\"convertToInteractive('df-85b31a5f-f301-48fc-bbcd-7d694006ab69')\"\n",
              "            title=\"Convert this dataframe to an interactive table.\"\n",
              "            style=\"display:none;\">\n",
              "\n",
              "  <svg xmlns=\"http://www.w3.org/2000/svg\" height=\"24px\" viewBox=\"0 -960 960 960\">\n",
              "    <path d=\"M120-120v-720h720v720H120Zm60-500h600v-160H180v160Zm220 220h160v-160H400v160Zm0 220h160v-160H400v160ZM180-400h160v-160H180v160Zm440 0h160v-160H620v160ZM180-180h160v-160H180v160Zm440 0h160v-160H620v160Z\"/>\n",
              "  </svg>\n",
              "    </button>\n",
              "\n",
              "  <style>\n",
              "    .colab-df-container {\n",
              "      display:flex;\n",
              "      gap: 12px;\n",
              "    }\n",
              "\n",
              "    .colab-df-convert {\n",
              "      background-color: #E8F0FE;\n",
              "      border: none;\n",
              "      border-radius: 50%;\n",
              "      cursor: pointer;\n",
              "      display: none;\n",
              "      fill: #1967D2;\n",
              "      height: 32px;\n",
              "      padding: 0 0 0 0;\n",
              "      width: 32px;\n",
              "    }\n",
              "\n",
              "    .colab-df-convert:hover {\n",
              "      background-color: #E2EBFA;\n",
              "      box-shadow: 0px 1px 2px rgba(60, 64, 67, 0.3), 0px 1px 3px 1px rgba(60, 64, 67, 0.15);\n",
              "      fill: #174EA6;\n",
              "    }\n",
              "\n",
              "    .colab-df-buttons div {\n",
              "      margin-bottom: 4px;\n",
              "    }\n",
              "\n",
              "    [theme=dark] .colab-df-convert {\n",
              "      background-color: #3B4455;\n",
              "      fill: #D2E3FC;\n",
              "    }\n",
              "\n",
              "    [theme=dark] .colab-df-convert:hover {\n",
              "      background-color: #434B5C;\n",
              "      box-shadow: 0px 1px 3px 1px rgba(0, 0, 0, 0.15);\n",
              "      filter: drop-shadow(0px 1px 2px rgba(0, 0, 0, 0.3));\n",
              "      fill: #FFFFFF;\n",
              "    }\n",
              "  </style>\n",
              "\n",
              "    <script>\n",
              "      const buttonEl =\n",
              "        document.querySelector('#df-85b31a5f-f301-48fc-bbcd-7d694006ab69 button.colab-df-convert');\n",
              "      buttonEl.style.display =\n",
              "        google.colab.kernel.accessAllowed ? 'block' : 'none';\n",
              "\n",
              "      async function convertToInteractive(key) {\n",
              "        const element = document.querySelector('#df-85b31a5f-f301-48fc-bbcd-7d694006ab69');\n",
              "        const dataTable =\n",
              "          await google.colab.kernel.invokeFunction('convertToInteractive',\n",
              "                                                    [key], {});\n",
              "        if (!dataTable) return;\n",
              "\n",
              "        const docLinkHtml = 'Like what you see? Visit the ' +\n",
              "          '<a target=\"_blank\" href=https://colab.research.google.com/notebooks/data_table.ipynb>data table notebook</a>'\n",
              "          + ' to learn more about interactive tables.';\n",
              "        element.innerHTML = '';\n",
              "        dataTable['output_type'] = 'display_data';\n",
              "        await google.colab.output.renderOutput(dataTable, element);\n",
              "        const docLink = document.createElement('div');\n",
              "        docLink.innerHTML = docLinkHtml;\n",
              "        element.appendChild(docLink);\n",
              "      }\n",
              "    </script>\n",
              "  </div>\n",
              "\n",
              "\n",
              "<div id=\"df-7bf54a9d-3849-4ea9-80e4-4e843d720f22\">\n",
              "  <button class=\"colab-df-quickchart\" onclick=\"quickchart('df-7bf54a9d-3849-4ea9-80e4-4e843d720f22')\"\n",
              "            title=\"Suggest charts\"\n",
              "            style=\"display:none;\">\n",
              "\n",
              "<svg xmlns=\"http://www.w3.org/2000/svg\" height=\"24px\"viewBox=\"0 0 24 24\"\n",
              "     width=\"24px\">\n",
              "    <g>\n",
              "        <path d=\"M19 3H5c-1.1 0-2 .9-2 2v14c0 1.1.9 2 2 2h14c1.1 0 2-.9 2-2V5c0-1.1-.9-2-2-2zM9 17H7v-7h2v7zm4 0h-2V7h2v10zm4 0h-2v-4h2v4z\"/>\n",
              "    </g>\n",
              "</svg>\n",
              "  </button>\n",
              "\n",
              "<style>\n",
              "  .colab-df-quickchart {\n",
              "      --bg-color: #E8F0FE;\n",
              "      --fill-color: #1967D2;\n",
              "      --hover-bg-color: #E2EBFA;\n",
              "      --hover-fill-color: #174EA6;\n",
              "      --disabled-fill-color: #AAA;\n",
              "      --disabled-bg-color: #DDD;\n",
              "  }\n",
              "\n",
              "  [theme=dark] .colab-df-quickchart {\n",
              "      --bg-color: #3B4455;\n",
              "      --fill-color: #D2E3FC;\n",
              "      --hover-bg-color: #434B5C;\n",
              "      --hover-fill-color: #FFFFFF;\n",
              "      --disabled-bg-color: #3B4455;\n",
              "      --disabled-fill-color: #666;\n",
              "  }\n",
              "\n",
              "  .colab-df-quickchart {\n",
              "    background-color: var(--bg-color);\n",
              "    border: none;\n",
              "    border-radius: 50%;\n",
              "    cursor: pointer;\n",
              "    display: none;\n",
              "    fill: var(--fill-color);\n",
              "    height: 32px;\n",
              "    padding: 0;\n",
              "    width: 32px;\n",
              "  }\n",
              "\n",
              "  .colab-df-quickchart:hover {\n",
              "    background-color: var(--hover-bg-color);\n",
              "    box-shadow: 0 1px 2px rgba(60, 64, 67, 0.3), 0 1px 3px 1px rgba(60, 64, 67, 0.15);\n",
              "    fill: var(--button-hover-fill-color);\n",
              "  }\n",
              "\n",
              "  .colab-df-quickchart-complete:disabled,\n",
              "  .colab-df-quickchart-complete:disabled:hover {\n",
              "    background-color: var(--disabled-bg-color);\n",
              "    fill: var(--disabled-fill-color);\n",
              "    box-shadow: none;\n",
              "  }\n",
              "\n",
              "  .colab-df-spinner {\n",
              "    border: 2px solid var(--fill-color);\n",
              "    border-color: transparent;\n",
              "    border-bottom-color: var(--fill-color);\n",
              "    animation:\n",
              "      spin 1s steps(1) infinite;\n",
              "  }\n",
              "\n",
              "  @keyframes spin {\n",
              "    0% {\n",
              "      border-color: transparent;\n",
              "      border-bottom-color: var(--fill-color);\n",
              "      border-left-color: var(--fill-color);\n",
              "    }\n",
              "    20% {\n",
              "      border-color: transparent;\n",
              "      border-left-color: var(--fill-color);\n",
              "      border-top-color: var(--fill-color);\n",
              "    }\n",
              "    30% {\n",
              "      border-color: transparent;\n",
              "      border-left-color: var(--fill-color);\n",
              "      border-top-color: var(--fill-color);\n",
              "      border-right-color: var(--fill-color);\n",
              "    }\n",
              "    40% {\n",
              "      border-color: transparent;\n",
              "      border-right-color: var(--fill-color);\n",
              "      border-top-color: var(--fill-color);\n",
              "    }\n",
              "    60% {\n",
              "      border-color: transparent;\n",
              "      border-right-color: var(--fill-color);\n",
              "    }\n",
              "    80% {\n",
              "      border-color: transparent;\n",
              "      border-right-color: var(--fill-color);\n",
              "      border-bottom-color: var(--fill-color);\n",
              "    }\n",
              "    90% {\n",
              "      border-color: transparent;\n",
              "      border-bottom-color: var(--fill-color);\n",
              "    }\n",
              "  }\n",
              "</style>\n",
              "\n",
              "  <script>\n",
              "    async function quickchart(key) {\n",
              "      const quickchartButtonEl =\n",
              "        document.querySelector('#' + key + ' button');\n",
              "      quickchartButtonEl.disabled = true;  // To prevent multiple clicks.\n",
              "      quickchartButtonEl.classList.add('colab-df-spinner');\n",
              "      try {\n",
              "        const charts = await google.colab.kernel.invokeFunction(\n",
              "            'suggestCharts', [key], {});\n",
              "      } catch (error) {\n",
              "        console.error('Error during call to suggestCharts:', error);\n",
              "      }\n",
              "      quickchartButtonEl.classList.remove('colab-df-spinner');\n",
              "      quickchartButtonEl.classList.add('colab-df-quickchart-complete');\n",
              "    }\n",
              "    (() => {\n",
              "      let quickchartButtonEl =\n",
              "        document.querySelector('#df-7bf54a9d-3849-4ea9-80e4-4e843d720f22 button');\n",
              "      quickchartButtonEl.style.display =\n",
              "        google.colab.kernel.accessAllowed ? 'block' : 'none';\n",
              "    })();\n",
              "  </script>\n",
              "</div>\n",
              "\n",
              "    </div>\n",
              "  </div>\n"
            ],
            "application/vnd.google.colaboratory.intrinsic+json": {
              "type": "dataframe",
              "variable_name": "delays_df",
              "summary": "{\n  \"name\": \"delays_df\",\n  \"rows\": 2201,\n  \"fields\": [\n    {\n      \"column\": \"CRS_DEP_TIME\",\n      \"properties\": {\n        \"dtype\": \"number\",\n        \"std\": 432,\n        \"min\": 600,\n        \"max\": 2130,\n        \"num_unique_values\": 59,\n        \"samples\": [\n          1455,\n          840,\n          1610\n        ],\n        \"semantic_type\": \"\",\n        \"description\": \"\"\n      }\n    },\n    {\n      \"column\": \"CARRIER\",\n      \"properties\": {\n        \"dtype\": \"category\",\n        \"num_unique_values\": 8,\n        \"samples\": [\n          \"DH\",\n          \"US\",\n          \"OH\"\n        ],\n        \"semantic_type\": \"\",\n        \"description\": \"\"\n      }\n    },\n    {\n      \"column\": \"DEP_TIME\",\n      \"properties\": {\n        \"dtype\": \"number\",\n        \"std\": 442,\n        \"min\": 10,\n        \"max\": 2330,\n        \"num_unique_values\": 633,\n        \"samples\": [\n          1241,\n          1904,\n          915\n        ],\n        \"semantic_type\": \"\",\n        \"description\": \"\"\n      }\n    },\n    {\n      \"column\": \"DEST\",\n      \"properties\": {\n        \"dtype\": \"category\",\n        \"num_unique_values\": 3,\n        \"samples\": [\n          \"JFK\",\n          \"LGA\",\n          \"EWR\"\n        ],\n        \"semantic_type\": \"\",\n        \"description\": \"\"\n      }\n    },\n    {\n      \"column\": \"DISTANCE\",\n      \"properties\": {\n        \"dtype\": \"number\",\n        \"std\": 13,\n        \"min\": 169,\n        \"max\": 229,\n        \"num_unique_values\": 7,\n        \"samples\": [\n          184,\n          213,\n          169\n        ],\n        \"semantic_type\": \"\",\n        \"description\": \"\"\n      }\n    },\n    {\n      \"column\": \"FL_DATE\",\n      \"properties\": {\n        \"dtype\": \"object\",\n        \"num_unique_values\": 31,\n        \"samples\": [\n          \"1/28/2004\",\n          \"1/16/2004\",\n          \"1/24/2004\"\n        ],\n        \"semantic_type\": \"\",\n        \"description\": \"\"\n      }\n    },\n    {\n      \"column\": \"FL_NUM\",\n      \"properties\": {\n        \"dtype\": \"number\",\n        \"std\": 2409,\n        \"min\": 746,\n        \"max\": 7924,\n        \"num_unique_values\": 103,\n        \"samples\": [\n          2180,\n          1748,\n          2761\n        ],\n        \"semantic_type\": \"\",\n        \"description\": \"\"\n      }\n    },\n    {\n      \"column\": \"ORIGIN\",\n      \"properties\": {\n        \"dtype\": \"category\",\n        \"num_unique_values\": 3,\n        \"samples\": [\n          \"BWI\",\n          \"DCA\",\n          \"IAD\"\n        ],\n        \"semantic_type\": \"\",\n        \"description\": \"\"\n      }\n    },\n    {\n      \"column\": \"Weather\",\n      \"properties\": {\n        \"dtype\": \"number\",\n        \"std\": 0,\n        \"min\": 0,\n        \"max\": 1,\n        \"num_unique_values\": 2,\n        \"samples\": [\n          1,\n          0\n        ],\n        \"semantic_type\": \"\",\n        \"description\": \"\"\n      }\n    },\n    {\n      \"column\": \"DAY_WEEK\",\n      \"properties\": {\n        \"dtype\": \"number\",\n        \"std\": 1,\n        \"min\": 1,\n        \"max\": 7,\n        \"num_unique_values\": 7,\n        \"samples\": [\n          4,\n          5\n        ],\n        \"semantic_type\": \"\",\n        \"description\": \"\"\n      }\n    },\n    {\n      \"column\": \"DAY_OF_MONTH\",\n      \"properties\": {\n        \"dtype\": \"number\",\n        \"std\": 8,\n        \"min\": 1,\n        \"max\": 31,\n        \"num_unique_values\": 31,\n        \"samples\": [\n          28,\n          16\n        ],\n        \"semantic_type\": \"\",\n        \"description\": \"\"\n      }\n    },\n    {\n      \"column\": \"TAIL_NUM\",\n      \"properties\": {\n        \"dtype\": \"category\",\n        \"num_unique_values\": 549,\n        \"samples\": [\n          \"N38257\",\n          \"N17108\"\n        ],\n        \"semantic_type\": \"\",\n        \"description\": \"\"\n      }\n    },\n    {\n      \"column\": \"Flight Status\",\n      \"properties\": {\n        \"dtype\": \"category\",\n        \"num_unique_values\": 2,\n        \"samples\": [\n          \"delayed\",\n          \"ontime\"\n        ],\n        \"semantic_type\": \"\",\n        \"description\": \"\"\n      }\n    }\n  ]\n}"
            }
          },
          "metadata": {},
          "execution_count": 7
        }
      ],
      "source": [
        "delays_df = dmba.load_data('FlightDelays.csv')\n",
        "delays_df.head()"
      ]
    },
    {
      "cell_type": "code",
      "execution_count": 8,
      "metadata": {
        "execution": {
          "iopub.execute_input": "2021-05-27T20:03:08.514912Z",
          "iopub.status.busy": "2021-05-27T20:03:08.514477Z",
          "iopub.status.idle": "2021-05-27T20:03:08.544592Z",
          "shell.execute_reply": "2021-05-27T20:03:08.544192Z"
        },
        "id": "q_7Zo9JLDYc1"
      },
      "outputs": [],
      "source": [
        "delays_df = dmba.load_data('FlightDelays.csv')\n",
        "\n",
        "# convert to categorical\n",
        "delays_df.DAY_WEEK = delays_df.DAY_WEEK.astype('category')\n",
        "\n",
        "# create hourly bins departure time\n",
        "delays_df.CRS_DEP_TIME = [round(t / 100) for t in delays_df.CRS_DEP_TIME]\n",
        "delays_df.CRS_DEP_TIME = delays_df.CRS_DEP_TIME.astype('category')\n",
        "\n",
        "predictors = ['DAY_WEEK', 'CRS_DEP_TIME', 'ORIGIN', 'DEST', 'CARRIER']\n",
        "outcome = 'Flight Status'\n",
        "\n",
        "X = pd.get_dummies(delays_df[predictors])\n",
        "y = (delays_df[outcome] == 'delayed').astype(int)\n",
        "classes = ['ontime', 'delayed']\n",
        "\n",
        "# split into training and validation\n",
        "X_train, X_valid, y_train, y_valid = train_test_split(X, y, test_size=0.40, random_state=1)\n",
        "\n",
        "# run naive Bayes\n",
        "delays_nb = MultinomialNB(alpha=0.01)\n",
        "delays_nb.fit(X_train, y_train)\n",
        "\n",
        "# predict probabilities\n",
        "predProb_train = delays_nb.predict_proba(X_train)\n",
        "predProb_valid = delays_nb.predict_proba(X_valid)\n",
        "\n",
        "# predict class membership\n",
        "y_valid_pred = delays_nb.predict(X_valid)\n",
        "y_train_pred = delays_nb.predict(X_train)"
      ]
    },
    {
      "cell_type": "code",
      "execution_count": 9,
      "metadata": {
        "execution": {
          "iopub.execute_input": "2021-05-27T20:03:08.550323Z",
          "iopub.status.busy": "2021-05-27T20:03:08.549856Z",
          "iopub.status.idle": "2021-05-27T20:03:08.580733Z",
          "shell.execute_reply": "2021-05-27T20:03:08.580279Z"
        },
        "id": "jWXMyK02DYc1"
      },
      "outputs": [],
      "source": [
        "delays_df = dmba.load_data('FlightDelays.csv')\n",
        "\n",
        "# convert to categorical\n",
        "delays_df.DAY_WEEK = delays_df.DAY_WEEK.astype('category')\n",
        "delays_df['Flight Status'] = delays_df['Flight Status'].astype('category')\n",
        "\n",
        "# create hourly bins departure time\n",
        "delays_df.CRS_DEP_TIME = [round(t / 100) for t in delays_df.CRS_DEP_TIME]\n",
        "delays_df.CRS_DEP_TIME = delays_df.CRS_DEP_TIME.astype('category')\n",
        "\n",
        "predictors = ['DAY_WEEK', 'CRS_DEP_TIME', 'ORIGIN', 'DEST', 'CARRIER']\n",
        "outcome = 'Flight Status'\n",
        "\n",
        "X = pd.get_dummies(delays_df[predictors])\n",
        "y = delays_df['Flight Status']\n",
        "classes = list(y.cat.categories)\n",
        "\n",
        "# split into training and validation\n",
        "X_train, X_valid, y_train, y_valid = train_test_split(X, y, test_size=0.40, random_state=1)\n",
        "\n",
        "# run naive Bayes\n",
        "delays_nb = MultinomialNB(alpha=0.01)\n",
        "delays_nb.fit(X_train, y_train)\n",
        "\n",
        "# predict probabilities\n",
        "predProb_train = delays_nb.predict_proba(X_train)\n",
        "predProb_valid = delays_nb.predict_proba(X_valid)\n",
        "\n",
        "# predict class membership\n",
        "y_valid_pred = delays_nb.predict(X_valid)\n",
        "y_train_pred = delays_nb.predict(X_train)"
      ]
    },
    {
      "cell_type": "markdown",
      "metadata": {
        "id": "GrVSDgA4DYc1"
      },
      "source": [
        "## Table 8.5\n",
        "First construct a frequency table and then convert it to the propability table"
      ]
    },
    {
      "cell_type": "code",
      "execution_count": 10,
      "metadata": {
        "execution": {
          "iopub.execute_input": "2021-05-27T20:03:08.585945Z",
          "iopub.status.busy": "2021-05-27T20:03:08.585512Z",
          "iopub.status.idle": "2021-05-27T20:03:08.654449Z",
          "shell.execute_reply": "2021-05-27T20:03:08.654031Z"
        },
        "scrolled": false,
        "id": "36CMLGSEDYc1",
        "outputId": "3745653b-b175-4f9d-a5c1-8492ed093c2b",
        "colab": {
          "base_uri": "https://localhost:8080/"
        }
      },
      "outputs": [
        {
          "output_type": "stream",
          "name": "stdout",
          "text": [
            "Flight Status\n",
            "ontime     0.8023\n",
            "delayed    0.1977\n",
            "Name: count, dtype: float64\n",
            "\n",
            "DAY_WEEK            1       2       3       4       5      6       7\n",
            "Flight Status                                                       \n",
            "delayed        0.1916  0.1494  0.1149  0.1264  0.1877  0.069  0.1609\n",
            "ontime         0.1246  0.1416  0.1445  0.1794  0.1690  0.136  0.1048\n",
            "\n",
            "CRS_DEP_TIME        6       7       8       9      10      11      12      13  \\\n",
            "Flight Status                                                                   \n",
            "delayed        0.0345  0.0536  0.0651  0.0192  0.0307  0.0115  0.0498  0.0460   \n",
            "ontime         0.0623  0.0633  0.0850  0.0567  0.0519  0.0340  0.0661  0.0746   \n",
            "\n",
            "CRS_DEP_TIME       14      15      16      17      18      19      20      21  \n",
            "Flight Status                                                                  \n",
            "delayed        0.0383  0.2031  0.0728  0.1533  0.0192  0.0996  0.0153  0.0881  \n",
            "ontime         0.0576  0.1171  0.0774  0.1001  0.0349  0.0397  0.0264  0.0529  \n",
            "\n",
            "ORIGIN            BWI     DCA     IAD\n",
            "Flight Status                        \n",
            "delayed        0.0805  0.5211  0.3985\n",
            "ontime         0.0604  0.6478  0.2918\n",
            "\n",
            "DEST              EWR     JFK     LGA\n",
            "Flight Status                        \n",
            "delayed        0.3793  0.1992  0.4215\n",
            "ontime         0.2663  0.1558  0.5779\n",
            "\n",
            "CARRIER            CO      DH      DL      MQ      OH      RU      UA      US\n",
            "Flight Status                                                                \n",
            "delayed        0.0575  0.3142  0.0958  0.2222  0.0077  0.2184  0.0153  0.0690\n",
            "ontime         0.0349  0.2295  0.2040  0.1171  0.0104  0.1690  0.0170  0.2181\n",
            "\n"
          ]
        },
        {
          "output_type": "stream",
          "name": "stderr",
          "text": [
            "<ipython-input-10-c252b931a67e>:13: FutureWarning: The default value of observed=False is deprecated and will change to observed=True in a future version of pandas. Specify observed=False to silence this warning and retain the current behavior\n",
            "  freqTable = df.pivot_table(index='Flight Status', columns=predictor, aggfunc=len)\n",
            "<ipython-input-10-c252b931a67e>:13: FutureWarning: The default value of observed=False is deprecated and will change to observed=True in a future version of pandas. Specify observed=False to silence this warning and retain the current behavior\n",
            "  freqTable = df.pivot_table(index='Flight Status', columns=predictor, aggfunc=len)\n",
            "<ipython-input-10-c252b931a67e>:13: FutureWarning: The default value of observed=False is deprecated and will change to observed=True in a future version of pandas. Specify observed=False to silence this warning and retain the current behavior\n",
            "  freqTable = df.pivot_table(index='Flight Status', columns=predictor, aggfunc=len)\n",
            "<ipython-input-10-c252b931a67e>:13: FutureWarning: The default value of observed=False is deprecated and will change to observed=True in a future version of pandas. Specify observed=False to silence this warning and retain the current behavior\n",
            "  freqTable = df.pivot_table(index='Flight Status', columns=predictor, aggfunc=len)\n",
            "<ipython-input-10-c252b931a67e>:13: FutureWarning: The default value of observed=False is deprecated and will change to observed=True in a future version of pandas. Specify observed=False to silence this warning and retain the current behavior\n",
            "  freqTable = df.pivot_table(index='Flight Status', columns=predictor, aggfunc=len)\n"
          ]
        }
      ],
      "source": [
        "# split the original data frame into a train and test using the same random_state\n",
        "train_df, valid_df = train_test_split(delays_df, test_size=0.4, random_state=1)\n",
        "\n",
        "# pd.set_option('precision', 4)\n",
        "pd.set_option('display.precision', 4)\n",
        "# probability of flight status\n",
        "print(train_df['Flight Status'].value_counts() / len(train_df))\n",
        "print()\n",
        "\n",
        "for predictor in predictors:\n",
        "    # construct the frequency table\n",
        "    df = train_df[['Flight Status', predictor]]\n",
        "    freqTable = df.pivot_table(index='Flight Status', columns=predictor, aggfunc=len)\n",
        "\n",
        "    # divide each row by the sum of the row to get conditional probabilities\n",
        "    propTable = freqTable.apply(lambda x: x / sum(x), axis=1)\n",
        "    print(propTable)\n",
        "    print()\n",
        "pd.reset_option('precision')"
      ]
    },
    {
      "cell_type": "code",
      "execution_count": 11,
      "metadata": {
        "execution": {
          "iopub.execute_input": "2021-05-27T20:03:08.658544Z",
          "iopub.status.busy": "2021-05-27T20:03:08.658126Z",
          "iopub.status.idle": "2021-05-27T20:03:08.661872Z",
          "shell.execute_reply": "2021-05-27T20:03:08.662250Z"
        },
        "id": "SsMdvZ_WDYc2",
        "outputId": "53988d30-5651-47ce-df08-c899afed4b72",
        "colab": {
          "base_uri": "https://localhost:8080/"
        }
      },
      "outputs": [
        {
          "output_type": "stream",
          "name": "stdout",
          "text": [
            "P_hat_delayed ~  2.0548742506526157e-05\n",
            "P_hat_ontime ~  0.00033326464123921066\n",
            "P(delayed|...) =  0.05807791183301656\n",
            "P(ontime|...) =  0.9419220881669834\n"
          ]
        }
      ],
      "source": [
        "# P(delayed | Carrier = DL, Day_Week = 7, Dep_Time = 10, Dest = LGA, Origin = DCA)\n",
        "P_hat_delayed = 0.0958 * 0.1609 * 0.0307 * 0.4215 * 0.5211 * 0.1977\n",
        "# P(ontime | Carrier = DL, Day_Week = 7, Dep_Time = 10, Dest = LGA, Origin = DCA)\n",
        "P_hat_ontime = 0.2040 * 0.1048 * 0.0519 * 0.5779 * 0.6478 * 0.8023\n",
        "print('P_hat_delayed ~ ', P_hat_delayed)\n",
        "print('P_hat_ontime ~ ', P_hat_ontime)\n",
        "\n",
        "print('P(delayed|...) = ', P_hat_delayed / (P_hat_delayed + P_hat_ontime))\n",
        "print('P(ontime|...) = ', P_hat_ontime / (P_hat_delayed + P_hat_ontime))"
      ]
    },
    {
      "cell_type": "markdown",
      "metadata": {
        "id": "--c5F2kNDYc2"
      },
      "source": [
        "## Table 8.6"
      ]
    },
    {
      "cell_type": "code",
      "execution_count": 12,
      "metadata": {
        "execution": {
          "iopub.execute_input": "2021-05-27T20:03:08.673083Z",
          "iopub.status.busy": "2021-05-27T20:03:08.672644Z",
          "iopub.status.idle": "2021-05-27T20:03:08.676522Z",
          "shell.execute_reply": "2021-05-27T20:03:08.676852Z"
        },
        "id": "w7yDylZ7DYc2",
        "outputId": "700a7aff-d459-4a23-dfbb-be9635f33452",
        "colab": {
          "base_uri": "https://localhost:8080/"
        }
      },
      "outputs": [
        {
          "output_type": "stream",
          "name": "stdout",
          "text": [
            "      actual predicted         0         1\n",
            "1225  ontime    ontime  0.057989  0.942011\n"
          ]
        }
      ],
      "source": [
        "# Subset a specific set\n",
        "df = pd.concat([pd.DataFrame({'actual': y_valid, 'predicted': y_valid_pred}),\n",
        "                pd.DataFrame(predProb_valid, index=y_valid.index)], axis=1)\n",
        "mask = ((X_valid.CARRIER_DL == 1) & (X_valid.DAY_WEEK_7 == 1) & (X_valid.CRS_DEP_TIME_10 == 1) &\n",
        "        (X_valid.DEST_LGA == 1) & (X_valid.ORIGIN_DCA == 1))\n",
        "\n",
        "print(df[mask])"
      ]
    },
    {
      "cell_type": "markdown",
      "metadata": {
        "id": "a5K59Ie0DYc2"
      },
      "source": [
        "## Table 8.7"
      ]
    },
    {
      "cell_type": "code",
      "execution_count": 13,
      "metadata": {
        "execution": {
          "iopub.execute_input": "2021-05-27T20:03:08.681425Z",
          "iopub.status.busy": "2021-05-27T20:03:08.680967Z",
          "iopub.status.idle": "2021-05-27T20:03:08.694806Z",
          "shell.execute_reply": "2021-05-27T20:03:08.695275Z"
        },
        "id": "sIVlt4eCDYc2",
        "outputId": "5170af1b-a2e5-40a1-91ea-f3f9b2fc995c",
        "colab": {
          "base_uri": "https://localhost:8080/"
        }
      },
      "outputs": [
        {
          "output_type": "stream",
          "name": "stdout",
          "text": [
            "Confusion Matrix (Accuracy 0.7955)\n",
            "\n",
            "        Prediction\n",
            " Actual delayed  ontime\n",
            "delayed      52     209\n",
            " ontime      61     998\n",
            "\n",
            "Confusion Matrix (Accuracy 0.7821)\n",
            "\n",
            "        Prediction\n",
            " Actual delayed  ontime\n",
            "delayed      26     141\n",
            " ontime      51     663\n"
          ]
        }
      ],
      "source": [
        "classificationSummary(y_train, y_train_pred, class_names=classes)\n",
        "\n",
        "print()\n",
        "\n",
        "classificationSummary(y_valid, y_valid_pred, class_names=classes)"
      ]
    },
    {
      "cell_type": "markdown",
      "metadata": {
        "id": "RE6WjO6tDYc2"
      },
      "source": [
        "## Figure 8.1"
      ]
    },
    {
      "cell_type": "code",
      "execution_count": 14,
      "metadata": {
        "execution": {
          "iopub.execute_input": "2021-05-27T20:03:08.700877Z",
          "iopub.status.busy": "2021-05-27T20:03:08.700445Z",
          "iopub.status.idle": "2021-05-27T20:03:08.912635Z",
          "shell.execute_reply": "2021-05-27T20:03:08.912261Z"
        },
        "scrolled": true,
        "id": "6jJ15SzHDYc2",
        "outputId": "eef56df4-cfcb-4390-e32e-0473a8cfeb40",
        "colab": {
          "base_uri": "https://localhost:8080/",
          "height": 406
        }
      },
      "outputs": [
        {
          "output_type": "display_data",
          "data": {
            "text/plain": [
              "<Figure size 400x400 with 1 Axes>"
            ],
            "image/png": "[encoded data removed]"
          },
          "metadata": {}
        }
      ],
      "source": [
        "df = pd.DataFrame({'actual': 1 - y_valid.cat.codes, 'prob': predProb_valid[:, 0]})\n",
        "df = df.sort_values(by=['prob'], ascending=False).reset_index(drop=True)\n",
        "\n",
        "fig, ax = plt.subplots()\n",
        "fig.set_size_inches(4, 4)\n",
        "gainsChart(df.actual, ax=ax)\n",
        "\n",
        "plt.tight_layout()\n",
        "plt.show()"
      ]
    },
    {
      "cell_type": "code",
      "execution_count": 15,
      "metadata": {
        "execution": {
          "iopub.execute_input": "2021-05-27T20:03:08.916889Z",
          "iopub.status.busy": "2021-05-27T20:03:08.916462Z",
          "iopub.status.idle": "2021-05-27T20:03:08.920294Z",
          "shell.execute_reply": "2021-05-27T20:03:08.919883Z"
        },
        "id": "qAI5T7a0DYc2",
        "outputId": "12488641-2061-469f-ff2a-b9ac98f6635d",
        "colab": {
          "base_uri": "https://localhost:8080/"
        }
      },
      "outputs": [
        {
          "output_type": "execute_result",
          "data": {
            "text/plain": [
              "array([[0.03831098, 0.02988425, 0.02298965, 0.02528785, 0.03754491,\n",
              "        0.01379685, 0.03218245, 0.00690226, 0.01073259, 0.01303079,\n",
              "        0.00383799, 0.00613619, 0.00230586, 0.00996652, 0.00920046,\n",
              "        0.00766832, 0.04060918, 0.01456292, 0.03065031, 0.00383799,\n",
              "        0.01992539, 0.00307193, 0.01762719, 0.01609505, 0.10419268,\n",
              "        0.07967856, 0.07584823, 0.03984311, 0.08427496, 0.01149866,\n",
              "        0.0628251 , 0.01915932, 0.04443951, 0.00153979, 0.04367344,\n",
              "        0.00307193, 0.01379685],\n",
              "       [0.02492933, 0.02832852, 0.02889505, 0.03588229, 0.033805  ,\n",
              "        0.02719546, 0.0209636 , 0.01246561, 0.01265445, 0.01699787,\n",
              "        0.01133254, 0.01038832, 0.00680028, 0.01322098, 0.01492058,\n",
              "        0.01152139, 0.02341857, 0.01548711, 0.02001938, 0.00698912,\n",
              "        0.00793335, 0.00528953, 0.01057716, 0.01208792, 0.12954902,\n",
              "        0.05835475, 0.05325596, 0.03116118, 0.11557455, 0.00698912,\n",
              "        0.04589103, 0.04079224, 0.02341857, 0.00207917, 0.033805  ,\n",
              "        0.00340108, 0.0436249 ]])"
            ]
          },
          "metadata": {},
          "execution_count": 15
        }
      ],
      "source": [
        "import numpy as np\n",
        "np.exp(delays_nb.feature_log_prob_)"
      ]
    },
    {
      "cell_type": "code",
      "execution_count": 15,
      "metadata": {
        "id": "oB4ez9SPDYc3"
      },
      "outputs": [],
      "source": []
    }
  ],
  "metadata": {
    "kernelspec": {
      "display_name": "Python 3",
      "language": "python",
      "name": "python3"
    },
    "language_info": {
      "codemirror_mode": {
        "name": "ipython",
        "version": 3
      },
      "file_extension": ".py",
      "mimetype": "text/x-python",
      "name": "python",
      "nbconvert_exporter": "python",
      "pygments_lexer": "ipython3",
      "version": "3.9.2"
    },
    "colab": {
      "provenance": [],
      "include_colab_link": true
    }
  },
  "nbformat": 4,
  "nbformat_minor": 0
}